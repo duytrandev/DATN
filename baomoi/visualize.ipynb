{
 "cells": [
  {
   "cell_type": "code",
   "execution_count": 9,
   "metadata": {},
   "outputs": [],
   "source": [
    "import pandas as pd\n",
    "import sys"
   ]
  },
  {
   "cell_type": "code",
   "execution_count": 15,
   "metadata": {},
   "outputs": [],
   "source": [
    "data = pd.read_csv('./data/merged_v1.csv')"
   ]
  },
  {
   "cell_type": "code",
   "execution_count": 16,
   "metadata": {},
   "outputs": [],
   "source": [
    "sys.path.insert(1, '../Visualization/')\n",
    "import visualizing\n",
    "visualizer = visualizing.Visualizer(data)"
   ]
  },
  {
   "cell_type": "code",
   "execution_count": 17,
   "metadata": {},
   "outputs": [
    {
     "data": {
      "text/html": [
       "<div>\n",
       "<style scoped>\n",
       "    .dataframe tbody tr th:only-of-type {\n",
       "        vertical-align: middle;\n",
       "    }\n",
       "\n",
       "    .dataframe tbody tr th {\n",
       "        vertical-align: top;\n",
       "    }\n",
       "\n",
       "    .dataframe thead th {\n",
       "        text-align: right;\n",
       "    }\n",
       "</style>\n",
       "<table border=\"1\" class=\"dataframe\">\n",
       "  <thead>\n",
       "    <tr style=\"text-align: right;\">\n",
       "      <th></th>\n",
       "      <th>Unnamed: 0</th>\n",
       "      <th>Link</th>\n",
       "      <th>Content</th>\n",
       "      <th>Label</th>\n",
       "      <th>Content_cleaned</th>\n",
       "      <th>Length_content_cleaned</th>\n",
       "    </tr>\n",
       "  </thead>\n",
       "  <tbody>\n",
       "    <tr>\n",
       "      <th>0</th>\n",
       "      <td>3212</td>\n",
       "      <td>https://baomoi.com/nhat-ban-da-thay-doi-cuoc-d...</td>\n",
       "      <td>Khi còn là HLV ở Monaco, tôi sống ở Villefranc...</td>\n",
       "      <td>sport</td>\n",
       "      <td>hlv monaco   sống villefranche   sur   mer   v...</td>\n",
       "      <td>465</td>\n",
       "    </tr>\n",
       "    <tr>\n",
       "      <th>1</th>\n",
       "      <td>3744</td>\n",
       "      <td>https://baomoi.com/giang-chuc-giam-doc-cdc-tha...</td>\n",
       "      <td>Thông tin từ một lãnh đạo Sở Y tế tỉnh Thanh H...</td>\n",
       "      <td>politics</td>\n",
       "      <td>thông_tin lãnh_đạo sở y_tế tỉnh thanh_hóa   qu...</td>\n",
       "      <td>80</td>\n",
       "    </tr>\n",
       "    <tr>\n",
       "      <th>2</th>\n",
       "      <td>2288</td>\n",
       "      <td>https://baomoi.com/do-giau-co-cua-beckham-o-tu...</td>\n",
       "      <td>Theo Celebrity Net Worth, chuyên trang thống k...</td>\n",
       "      <td>sport</td>\n",
       "      <td>celebrity net_worth   chuyên_trang thống_kê tà...</td>\n",
       "      <td>150</td>\n",
       "    </tr>\n",
       "  </tbody>\n",
       "</table>\n",
       "</div>"
      ],
      "text/plain": [
       "   Unnamed: 0                                               Link  \\\n",
       "0        3212  https://baomoi.com/nhat-ban-da-thay-doi-cuoc-d...   \n",
       "1        3744  https://baomoi.com/giang-chuc-giam-doc-cdc-tha...   \n",
       "2        2288  https://baomoi.com/do-giau-co-cua-beckham-o-tu...   \n",
       "\n",
       "                                             Content     Label  \\\n",
       "0  Khi còn là HLV ở Monaco, tôi sống ở Villefranc...     sport   \n",
       "1  Thông tin từ một lãnh đạo Sở Y tế tỉnh Thanh H...  politics   \n",
       "2  Theo Celebrity Net Worth, chuyên trang thống k...     sport   \n",
       "\n",
       "                                     Content_cleaned  Length_content_cleaned  \n",
       "0  hlv monaco   sống villefranche   sur   mer   v...                     465  \n",
       "1  thông_tin lãnh_đạo sở y_tế tỉnh thanh_hóa   qu...                      80  \n",
       "2  celebrity net_worth   chuyên_trang thống_kê tà...                     150  "
      ]
     },
     "execution_count": 17,
     "metadata": {},
     "output_type": "execute_result"
    }
   ],
   "source": [
    "data.head(3)"
   ]
  },
  {
   "cell_type": "code",
   "execution_count": 18,
   "metadata": {},
   "outputs": [
    {
     "data": {
      "image/png": "[encoded data removed]",
      "text/plain": [
       "<Figure size 640x480 with 1 Axes>"
      ]
     },
     "metadata": {},
     "output_type": "display_data"
    }
   ],
   "source": [
    "visualizer.hist_samples()"
   ]
  },
  {
   "cell_type": "code",
   "execution_count": 11,
   "metadata": {},
   "outputs": [
    {
     "ename": "ModuleNotFoundError",
     "evalue": "No module named 'visualizing'",
     "output_type": "error",
     "traceback": [
      "\u001b[0;31m---------------------------------------------------------------------------\u001b[0m",
      "\u001b[0;31mModuleNotFoundError\u001b[0m                       Traceback (most recent call last)",
      "\u001b[1;32m/Users/DuyHome/HocTap/DATN/baomoi/visualize.ipynb Cell 5\u001b[0m in \u001b[0;36m<cell line: 1>\u001b[0;34m()\u001b[0m\n\u001b[0;32m----> <a href='vscode-notebook-cell:/Users/DuyHome/HocTap/DATN/baomoi/visualize.ipynb#W4sZmlsZQ%3D%3D?line=0'>1</a>\u001b[0m \u001b[39mimport\u001b[39;00m \u001b[39mvisualizing\u001b[39;00m\n",
      "\u001b[0;31mModuleNotFoundError\u001b[0m: No module named 'visualizing'"
     ]
    }
   ],
   "source": []
  }
 ],
 "metadata": {
  "kernelspec": {
   "display_name": "Python 3",
   "language": "python",
   "name": "python3"
  },
  "language_info": {
   "codemirror_mode": {
    "name": "ipython",
    "version": 3
   },
   "file_extension": ".py",
   "mimetype": "text/x-python",
   "name": "python",
   "nbconvert_exporter": "python",
   "pygments_lexer": "ipython3",
   "version": "3.10.5"
  },
  "orig_nbformat": 4
 },
 "nbformat": 4,
 "nbformat_minor": 2
}
