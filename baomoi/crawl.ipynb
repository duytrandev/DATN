{
 "cells": [
  {
   "cell_type": "code",
   "execution_count": 1,
   "metadata": {},
   "outputs": [],
   "source": [
    "import pandas as pd\n",
    "from selenium import webdriver\n",
    "from selenium.webdriver.common.by import By\n",
    "from webdriver_manager.chrome import ChromeDriverManager\n",
    "from bs4 import BeautifulSoup\n",
    "import time"
   ]
  },
  {
   "cell_type": "code",
   "execution_count": 2,
   "metadata": {},
   "outputs": [
    {
     "data": {
      "text/plain": [
       "['https://baomoi.com/giao-duc/trang1.epi',\n",
       " 'https://baomoi.com/giao-duc/trang2.epi',\n",
       " 'https://baomoi.com/giao-duc/trang3.epi',\n",
       " 'https://baomoi.com/giao-duc/trang4.epi',\n",
       " 'https://baomoi.com/giao-duc/trang5.epi',\n",
       " 'https://baomoi.com/giao-duc/trang6.epi',\n",
       " 'https://baomoi.com/giao-duc/trang7.epi',\n",
       " 'https://baomoi.com/giao-duc/trang8.epi',\n",
       " 'https://baomoi.com/giao-duc/trang9.epi',\n",
       " 'https://baomoi.com/giao-duc/trang10.epi',\n",
       " 'https://baomoi.com/giao-duc/trang11.epi',\n",
       " 'https://baomoi.com/giao-duc/trang12.epi',\n",
       " 'https://baomoi.com/giao-duc/trang13.epi',\n",
       " 'https://baomoi.com/giao-duc/trang14.epi',\n",
       " 'https://baomoi.com/giao-duc/trang15.epi',\n",
       " 'https://baomoi.com/giao-duc/trang16.epi',\n",
       " 'https://baomoi.com/giao-duc/trang17.epi',\n",
       " 'https://baomoi.com/giao-duc/trang18.epi',\n",
       " 'https://baomoi.com/giao-duc/trang19.epi',\n",
       " 'https://baomoi.com/giao-duc/trang20.epi',\n",
       " 'https://baomoi.com/giao-duc/trang21.epi',\n",
       " 'https://baomoi.com/giao-duc/trang22.epi',\n",
       " 'https://baomoi.com/giao-duc/trang23.epi',\n",
       " 'https://baomoi.com/giao-duc/trang24.epi',\n",
       " 'https://baomoi.com/giao-duc/trang25.epi',\n",
       " 'https://baomoi.com/giao-duc/trang26.epi',\n",
       " 'https://baomoi.com/giao-duc/trang27.epi',\n",
       " 'https://baomoi.com/giao-duc/trang28.epi',\n",
       " 'https://baomoi.com/giao-duc/trang29.epi',\n",
       " 'https://baomoi.com/giao-duc/trang30.epi',\n",
       " 'https://baomoi.com/giao-duc/trang31.epi',\n",
       " 'https://baomoi.com/giao-duc/trang32.epi',\n",
       " 'https://baomoi.com/giao-duc/trang33.epi',\n",
       " 'https://baomoi.com/giao-duc/trang34.epi',\n",
       " 'https://baomoi.com/giao-duc/trang35.epi',\n",
       " 'https://baomoi.com/giao-duc/trang36.epi',\n",
       " 'https://baomoi.com/giao-duc/trang37.epi',\n",
       " 'https://baomoi.com/giao-duc/trang38.epi',\n",
       " 'https://baomoi.com/giao-duc/trang39.epi',\n",
       " 'https://baomoi.com/giao-duc/trang40.epi',\n",
       " 'https://baomoi.com/giao-duc/trang41.epi',\n",
       " 'https://baomoi.com/giao-duc/trang42.epi',\n",
       " 'https://baomoi.com/giao-duc/trang43.epi',\n",
       " 'https://baomoi.com/giao-duc/trang44.epi',\n",
       " 'https://baomoi.com/giao-duc/trang45.epi',\n",
       " 'https://baomoi.com/giao-duc/trang46.epi',\n",
       " 'https://baomoi.com/giao-duc/trang47.epi',\n",
       " 'https://baomoi.com/giao-duc/trang48.epi',\n",
       " 'https://baomoi.com/giao-duc/trang49.epi',\n",
       " 'https://baomoi.com/giao-duc/trang50.epi',\n",
       " 'https://baomoi.com/giao-duc/trang51.epi',\n",
       " 'https://baomoi.com/giao-duc/trang52.epi',\n",
       " 'https://baomoi.com/giao-duc/trang53.epi',\n",
       " 'https://baomoi.com/giao-duc/trang54.epi',\n",
       " 'https://baomoi.com/giao-duc/trang55.epi',\n",
       " 'https://baomoi.com/giao-duc/trang56.epi',\n",
       " 'https://baomoi.com/giao-duc/trang57.epi',\n",
       " 'https://baomoi.com/giao-duc/trang58.epi',\n",
       " 'https://baomoi.com/giao-duc/trang59.epi',\n",
       " 'https://baomoi.com/giao-duc/trang60.epi',\n",
       " 'https://baomoi.com/giao-duc/trang61.epi',\n",
       " 'https://baomoi.com/giao-duc/trang62.epi',\n",
       " 'https://baomoi.com/giao-duc/trang63.epi',\n",
       " 'https://baomoi.com/giao-duc/trang64.epi',\n",
       " 'https://baomoi.com/giao-duc/trang65.epi',\n",
       " 'https://baomoi.com/giao-duc/trang66.epi',\n",
       " 'https://baomoi.com/giao-duc/trang67.epi',\n",
       " 'https://baomoi.com/giao-duc/trang68.epi',\n",
       " 'https://baomoi.com/giao-duc/trang69.epi',\n",
       " 'https://baomoi.com/giao-duc/trang70.epi',\n",
       " 'https://baomoi.com/giao-duc/trang71.epi',\n",
       " 'https://baomoi.com/giao-duc/trang72.epi',\n",
       " 'https://baomoi.com/giao-duc/trang73.epi',\n",
       " 'https://baomoi.com/giao-duc/trang74.epi',\n",
       " 'https://baomoi.com/giao-duc/trang75.epi',\n",
       " 'https://baomoi.com/giao-duc/trang76.epi',\n",
       " 'https://baomoi.com/giao-duc/trang77.epi',\n",
       " 'https://baomoi.com/giao-duc/trang78.epi',\n",
       " 'https://baomoi.com/giao-duc/trang79.epi',\n",
       " 'https://baomoi.com/giao-duc/trang80.epi',\n",
       " 'https://baomoi.com/giao-duc/trang81.epi',\n",
       " 'https://baomoi.com/giao-duc/trang82.epi',\n",
       " 'https://baomoi.com/giao-duc/trang83.epi',\n",
       " 'https://baomoi.com/giao-duc/trang84.epi',\n",
       " 'https://baomoi.com/giao-duc/trang85.epi',\n",
       " 'https://baomoi.com/giao-duc/trang86.epi',\n",
       " 'https://baomoi.com/giao-duc/trang87.epi',\n",
       " 'https://baomoi.com/giao-duc/trang88.epi',\n",
       " 'https://baomoi.com/giao-duc/trang89.epi',\n",
       " 'https://baomoi.com/giao-duc/trang90.epi',\n",
       " 'https://baomoi.com/giao-duc/trang91.epi',\n",
       " 'https://baomoi.com/giao-duc/trang92.epi',\n",
       " 'https://baomoi.com/giao-duc/trang93.epi',\n",
       " 'https://baomoi.com/giao-duc/trang94.epi',\n",
       " 'https://baomoi.com/giao-duc/trang95.epi',\n",
       " 'https://baomoi.com/giao-duc/trang96.epi',\n",
       " 'https://baomoi.com/giao-duc/trang97.epi',\n",
       " 'https://baomoi.com/giao-duc/trang98.epi',\n",
       " 'https://baomoi.com/giao-duc/trang99.epi',\n",
       " 'https://baomoi.com/giao-duc/trang100.epi',\n",
       " 'https://baomoi.com/giao-duc/trang101.epi',\n",
       " 'https://baomoi.com/giao-duc/trang102.epi',\n",
       " 'https://baomoi.com/giao-duc/trang103.epi',\n",
       " 'https://baomoi.com/giao-duc/trang104.epi',\n",
       " 'https://baomoi.com/giao-duc/trang105.epi',\n",
       " 'https://baomoi.com/giao-duc/trang106.epi',\n",
       " 'https://baomoi.com/giao-duc/trang107.epi',\n",
       " 'https://baomoi.com/giao-duc/trang108.epi',\n",
       " 'https://baomoi.com/giao-duc/trang109.epi',\n",
       " 'https://baomoi.com/giao-duc/trang110.epi',\n",
       " 'https://baomoi.com/giao-duc/trang111.epi',\n",
       " 'https://baomoi.com/giao-duc/trang112.epi',\n",
       " 'https://baomoi.com/giao-duc/trang113.epi',\n",
       " 'https://baomoi.com/giao-duc/trang114.epi',\n",
       " 'https://baomoi.com/giao-duc/trang115.epi',\n",
       " 'https://baomoi.com/giao-duc/trang116.epi',\n",
       " 'https://baomoi.com/giao-duc/trang117.epi',\n",
       " 'https://baomoi.com/giao-duc/trang118.epi',\n",
       " 'https://baomoi.com/giao-duc/trang119.epi',\n",
       " 'https://baomoi.com/giao-duc/trang120.epi',\n",
       " 'https://baomoi.com/giao-duc/trang121.epi',\n",
       " 'https://baomoi.com/giao-duc/trang122.epi',\n",
       " 'https://baomoi.com/giao-duc/trang123.epi',\n",
       " 'https://baomoi.com/giao-duc/trang124.epi',\n",
       " 'https://baomoi.com/giao-duc/trang125.epi',\n",
       " 'https://baomoi.com/giao-duc/trang126.epi',\n",
       " 'https://baomoi.com/giao-duc/trang127.epi',\n",
       " 'https://baomoi.com/giao-duc/trang128.epi',\n",
       " 'https://baomoi.com/giao-duc/trang129.epi',\n",
       " 'https://baomoi.com/giao-duc/trang130.epi',\n",
       " 'https://baomoi.com/giao-duc/trang131.epi',\n",
       " 'https://baomoi.com/giao-duc/trang132.epi',\n",
       " 'https://baomoi.com/giao-duc/trang133.epi',\n",
       " 'https://baomoi.com/giao-duc/trang134.epi',\n",
       " 'https://baomoi.com/giao-duc/trang135.epi',\n",
       " 'https://baomoi.com/giao-duc/trang136.epi',\n",
       " 'https://baomoi.com/giao-duc/trang137.epi',\n",
       " 'https://baomoi.com/giao-duc/trang138.epi',\n",
       " 'https://baomoi.com/giao-duc/trang139.epi',\n",
       " 'https://baomoi.com/giao-duc/trang140.epi',\n",
       " 'https://baomoi.com/giao-duc/trang141.epi',\n",
       " 'https://baomoi.com/giao-duc/trang142.epi',\n",
       " 'https://baomoi.com/giao-duc/trang143.epi',\n",
       " 'https://baomoi.com/giao-duc/trang144.epi',\n",
       " 'https://baomoi.com/giao-duc/trang145.epi',\n",
       " 'https://baomoi.com/giao-duc/trang146.epi',\n",
       " 'https://baomoi.com/giao-duc/trang147.epi',\n",
       " 'https://baomoi.com/giao-duc/trang148.epi',\n",
       " 'https://baomoi.com/giao-duc/trang149.epi',\n",
       " 'https://baomoi.com/giao-duc/trang150.epi',\n",
       " 'https://baomoi.com/giao-duc/trang151.epi',\n",
       " 'https://baomoi.com/giao-duc/trang152.epi',\n",
       " 'https://baomoi.com/giao-duc/trang153.epi',\n",
       " 'https://baomoi.com/giao-duc/trang154.epi',\n",
       " 'https://baomoi.com/giao-duc/trang155.epi',\n",
       " 'https://baomoi.com/giao-duc/trang156.epi',\n",
       " 'https://baomoi.com/giao-duc/trang157.epi',\n",
       " 'https://baomoi.com/giao-duc/trang158.epi',\n",
       " 'https://baomoi.com/giao-duc/trang159.epi',\n",
       " 'https://baomoi.com/giao-duc/trang160.epi',\n",
       " 'https://baomoi.com/giao-duc/trang161.epi',\n",
       " 'https://baomoi.com/giao-duc/trang162.epi',\n",
       " 'https://baomoi.com/giao-duc/trang163.epi',\n",
       " 'https://baomoi.com/giao-duc/trang164.epi',\n",
       " 'https://baomoi.com/giao-duc/trang165.epi',\n",
       " 'https://baomoi.com/giao-duc/trang166.epi',\n",
       " 'https://baomoi.com/giao-duc/trang167.epi']"
      ]
     },
     "execution_count": 2,
     "metadata": {},
     "output_type": "execute_result"
    }
   ],
   "source": [
    "domain = \"https://baomoi.com\"\n",
    "page_index_string = \"/giao-duc/trang\"\n",
    "uri = \".epi\"\n",
    "\n",
    "page_urls = []\n",
    "for i in range(1,168):\n",
    "  page_url = domain + page_index_string + str(i) + uri\n",
    "  page_urls.append(page_url)\n",
    "page_urls"
   ]
  },
  {
   "cell_type": "code",
   "execution_count": 3,
   "metadata": {},
   "outputs": [
    {
     "name": "stderr",
     "output_type": "stream",
     "text": [
      "/var/folders/3p/99_58tl56kzdbsb1dw6qrs3m0000gn/T/ipykernel_60764/1674926134.py:2: DeprecationWarning: executable_path has been deprecated, please pass in a Service object\n",
      "  driver = webdriver.Chrome(ChromeDriverManager().install())\n"
     ]
    }
   ],
   "source": [
    "url_news = []\n",
    "driver = webdriver.Chrome(ChromeDriverManager().install())\n",
    "for page_url in page_urls:\n",
    "  driver.get(page_url)\n",
    "  time.sleep(1)\n",
    "  soup = BeautifulSoup(driver.page_source, 'html.parser')\n",
    "  tag_elements = soup.find_all('h4', class_= 'bm_H')\n",
    "  a_elements = [tag.find(\"a\") for tag in tag_elements]\n",
    "  for a in a_elements:\n",
    "    try:\n",
    "      url_news.append(domain + a['href'])\n",
    "    except:\n",
    "      pass\n",
    "driver.quit()"
   ]
  },
  {
   "cell_type": "code",
   "execution_count": 4,
   "metadata": {},
   "outputs": [],
   "source": [
    "url_news = list(set(url_news))"
   ]
  },
  {
   "cell_type": "code",
   "execution_count": 5,
   "metadata": {},
   "outputs": [
    {
     "data": {
      "text/plain": [
       "2269"
      ]
     },
     "execution_count": 5,
     "metadata": {},
     "output_type": "execute_result"
    }
   ],
   "source": [
    "len(url_news)"
   ]
  },
  {
   "cell_type": "code",
   "execution_count": 6,
   "metadata": {},
   "outputs": [],
   "source": [
    "contents = []\n",
    "labels = []"
   ]
  },
  {
   "cell_type": "code",
   "execution_count": 7,
   "metadata": {},
   "outputs": [
    {
     "name": "stderr",
     "output_type": "stream",
     "text": [
      "/var/folders/3p/99_58tl56kzdbsb1dw6qrs3m0000gn/T/ipykernel_60764/3698771297.py:1: DeprecationWarning: executable_path has been deprecated, please pass in a Service object\n",
      "  driver = webdriver.Chrome(ChromeDriverManager().install())\n"
     ]
    },
    {
     "name": "stdout",
     "output_type": "stream",
     "text": [
      "152\n"
     ]
    },
    {
     "name": "stderr",
     "output_type": "stream",
     "text": [
      "/var/folders/3p/99_58tl56kzdbsb1dw6qrs3m0000gn/T/ipykernel_60764/3698771297.py:27: DeprecationWarning: executable_path has been deprecated, please pass in a Service object\n",
      "  driver = webdriver.Chrome(ChromeDriverManager().install())\n"
     ]
    },
    {
     "name": "stdout",
     "output_type": "stream",
     "text": [
      "343\n",
      "513\n",
      "586\n",
      "624\n",
      "739\n",
      "797\n",
      "1139\n",
      "1174\n",
      "1332\n",
      "1405\n",
      "1526\n",
      "2253\n"
     ]
    }
   ],
   "source": [
    "driver = webdriver.Chrome(ChromeDriverManager().install())\n",
    "driver.implicitly_wait(10)\n",
    "for i in range(len(url_news)):\n",
    "  try: \n",
    "    driver.get(url_news[i])\n",
    "    time.sleep(1)\n",
    "    if driver.current_url != url_news[i]:\n",
    "      contents.append(\"\")\n",
    "      labels.append(\"\")\n",
    "      continue \n",
    "    soup = BeautifulSoup(driver.page_source, 'html.parser')\n",
    "    content_element = soup.find_all(\"p\", class_= \"bm_BL\")\n",
    "    filtered_content_element = [elem for elem in content_element if not elem.has_attr('class') or 'bm_IO' not in elem.get('class')]\n",
    "    content_string = \" \".join([block_content.text for block_content in filtered_content_element])\n",
    "    label_element = soup.find(\"a\", class_= \"bm_U\")\n",
    "    # if content_string in contents: \n",
    "    #   print(contents.index(content_string))\n",
    "    #   print(url_news.index(content_string))\n",
    "    #   print(link)\n",
    "    #   continue\n",
    "    contents.append(content_string)\n",
    "    if label_element:\n",
    "      labels.append(label_element.text)\n",
    "    else:\n",
    "      labels.append(\"\")\n",
    "  except:\n",
    "    print(i)\n",
    "    contents.append(\"\")\n",
    "    labels.append(\"\")\n",
    "    driver.quit()\n",
    "    driver = webdriver.Chrome(ChromeDriverManager().install())\n",
    "    continue\n",
    "    pass\n",
    "driver.quit()"
   ]
  },
  {
   "cell_type": "code",
   "execution_count": 8,
   "metadata": {},
   "outputs": [
    {
     "data": {
      "text/plain": [
       "(2269, 2269, 2269)"
      ]
     },
     "execution_count": 8,
     "metadata": {},
     "output_type": "execute_result"
    }
   ],
   "source": [
    "len(url_news),len(contents), len(labels)"
   ]
  },
  {
   "cell_type": "code",
   "execution_count": 9,
   "metadata": {},
   "outputs": [
    {
     "data": {
      "text/plain": [
       "'https://baomoi.com/tp-hcm-cong-bo-danh-muc-sgk-lop-4-8-va-11/c/45788305.epi'"
      ]
     },
     "execution_count": 9,
     "metadata": {},
     "output_type": "execute_result"
    }
   ],
   "source": [
    "url_news[101]"
   ]
  },
  {
   "cell_type": "code",
   "execution_count": 10,
   "metadata": {},
   "outputs": [],
   "source": [
    "df = pd.DataFrame({\"Link\": url_news, \"Content\": contents, \"Label\": labels})"
   ]
  },
  {
   "cell_type": "code",
   "execution_count": 11,
   "metadata": {},
   "outputs": [],
   "source": [
    "df = df.dropna(subset=[\"Content\"])"
   ]
  },
  {
   "cell_type": "code",
   "execution_count": 12,
   "metadata": {},
   "outputs": [
    {
     "data": {
      "text/html": [
       "<div>\n",
       "<style scoped>\n",
       "    .dataframe tbody tr th:only-of-type {\n",
       "        vertical-align: middle;\n",
       "    }\n",
       "\n",
       "    .dataframe tbody tr th {\n",
       "        vertical-align: top;\n",
       "    }\n",
       "\n",
       "    .dataframe thead th {\n",
       "        text-align: right;\n",
       "    }\n",
       "</style>\n",
       "<table border=\"1\" class=\"dataframe\">\n",
       "  <thead>\n",
       "    <tr style=\"text-align: right;\">\n",
       "      <th></th>\n",
       "      <th>Link</th>\n",
       "      <th>Content</th>\n",
       "      <th>Label</th>\n",
       "    </tr>\n",
       "  </thead>\n",
       "  <tbody>\n",
       "    <tr>\n",
       "      <th>0</th>\n",
       "      <td>https://baomoi.com/xsmn-kqxsmn-ket-qua-xo-so-m...</td>\n",
       "      <td></td>\n",
       "      <td></td>\n",
       "    </tr>\n",
       "    <tr>\n",
       "      <th>1</th>\n",
       "      <td>https://baomoi.com/bo-so-ho-khau-giay-viec-con...</td>\n",
       "      <td>Tại Hướng dẫn tuyển sinh đại học, cao đẳng ngà...</td>\n",
       "      <td>Giáo dục</td>\n",
       "    </tr>\n",
       "    <tr>\n",
       "      <th>2</th>\n",
       "      <td>https://baomoi.com/hdnd-tinh-giam-sat-tinh-hin...</td>\n",
       "      <td>Đoàn đã giám sát việc triển khai Nghị quyết 14...</td>\n",
       "      <td>Giáo dục</td>\n",
       "    </tr>\n",
       "    <tr>\n",
       "      <th>3</th>\n",
       "      <td>https://baomoi.com/nhieu-chung-cu-thieu-truong...</td>\n",
       "      <td>Theo thông tin từ Sở GD-ĐT Hà Nội, năm học 202...</td>\n",
       "      <td>Giáo dục</td>\n",
       "    </tr>\n",
       "    <tr>\n",
       "      <th>4</th>\n",
       "      <td>https://baomoi.com/lich-nghi-he-2023-cua-hoc-s...</td>\n",
       "      <td>Theo khung kế hoạch năm học 2022-2023 do Bộ Gi...</td>\n",
       "      <td>Giáo dục</td>\n",
       "    </tr>\n",
       "    <tr>\n",
       "      <th>...</th>\n",
       "      <td>...</td>\n",
       "      <td>...</td>\n",
       "      <td>...</td>\n",
       "    </tr>\n",
       "    <tr>\n",
       "      <th>2264</th>\n",
       "      <td>https://baomoi.com/lap-khoang-trong-thiet-bi-d...</td>\n",
       "      <td>Thiết bị dạy học Chương trình mới lớp 6 tại Tr...</td>\n",
       "      <td>Giáo dục</td>\n",
       "    </tr>\n",
       "    <tr>\n",
       "      <th>2265</th>\n",
       "      <td>https://baomoi.com/10-luu-y-voi-thi-sinh-trong...</td>\n",
       "      <td></td>\n",
       "      <td></td>\n",
       "    </tr>\n",
       "    <tr>\n",
       "      <th>2266</th>\n",
       "      <td>https://baomoi.com/giao-vien-my-bi-dieu-tra-vi...</td>\n",
       "      <td>Vụ việc xảy ra tại trường Trung học Lyndon B....</td>\n",
       "      <td>Giáo dục</td>\n",
       "    </tr>\n",
       "    <tr>\n",
       "      <th>2267</th>\n",
       "      <td>https://baomoi.com/truong-tieu-hoc-ban-tru-a-l...</td>\n",
       "      <td>Trường Tiểu học Bán trú \"A\" Long Thạnh biểu di...</td>\n",
       "      <td>Giáo dục</td>\n",
       "    </tr>\n",
       "    <tr>\n",
       "      <th>2268</th>\n",
       "      <td>https://baomoi.com/thi-sinh-khong-bi-han-che-s...</td>\n",
       "      <td></td>\n",
       "      <td></td>\n",
       "    </tr>\n",
       "  </tbody>\n",
       "</table>\n",
       "<p>2269 rows × 3 columns</p>\n",
       "</div>"
      ],
      "text/plain": [
       "                                                   Link  \\\n",
       "0     https://baomoi.com/xsmn-kqxsmn-ket-qua-xo-so-m...   \n",
       "1     https://baomoi.com/bo-so-ho-khau-giay-viec-con...   \n",
       "2     https://baomoi.com/hdnd-tinh-giam-sat-tinh-hin...   \n",
       "3     https://baomoi.com/nhieu-chung-cu-thieu-truong...   \n",
       "4     https://baomoi.com/lich-nghi-he-2023-cua-hoc-s...   \n",
       "...                                                 ...   \n",
       "2264  https://baomoi.com/lap-khoang-trong-thiet-bi-d...   \n",
       "2265  https://baomoi.com/10-luu-y-voi-thi-sinh-trong...   \n",
       "2266  https://baomoi.com/giao-vien-my-bi-dieu-tra-vi...   \n",
       "2267  https://baomoi.com/truong-tieu-hoc-ban-tru-a-l...   \n",
       "2268  https://baomoi.com/thi-sinh-khong-bi-han-che-s...   \n",
       "\n",
       "                                                Content     Label  \n",
       "0                                                                  \n",
       "1     Tại Hướng dẫn tuyển sinh đại học, cao đẳng ngà...  Giáo dục  \n",
       "2     Đoàn đã giám sát việc triển khai Nghị quyết 14...  Giáo dục  \n",
       "3     Theo thông tin từ Sở GD-ĐT Hà Nội, năm học 202...  Giáo dục  \n",
       "4     Theo khung kế hoạch năm học 2022-2023 do Bộ Gi...  Giáo dục  \n",
       "...                                                 ...       ...  \n",
       "2264  Thiết bị dạy học Chương trình mới lớp 6 tại Tr...  Giáo dục  \n",
       "2265                                                               \n",
       "2266   Vụ việc xảy ra tại trường Trung học Lyndon B....  Giáo dục  \n",
       "2267  Trường Tiểu học Bán trú \"A\" Long Thạnh biểu di...  Giáo dục  \n",
       "2268                                                               \n",
       "\n",
       "[2269 rows x 3 columns]"
      ]
     },
     "execution_count": 12,
     "metadata": {},
     "output_type": "execute_result"
    }
   ],
   "source": [
    "df"
   ]
  },
  {
   "cell_type": "code",
   "execution_count": 13,
   "metadata": {},
   "outputs": [],
   "source": [
    "path_to_save_data = \"./data/baomoi_giaoduc.csv\"\n",
    "df.to_csv(path_to_save_data, encoding= \"utf-8\")"
   ]
  }
 ],
 "metadata": {
  "kernelspec": {
   "display_name": "Python 3",
   "language": "python",
   "name": "python3"
  },
  "language_info": {
   "codemirror_mode": {
    "name": "ipython",
    "version": 3
   },
   "file_extension": ".py",
   "mimetype": "text/x-python",
   "name": "python",
   "nbconvert_exporter": "python",
   "pygments_lexer": "ipython3",
   "version": "3.10.5"
  },
  "orig_nbformat": 4
 },
 "nbformat": 4,
 "nbformat_minor": 2
}
