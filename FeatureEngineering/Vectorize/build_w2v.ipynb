{
 "cells": [
  {
   "cell_type": "code",
   "execution_count": 1,
   "metadata": {},
   "outputs": [],
   "source": [
    "from gensim.models import Word2Vec\n",
    "import pandas as pd"
   ]
  },
  {
   "cell_type": "code",
   "execution_count": 6,
   "metadata": {},
   "outputs": [],
   "source": [
    "content_cleaned = pd.read_csv(\"../../Data/clean_v1.csv\")[\"Content_cleaned\"]"
   ]
  },
  {
   "cell_type": "code",
   "execution_count": 8,
   "metadata": {},
   "outputs": [],
   "source": [
    "list_docs = content_cleaned.tolist()"
   ]
  },
  {
   "cell_type": "code",
   "execution_count": 38,
   "metadata": {},
   "outputs": [
    {
     "data": {
      "text/plain": [
       "71540"
      ]
     },
     "execution_count": 38,
     "metadata": {},
     "output_type": "execute_result"
    }
   ],
   "source": [
    "dic = {}\n",
    "x = \" \".join(list_docs).split()\n",
    "for i in x:\n",
    "  if i in dic:\n",
    "    dic[i] += 1\n",
    "  else:\n",
    "    dic[i] = 1\n",
    "len(dic)"
   ]
  },
  {
   "cell_type": "code",
   "execution_count": 31,
   "metadata": {},
   "outputs": [],
   "source": [
    "test = [doc.split() for doc in list_docs]"
   ]
  },
  {
   "cell_type": "code",
   "execution_count": 49,
   "metadata": {},
   "outputs": [
    {
     "data": {
      "text/plain": [
       "13182"
      ]
     },
     "execution_count": 49,
     "metadata": {},
     "output_type": "execute_result"
    }
   ],
   "source": [
    "len(test)"
   ]
  },
  {
   "cell_type": "code",
   "execution_count": 59,
   "metadata": {},
   "outputs": [],
   "source": [
    "w2v = Word2Vec(test, min_count=1, workers= 3, vector_size= 300, window= 5, sg=0)"
   ]
  },
  {
   "cell_type": "code",
   "execution_count": 62,
   "metadata": {},
   "outputs": [
    {
     "name": "stdout",
     "output_type": "stream",
     "text": [
      "71540 71540\n"
     ]
    }
   ],
   "source": [
    "vocabs = list(w2v.wv.key_to_index)\n",
    "vects = list(w2v.wv.vectors)\n",
    "# Print the first 10 words in the vocabulary\n",
    "print(len(vocabs), len(vects))"
   ]
  },
  {
   "cell_type": "code",
   "execution_count": null,
   "metadata": {},
   "outputs": [],
   "source": [
    "w2v.wv[\"học_tập\"]"
   ]
  },
  {
   "cell_type": "code",
   "execution_count": 63,
   "metadata": {},
   "outputs": [],
   "source": [
    "import io\n",
    "out_v = io.open(\"vecs_cbow.tsv\", \"w\", encoding=\"utf-8\")\n",
    "out_m = io.open(\"meta_cbow.tsv\", \"w\", encoding=\"utf-8\")\n",
    "for i in range(1, len(vocabs)):\n",
    "  word = vocabs[i]\n",
    "  vector = vects[i]\n",
    "  out_m.write(word + \"\\n\")\n",
    "  out_v.write(\"\\t\".join([str(x) for x in vector]) + \"\\n\")\n",
    "out_m.close()\n",
    "out_v.close()"
   ]
  }
 ],
 "metadata": {
  "kernelspec": {
   "display_name": "Python 3",
   "language": "python",
   "name": "python3"
  },
  "language_info": {
   "codemirror_mode": {
    "name": "ipython",
    "version": 3
   },
   "file_extension": ".py",
   "mimetype": "text/x-python",
   "name": "python",
   "nbconvert_exporter": "python",
   "pygments_lexer": "ipython3",
   "version": "3.10.5"
  },
  "orig_nbformat": 4
 },
 "nbformat": 4,
 "nbformat_minor": 2
}
