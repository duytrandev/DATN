{
 "cells": [
  {
   "cell_type": "code",
   "execution_count": 2,
   "metadata": {},
   "outputs": [],
   "source": [
    "from gensim.models import Word2Vec\n",
    "import pandas as pd"
   ]
  },
  {
   "cell_type": "code",
   "execution_count": 3,
   "metadata": {},
   "outputs": [],
   "source": [
    "content_cleaned = pd.read_csv(\"../../Data/cleaned_v1.csv\")[\"Content_cleaned\"]"
   ]
  },
  {
   "cell_type": "code",
   "execution_count": 5,
   "metadata": {},
   "outputs": [
    {
     "data": {
      "text/plain": [
       "109105"
      ]
     },
     "execution_count": 5,
     "metadata": {},
     "output_type": "execute_result"
    }
   ],
   "source": [
    "dic = {}\n",
    "x = \" \".join(content_cleaned).split()\n",
    "for i in x:\n",
    "  if i in dic:\n",
    "    dic[i] += 1\n",
    "  else:\n",
    "    dic[i] = 1\n",
    "len(dic)"
   ]
  },
  {
   "cell_type": "code",
   "execution_count": 6,
   "metadata": {},
   "outputs": [],
   "source": [
    "test = [doc.split() for doc in content_cleaned]"
   ]
  },
  {
   "cell_type": "code",
   "execution_count": 7,
   "metadata": {},
   "outputs": [
    {
     "data": {
      "text/plain": [
       "24414"
      ]
     },
     "execution_count": 7,
     "metadata": {},
     "output_type": "execute_result"
    }
   ],
   "source": [
    "len(test)"
   ]
  },
  {
   "cell_type": "code",
   "execution_count": 11,
   "metadata": {},
   "outputs": [],
   "source": [
    "w2v = Word2Vec(test, min_count=1, workers= 3, vector_size= 300, window= 5, sg=1)"
   ]
  },
  {
   "cell_type": "code",
   "execution_count": 12,
   "metadata": {},
   "outputs": [],
   "source": [
    "w2v.save(\"w2v_300_5window_cleaned_24krow_skipgram.model\")"
   ]
  },
  {
   "cell_type": "code",
   "execution_count": 13,
   "metadata": {},
   "outputs": [
    {
     "name": "stdout",
     "output_type": "stream",
     "text": [
      "109105 109105\n"
     ]
    }
   ],
   "source": [
    "vocabs = list(w2v.wv.key_to_index)\n",
    "vects = list(w2v.wv.vectors)\n",
    "# Print the first 10 words in the vocabulary\n",
    "print(len(vocabs), len(vects))"
   ]
  },
  {
   "cell_type": "code",
   "execution_count": 16,
   "metadata": {},
   "outputs": [
    {
     "data": {
      "text/plain": [
       "[('sinh_đẻ', 0.6015143990516663),\n",
       " ('đàn_ông', 0.5960658192634583),\n",
       " ('trẻ_em_gái', 0.5698537826538086),\n",
       " ('nữ_giới', 0.5577190518379211),\n",
       " ('nam_giới', 0.5506118535995483),\n",
       " ('phụ_nữ_sinh', 0.5472655892372131),\n",
       " ('trung_niên', 0.5416012406349182),\n",
       " ('có_thai', 0.536834180355072),\n",
       " ('sinh_nở', 0.5356417894363403),\n",
       " ('trẻ_em_trai', 0.5310147404670715)]"
      ]
     },
     "execution_count": 16,
     "metadata": {},
     "output_type": "execute_result"
    }
   ],
   "source": [
    "w2v.wv.most_similar(\"phụ_nữ\")"
   ]
  },
  {
   "cell_type": "code",
   "execution_count": 63,
   "metadata": {},
   "outputs": [],
   "source": [
    "import io\n",
    "out_v = io.open(\"vecs_cbow.tsv\", \"w\", encoding=\"utf-8\")\n",
    "out_m = io.open(\"meta_cbow.tsv\", \"w\", encoding=\"utf-8\")\n",
    "for i in range(1, len(vocabs)):\n",
    "  word = vocabs[i]\n",
    "  vector = vects[i]\n",
    "  out_m.write(word + \"\\n\")\n",
    "  out_v.write(\"\\t\".join([str(x) for x in vector]) + \"\\n\")\n",
    "out_m.close()\n",
    "out_v.close()"
   ]
  }
 ],
 "metadata": {
  "kernelspec": {
   "display_name": "Python 3",
   "language": "python",
   "name": "python3"
  },
  "language_info": {
   "codemirror_mode": {
    "name": "ipython",
    "version": 3
   },
   "file_extension": ".py",
   "mimetype": "text/x-python",
   "name": "python",
   "nbconvert_exporter": "python",
   "pygments_lexer": "ipython3",
   "version": "3.10.5"
  },
  "orig_nbformat": 4
 },
 "nbformat": 4,
 "nbformat_minor": 2
}
