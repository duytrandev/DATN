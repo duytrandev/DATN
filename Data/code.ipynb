{
 "cells": [
  {
   "cell_type": "code",
   "execution_count": 3,
   "metadata": {},
   "outputs": [],
   "source": [
    "import os\n",
    "import pandas as pd"
   ]
  },
  {
   "cell_type": "code",
   "execution_count": 70,
   "metadata": {},
   "outputs": [
    {
     "data": {
      "text/plain": [
       "['../baomoi/data/baomoi_giaoduc.csv', '../baomoi/data/baomoi_thethao.csv']"
      ]
     },
     "execution_count": 70,
     "metadata": {},
     "output_type": "execute_result"
    }
   ],
   "source": [
    "path_to_dataset = \"../baomoi/data/\"\n",
    "list_csv = [path_to_dataset + file for file in os.listdir(path_to_dataset) if (file[-4:] == \".csv\" and file[:4] == \"baom\")]\n",
    "list_csv"
   ]
  },
  {
   "cell_type": "code",
   "execution_count": 27,
   "metadata": {},
   "outputs": [],
   "source": [
    "a = pd.read_csv(\"cleaned_v2.csv\")"
   ]
  },
  {
   "cell_type": "code",
   "execution_count": 37,
   "metadata": {},
   "outputs": [
    {
     "data": {
      "text/plain": [
       "Kinh te      3940\n",
       "Giai tri     3238\n",
       "Suc khoe     3126\n",
       "Chinh tri    2696\n",
       "Giao duc     2514\n",
       "The thao     2294\n",
       "Name: Label, dtype: int64"
      ]
     },
     "execution_count": 37,
     "metadata": {},
     "output_type": "execute_result"
    }
   ],
   "source": [
    "a['Label'].value_counts()"
   ]
  },
  {
   "cell_type": "code",
   "execution_count": 36,
   "metadata": {},
   "outputs": [],
   "source": [
    "\n",
    "a[\"Label\"] = a[\"Label\"].replace(\"sport\", \"The thao\")"
   ]
  },
  {
   "cell_type": "code",
   "execution_count": 38,
   "metadata": {},
   "outputs": [],
   "source": [
    "a.to_csv(\"cleaned_v2.csv\")"
   ]
  },
  {
   "cell_type": "code",
   "execution_count": 47,
   "metadata": {},
   "outputs": [
    {
     "data": {
      "text/html": [
       "<div>\n",
       "<style scoped>\n",
       "    .dataframe tbody tr th:only-of-type {\n",
       "        vertical-align: middle;\n",
       "    }\n",
       "\n",
       "    .dataframe tbody tr th {\n",
       "        vertical-align: top;\n",
       "    }\n",
       "\n",
       "    .dataframe thead th {\n",
       "        text-align: right;\n",
       "    }\n",
       "</style>\n",
       "<table border=\"1\" class=\"dataframe\">\n",
       "  <thead>\n",
       "    <tr style=\"text-align: right;\">\n",
       "      <th></th>\n",
       "      <th>Unnamed: 0</th>\n",
       "      <th>Link</th>\n",
       "      <th>Content</th>\n",
       "      <th>Content_cleaned_v1</th>\n",
       "      <th>Length_cleaned_v1</th>\n",
       "      <th>Content_cleaned_v2</th>\n",
       "      <th>Length_cleaned_v2</th>\n",
       "      <th>Label</th>\n",
       "    </tr>\n",
       "  </thead>\n",
       "  <tbody>\n",
       "    <tr>\n",
       "      <th>0</th>\n",
       "      <td>0</td>\n",
       "      <td>https://baomoi.com/pep-guardiola-soi-mau-haala...</td>\n",
       "      <td>Đến làm khách Everton, Haaland có bàn thắng th...</td>\n",
       "      <td>đến làm_khách everton haaland có bàn thắng thứ...</td>\n",
       "      <td>266</td>\n",
       "      <td>làm_khách everton haaland bàn thắng thứ ngoại_...</td>\n",
       "      <td>176</td>\n",
       "      <td>The thao</td>\n",
       "    </tr>\n",
       "    <tr>\n",
       "      <th>1</th>\n",
       "      <td>1</td>\n",
       "      <td>https://baomoi.com/mu-chieu-mo-hau-ve-da-nang-...</td>\n",
       "      <td>Mohamed Simakan là một trong những cầu thủ chơ...</td>\n",
       "      <td>mohamed simakan là một trong những cầu_thủ chơ...</td>\n",
       "      <td>199</td>\n",
       "      <td>mohamed simakan cầu_thủ chơi tốt rb leipzig mù...</td>\n",
       "      <td>125</td>\n",
       "      <td>The thao</td>\n",
       "    </tr>\n",
       "    <tr>\n",
       "      <th>2</th>\n",
       "      <td>2</td>\n",
       "      <td>https://baomoi.com/vet-gon-trong-chien-thang-c...</td>\n",
       "      <td>Barca để lại nhiều nỗi lo dù vừa lên ngôi tại...</td>\n",
       "      <td>barca để lại nhiều nỗi lo dù vừa lên_ngôi tại ...</td>\n",
       "      <td>715</td>\n",
       "      <td>barca nỗi lo dù vừa lên_ngôi la_liga ảnh reute...</td>\n",
       "      <td>502</td>\n",
       "      <td>The thao</td>\n",
       "    </tr>\n",
       "    <tr>\n",
       "      <th>3</th>\n",
       "      <td>4</td>\n",
       "      <td>https://baomoi.com/sao-man-city-chon-messi-gia...</td>\n",
       "      <td>Bernardo Silva đánh giá Haaland chưa đủ khả n...</td>\n",
       "      <td>bernardo_silva đánh_giá haaland chưa đủ khả_nă...</td>\n",
       "      <td>292</td>\n",
       "      <td>bernardo_silva đánh_giá haaland chưa đủ khả_nă...</td>\n",
       "      <td>211</td>\n",
       "      <td>The thao</td>\n",
       "    </tr>\n",
       "    <tr>\n",
       "      <th>4</th>\n",
       "      <td>5</td>\n",
       "      <td>https://baomoi.com/sea-games-32-dau-kiem-mang-...</td>\n",
       "      <td>(Ảnh minh họa. Minh Quyết/TTXVN) Trưa 15/5, tạ...</td>\n",
       "      <td>ảnh minh_họa minh_quyết ttxvn trưa tại khu nhà...</td>\n",
       "      <td>235</td>\n",
       "      <td>ảnh minh_họa minh_quyết ttxvn trưa khu thi_đấu...</td>\n",
       "      <td>163</td>\n",
       "      <td>The thao</td>\n",
       "    </tr>\n",
       "    <tr>\n",
       "      <th>...</th>\n",
       "      <td>...</td>\n",
       "      <td>...</td>\n",
       "      <td>...</td>\n",
       "      <td>...</td>\n",
       "      <td>...</td>\n",
       "      <td>...</td>\n",
       "      <td>...</td>\n",
       "      <td>...</td>\n",
       "    </tr>\n",
       "    <tr>\n",
       "      <th>17803</th>\n",
       "      <td>18187</td>\n",
       "      <td>https://vietnamnet.vn/ngua-noi-man-do-khap-ngu...</td>\n",
       "      <td>Theo các bác sĩ Bệnh viện Đặng Văn Ngữ, cơ sở ...</td>\n",
       "      <td>theo các bác_sĩ bệnh_viện đặng văn_ngữ cơ_sở y...</td>\n",
       "      <td>599</td>\n",
       "      <td>bác_sĩ bệnh_viện đặng văn_ngữ cơ_sở y_tế chuyê...</td>\n",
       "      <td>429</td>\n",
       "      <td>Suc khoe</td>\n",
       "    </tr>\n",
       "    <tr>\n",
       "      <th>17804</th>\n",
       "      <td>18188</td>\n",
       "      <td>https://vietnamnet.vn/vi-sao-hoc-sinh-lop-7-ma...</td>\n",
       "      <td>Nữ sinh T.T.M.C (sinh năm 2010, trú tại xã An ...</td>\n",
       "      <td>nữ_sinh sinh năm trú tại xã an_bá sơn_động bắc...</td>\n",
       "      <td>576</td>\n",
       "      <td>nữ_sinh sinh trú xã an_bá sơn_động bắc_giang s...</td>\n",
       "      <td>390</td>\n",
       "      <td>Suc khoe</td>\n",
       "    </tr>\n",
       "    <tr>\n",
       "      <th>17805</th>\n",
       "      <td>18189</td>\n",
       "      <td>https://vietnamnet.vn/quyet-dinh-khong-lam-the...</td>\n",
       "      <td>Ngày 14/3, Phó giáo sư, Tiến sĩ, bác sĩ Lâm Vi...</td>\n",
       "      <td>ngày phó_giáo_sư tiến_sĩ bác_sĩ lâm_việt_trung...</td>\n",
       "      <td>534</td>\n",
       "      <td>phó_giáo_sư tiến_sĩ bác_sĩ lâm_việt_trung phó_...</td>\n",
       "      <td>354</td>\n",
       "      <td>Suc khoe</td>\n",
       "    </tr>\n",
       "    <tr>\n",
       "      <th>17806</th>\n",
       "      <td>18190</td>\n",
       "      <td>https://vietnamnet.vn/vi-sao-phat-hien-mac-ung...</td>\n",
       "      <td>Một bệnh nhân người Trung Quốc chia sẻ: “Công ...</td>\n",
       "      <td>một bệnh_nhân người trung_quốc chia_sẻ công_ty...</td>\n",
       "      <td>336</td>\n",
       "      <td>bệnh_nhân trung_quốc chia_sẻ công_ty khám sức_...</td>\n",
       "      <td>251</td>\n",
       "      <td>Suc khoe</td>\n",
       "    </tr>\n",
       "    <tr>\n",
       "      <th>17807</th>\n",
       "      <td>18191</td>\n",
       "      <td>https://vietnamnet.vn/nu-sinh-qua-doi-vi-loai-...</td>\n",
       "      <td>Jenna Patel đang được đào tạo để trở thành giá...</td>\n",
       "      <td>jenna patel đang được đào_tạo để trở_thành giá...</td>\n",
       "      <td>421</td>\n",
       "      <td>jenna patel đào_tạo trở_thành giáo_viên tiểu_h...</td>\n",
       "      <td>260</td>\n",
       "      <td>Suc khoe</td>\n",
       "    </tr>\n",
       "  </tbody>\n",
       "</table>\n",
       "<p>17808 rows × 8 columns</p>\n",
       "</div>"
      ],
      "text/plain": [
       "       Unnamed: 0                                               Link  \\\n",
       "0               0  https://baomoi.com/pep-guardiola-soi-mau-haala...   \n",
       "1               1  https://baomoi.com/mu-chieu-mo-hau-ve-da-nang-...   \n",
       "2               2  https://baomoi.com/vet-gon-trong-chien-thang-c...   \n",
       "3               4  https://baomoi.com/sao-man-city-chon-messi-gia...   \n",
       "4               5  https://baomoi.com/sea-games-32-dau-kiem-mang-...   \n",
       "...           ...                                                ...   \n",
       "17803       18187  https://vietnamnet.vn/ngua-noi-man-do-khap-ngu...   \n",
       "17804       18188  https://vietnamnet.vn/vi-sao-hoc-sinh-lop-7-ma...   \n",
       "17805       18189  https://vietnamnet.vn/quyet-dinh-khong-lam-the...   \n",
       "17806       18190  https://vietnamnet.vn/vi-sao-phat-hien-mac-ung...   \n",
       "17807       18191  https://vietnamnet.vn/nu-sinh-qua-doi-vi-loai-...   \n",
       "\n",
       "                                                 Content  \\\n",
       "0      Đến làm khách Everton, Haaland có bàn thắng th...   \n",
       "1      Mohamed Simakan là một trong những cầu thủ chơ...   \n",
       "2       Barca để lại nhiều nỗi lo dù vừa lên ngôi tại...   \n",
       "3       Bernardo Silva đánh giá Haaland chưa đủ khả n...   \n",
       "4      (Ảnh minh họa. Minh Quyết/TTXVN) Trưa 15/5, tạ...   \n",
       "...                                                  ...   \n",
       "17803  Theo các bác sĩ Bệnh viện Đặng Văn Ngữ, cơ sở ...   \n",
       "17804  Nữ sinh T.T.M.C (sinh năm 2010, trú tại xã An ...   \n",
       "17805  Ngày 14/3, Phó giáo sư, Tiến sĩ, bác sĩ Lâm Vi...   \n",
       "17806  Một bệnh nhân người Trung Quốc chia sẻ: “Công ...   \n",
       "17807  Jenna Patel đang được đào tạo để trở thành giá...   \n",
       "\n",
       "                                      Content_cleaned_v1  Length_cleaned_v1  \\\n",
       "0      đến làm_khách everton haaland có bàn thắng thứ...                266   \n",
       "1      mohamed simakan là một trong những cầu_thủ chơ...                199   \n",
       "2      barca để lại nhiều nỗi lo dù vừa lên_ngôi tại ...                715   \n",
       "3      bernardo_silva đánh_giá haaland chưa đủ khả_nă...                292   \n",
       "4      ảnh minh_họa minh_quyết ttxvn trưa tại khu nhà...                235   \n",
       "...                                                  ...                ...   \n",
       "17803  theo các bác_sĩ bệnh_viện đặng văn_ngữ cơ_sở y...                599   \n",
       "17804  nữ_sinh sinh năm trú tại xã an_bá sơn_động bắc...                576   \n",
       "17805  ngày phó_giáo_sư tiến_sĩ bác_sĩ lâm_việt_trung...                534   \n",
       "17806  một bệnh_nhân người trung_quốc chia_sẻ công_ty...                336   \n",
       "17807  jenna patel đang được đào_tạo để trở_thành giá...                421   \n",
       "\n",
       "                                      Content_cleaned_v2  Length_cleaned_v2  \\\n",
       "0      làm_khách everton haaland bàn thắng thứ ngoại_...                176   \n",
       "1      mohamed simakan cầu_thủ chơi tốt rb leipzig mù...                125   \n",
       "2      barca nỗi lo dù vừa lên_ngôi la_liga ảnh reute...                502   \n",
       "3      bernardo_silva đánh_giá haaland chưa đủ khả_nă...                211   \n",
       "4      ảnh minh_họa minh_quyết ttxvn trưa khu thi_đấu...                163   \n",
       "...                                                  ...                ...   \n",
       "17803  bác_sĩ bệnh_viện đặng văn_ngữ cơ_sở y_tế chuyê...                429   \n",
       "17804  nữ_sinh sinh trú xã an_bá sơn_động bắc_giang s...                390   \n",
       "17805  phó_giáo_sư tiến_sĩ bác_sĩ lâm_việt_trung phó_...                354   \n",
       "17806  bệnh_nhân trung_quốc chia_sẻ công_ty khám sức_...                251   \n",
       "17807  jenna patel đào_tạo trở_thành giáo_viên tiểu_h...                260   \n",
       "\n",
       "          Label  \n",
       "0      The thao  \n",
       "1      The thao  \n",
       "2      The thao  \n",
       "3      The thao  \n",
       "4      The thao  \n",
       "...         ...  \n",
       "17803  Suc khoe  \n",
       "17804  Suc khoe  \n",
       "17805  Suc khoe  \n",
       "17806  Suc khoe  \n",
       "17807  Suc khoe  \n",
       "\n",
       "[17808 rows x 8 columns]"
      ]
     },
     "execution_count": 47,
     "metadata": {},
     "output_type": "execute_result"
    }
   ],
   "source": [
    "a"
   ]
  },
  {
   "cell_type": "code",
   "execution_count": 55,
   "metadata": {},
   "outputs": [],
   "source": [
    "j.to_csv(\"cleaned_v2.csv\")"
   ]
  },
  {
   "cell_type": "code",
   "execution_count": 45,
   "metadata": {},
   "outputs": [],
   "source": []
  },
  {
   "cell_type": "code",
   "execution_count": 53,
   "metadata": {},
   "outputs": [],
   "source": [
    "sport = check[check[\"Label\"] == \"sport\"]\n",
    "business = check[check[\"Label\"] == \"business\"]\n",
    "politics = check[check[\"Label\"] == \"politics\"]\n",
    "entertainment = check[check[\"Label\"] == \"entertainment\"]\n",
    "education = check[check[\"Label\"] == \"education\"]\n",
    "health = check[check[\"Label\"] == \"health\"]"
   ]
  },
  {
   "cell_type": "code",
   "execution_count": 148,
   "metadata": {},
   "outputs": [
    {
     "data": {
      "text/plain": [
       "3164"
      ]
     },
     "execution_count": 148,
     "metadata": {},
     "output_type": "execute_result"
    }
   ],
   "source": [
    "health = health.dropna(subset=[\"Link\"])\n",
    "health = health.drop_duplicates(subset=['Link'])\n",
    "health = health[['Link', 'Content', 'Label']]\n",
    "len(health)"
   ]
  },
  {
   "cell_type": "code",
   "execution_count": 154,
   "metadata": {},
   "outputs": [
    {
     "data": {
      "text/plain": [
       "2443"
      ]
     },
     "execution_count": 154,
     "metadata": {},
     "output_type": "execute_result"
    }
   ],
   "source": [
    "len(health[health['Link'].str.contains(\"vietnamnet\")])"
   ]
  },
  {
   "cell_type": "code",
   "execution_count": 152,
   "metadata": {},
   "outputs": [
    {
     "name": "stdout",
     "output_type": "stream",
     "text": [
      "https://suckhoedoisong.vn/co-tre-so-sinh-da-bi-xoan-tinh-hoan-chuyen-gia-khuyen-cao-gi-169230516204145585.htm\n",
      "https://suckhoedoisong.vn/phau-thuat-dong-dinh-noi-tuy-gama-dau-tien-thanh-cong-cho-cu-ba-86-tuoi-169230511120931351.htm\n",
      "https://suckhoedoisong.vn/nam-thieu-nien-ton-thuong-gan-than-do-soc-nhiet-nang-nong-sau-chay-bo-buoi-sang-169230505135616279.htm\n",
      "https://suckhoedoisong.vn/tphcm-nang-nong-gay-gat-chuyen-gia-canh-bao-3-nhom-benh-nguy-hiem-thuong-gap-o-tre-169230427003842951.htm\n",
      "https://suckhoedoisong.vn/cuu-song-nguoi-dan-ong-ngo-doc-ruou-nang-do-uong-ruou-ngam-chuoi-hot-169230419214110695.htm\n",
      "https://suckhoedoisong.vn/ty-le-nguoi-dan-nhiem-ky-sinh-trung-cao-nghe-an-day-manh-phong-chong-169230413145531514.htm\n",
      "https://suckhoedoisong.vn/bac-si-hoa-giai-khoi-u-khung-hiem-gap-cho-cau-be-16-tuoi-169230407160113498.htm\n",
      "https://suckhoedoisong.vn/chinh-phu-phe-duyet-chu-truong-cho-phep-thanh-lap-truong-dai-hoc-tam-anh-169230331182852435.htm\n",
      "https://suckhoedoisong.vn/ngay-24-3-so-ca-mac-covid-19-giam-nhe-so-voi-hom-qua-169230324173333514.htm\n",
      "https://vietnamnet.vn/q-a-muc-huong-bao-hiem-y-te-khi-chup-pet-ct-chan-doan-ung-thu-2129401.html\n",
      "https://vietnamnet.vn/tieu-huy-lo-thuoc-levosum-bo-sung-hormone-tuyen-giap-vi-pham-chat-luong-2122714.html\n",
      "https://vietnamnet.vn/bac-si-100-tuoi-chia-se-5-dieu-khong-bao-gio-lam-de-song-lau-2132081.html\n",
      "https://vietnamnet.vn/vong-tranh-thai-dam-thung-dai-trang-2127068.html\n",
      "https://vietnamnet.vn/kham-chua-benh-vi-vu-loi-mot-bac-si-bi-tuoc-chung-chi-hanh-nghe-2135368.html\n",
      "https://vietnamnet.vn/nguoi-dan-ong-42-tuoi-o-ha-noi-gay-duong-vat-khi-dang-quan-he-2126854.html\n",
      "https://vietnamnet.vn/chu-quan-voi-trieu-chung-dau-dau-nu-benh-nhan-tu-vong-vi-vo-mach-mau-nao-2122988.html\n",
      "https://vietnamnet.vn/viem-mang-nao-sau-9-ngay-an-tiet-canh-ngan-2123881.html\n",
      "https://vietnamnet.vn/ca-lang-bat-ngo-bi-ghe-khong-ro-ly-do-2132116.html\n",
      "https://vietnamnet.vn/chuyen-vien-cac-benh-nhan-trong-vu-xe-tai-lao-vao-vach-nui-o-phu-yen-2128351.html\n",
      "https://vietnamnet.vn/nguoi-nha-to-benh-vien-tac-trach-khien-chau-be-3-tuoi-tu-vong-2104332.html\n",
      "https://vietnamnet.vn/q-a-co-the-tranh-thai-khong-neu-ban-trai-xuat-tinh-ngoai-2109587.html\n",
      "https://vietnamnet.vn/2-thoi-quen-gay-hoai-tu-chom-xuong-dui-cua-nhieu-nam-gioi-viet-2090518.html\n",
      "https://vietnamnet.vn/xuc-dong-phut-giay-con-gai-gap-lai-cha-song-thuc-vat-sau-3-thang-mat-tich-2112649.html\n",
      "https://vietnamnet.vn/mac-hoi-chung-xoa-nhiem-sac-the-khien-em-be-khong-giong-ca-bo-va-me-2094957.html\n",
      "https://vietnamnet.vn/thieu-thuoc-trang-thiet-bi-keo-giam-su-hai-long-cua-nguoi-benh-nhan-vien-y-te-2086658.html\n",
      "https://vietnamnet.vn/chuot-rut-vao-ban-dem-la-dau-hieu-cua-benh-gi-2097311.html\n",
      "https://vietnamnet.vn/phat-hien-mat-day-chuyen-mau-vang-co-lon-trong-duong-tho-2111375.html\n",
      "https://vietnamnet.vn/xo-phoi-vo-can-benh-hiem-tien-trien-nhanh-ti-le-tu-vong-cao-2085364.html\n",
      "https://vietnamnet.vn/q-a-3-loai-benh-ung-thu-de-doa-phu-nu-va-cach-sang-loc-khong-ton-kem-2115343.html\n",
      "https://vietnamnet.vn/phat-hien-ung-thu-mau-sau-khi-di-kham-vi-con-trung-can-2101721.html\n",
      "https://vietnamnet.vn/chang-trai-nham-trieu-chung-ung-thu-mau-voi-met-do-tap-luyen-2097053.html\n",
      "https://vietnamnet.vn/bo-y-te-ra-cong-van-khan-yeu-cau-tim-bien-the-moi-cua-covid-19-2100108.html\n",
      "https://vietnamnet.vn/muc-do-nguy-hiem-cua-can-benh-khien-phong-vien-dot-tu-tai-world-cup-2091250.html\n",
      "https://vietnamnet.vn/hut-gan-3-lit-mau-cap-cuu-nguoi-dan-ong-bi-dam-thau-nguc-2106826.html\n",
      "https://vietnamnet.vn/tre-thoi-thop-quan-bang-kin-nguoi-vi-chai-nuoc-sat-khuan-2076680.html\n",
      "https://vietnamnet.vn/quiz-nguoi-benh-tieu-duong-can-co-che-do-an-uong-nhu-the-nao-2114758.html\n",
      "https://vietnamnet.vn/nhieu-giam-doc-benh-vien-chua-biet-benh-an-dien-tu-la-gi-2098705.html\n",
      "https://vietnamnet.vn/gia-thuyet-ly-do-khien-5-cau-thu-phap-bi-om-truoc-chung-ket-world-cup-2091801.html\n",
      "https://vietnamnet.vn/vu-38-nguoi-an-che-dau-trang-bi-ngo-doc-khien-1-ca-tu-vong-da-tim-ra-nguyen-nhan-2108918.html\n",
      "https://vietnamnet.vn/co-gai-ung-thu-xuong-vuot-qua-bao-benh-lam-co-dau-vien-man-2120370.html\n"
     ]
    }
   ],
   "source": [
    "for i in range(1,len(health), 80):\n",
    "  print(health['Link'].iloc[i])"
   ]
  },
  {
   "cell_type": "code",
   "execution_count": 72,
   "metadata": {},
   "outputs": [],
   "source": [
    "data = pd.read_csv(list_csv[0])\n",
    "for csv in list_csv:\n",
    "  df = pd.read_csv(csv)\n",
    "  data = pd.concat([df, data], axis=0)"
   ]
  },
  {
   "cell_type": "code",
   "execution_count": 74,
   "metadata": {},
   "outputs": [
    {
     "data": {
      "text/html": [
       "<div>\n",
       "<style scoped>\n",
       "    .dataframe tbody tr th:only-of-type {\n",
       "        vertical-align: middle;\n",
       "    }\n",
       "\n",
       "    .dataframe tbody tr th {\n",
       "        vertical-align: top;\n",
       "    }\n",
       "\n",
       "    .dataframe thead th {\n",
       "        text-align: right;\n",
       "    }\n",
       "</style>\n",
       "<table border=\"1\" class=\"dataframe\">\n",
       "  <thead>\n",
       "    <tr style=\"text-align: right;\">\n",
       "      <th></th>\n",
       "      <th>Unnamed: 0</th>\n",
       "      <th>Link</th>\n",
       "      <th>Content</th>\n",
       "      <th>Label</th>\n",
       "    </tr>\n",
       "  </thead>\n",
       "  <tbody>\n",
       "    <tr>\n",
       "      <th>0</th>\n",
       "      <td>0</td>\n",
       "      <td>https://baomoi.com/chung-ket-bong-da-nu-viet-n...</td>\n",
       "      <td>Tại đấu trường SEA Games, đội tuyển nữ Việt Na...</td>\n",
       "      <td>Thể thao</td>\n",
       "    </tr>\n",
       "    <tr>\n",
       "      <th>1</th>\n",
       "      <td>1</td>\n",
       "      <td>https://baomoi.com/sea-games-32-ngay-13-5-doan...</td>\n",
       "      <td>5 vận động viên giành 3 tấm HCV của Đội tuyển ...</td>\n",
       "      <td>Thể thao</td>\n",
       "    </tr>\n",
       "    <tr>\n",
       "      <th>2</th>\n",
       "      <td>2</td>\n",
       "      <td>https://baomoi.com/vdv-nguyen-linh-na-gianh-hc...</td>\n",
       "      <td>NaN</td>\n",
       "      <td>NaN</td>\n",
       "    </tr>\n",
       "    <tr>\n",
       "      <th>3</th>\n",
       "      <td>3</td>\n",
       "      <td>https://baomoi.com/huan-luyen-vien-mai-duc-chu...</td>\n",
       "      <td>Huấn luyện viên Mai Đức Chung chia sẻ cảm xúc,...</td>\n",
       "      <td>Thể thao</td>\n",
       "    </tr>\n",
       "    <tr>\n",
       "      <th>4</th>\n",
       "      <td>4</td>\n",
       "      <td>https://baomoi.com/nhan-dinh-dt-nu-viet-nam-dt...</td>\n",
       "      <td>Theo lịch thi đấu bóng đá SEA Games 32 hôm nay...</td>\n",
       "      <td>Thể thao</td>\n",
       "    </tr>\n",
       "    <tr>\n",
       "      <th>...</th>\n",
       "      <td>...</td>\n",
       "      <td>...</td>\n",
       "      <td>...</td>\n",
       "      <td>...</td>\n",
       "    </tr>\n",
       "    <tr>\n",
       "      <th>2264</th>\n",
       "      <td>2264</td>\n",
       "      <td>https://baomoi.com/lap-khoang-trong-thiet-bi-d...</td>\n",
       "      <td>Thiết bị dạy học Chương trình mới lớp 6 tại Tr...</td>\n",
       "      <td>Giáo dục</td>\n",
       "    </tr>\n",
       "    <tr>\n",
       "      <th>2265</th>\n",
       "      <td>2265</td>\n",
       "      <td>https://baomoi.com/10-luu-y-voi-thi-sinh-trong...</td>\n",
       "      <td>NaN</td>\n",
       "      <td>NaN</td>\n",
       "    </tr>\n",
       "    <tr>\n",
       "      <th>2266</th>\n",
       "      <td>2266</td>\n",
       "      <td>https://baomoi.com/giao-vien-my-bi-dieu-tra-vi...</td>\n",
       "      <td>Vụ việc xảy ra tại trường Trung học Lyndon B....</td>\n",
       "      <td>Giáo dục</td>\n",
       "    </tr>\n",
       "    <tr>\n",
       "      <th>2267</th>\n",
       "      <td>2267</td>\n",
       "      <td>https://baomoi.com/truong-tieu-hoc-ban-tru-a-l...</td>\n",
       "      <td>Trường Tiểu học Bán trú \"A\" Long Thạnh biểu di...</td>\n",
       "      <td>Giáo dục</td>\n",
       "    </tr>\n",
       "    <tr>\n",
       "      <th>2268</th>\n",
       "      <td>2268</td>\n",
       "      <td>https://baomoi.com/thi-sinh-khong-bi-han-che-s...</td>\n",
       "      <td>NaN</td>\n",
       "      <td>NaN</td>\n",
       "    </tr>\n",
       "  </tbody>\n",
       "</table>\n",
       "<p>6309 rows × 4 columns</p>\n",
       "</div>"
      ],
      "text/plain": [
       "      Unnamed: 0                                               Link  \\\n",
       "0              0  https://baomoi.com/chung-ket-bong-da-nu-viet-n...   \n",
       "1              1  https://baomoi.com/sea-games-32-ngay-13-5-doan...   \n",
       "2              2  https://baomoi.com/vdv-nguyen-linh-na-gianh-hc...   \n",
       "3              3  https://baomoi.com/huan-luyen-vien-mai-duc-chu...   \n",
       "4              4  https://baomoi.com/nhan-dinh-dt-nu-viet-nam-dt...   \n",
       "...          ...                                                ...   \n",
       "2264        2264  https://baomoi.com/lap-khoang-trong-thiet-bi-d...   \n",
       "2265        2265  https://baomoi.com/10-luu-y-voi-thi-sinh-trong...   \n",
       "2266        2266  https://baomoi.com/giao-vien-my-bi-dieu-tra-vi...   \n",
       "2267        2267  https://baomoi.com/truong-tieu-hoc-ban-tru-a-l...   \n",
       "2268        2268  https://baomoi.com/thi-sinh-khong-bi-han-che-s...   \n",
       "\n",
       "                                                Content     Label  \n",
       "0     Tại đấu trường SEA Games, đội tuyển nữ Việt Na...  Thể thao  \n",
       "1     5 vận động viên giành 3 tấm HCV của Đội tuyển ...  Thể thao  \n",
       "2                                                   NaN       NaN  \n",
       "3     Huấn luyện viên Mai Đức Chung chia sẻ cảm xúc,...  Thể thao  \n",
       "4     Theo lịch thi đấu bóng đá SEA Games 32 hôm nay...  Thể thao  \n",
       "...                                                 ...       ...  \n",
       "2264  Thiết bị dạy học Chương trình mới lớp 6 tại Tr...  Giáo dục  \n",
       "2265                                                NaN       NaN  \n",
       "2266   Vụ việc xảy ra tại trường Trung học Lyndon B....  Giáo dục  \n",
       "2267  Trường Tiểu học Bán trú \"A\" Long Thạnh biểu di...  Giáo dục  \n",
       "2268                                                NaN       NaN  \n",
       "\n",
       "[6309 rows x 4 columns]"
      ]
     },
     "execution_count": 74,
     "metadata": {},
     "output_type": "execute_result"
    }
   ],
   "source": [
    "data"
   ]
  },
  {
   "cell_type": "code",
   "execution_count": 50,
   "metadata": {},
   "outputs": [],
   "source": [
    "df_baomoi = pd.read_csv('../baomoi/data/merged_baomoi.csv')\n",
    "df_vietnamnet = pd.read_csv('../vietnamnet/data/merged_v1.csv')\n",
    "df_thapcam = pd.read_csv('./merged_thapcam.csv')\n",
    "df_vnexpress = pd.read_csv('../vnexpress/merged_vnexpress.csv')\n",
    "df_merge = pd.concat([df_thapcam, df_baomoi, df_thapcam, df_vnexpress, df_vietnamnet])"
   ]
  },
  {
   "cell_type": "code",
   "execution_count": 75,
   "metadata": {},
   "outputs": [],
   "source": [
    "# data = data.rename(columns={\"Contents\": \"Content\", \"Labels\": \"Label\"})\n",
    "data = data.dropna(subset=[\"Content\"])\n",
    "data = data.drop_duplicates(subset=[\"Content\"])"
   ]
  },
  {
   "cell_type": "code",
   "execution_count": 76,
   "metadata": {},
   "outputs": [
    {
     "data": {
      "text/html": [
       "<div>\n",
       "<style scoped>\n",
       "    .dataframe tbody tr th:only-of-type {\n",
       "        vertical-align: middle;\n",
       "    }\n",
       "\n",
       "    .dataframe tbody tr th {\n",
       "        vertical-align: top;\n",
       "    }\n",
       "\n",
       "    .dataframe thead th {\n",
       "        text-align: right;\n",
       "    }\n",
       "</style>\n",
       "<table border=\"1\" class=\"dataframe\">\n",
       "  <thead>\n",
       "    <tr style=\"text-align: right;\">\n",
       "      <th></th>\n",
       "      <th>Unnamed: 0</th>\n",
       "      <th>Link</th>\n",
       "      <th>Content</th>\n",
       "      <th>Label</th>\n",
       "    </tr>\n",
       "  </thead>\n",
       "  <tbody>\n",
       "    <tr>\n",
       "      <th>0</th>\n",
       "      <td>0</td>\n",
       "      <td>https://baomoi.com/chung-ket-bong-da-nu-viet-n...</td>\n",
       "      <td>Tại đấu trường SEA Games, đội tuyển nữ Việt Na...</td>\n",
       "      <td>Thể thao</td>\n",
       "    </tr>\n",
       "    <tr>\n",
       "      <th>1</th>\n",
       "      <td>1</td>\n",
       "      <td>https://baomoi.com/sea-games-32-ngay-13-5-doan...</td>\n",
       "      <td>5 vận động viên giành 3 tấm HCV của Đội tuyển ...</td>\n",
       "      <td>Thể thao</td>\n",
       "    </tr>\n",
       "    <tr>\n",
       "      <th>3</th>\n",
       "      <td>3</td>\n",
       "      <td>https://baomoi.com/huan-luyen-vien-mai-duc-chu...</td>\n",
       "      <td>Huấn luyện viên Mai Đức Chung chia sẻ cảm xúc,...</td>\n",
       "      <td>Thể thao</td>\n",
       "    </tr>\n",
       "    <tr>\n",
       "      <th>4</th>\n",
       "      <td>4</td>\n",
       "      <td>https://baomoi.com/nhan-dinh-dt-nu-viet-nam-dt...</td>\n",
       "      <td>Theo lịch thi đấu bóng đá SEA Games 32 hôm nay...</td>\n",
       "      <td>Thể thao</td>\n",
       "    </tr>\n",
       "    <tr>\n",
       "      <th>5</th>\n",
       "      <td>5</td>\n",
       "      <td>https://baomoi.com/tuyen-vat-viet-nam-choi-xua...</td>\n",
       "      <td>Đô vật Trần Ánh Tuyết có tấm HCV tại SEA Games...</td>\n",
       "      <td>Thể thao</td>\n",
       "    </tr>\n",
       "    <tr>\n",
       "      <th>...</th>\n",
       "      <td>...</td>\n",
       "      <td>...</td>\n",
       "      <td>...</td>\n",
       "      <td>...</td>\n",
       "    </tr>\n",
       "    <tr>\n",
       "      <th>2258</th>\n",
       "      <td>2258</td>\n",
       "      <td>https://baomoi.com/dai-hoc-su-pham-ha-noi-cong...</td>\n",
       "      <td>Sau khi kỳ thi đánh giá năng lực kết thúc, Trư...</td>\n",
       "      <td>Giáo dục</td>\n",
       "    </tr>\n",
       "    <tr>\n",
       "      <th>2260</th>\n",
       "      <td>2260</td>\n",
       "      <td>https://baomoi.com/cong-tac-giao-duc-chinh-tri...</td>\n",
       "      <td>Thiếu tướng Hoàng Văn Sỹ, Phó bí thư Đảng ủy, ...</td>\n",
       "      <td>Giáo dục</td>\n",
       "    </tr>\n",
       "    <tr>\n",
       "      <th>2264</th>\n",
       "      <td>2264</td>\n",
       "      <td>https://baomoi.com/lap-khoang-trong-thiet-bi-d...</td>\n",
       "      <td>Thiết bị dạy học Chương trình mới lớp 6 tại Tr...</td>\n",
       "      <td>Giáo dục</td>\n",
       "    </tr>\n",
       "    <tr>\n",
       "      <th>2266</th>\n",
       "      <td>2266</td>\n",
       "      <td>https://baomoi.com/giao-vien-my-bi-dieu-tra-vi...</td>\n",
       "      <td>Vụ việc xảy ra tại trường Trung học Lyndon B....</td>\n",
       "      <td>Giáo dục</td>\n",
       "    </tr>\n",
       "    <tr>\n",
       "      <th>2267</th>\n",
       "      <td>2267</td>\n",
       "      <td>https://baomoi.com/truong-tieu-hoc-ban-tru-a-l...</td>\n",
       "      <td>Trường Tiểu học Bán trú \"A\" Long Thạnh biểu di...</td>\n",
       "      <td>Giáo dục</td>\n",
       "    </tr>\n",
       "  </tbody>\n",
       "</table>\n",
       "<p>3063 rows × 4 columns</p>\n",
       "</div>"
      ],
      "text/plain": [
       "      Unnamed: 0                                               Link  \\\n",
       "0              0  https://baomoi.com/chung-ket-bong-da-nu-viet-n...   \n",
       "1              1  https://baomoi.com/sea-games-32-ngay-13-5-doan...   \n",
       "3              3  https://baomoi.com/huan-luyen-vien-mai-duc-chu...   \n",
       "4              4  https://baomoi.com/nhan-dinh-dt-nu-viet-nam-dt...   \n",
       "5              5  https://baomoi.com/tuyen-vat-viet-nam-choi-xua...   \n",
       "...          ...                                                ...   \n",
       "2258        2258  https://baomoi.com/dai-hoc-su-pham-ha-noi-cong...   \n",
       "2260        2260  https://baomoi.com/cong-tac-giao-duc-chinh-tri...   \n",
       "2264        2264  https://baomoi.com/lap-khoang-trong-thiet-bi-d...   \n",
       "2266        2266  https://baomoi.com/giao-vien-my-bi-dieu-tra-vi...   \n",
       "2267        2267  https://baomoi.com/truong-tieu-hoc-ban-tru-a-l...   \n",
       "\n",
       "                                                Content     Label  \n",
       "0     Tại đấu trường SEA Games, đội tuyển nữ Việt Na...  Thể thao  \n",
       "1     5 vận động viên giành 3 tấm HCV của Đội tuyển ...  Thể thao  \n",
       "3     Huấn luyện viên Mai Đức Chung chia sẻ cảm xúc,...  Thể thao  \n",
       "4     Theo lịch thi đấu bóng đá SEA Games 32 hôm nay...  Thể thao  \n",
       "5     Đô vật Trần Ánh Tuyết có tấm HCV tại SEA Games...  Thể thao  \n",
       "...                                                 ...       ...  \n",
       "2258  Sau khi kỳ thi đánh giá năng lực kết thúc, Trư...  Giáo dục  \n",
       "2260  Thiếu tướng Hoàng Văn Sỹ, Phó bí thư Đảng ủy, ...  Giáo dục  \n",
       "2264  Thiết bị dạy học Chương trình mới lớp 6 tại Tr...  Giáo dục  \n",
       "2266   Vụ việc xảy ra tại trường Trung học Lyndon B....  Giáo dục  \n",
       "2267  Trường Tiểu học Bán trú \"A\" Long Thạnh biểu di...  Giáo dục  \n",
       "\n",
       "[3063 rows x 4 columns]"
      ]
     },
     "execution_count": 76,
     "metadata": {},
     "output_type": "execute_result"
    }
   ],
   "source": [
    "data"
   ]
  },
  {
   "cell_type": "code",
   "execution_count": 77,
   "metadata": {},
   "outputs": [
    {
     "name": "stdout",
     "output_type": "stream",
     "text": [
      "<class 'pandas.core.frame.DataFrame'>\n",
      "Int64Index: 3063 entries, 0 to 2267\n",
      "Data columns (total 4 columns):\n",
      " #   Column      Non-Null Count  Dtype \n",
      "---  ------      --------------  ----- \n",
      " 0   Unnamed: 0  3063 non-null   int64 \n",
      " 1   Link        3063 non-null   object\n",
      " 2   Content     3063 non-null   object\n",
      " 3   Label       3063 non-null   object\n",
      "dtypes: int64(1), object(3)\n",
      "memory usage: 119.6+ KB\n"
     ]
    }
   ],
   "source": [
    "data.info()"
   ]
  },
  {
   "cell_type": "code",
   "execution_count": 78,
   "metadata": {},
   "outputs": [
    {
     "data": {
      "text/plain": [
       "Thể thao     1576\n",
       "Giáo dục     1470\n",
       "Thế giới        9\n",
       "Pháp luật       2\n",
       "Kinh tế         2\n",
       "Công nghệ       2\n",
       "Đời sống        1\n",
       "Xã hội          1\n",
       "Name: Label, dtype: int64"
      ]
     },
     "execution_count": 78,
     "metadata": {},
     "output_type": "execute_result"
    }
   ],
   "source": [
    "data[\"Label\"].value_counts()"
   ]
  },
  {
   "cell_type": "code",
   "execution_count": 79,
   "metadata": {},
   "outputs": [],
   "source": [
    "label1 = [\"Kinh tế\", 'Pháp luật', 'Thể thao', 'Giải trí', 'Giáo dục', \"Sức khoẻ\"]\n",
    "label2 = ['kinhte', 'giaitri', 'giaoduc', 'phapluat', 'thethao', 'suckhoe']"
   ]
  },
  {
   "cell_type": "code",
   "execution_count": 80,
   "metadata": {},
   "outputs": [],
   "source": [
    "data = data[data[\"Label\"].isin(label1)]"
   ]
  },
  {
   "cell_type": "code",
   "execution_count": 81,
   "metadata": {},
   "outputs": [],
   "source": [
    "dic_label1 = {\"Kinh tế\": \"business\", 'Pháp luật': \"politics\", 'Thể thao': \"sport\", \"Giải trí\": \"entertainment\", \"Giáo dục\":'education'}\n",
    "dic_label2 = {'kinhte':'business', 'giaitri':'entertainment', 'giaoduc':'education', 'phapluat':'politics', 'thethao':'sport', 'suckhoe':'health'}\n",
    "def change_name_label(x):\n",
    "  return dic_label1[x] "
   ]
  },
  {
   "cell_type": "code",
   "execution_count": 82,
   "metadata": {},
   "outputs": [
    {
     "name": "stderr",
     "output_type": "stream",
     "text": [
      "/var/folders/3p/99_58tl56kzdbsb1dw6qrs3m0000gn/T/ipykernel_87567/4028833633.py:1: SettingWithCopyWarning: \n",
      "A value is trying to be set on a copy of a slice from a DataFrame.\n",
      "Try using .loc[row_indexer,col_indexer] = value instead\n",
      "\n",
      "See the caveats in the documentation: https://pandas.pydata.org/pandas-docs/stable/user_guide/indexing.html#returning-a-view-versus-a-copy\n",
      "  data['Label'] = data[\"Label\"].apply(change_name_label)\n"
     ]
    }
   ],
   "source": [
    "data['Label'] = data[\"Label\"].apply(change_name_label)"
   ]
  },
  {
   "cell_type": "code",
   "execution_count": 83,
   "metadata": {},
   "outputs": [
    {
     "data": {
      "text/plain": [
       "sport        1576\n",
       "education    1470\n",
       "politics        2\n",
       "business        2\n",
       "Name: Label, dtype: int64"
      ]
     },
     "execution_count": 83,
     "metadata": {},
     "output_type": "execute_result"
    }
   ],
   "source": [
    "data[\"Label\"].value_counts()"
   ]
  },
  {
   "cell_type": "code",
   "execution_count": 84,
   "metadata": {},
   "outputs": [],
   "source": [
    "data.to_csv(path_to_dataset + \"merged_sport_education.csv\")"
   ]
  }
 ],
 "metadata": {
  "kernelspec": {
   "display_name": "Python 3",
   "language": "python",
   "name": "python3"
  },
  "language_info": {
   "codemirror_mode": {
    "name": "ipython",
    "version": 3
   },
   "file_extension": ".py",
   "mimetype": "text/x-python",
   "name": "python",
   "nbconvert_exporter": "python",
   "pygments_lexer": "ipython3",
   "version": "3.10.5"
  },
  "orig_nbformat": 4
 },
 "nbformat": 4,
 "nbformat_minor": 2
}
