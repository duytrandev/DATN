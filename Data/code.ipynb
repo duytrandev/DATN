{
 "cells": [
  {
   "cell_type": "code",
   "execution_count": 1,
   "metadata": {},
   "outputs": [],
   "source": [
    "import os\n",
    "import pandas as pd"
   ]
  },
  {
   "cell_type": "code",
   "execution_count": 2,
   "metadata": {},
   "outputs": [
    {
     "data": {
      "text/plain": [
       "['../Data/Dataset/baomoi/data_v7.csv',\n",
       " '../Data/Dataset/baomoi/data_v6.csv',\n",
       " '../Data/Dataset/baomoi/data_v4.csv',\n",
       " '../Data/Dataset/baomoi/data_v5.csv',\n",
       " '../Data/Dataset/baomoi/data_v1.csv',\n",
       " '../Data/Dataset/baomoi/data_v2.csv',\n",
       " '../Data/Dataset/baomoi/data_v3.csv',\n",
       " '../Data/Dataset/baomoi/data_v8.csv',\n",
       " '../Data/Dataset/baomoi/data_v9.csv',\n",
       " '../Data/Dataset/baomoi/data_v10.csv']"
      ]
     },
     "execution_count": 2,
     "metadata": {},
     "output_type": "execute_result"
    }
   ],
   "source": [
    "path_to_dataset = \"../Data/Dataset/baomoi/\"\n",
    "list_csv = [path_to_dataset + file for file in os.listdir(path_to_dataset) if (file[-4:] == \".csv\")]\n",
    "list_csv"
   ]
  },
  {
   "cell_type": "code",
   "execution_count": 3,
   "metadata": {},
   "outputs": [],
   "source": [
    "data = pd.read_csv(list_csv[0])\n",
    "for csv in list_csv:\n",
    "  df = pd.read_csv(csv)\n",
    "  data = pd.concat([df, data], axis=0)"
   ]
  },
  {
   "cell_type": "code",
   "execution_count": 5,
   "metadata": {},
   "outputs": [],
   "source": [
    "# data = data.rename(columns={\"Contents\": \"Content\", \"Labels\": \"Label\"})\n",
    "data = data.dropna(subset=[\"Content\"])\n",
    "data = data.drop_duplicates(subset=[\"Content\"])"
   ]
  },
  {
   "cell_type": "code",
   "execution_count": 6,
   "metadata": {},
   "outputs": [
    {
     "name": "stdout",
     "output_type": "stream",
     "text": [
      "<class 'pandas.core.frame.DataFrame'>\n",
      "Int64Index: 8415 entries, 0 to 1050\n",
      "Data columns (total 5 columns):\n",
      " #   Column      Non-Null Count  Dtype  \n",
      "---  ------      --------------  -----  \n",
      " 0   Unnamed: 0  8415 non-null   int64  \n",
      " 1   Link        8415 non-null   object \n",
      " 2   Content     8415 non-null   object \n",
      " 3   Label       8415 non-null   object \n",
      " 4   cc          0 non-null      float64\n",
      "dtypes: float64(1), int64(1), object(3)\n",
      "memory usage: 394.5+ KB\n"
     ]
    }
   ],
   "source": [
    "data.info()"
   ]
  },
  {
   "cell_type": "code",
   "execution_count": 8,
   "metadata": {},
   "outputs": [
    {
     "data": {
      "text/plain": [
       "Kinh tế      1179\n",
       "Xã hội       1073\n",
       "Pháp luật     999\n",
       "Thế giới      786\n",
       "Đời sống      777\n",
       "Giải trí      703\n",
       "Thể thao      699\n",
       "Nhà đất       569\n",
       "Văn hóa       561\n",
       "Giáo dục      292\n",
       "Công nghệ     277\n",
       "Khoa học      254\n",
       "Xe cộ         246\n",
       "Name: Label, dtype: int64"
      ]
     },
     "execution_count": 8,
     "metadata": {},
     "output_type": "execute_result"
    }
   ],
   "source": [
    "data[\"Label\"].value_counts()"
   ]
  },
  {
   "cell_type": "code",
   "execution_count": 10,
   "metadata": {},
   "outputs": [],
   "source": [
    "data = data[data[\"Label\"].isin([\"Kinh tế\", 'Pháp luật', 'Thể thao', 'Giải trí', 'Giáo dục'])]"
   ]
  },
  {
   "cell_type": "code",
   "execution_count": 16,
   "metadata": {},
   "outputs": [],
   "source": [
    "dic_label = {\"Kinh tế\": \"business\", 'Pháp luật': \"politics\", 'Thể thao': \"sport\", \"Giải trí\": \"entertainment\", \"Giáo dục\": 'education'}\n",
    "def change_name_label(x):\n",
    "  return dic_label[x] "
   ]
  },
  {
   "cell_type": "code",
   "execution_count": 17,
   "metadata": {},
   "outputs": [],
   "source": [
    "data[\"Label\"] = data[\"Label\"].apply(change_name_label)"
   ]
  },
  {
   "cell_type": "code",
   "execution_count": 19,
   "metadata": {},
   "outputs": [],
   "source": [
    "data.to_csv(\"../Data/Dataset/baomoi/merged_v1.csv\")"
   ]
  },
  {
   "cell_type": "code",
   "execution_count": 18,
   "metadata": {},
   "outputs": [
    {
     "data": {
      "text/html": [
       "<div>\n",
       "<style scoped>\n",
       "    .dataframe tbody tr th:only-of-type {\n",
       "        vertical-align: middle;\n",
       "    }\n",
       "\n",
       "    .dataframe tbody tr th {\n",
       "        vertical-align: top;\n",
       "    }\n",
       "\n",
       "    .dataframe thead th {\n",
       "        text-align: right;\n",
       "    }\n",
       "</style>\n",
       "<table border=\"1\" class=\"dataframe\">\n",
       "  <thead>\n",
       "    <tr style=\"text-align: right;\">\n",
       "      <th></th>\n",
       "      <th>Unnamed: 0</th>\n",
       "      <th>Link</th>\n",
       "      <th>Content</th>\n",
       "      <th>Label</th>\n",
       "      <th>cc</th>\n",
       "    </tr>\n",
       "  </thead>\n",
       "  <tbody>\n",
       "    <tr>\n",
       "      <th>0</th>\n",
       "      <td>0</td>\n",
       "      <td>https://baomoi.com/sau-20-nam-lam-nghe-lee-min...</td>\n",
       "      <td>Mặc dù đã có 20 năm hoạt động trong làng giải ...</td>\n",
       "      <td>entertainment</td>\n",
       "      <td>NaN</td>\n",
       "    </tr>\n",
       "    <tr>\n",
       "      <th>1</th>\n",
       "      <td>1</td>\n",
       "      <td>https://baomoi.com/chan-dung-nam-than-dj-wukon...</td>\n",
       "      <td>DJ Wukong đảm nhận vai trò hỗ trợ thí sinh cũn...</td>\n",
       "      <td>entertainment</td>\n",
       "      <td>NaN</td>\n",
       "    </tr>\n",
       "    <tr>\n",
       "      <th>3</th>\n",
       "      <td>3</td>\n",
       "      <td>https://baomoi.com/luu-y-cac-moc-quan-trong-ti...</td>\n",
       "      <td>Thí sinh tham dự ngày hội tư vấn xét tuyển năm...</td>\n",
       "      <td>education</td>\n",
       "      <td>NaN</td>\n",
       "    </tr>\n",
       "    <tr>\n",
       "      <th>4</th>\n",
       "      <td>4</td>\n",
       "      <td>https://baomoi.com/hai-nguoi-dan-ong-bat-ran-h...</td>\n",
       "      <td>Clip, Bắt rắn trong xe ô tô Theo Zing new</td>\n",
       "      <td>politics</td>\n",
       "      <td>NaN</td>\n",
       "    </tr>\n",
       "    <tr>\n",
       "      <th>5</th>\n",
       "      <td>5</td>\n",
       "      <td>https://baomoi.com/gia-vang-hom-nay-15-5-bat-t...</td>\n",
       "      <td>Thời điểm 8h45 sáng nay ngày 15/5 theo giờ Việ...</td>\n",
       "      <td>business</td>\n",
       "      <td>NaN</td>\n",
       "    </tr>\n",
       "    <tr>\n",
       "      <th>...</th>\n",
       "      <td>...</td>\n",
       "      <td>...</td>\n",
       "      <td>...</td>\n",
       "      <td>...</td>\n",
       "      <td>...</td>\n",
       "    </tr>\n",
       "    <tr>\n",
       "      <th>1045</th>\n",
       "      <td>1045</td>\n",
       "      <td>https://baomoi.com/chiec-vay-ngan-khien-giai-q...</td>\n",
       "      <td>Ban tổ chức Madrid Open bị chỉ trích vì trang...</td>\n",
       "      <td>sport</td>\n",
       "      <td>NaN</td>\n",
       "    </tr>\n",
       "    <tr>\n",
       "      <th>1046</th>\n",
       "      <td>1046</td>\n",
       "      <td>https://baomoi.com/tand-cap-cao-tai-tp-hcm-co-...</td>\n",
       "      <td>Ngày 10-5, TAND Cấp cao tại TP.HCM đã tổ chức ...</td>\n",
       "      <td>politics</td>\n",
       "      <td>NaN</td>\n",
       "    </tr>\n",
       "    <tr>\n",
       "      <th>1047</th>\n",
       "      <td>1047</td>\n",
       "      <td>https://baomoi.com/bai-cuoi-yeu-cau-xu-ly-ngay...</td>\n",
       "      <td>Đến tận ngõ, gõ tận cửa Những năm qua, hoạt độ...</td>\n",
       "      <td>politics</td>\n",
       "      <td>NaN</td>\n",
       "    </tr>\n",
       "    <tr>\n",
       "      <th>1049</th>\n",
       "      <td>1049</td>\n",
       "      <td>https://baomoi.com/doanh-nghiep-viet-co-the-ma...</td>\n",
       "      <td>Nhiều doanh nghiệp vẫn đang khó khăn Theo phân...</td>\n",
       "      <td>business</td>\n",
       "      <td>NaN</td>\n",
       "    </tr>\n",
       "    <tr>\n",
       "      <th>1050</th>\n",
       "      <td>1050</td>\n",
       "      <td>https://baomoi.com/nhung-loi-tri-an-danh-cho-h...</td>\n",
       "      <td>Sergio Busquets tuyên bố vào thứ Tư rằng anh s...</td>\n",
       "      <td>sport</td>\n",
       "      <td>NaN</td>\n",
       "    </tr>\n",
       "  </tbody>\n",
       "</table>\n",
       "<p>3872 rows × 5 columns</p>\n",
       "</div>"
      ],
      "text/plain": [
       "      Unnamed: 0                                               Link  \\\n",
       "0              0  https://baomoi.com/sau-20-nam-lam-nghe-lee-min...   \n",
       "1              1  https://baomoi.com/chan-dung-nam-than-dj-wukon...   \n",
       "3              3  https://baomoi.com/luu-y-cac-moc-quan-trong-ti...   \n",
       "4              4  https://baomoi.com/hai-nguoi-dan-ong-bat-ran-h...   \n",
       "5              5  https://baomoi.com/gia-vang-hom-nay-15-5-bat-t...   \n",
       "...          ...                                                ...   \n",
       "1045        1045  https://baomoi.com/chiec-vay-ngan-khien-giai-q...   \n",
       "1046        1046  https://baomoi.com/tand-cap-cao-tai-tp-hcm-co-...   \n",
       "1047        1047  https://baomoi.com/bai-cuoi-yeu-cau-xu-ly-ngay...   \n",
       "1049        1049  https://baomoi.com/doanh-nghiep-viet-co-the-ma...   \n",
       "1050        1050  https://baomoi.com/nhung-loi-tri-an-danh-cho-h...   \n",
       "\n",
       "                                                Content          Label  cc  \n",
       "0     Mặc dù đã có 20 năm hoạt động trong làng giải ...  entertainment NaN  \n",
       "1     DJ Wukong đảm nhận vai trò hỗ trợ thí sinh cũn...  entertainment NaN  \n",
       "3     Thí sinh tham dự ngày hội tư vấn xét tuyển năm...      education NaN  \n",
       "4             Clip, Bắt rắn trong xe ô tô Theo Zing new       politics NaN  \n",
       "5     Thời điểm 8h45 sáng nay ngày 15/5 theo giờ Việ...       business NaN  \n",
       "...                                                 ...            ...  ..  \n",
       "1045   Ban tổ chức Madrid Open bị chỉ trích vì trang...          sport NaN  \n",
       "1046  Ngày 10-5, TAND Cấp cao tại TP.HCM đã tổ chức ...       politics NaN  \n",
       "1047  Đến tận ngõ, gõ tận cửa Những năm qua, hoạt độ...       politics NaN  \n",
       "1049  Nhiều doanh nghiệp vẫn đang khó khăn Theo phân...       business NaN  \n",
       "1050  Sergio Busquets tuyên bố vào thứ Tư rằng anh s...          sport NaN  \n",
       "\n",
       "[3872 rows x 5 columns]"
      ]
     },
     "execution_count": 18,
     "metadata": {},
     "output_type": "execute_result"
    }
   ],
   "source": [
    "data"
   ]
  }
 ],
 "metadata": {
  "kernelspec": {
   "display_name": "Python 3",
   "language": "python",
   "name": "python3"
  },
  "language_info": {
   "codemirror_mode": {
    "name": "ipython",
    "version": 3
   },
   "file_extension": ".py",
   "mimetype": "text/x-python",
   "name": "python",
   "nbconvert_exporter": "python",
   "pygments_lexer": "ipython3",
   "version": "3.10.5"
  },
  "orig_nbformat": 4
 },
 "nbformat": 4,
 "nbformat_minor": 2
}
