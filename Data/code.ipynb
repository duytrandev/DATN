{
 "cells": [
  {
   "cell_type": "code",
   "execution_count": 60,
   "metadata": {},
   "outputs": [],
   "source": [
    "from gensim.models import KeyedVectors\n",
    "\n",
    "model = KeyedVectors.load_word2vec_format('baomoi.window2.vn.model.bin.gz', binary=True)\n"
   ]
  },
  {
   "cell_type": "code",
   "execution_count": 61,
   "metadata": {},
   "outputs": [
    {
     "name": "stdout",
     "output_type": "stream",
     "text": [
      "439056 439056\n"
     ]
    }
   ],
   "source": [
    "vocabs = list(model.key_to_index)\n",
    "vects = list(model.vectors)\n",
    "# Print the first 10 words in the vocabulary\n",
    "print(len(vocabs), len(vects))"
   ]
  },
  {
   "cell_type": "code",
   "execution_count": 59,
   "metadata": {},
   "outputs": [],
   "source": [
    "import io\n",
    "out_v = io.open(\"vecs.tsv\", \"w\", encoding=\"utf-8\")\n",
    "out_m = io.open(\"meta.tsv\", \"w\", encoding=\"utf-8\")\n",
    "for i in range(1, len(vocabs)):\n",
    "  word = vocabs[i]\n",
    "  vector = vects[i]\n",
    "  out_m.write(word + \"\\n\")\n",
    "  out_v.write(\"\\t\".join([str(x) for x in vector]) + \"\\n\")\n",
    "out_m.close()\n",
    "out_v.close()"
   ]
  },
  {
   "cell_type": "code",
   "execution_count": 8,
   "metadata": {},
   "outputs": [],
   "source": [
    "import os\n",
    "import pandas as pd"
   ]
  },
  {
   "cell_type": "code",
   "execution_count": 18,
   "metadata": {},
   "outputs": [
    {
     "data": {
      "text/plain": [
       "['../Data/dataset/vietnamnet/data_v1_entertainment.csv',\n",
       " '../Data/dataset/vietnamnet/data_v1_sport.csv',\n",
       " '../Data/dataset/vietnamnet/data_v1_business.csv',\n",
       " '../Data/dataset/vietnamnet/data_v1_politics.csv',\n",
       " '../Data/dataset/vietnamnet/data_v1_health.csv',\n",
       " '../Data/dataset/vietnamnet/data_v1_education.csv']"
      ]
     },
     "execution_count": 18,
     "metadata": {},
     "output_type": "execute_result"
    }
   ],
   "source": [
    "path_to_dataset = \"../Data/Dataset/vietnamnet/\"\n",
    "list_csv = [path_to_dataset + file for file in os.listdir(path_to_dataset) if file[-4:] == \".csv\"]\n",
    "list_csv"
   ]
  },
  {
   "cell_type": "code",
   "execution_count": null,
   "metadata": {},
   "outputs": [],
   "source": [
    "data = pd.concat(pd.read_csv(list_csv), axis=0)"
   ]
  },
  {
   "cell_type": "code",
   "execution_count": 26,
   "metadata": {},
   "outputs": [],
   "source": [
    "data = pd.DataFrame()\n",
    "for csv in list_csv:\n",
    "  df = pd.read_csv(csv)\n",
    "  data = pd.concat([df, data], axis=0)"
   ]
  },
  {
   "cell_type": "code",
   "execution_count": 47,
   "metadata": {},
   "outputs": [],
   "source": [
    "data.to_csv(\"../Data/dataset/vietnamnet/vietnamnet_merged_v1.csv\")"
   ]
  }
 ],
 "metadata": {
  "kernelspec": {
   "display_name": "Python 3",
   "language": "python",
   "name": "python3"
  },
  "language_info": {
   "codemirror_mode": {
    "name": "ipython",
    "version": 3
   },
   "file_extension": ".py",
   "mimetype": "text/x-python",
   "name": "python",
   "nbconvert_exporter": "python",
   "pygments_lexer": "ipython3",
   "version": "3.10.5"
  },
  "orig_nbformat": 4
 },
 "nbformat": 4,
 "nbformat_minor": 2
}
