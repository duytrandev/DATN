{
 "cells": [
  {
   "cell_type": "code",
   "execution_count": 14,
   "metadata": {},
   "outputs": [],
   "source": [
    "import os\n",
    "import pandas as pd"
   ]
  },
  {
   "cell_type": "code",
   "execution_count": 34,
   "metadata": {},
   "outputs": [],
   "source": [
    "v2 = pd.read_csv('cleaned_v2.csv')"
   ]
  },
  {
   "cell_type": "code",
   "execution_count": 35,
   "metadata": {},
   "outputs": [],
   "source": [
    "v4 = pd.read_csv('cleaned_v4.csv')"
   ]
  },
  {
   "cell_type": "code",
   "execution_count": 28,
   "metadata": {},
   "outputs": [
    {
     "data": {
      "text/plain": [
       "(Kinh te      3940\n",
       " Giai tri     3238\n",
       " Suc khoe     3126\n",
       " Chinh tri    2696\n",
       " Giao duc     2514\n",
       " The thao     2294\n",
       " Khoa hoc     1940\n",
       " Van hoa      1456\n",
       " Phap luat     983\n",
       " Name: Label, dtype: int64,\n",
       " Chinh tri    1754\n",
       " Giao duc     1713\n",
       " Khoa hoc     1622\n",
       " Suc khoe     1600\n",
       " Giai tri     1550\n",
       " Kinh te      1500\n",
       " Phap luat    1405\n",
       " The thao     1300\n",
       " Van hoa      1198\n",
       " Name: Label, dtype: int64)"
      ]
     },
     "execution_count": 28,
     "metadata": {},
     "output_type": "execute_result"
    }
   ],
   "source": [
    "v2, v4"
   ]
  },
  {
   "cell_type": "code",
   "execution_count": 36,
   "metadata": {},
   "outputs": [],
   "source": [
    "v24 = pd.concat([v2, v4]).drop_duplicates(subset=['Link'])"
   ]
  },
  {
   "cell_type": "code",
   "execution_count": 38,
   "metadata": {},
   "outputs": [
    {
     "data": {
      "text/plain": [
       "Kinh te      3940\n",
       "Giai tri     3238\n",
       "Suc khoe     3126\n",
       "Chinh tri    2696\n",
       "Giao duc     2514\n",
       "The thao     2294\n",
       "Khoa hoc     1940\n",
       "Phap luat    1527\n",
       "Van hoa      1456\n",
       "Name: Label, dtype: int64"
      ]
     },
     "execution_count": 38,
     "metadata": {},
     "output_type": "execute_result"
    }
   ],
   "source": [
    "v24['Label'].value_counts()"
   ]
  },
  {
   "cell_type": "code",
   "execution_count": 39,
   "metadata": {},
   "outputs": [],
   "source": [
    "v24.to_csv('cleaned_v2.csv')"
   ]
  },
  {
   "cell_type": "code",
   "execution_count": 70,
   "metadata": {},
   "outputs": [
    {
     "data": {
      "text/plain": [
       "['../baomoi/data/baomoi_giaoduc.csv', '../baomoi/data/baomoi_thethao.csv']"
      ]
     },
     "execution_count": 70,
     "metadata": {},
     "output_type": "execute_result"
    }
   ],
   "source": [
    "path_to_dataset = \"../baomoi/data/\"\n",
    "list_csv = [path_to_dataset + file for file in os.listdir(path_to_dataset) if (file[-4:] == \".csv\" and file[:4] == \"baom\")]\n",
    "list_csv"
   ]
  },
  {
   "cell_type": "code",
   "execution_count": 8,
   "metadata": {},
   "outputs": [],
   "source": [
    "a = pd.read_csv(\"merged.csv\")"
   ]
  },
  {
   "cell_type": "code",
   "execution_count": 9,
   "metadata": {},
   "outputs": [
    {
     "data": {
      "text/plain": [
       "business         4505\n",
       "politics         4179\n",
       "entertainment    3962\n",
       "health           3665\n",
       "education        3425\n",
       "sport            2951\n",
       "Name: Label, dtype: int64"
      ]
     },
     "execution_count": 9,
     "metadata": {},
     "output_type": "execute_result"
    }
   ],
   "source": [
    "a['Label'].value_counts()"
   ]
  },
  {
   "cell_type": "code",
   "execution_count": 10,
   "metadata": {},
   "outputs": [
    {
     "data": {
      "text/plain": [
       "education        4539\n",
       "business         4383\n",
       "sport            4218\n",
       "entertainment    3865\n",
       "politics         3794\n",
       "health           3597\n",
       "Name: Label, dtype: int64"
      ]
     },
     "execution_count": 10,
     "metadata": {},
     "output_type": "execute_result"
    }
   ],
   "source": [
    "b = pd.read_csv(\"cleaned_v1.csv\")\n",
    "b['Label'].value_counts()"
   ]
  },
  {
   "cell_type": "code",
   "execution_count": 13,
   "metadata": {},
   "outputs": [
    {
     "data": {
      "text/plain": [
       "'thất_bại u22 indonesia bán_kết sea_games thu_hút quan_tâm truyền_thông mà gây tốn giấy mực một_số trang báo trung_quốc vai_trò hlv troussier bình_luận trận_đấu trang dongqiudi rằng lý_do quan_trọng dẫn tới thất_bại u22 nằm vai_trò băng ghế chỉ_đạo hlv troussier đồng_thời u22 duy_trì bản_sắc tạo nên sức_mạnh dưới thời hlv tiền_nhiệm park_hangseo trận bán_kết môn bóng_đá nam sea games u22 dưới dẫn_dắt hlv troussier indonesia đánh_bại phút cuối dù chơi lần đầu_tiên kể bóng_đá trỗi dậy họ bỏ lỡ chung_kết giải_đấu đông_nam đối_mặt thất_bại vậy hlv troussier tỏ khá bất_lực rằng bàn thua thiếu may_mắn hàng thủ thô_bạo cầu_thủ indonesia gián_đoạn nhịp_đấu u22 tuy_nhiên thất_bại phần nguyên_nhân nằm vai_trò chỉ_đạo chiến_thuật hlv troussier lối đá quyết_liệt indonesia hlv troussier vẫn chưa điều_chỉnh hiệu_quả khả_năng thích_ứng tại_chỗ vậy quả_thực chưa tốt bình_luận u22 trang báo trung_quốc nhắc tới hlv park hangseo đồng_thời u22 hiện_tại đánh mất bản_sắc làm_nên sức_mạnh dưới thời hlv park_hangseo tính kỷ_luật phòng_thủ chặt_chẽ phản_công_hiệu_quả may_mắn hlv park_hangseo dẫn_dắt đội_tuyển nếu đội_tuyển trung_quốc gặp khó_khăn lớn đối_mặt họ dongqiudi bình_luận u22 suy_yếu mà indonesia phát_triển quá nhanh khác dongqiudi thì trang com trung_quốc đưa bình_luận quan_điểm bất_ngờ rằng u22 thua vì đội bóng sa_sút mà vì u22 indonesia tiến_bộ quá nhanh trang bình_luận trình_độ bóng_đá sa_sút mà bóng_đá indonesia phát_triển nhanh dù bóng_đá indonesia chưa hoàn_toàn vượt vẫn thế_lực không_thể xem_thường bóng_đá vượt thái_lan gần trở_thành đội bóng thứ hạng đông_nam tuy_nhiên bóng_đá vẫn cần phát_triển nữa nếu muốn bá_chủ đông_nam lấy indonesia ví_dụ bóng_đá bước giai_đoạn tăng_trưởng chóng_mặt bóng_đá bước giai_đoạn chững trước_sự trưởng_thành đội bóng đông_nam thì bóng_đá trung_quốc thật_sự sa_sút bây_giờ đội_tuyển trung_quốc chiến_đấu hết_mình nếu đụng_độ thái_lan hay thậm_chí cả rằng u22 thất_bại vì đội sa_sút mà bởi u22 indonesia tiến_bộ quá nhanh khá phương_tiện truyền_thông thái_lan malaysia hay indonesia bình_luận trận bán_kết u22 việt_nam_đa_phần ý_kiến bình_luận đều rằng u22 indonesia thi_đấu tốt so u22 họ chung_kết kết_quả xứng_đáng tiểu_lâm_mộc'"
      ]
     },
     "execution_count": 13,
     "metadata": {},
     "output_type": "execute_result"
    }
   ],
   "source": [
    "b.Content_cleaned_v2.iloc[1000]"
   ]
  },
  {
   "cell_type": "code",
   "execution_count": 9,
   "metadata": {},
   "outputs": [],
   "source": [
    "kt = a[a[\"Label\"] == \"Kinh te\"].sample(1500)"
   ]
  },
  {
   "cell_type": "code",
   "execution_count": 25,
   "metadata": {},
   "outputs": [],
   "source": [
    "a = a[~a[\"Label\"].isin(['Kinh te', 'Suc khoe', 'Giai tri', 'The thao'])]"
   ]
  },
  {
   "cell_type": "code",
   "execution_count": 27,
   "metadata": {},
   "outputs": [],
   "source": [
    "a = pd.concat([a, kt, sk, gt, tt])"
   ]
  },
  {
   "cell_type": "code",
   "execution_count": 29,
   "metadata": {},
   "outputs": [],
   "source": [
    "a = a.dropna(subset=[\"Label\"])"
   ]
  },
  {
   "cell_type": "code",
   "execution_count": 30,
   "metadata": {},
   "outputs": [
    {
     "data": {
      "text/html": [
       "<div>\n",
       "<style scoped>\n",
       "    .dataframe tbody tr th:only-of-type {\n",
       "        vertical-align: middle;\n",
       "    }\n",
       "\n",
       "    .dataframe tbody tr th {\n",
       "        vertical-align: top;\n",
       "    }\n",
       "\n",
       "    .dataframe thead th {\n",
       "        text-align: right;\n",
       "    }\n",
       "</style>\n",
       "<table border=\"1\" class=\"dataframe\">\n",
       "  <thead>\n",
       "    <tr style=\"text-align: right;\">\n",
       "      <th></th>\n",
       "      <th>Unnamed: 0.1</th>\n",
       "      <th>Unnamed: 0</th>\n",
       "      <th>Link</th>\n",
       "      <th>Content</th>\n",
       "      <th>Content_cleaned_v1</th>\n",
       "      <th>Length_cleaned_v1</th>\n",
       "      <th>Content_cleaned_v2</th>\n",
       "      <th>Length_cleaned_v2</th>\n",
       "      <th>Label</th>\n",
       "      <th>cc</th>\n",
       "    </tr>\n",
       "  </thead>\n",
       "  <tbody>\n",
       "    <tr>\n",
       "      <th>5285</th>\n",
       "      <td>5285.0</td>\n",
       "      <td>6234.0</td>\n",
       "      <td>https://baochinhphu.vn/thong-diep-3-diem-cua-v...</td>\n",
       "      <td>Từ ngày 12-13/5/2023 tại Dhaka, Bangladesh đã ...</td>\n",
       "      <td>từ ngày tại dhaka bangladesh đã diễn ra hội_ng...</td>\n",
       "      <td>476.0</td>\n",
       "      <td>dhaka bangladesh diễn hội_nghị ấn_độ_dương ind...</td>\n",
       "      <td>304.0</td>\n",
       "      <td>Chinh tri</td>\n",
       "      <td>Từ ngày 12 - 13 / 5 / 2023 tại Dhaka , Banglad...</td>\n",
       "    </tr>\n",
       "    <tr>\n",
       "      <th>5286</th>\n",
       "      <td>5286.0</td>\n",
       "      <td>6238.0</td>\n",
       "      <td>https://baochinhphu.vn/thu-tuong-pham-minh-chi...</td>\n",
       "      <td>Cùng tham dự cuộc tiếp xúc cử tri có các đại b...</td>\n",
       "      <td>cùng tham_dự cuộc tiếp_xúc cử_tri có các đại_b...</td>\n",
       "      <td>292.0</td>\n",
       "      <td>tham_dự cuộc tiếp_xúc cử_tri đại_biểu quốc_hội...</td>\n",
       "      <td>221.0</td>\n",
       "      <td>Chinh tri</td>\n",
       "      <td>Cùng tham_dự cuộc tiếp_xúc cử_tri có các đại_b...</td>\n",
       "    </tr>\n",
       "    <tr>\n",
       "      <th>5287</th>\n",
       "      <td>5287.0</td>\n",
       "      <td>6243.0</td>\n",
       "      <td>https://baochinhphu.vn/chu-tich-nuoc-du-le-pha...</td>\n",
       "      <td>Buổi lễ được tổ chức bằng hình thức trực tiếp ...</td>\n",
       "      <td>buổi lễ được tổ_chức bằng hình_thức trực_tiếp ...</td>\n",
       "      <td>612.0</td>\n",
       "      <td>buổi lễ bằng hình_thức trực_tiếp kết_hợp trực_...</td>\n",
       "      <td>406.0</td>\n",
       "      <td>Chinh tri</td>\n",
       "      <td>Buổi lễ được tổ_chức bằng hình_thức trực_tiếp ...</td>\n",
       "    </tr>\n",
       "    <tr>\n",
       "      <th>5288</th>\n",
       "      <td>5288.0</td>\n",
       "      <td>6247.0</td>\n",
       "      <td>https://baochinhphu.vn/loi-day-cua-bac-dang-du...</td>\n",
       "      <td>Chiều 12/5, Tỉnh ủy Nam Định tổ chức Hội thảo ...</td>\n",
       "      <td>chiều tỉnh_ủy nam_định tổ_chức hội_thảo khoa_h...</td>\n",
       "      <td>529.0</td>\n",
       "      <td>chiều tỉnh_ủy nam_định hội_thảo khoa_học nam_đ...</td>\n",
       "      <td>367.0</td>\n",
       "      <td>Chinh tri</td>\n",
       "      <td>Chiều 12 / 5 , Tỉnh_ủy Nam_Định tổ_chức Hội_th...</td>\n",
       "    </tr>\n",
       "    <tr>\n",
       "      <th>5289</th>\n",
       "      <td>5289.0</td>\n",
       "      <td>6249.0</td>\n",
       "      <td>https://baochinhphu.vn/de-nghi-boeing-tich-cuc...</td>\n",
       "      <td>Tại buổi tiếp, Thủ tướng Phạm Minh Chính nhắc ...</td>\n",
       "      <td>tại buổi tiếp thủ_tướng phạm_minh_chính nhắc l...</td>\n",
       "      <td>660.0</td>\n",
       "      <td>buổi tiếp thủ_tướng phạm_minh_chính nhắc cuộc ...</td>\n",
       "      <td>410.0</td>\n",
       "      <td>Chinh tri</td>\n",
       "      <td>Tại buổi tiếp , Thủ_tướng Phạm_Minh_Chính nhắc...</td>\n",
       "    </tr>\n",
       "    <tr>\n",
       "      <th>...</th>\n",
       "      <td>...</td>\n",
       "      <td>...</td>\n",
       "      <td>...</td>\n",
       "      <td>...</td>\n",
       "      <td>...</td>\n",
       "      <td>...</td>\n",
       "      <td>...</td>\n",
       "      <td>...</td>\n",
       "      <td>...</td>\n",
       "      <td>...</td>\n",
       "    </tr>\n",
       "    <tr>\n",
       "      <th>806</th>\n",
       "      <td>806.0</td>\n",
       "      <td>875.0</td>\n",
       "      <td>https://vietnamnet.vn/tin-bong-da-5-4-mu-ky-go...</td>\n",
       "      <td>MU dẫn đầu cuộc đua Goncalo Ramos Tương lai Go...</td>\n",
       "      <td>mu dẫn_đầu cuộc đua goncalo ramos tương_lai go...</td>\n",
       "      <td>347.0</td>\n",
       "      <td>mu dẫn_đầu cuộc đua goncalo ramos tương_lai go...</td>\n",
       "      <td>230.0</td>\n",
       "      <td>The thao</td>\n",
       "      <td>MU dẫn_đầu cuộc đua Goncalo Ramos Tương_lai Go...</td>\n",
       "    </tr>\n",
       "    <tr>\n",
       "      <th>342</th>\n",
       "      <td>342.0</td>\n",
       "      <td>384.0</td>\n",
       "      <td>https://baomoi.com/ten-hag-doi-mat-voi-ac-mong...</td>\n",
       "      <td>Kỳ chuyển nhượng mùa hè 2023 đang tới rất gần ...</td>\n",
       "      <td>kỳ chuyển_nhượng mùa hè đang tới rất gần và đâ...</td>\n",
       "      <td>404.0</td>\n",
       "      <td>kỳ chuyển_nhượng mùa hè gần lúc đội bóng chuẩn...</td>\n",
       "      <td>231.0</td>\n",
       "      <td>The thao</td>\n",
       "      <td>Kỳ chuyển_nhượng mùa hè 2023 đang tới rất gần ...</td>\n",
       "    </tr>\n",
       "    <tr>\n",
       "      <th>1906</th>\n",
       "      <td>1906.0</td>\n",
       "      <td>2023.0</td>\n",
       "      <td>https://vietnamnet.vn/doi-hinh-u22-viet-nam-da...</td>\n",
       "      <td>Vì sao dùng đội hình 4-3-3 Ở Doha Cup, HLV Phi...</td>\n",
       "      <td>vì_sao dùng đội_hình doha_cup hlv philippe_tro...</td>\n",
       "      <td>375.0</td>\n",
       "      <td>vì_sao dùng đội_hình doha_cup hlv philippe_tro...</td>\n",
       "      <td>263.0</td>\n",
       "      <td>The thao</td>\n",
       "      <td>Vì_sao dùng đội_hình 4 - 3 - 3 Ở Doha_Cup , HL...</td>\n",
       "    </tr>\n",
       "    <tr>\n",
       "      <th>501</th>\n",
       "      <td>501.0</td>\n",
       "      <td>560.0</td>\n",
       "      <td>https://baomoi.com/tuong-sao-sokha-roi-ghe-chu...</td>\n",
       "      <td>Sau khi để Philippines cầm hòa đáng tiếc bằng ...</td>\n",
       "      <td>sau khi để philippines cầm hòa đáng tiếc bằng ...</td>\n",
       "      <td>402.0</td>\n",
       "      <td>philippines cầm hòa đáng tiếc bằng bàn thắng s...</td>\n",
       "      <td>267.0</td>\n",
       "      <td>The thao</td>\n",
       "      <td>Sau khi để Philippines cầm hòa đáng tiếc bằng ...</td>\n",
       "    </tr>\n",
       "    <tr>\n",
       "      <th>1194</th>\n",
       "      <td>1194.0</td>\n",
       "      <td>1278.0</td>\n",
       "      <td>https://vietnamnet.vn/vff-cau-cuu-trong-tai-ng...</td>\n",
       "      <td>Hai trọng tài Malaysia được Ban trọng tài VFF ...</td>\n",
       "      <td>hai trọng_tài malaysia được ban trọng_tài vff ...</td>\n",
       "      <td>175.0</td>\n",
       "      <td>trọng_tài malaysia ban trọng_tài vff mời điều_...</td>\n",
       "      <td>121.0</td>\n",
       "      <td>The thao</td>\n",
       "      <td>Hai trọng_tài Malaysia được Ban trọng_tài VFF ...</td>\n",
       "    </tr>\n",
       "  </tbody>\n",
       "</table>\n",
       "<p>13098 rows × 10 columns</p>\n",
       "</div>"
      ],
      "text/plain": [
       "      Unnamed: 0.1  Unnamed: 0  \\\n",
       "5285        5285.0      6234.0   \n",
       "5286        5286.0      6238.0   \n",
       "5287        5287.0      6243.0   \n",
       "5288        5288.0      6247.0   \n",
       "5289        5289.0      6249.0   \n",
       "...            ...         ...   \n",
       "806          806.0       875.0   \n",
       "342          342.0       384.0   \n",
       "1906        1906.0      2023.0   \n",
       "501          501.0       560.0   \n",
       "1194        1194.0      1278.0   \n",
       "\n",
       "                                                   Link  \\\n",
       "5285  https://baochinhphu.vn/thong-diep-3-diem-cua-v...   \n",
       "5286  https://baochinhphu.vn/thu-tuong-pham-minh-chi...   \n",
       "5287  https://baochinhphu.vn/chu-tich-nuoc-du-le-pha...   \n",
       "5288  https://baochinhphu.vn/loi-day-cua-bac-dang-du...   \n",
       "5289  https://baochinhphu.vn/de-nghi-boeing-tich-cuc...   \n",
       "...                                                 ...   \n",
       "806   https://vietnamnet.vn/tin-bong-da-5-4-mu-ky-go...   \n",
       "342   https://baomoi.com/ten-hag-doi-mat-voi-ac-mong...   \n",
       "1906  https://vietnamnet.vn/doi-hinh-u22-viet-nam-da...   \n",
       "501   https://baomoi.com/tuong-sao-sokha-roi-ghe-chu...   \n",
       "1194  https://vietnamnet.vn/vff-cau-cuu-trong-tai-ng...   \n",
       "\n",
       "                                                Content  \\\n",
       "5285  Từ ngày 12-13/5/2023 tại Dhaka, Bangladesh đã ...   \n",
       "5286  Cùng tham dự cuộc tiếp xúc cử tri có các đại b...   \n",
       "5287  Buổi lễ được tổ chức bằng hình thức trực tiếp ...   \n",
       "5288  Chiều 12/5, Tỉnh ủy Nam Định tổ chức Hội thảo ...   \n",
       "5289  Tại buổi tiếp, Thủ tướng Phạm Minh Chính nhắc ...   \n",
       "...                                                 ...   \n",
       "806   MU dẫn đầu cuộc đua Goncalo Ramos Tương lai Go...   \n",
       "342   Kỳ chuyển nhượng mùa hè 2023 đang tới rất gần ...   \n",
       "1906  Vì sao dùng đội hình 4-3-3 Ở Doha Cup, HLV Phi...   \n",
       "501   Sau khi để Philippines cầm hòa đáng tiếc bằng ...   \n",
       "1194  Hai trọng tài Malaysia được Ban trọng tài VFF ...   \n",
       "\n",
       "                                     Content_cleaned_v1  Length_cleaned_v1  \\\n",
       "5285  từ ngày tại dhaka bangladesh đã diễn ra hội_ng...              476.0   \n",
       "5286  cùng tham_dự cuộc tiếp_xúc cử_tri có các đại_b...              292.0   \n",
       "5287  buổi lễ được tổ_chức bằng hình_thức trực_tiếp ...              612.0   \n",
       "5288  chiều tỉnh_ủy nam_định tổ_chức hội_thảo khoa_h...              529.0   \n",
       "5289  tại buổi tiếp thủ_tướng phạm_minh_chính nhắc l...              660.0   \n",
       "...                                                 ...                ...   \n",
       "806   mu dẫn_đầu cuộc đua goncalo ramos tương_lai go...              347.0   \n",
       "342   kỳ chuyển_nhượng mùa hè đang tới rất gần và đâ...              404.0   \n",
       "1906  vì_sao dùng đội_hình doha_cup hlv philippe_tro...              375.0   \n",
       "501   sau khi để philippines cầm hòa đáng tiếc bằng ...              402.0   \n",
       "1194  hai trọng_tài malaysia được ban trọng_tài vff ...              175.0   \n",
       "\n",
       "                                     Content_cleaned_v2  Length_cleaned_v2  \\\n",
       "5285  dhaka bangladesh diễn hội_nghị ấn_độ_dương ind...              304.0   \n",
       "5286  tham_dự cuộc tiếp_xúc cử_tri đại_biểu quốc_hội...              221.0   \n",
       "5287  buổi lễ bằng hình_thức trực_tiếp kết_hợp trực_...              406.0   \n",
       "5288  chiều tỉnh_ủy nam_định hội_thảo khoa_học nam_đ...              367.0   \n",
       "5289  buổi tiếp thủ_tướng phạm_minh_chính nhắc cuộc ...              410.0   \n",
       "...                                                 ...                ...   \n",
       "806   mu dẫn_đầu cuộc đua goncalo ramos tương_lai go...              230.0   \n",
       "342   kỳ chuyển_nhượng mùa hè gần lúc đội bóng chuẩn...              231.0   \n",
       "1906  vì_sao dùng đội_hình doha_cup hlv philippe_tro...              263.0   \n",
       "501   philippines cầm hòa đáng tiếc bằng bàn thắng s...              267.0   \n",
       "1194  trọng_tài malaysia ban trọng_tài vff mời điều_...              121.0   \n",
       "\n",
       "          Label                                                 cc  \n",
       "5285  Chinh tri  Từ ngày 12 - 13 / 5 / 2023 tại Dhaka , Banglad...  \n",
       "5286  Chinh tri  Cùng tham_dự cuộc tiếp_xúc cử_tri có các đại_b...  \n",
       "5287  Chinh tri  Buổi lễ được tổ_chức bằng hình_thức trực_tiếp ...  \n",
       "5288  Chinh tri  Chiều 12 / 5 , Tỉnh_ủy Nam_Định tổ_chức Hội_th...  \n",
       "5289  Chinh tri  Tại buổi tiếp , Thủ_tướng Phạm_Minh_Chính nhắc...  \n",
       "...         ...                                                ...  \n",
       "806    The thao  MU dẫn_đầu cuộc đua Goncalo Ramos Tương_lai Go...  \n",
       "342    The thao  Kỳ chuyển_nhượng mùa hè 2023 đang tới rất gần ...  \n",
       "1906   The thao  Vì_sao dùng đội_hình 4 - 3 - 3 Ở Doha_Cup , HL...  \n",
       "501    The thao  Sau khi để Philippines cầm hòa đáng tiếc bằng ...  \n",
       "1194   The thao  Hai trọng_tài Malaysia được Ban trọng_tài VFF ...  \n",
       "\n",
       "[13098 rows x 10 columns]"
      ]
     },
     "execution_count": 30,
     "metadata": {},
     "output_type": "execute_result"
    }
   ],
   "source": [
    "a"
   ]
  },
  {
   "cell_type": "code",
   "execution_count": 36,
   "metadata": {},
   "outputs": [],
   "source": [
    "sk = a[a[\"Label\"] == \"Suc khoe\"].sample(1600)"
   ]
  },
  {
   "cell_type": "code",
   "execution_count": 37,
   "metadata": {},
   "outputs": [],
   "source": [
    "gt = a[a[\"Label\"] == \"Giai tri\"].sample(1550)"
   ]
  },
  {
   "cell_type": "code",
   "execution_count": 38,
   "metadata": {},
   "outputs": [],
   "source": [
    "tt = a[a[\"Label\"] == \"The thao\"].sample(1300)"
   ]
  },
  {
   "cell_type": "code",
   "execution_count": 43,
   "metadata": {},
   "outputs": [],
   "source": [
    "a[a[\"Label\"] == \"Suc khoe\"] = sk\n",
    "a[a[\"Label\"] == \"Giai tri\"] = gt"
   ]
  },
  {
   "cell_type": "code",
   "execution_count": null,
   "metadata": {},
   "outputs": [],
   "source": []
  },
  {
   "cell_type": "code",
   "execution_count": 36,
   "metadata": {},
   "outputs": [],
   "source": [
    "\n",
    "a[\"Label\"] = a[\"Label\"].replace(\"sport\", \"The thao\")"
   ]
  },
  {
   "cell_type": "code",
   "execution_count": 51,
   "metadata": {},
   "outputs": [],
   "source": [
    "c.to_csv(\"cleaned_v4.csv\")"
   ]
  },
  {
   "cell_type": "code",
   "execution_count": 20,
   "metadata": {},
   "outputs": [
    {
     "data": {
      "text/html": [
       "<div>\n",
       "<style scoped>\n",
       "    .dataframe tbody tr th:only-of-type {\n",
       "        vertical-align: middle;\n",
       "    }\n",
       "\n",
       "    .dataframe tbody tr th {\n",
       "        vertical-align: top;\n",
       "    }\n",
       "\n",
       "    .dataframe thead th {\n",
       "        text-align: right;\n",
       "    }\n",
       "</style>\n",
       "<table border=\"1\" class=\"dataframe\">\n",
       "  <thead>\n",
       "    <tr style=\"text-align: right;\">\n",
       "      <th></th>\n",
       "      <th>Unnamed: 0.1</th>\n",
       "      <th>Unnamed: 0</th>\n",
       "      <th>Link</th>\n",
       "      <th>Content</th>\n",
       "      <th>Content_cleaned_v1</th>\n",
       "      <th>Length_cleaned_v1</th>\n",
       "      <th>Content_cleaned_v2</th>\n",
       "      <th>Length_cleaned_v2</th>\n",
       "      <th>Label</th>\n",
       "      <th>cc</th>\n",
       "    </tr>\n",
       "  </thead>\n",
       "  <tbody>\n",
       "    <tr>\n",
       "      <th>0</th>\n",
       "      <td>NaN</td>\n",
       "      <td>NaN</td>\n",
       "      <td>NaN</td>\n",
       "      <td>NaN</td>\n",
       "      <td>NaN</td>\n",
       "      <td>NaN</td>\n",
       "      <td>NaN</td>\n",
       "      <td>NaN</td>\n",
       "      <td>NaN</td>\n",
       "      <td>NaN</td>\n",
       "    </tr>\n",
       "    <tr>\n",
       "      <th>1</th>\n",
       "      <td>1.0</td>\n",
       "      <td>1.0</td>\n",
       "      <td>https://baomoi.com/mu-chieu-mo-hau-ve-da-nang-...</td>\n",
       "      <td>Mohamed Simakan là một trong những cầu thủ chơ...</td>\n",
       "      <td>mohamed simakan là một trong những cầu_thủ chơ...</td>\n",
       "      <td>199.0</td>\n",
       "      <td>mohamed simakan cầu_thủ chơi tốt rb leipzig mù...</td>\n",
       "      <td>124.0</td>\n",
       "      <td>The thao</td>\n",
       "      <td>Mohamed Simakan là một trong những cầu_thủ chơ...</td>\n",
       "    </tr>\n",
       "    <tr>\n",
       "      <th>2</th>\n",
       "      <td>2.0</td>\n",
       "      <td>3.0</td>\n",
       "      <td>https://baomoi.com/sao-man-city-chon-messi-gia...</td>\n",
       "      <td>Bernardo Silva đánh giá Haaland chưa đủ khả n...</td>\n",
       "      <td>bernardo_silva đánh_giá haaland chưa đủ khả_nă...</td>\n",
       "      <td>292.0</td>\n",
       "      <td>bernardo_silva đánh_giá haaland chưa đủ khả_nă...</td>\n",
       "      <td>210.0</td>\n",
       "      <td>The thao</td>\n",
       "      <td>Bernardo_Silva đánh_giá Haaland chưa đủ khả_nă...</td>\n",
       "    </tr>\n",
       "    <tr>\n",
       "      <th>3</th>\n",
       "      <td>3.0</td>\n",
       "      <td>4.0</td>\n",
       "      <td>https://baomoi.com/sea-games-32-dau-kiem-mang-...</td>\n",
       "      <td>(Ảnh minh họa. Minh Quyết/TTXVN) Trưa 15/5, tạ...</td>\n",
       "      <td>ảnh minh_họa minh_quyết ttxvn trưa tại khu nhà...</td>\n",
       "      <td>235.0</td>\n",
       "      <td>ảnh minh_họa minh_quyết ttxvn trưa khu thi_đấu...</td>\n",
       "      <td>166.0</td>\n",
       "      <td>The thao</td>\n",
       "      <td>( Ảnh minh_họa . Minh_Quyết / TTXVN ) Trưa 15 ...</td>\n",
       "    </tr>\n",
       "    <tr>\n",
       "      <th>4</th>\n",
       "      <td>4.0</td>\n",
       "      <td>5.0</td>\n",
       "      <td>https://baomoi.com/chu-nha-campuchia-lai-nham-...</td>\n",
       "      <td>Bùi Đình Quyết giành vàng SEA Games nhưng bị n...</td>\n",
       "      <td>bùi_đình_quyết giành vàng sea_games nhưng bị n...</td>\n",
       "      <td>245.0</td>\n",
       "      <td>bùi_đình_quyết giành vàng sea_games nhầm thành...</td>\n",
       "      <td>178.0</td>\n",
       "      <td>The thao</td>\n",
       "      <td>Bùi_Đình_Quyết giành vàng SEA_Games nhưng bị n...</td>\n",
       "    </tr>\n",
       "    <tr>\n",
       "      <th>...</th>\n",
       "      <td>...</td>\n",
       "      <td>...</td>\n",
       "      <td>...</td>\n",
       "      <td>...</td>\n",
       "      <td>...</td>\n",
       "      <td>...</td>\n",
       "      <td>...</td>\n",
       "      <td>...</td>\n",
       "      <td>...</td>\n",
       "      <td>...</td>\n",
       "    </tr>\n",
       "    <tr>\n",
       "      <th>18106</th>\n",
       "      <td>18106.0</td>\n",
       "      <td>22182.0</td>\n",
       "      <td>https://laodong.vn/van-hoa/chuan-bi-san-sang-c...</td>\n",
       "      <td>Sự kiện được tổ chức bởi Sở Văn hóa - Thể thao...</td>\n",
       "      <td>sự_kiện được tổ_chức bởi sở văn_hóa thể_thao v...</td>\n",
       "      <td>593.0</td>\n",
       "      <td>sự_kiện bởi sở văn_hóa thể_thao du_lịch thái_b...</td>\n",
       "      <td>193.0</td>\n",
       "      <td>Van hoa</td>\n",
       "      <td>Sự_kiện được tổ_chức bởi Sở Văn_hóa - Thể_thao...</td>\n",
       "    </tr>\n",
       "    <tr>\n",
       "      <th>18107</th>\n",
       "      <td>18107.0</td>\n",
       "      <td>22183.0</td>\n",
       "      <td>https://laodong.vn/van-hoa/nhung-diem-ban-phao...</td>\n",
       "      <td>Ngày 19.1 (28 Tết), UBND tỉnh Bình Dương cho b...</td>\n",
       "      <td>ngày tết ubnd tỉnh bình_dương cho biết các đơn...</td>\n",
       "      <td>323.0</td>\n",
       "      <td>tết ubnd tỉnh bình_dương đơn_vị sở ngành liên_...</td>\n",
       "      <td>618.0</td>\n",
       "      <td>Van hoa</td>\n",
       "      <td>Ngày 19.1 ( 28 Tết ) , UBND tỉnh Bình_Dương ch...</td>\n",
       "    </tr>\n",
       "    <tr>\n",
       "      <th>18108</th>\n",
       "      <td>18108.0</td>\n",
       "      <td>22184.0</td>\n",
       "      <td>https://laodong.vn/van-hoa/cuoc-doi-nsut-lam-t...</td>\n",
       "      <td>Sinh ra và lớn lên trong gia đình có 4 chị em ...</td>\n",
       "      <td>sinh ra và lớn lên trong gia_đình có chị_em tạ...</td>\n",
       "      <td>621.0</td>\n",
       "      <td>sinh lớn gia_đình chị_em vùng_đất sen hồng đồn...</td>\n",
       "      <td>353.0</td>\n",
       "      <td>Van hoa</td>\n",
       "      <td>Sinh ra và lớn lên trong gia_đình có 4 chị_em ...</td>\n",
       "    </tr>\n",
       "    <tr>\n",
       "      <th>18109</th>\n",
       "      <td>18109.0</td>\n",
       "      <td>22185.0</td>\n",
       "      <td>https://laodong.vn/van-hoa-giai-tri/long-con-x...</td>\n",
       "      <td>Các ông đồ ngày nay tha hồ múa bút và cũng kiế...</td>\n",
       "      <td>các ông đồ ngày_nay tha_hồ múa bút và cũng kiế...</td>\n",
       "      <td>229.0</td>\n",
       "      <td>đồ ngày_nay tha_hồ múa bút kiếm tiền bán chữ đ...</td>\n",
       "      <td>419.0</td>\n",
       "      <td>Van hoa</td>\n",
       "      <td>Các ông đồ ngày_nay tha_hồ múa bút và cũng kiế...</td>\n",
       "    </tr>\n",
       "    <tr>\n",
       "      <th>18110</th>\n",
       "      <td>18110.0</td>\n",
       "      <td>22186.0</td>\n",
       "      <td>https://laodong.vn/van-hoa/luoc-trung-tam-suoi...</td>\n",
       "      <td>Suối nước nóng Bưng Thị nằm trong vùng lõi của...</td>\n",
       "      <td>suối nước nóng bưng_thị nằm trong vùng lõi của...</td>\n",
       "      <td>362.0</td>\n",
       "      <td>suối nóng bưng_thị nằm vùng lõi khu bảo_tồn th...</td>\n",
       "      <td>742.0</td>\n",
       "      <td>Van hoa</td>\n",
       "      <td>Suối nước nóng Bưng_Thị nằm trong vùng lõi của...</td>\n",
       "    </tr>\n",
       "  </tbody>\n",
       "</table>\n",
       "<p>18111 rows × 10 columns</p>\n",
       "</div>"
      ],
      "text/plain": [
       "       Unnamed: 0.1  Unnamed: 0  \\\n",
       "0               NaN         NaN   \n",
       "1               1.0         1.0   \n",
       "2               2.0         3.0   \n",
       "3               3.0         4.0   \n",
       "4               4.0         5.0   \n",
       "...             ...         ...   \n",
       "18106       18106.0     22182.0   \n",
       "18107       18107.0     22183.0   \n",
       "18108       18108.0     22184.0   \n",
       "18109       18109.0     22185.0   \n",
       "18110       18110.0     22186.0   \n",
       "\n",
       "                                                    Link  \\\n",
       "0                                                    NaN   \n",
       "1      https://baomoi.com/mu-chieu-mo-hau-ve-da-nang-...   \n",
       "2      https://baomoi.com/sao-man-city-chon-messi-gia...   \n",
       "3      https://baomoi.com/sea-games-32-dau-kiem-mang-...   \n",
       "4      https://baomoi.com/chu-nha-campuchia-lai-nham-...   \n",
       "...                                                  ...   \n",
       "18106  https://laodong.vn/van-hoa/chuan-bi-san-sang-c...   \n",
       "18107  https://laodong.vn/van-hoa/nhung-diem-ban-phao...   \n",
       "18108  https://laodong.vn/van-hoa/cuoc-doi-nsut-lam-t...   \n",
       "18109  https://laodong.vn/van-hoa-giai-tri/long-con-x...   \n",
       "18110  https://laodong.vn/van-hoa/luoc-trung-tam-suoi...   \n",
       "\n",
       "                                                 Content  \\\n",
       "0                                                    NaN   \n",
       "1      Mohamed Simakan là một trong những cầu thủ chơ...   \n",
       "2       Bernardo Silva đánh giá Haaland chưa đủ khả n...   \n",
       "3      (Ảnh minh họa. Minh Quyết/TTXVN) Trưa 15/5, tạ...   \n",
       "4      Bùi Đình Quyết giành vàng SEA Games nhưng bị n...   \n",
       "...                                                  ...   \n",
       "18106  Sự kiện được tổ chức bởi Sở Văn hóa - Thể thao...   \n",
       "18107  Ngày 19.1 (28 Tết), UBND tỉnh Bình Dương cho b...   \n",
       "18108  Sinh ra và lớn lên trong gia đình có 4 chị em ...   \n",
       "18109  Các ông đồ ngày nay tha hồ múa bút và cũng kiế...   \n",
       "18110  Suối nước nóng Bưng Thị nằm trong vùng lõi của...   \n",
       "\n",
       "                                      Content_cleaned_v1  Length_cleaned_v1  \\\n",
       "0                                                    NaN                NaN   \n",
       "1      mohamed simakan là một trong những cầu_thủ chơ...              199.0   \n",
       "2      bernardo_silva đánh_giá haaland chưa đủ khả_nă...              292.0   \n",
       "3      ảnh minh_họa minh_quyết ttxvn trưa tại khu nhà...              235.0   \n",
       "4      bùi_đình_quyết giành vàng sea_games nhưng bị n...              245.0   \n",
       "...                                                  ...                ...   \n",
       "18106  sự_kiện được tổ_chức bởi sở văn_hóa thể_thao v...              593.0   \n",
       "18107  ngày tết ubnd tỉnh bình_dương cho biết các đơn...              323.0   \n",
       "18108  sinh ra và lớn lên trong gia_đình có chị_em tạ...              621.0   \n",
       "18109  các ông đồ ngày_nay tha_hồ múa bút và cũng kiế...              229.0   \n",
       "18110  suối nước nóng bưng_thị nằm trong vùng lõi của...              362.0   \n",
       "\n",
       "                                      Content_cleaned_v2  Length_cleaned_v2  \\\n",
       "0                                                    NaN                NaN   \n",
       "1      mohamed simakan cầu_thủ chơi tốt rb leipzig mù...              124.0   \n",
       "2      bernardo_silva đánh_giá haaland chưa đủ khả_nă...              210.0   \n",
       "3      ảnh minh_họa minh_quyết ttxvn trưa khu thi_đấu...              166.0   \n",
       "4      bùi_đình_quyết giành vàng sea_games nhầm thành...              178.0   \n",
       "...                                                  ...                ...   \n",
       "18106  sự_kiện bởi sở văn_hóa thể_thao du_lịch thái_b...              193.0   \n",
       "18107  tết ubnd tỉnh bình_dương đơn_vị sở ngành liên_...              618.0   \n",
       "18108  sinh lớn gia_đình chị_em vùng_đất sen hồng đồn...              353.0   \n",
       "18109  đồ ngày_nay tha_hồ múa bút kiếm tiền bán chữ đ...              419.0   \n",
       "18110  suối nóng bưng_thị nằm vùng lõi khu bảo_tồn th...              742.0   \n",
       "\n",
       "          Label                                                 cc  \n",
       "0           NaN                                                NaN  \n",
       "1      The thao  Mohamed Simakan là một trong những cầu_thủ chơ...  \n",
       "2      The thao  Bernardo_Silva đánh_giá Haaland chưa đủ khả_nă...  \n",
       "3      The thao  ( Ảnh minh_họa . Minh_Quyết / TTXVN ) Trưa 15 ...  \n",
       "4      The thao  Bùi_Đình_Quyết giành vàng SEA_Games nhưng bị n...  \n",
       "...         ...                                                ...  \n",
       "18106   Van hoa  Sự_kiện được tổ_chức bởi Sở Văn_hóa - Thể_thao...  \n",
       "18107   Van hoa  Ngày 19.1 ( 28 Tết ) , UBND tỉnh Bình_Dương ch...  \n",
       "18108   Van hoa  Sinh ra và lớn lên trong gia_đình có 4 chị_em ...  \n",
       "18109   Van hoa  Các ông đồ ngày_nay tha_hồ múa bút và cũng kiế...  \n",
       "18110   Van hoa  Suối nước nóng Bưng_Thị nằm trong vùng lõi của...  \n",
       "\n",
       "[18111 rows x 10 columns]"
      ]
     },
     "execution_count": 20,
     "metadata": {},
     "output_type": "execute_result"
    }
   ],
   "source": [
    "a"
   ]
  },
  {
   "cell_type": "code",
   "execution_count": 55,
   "metadata": {},
   "outputs": [],
   "source": [
    "j.to_csv(\"cleaned_v2.csv\")"
   ]
  },
  {
   "cell_type": "code",
   "execution_count": 45,
   "metadata": {},
   "outputs": [],
   "source": []
  },
  {
   "cell_type": "code",
   "execution_count": 53,
   "metadata": {},
   "outputs": [],
   "source": [
    "sport = check[check[\"Label\"] == \"sport\"]\n",
    "business = check[check[\"Label\"] == \"business\"]\n",
    "politics = check[check[\"Label\"] == \"politics\"]\n",
    "entertainment = check[check[\"Label\"] == \"entertainment\"]\n",
    "education = check[check[\"Label\"] == \"education\"]\n",
    "health = check[check[\"Label\"] == \"health\"]"
   ]
  },
  {
   "cell_type": "code",
   "execution_count": 50,
   "metadata": {},
   "outputs": [
    {
     "data": {
      "text/plain": [
       "13762"
      ]
     },
     "execution_count": 50,
     "metadata": {},
     "output_type": "execute_result"
    }
   ],
   "source": [
    "c = c.dropna(subset=[\"Link\", 'Content'])\n",
    "c = c.drop_duplicates(subset=['Link', 'Content'])\n",
    "len(c)"
   ]
  },
  {
   "cell_type": "code",
   "execution_count": 154,
   "metadata": {},
   "outputs": [
    {
     "data": {
      "text/plain": [
       "2443"
      ]
     },
     "execution_count": 154,
     "metadata": {},
     "output_type": "execute_result"
    }
   ],
   "source": [
    "len(health[health['Link'].str.contains(\"vietnamnet\")])"
   ]
  },
  {
   "cell_type": "code",
   "execution_count": null,
   "metadata": {},
   "outputs": [],
   "source": [
    "for i in range(1,len(health), 80):\n",
    "  print(health['Link'].iloc[i])"
   ]
  },
  {
   "cell_type": "code",
   "execution_count": 72,
   "metadata": {},
   "outputs": [],
   "source": [
    "data = pd.read_csv(list_csv[0])\n",
    "for csv in list_csv:\n",
    "  df = pd.read_csv(csv)\n",
    "  data = pd.concat([df, data], axis=0)"
   ]
  },
  {
   "cell_type": "code",
   "execution_count": 74,
   "metadata": {},
   "outputs": [
    {
     "data": {
      "text/html": [
       "<div>\n",
       "<style scoped>\n",
       "    .dataframe tbody tr th:only-of-type {\n",
       "        vertical-align: middle;\n",
       "    }\n",
       "\n",
       "    .dataframe tbody tr th {\n",
       "        vertical-align: top;\n",
       "    }\n",
       "\n",
       "    .dataframe thead th {\n",
       "        text-align: right;\n",
       "    }\n",
       "</style>\n",
       "<table border=\"1\" class=\"dataframe\">\n",
       "  <thead>\n",
       "    <tr style=\"text-align: right;\">\n",
       "      <th></th>\n",
       "      <th>Unnamed: 0</th>\n",
       "      <th>Link</th>\n",
       "      <th>Content</th>\n",
       "      <th>Label</th>\n",
       "    </tr>\n",
       "  </thead>\n",
       "  <tbody>\n",
       "    <tr>\n",
       "      <th>0</th>\n",
       "      <td>0</td>\n",
       "      <td>https://baomoi.com/chung-ket-bong-da-nu-viet-n...</td>\n",
       "      <td>Tại đấu trường SEA Games, đội tuyển nữ Việt Na...</td>\n",
       "      <td>Thể thao</td>\n",
       "    </tr>\n",
       "    <tr>\n",
       "      <th>1</th>\n",
       "      <td>1</td>\n",
       "      <td>https://baomoi.com/sea-games-32-ngay-13-5-doan...</td>\n",
       "      <td>5 vận động viên giành 3 tấm HCV của Đội tuyển ...</td>\n",
       "      <td>Thể thao</td>\n",
       "    </tr>\n",
       "    <tr>\n",
       "      <th>2</th>\n",
       "      <td>2</td>\n",
       "      <td>https://baomoi.com/vdv-nguyen-linh-na-gianh-hc...</td>\n",
       "      <td>NaN</td>\n",
       "      <td>NaN</td>\n",
       "    </tr>\n",
       "    <tr>\n",
       "      <th>3</th>\n",
       "      <td>3</td>\n",
       "      <td>https://baomoi.com/huan-luyen-vien-mai-duc-chu...</td>\n",
       "      <td>Huấn luyện viên Mai Đức Chung chia sẻ cảm xúc,...</td>\n",
       "      <td>Thể thao</td>\n",
       "    </tr>\n",
       "    <tr>\n",
       "      <th>4</th>\n",
       "      <td>4</td>\n",
       "      <td>https://baomoi.com/nhan-dinh-dt-nu-viet-nam-dt...</td>\n",
       "      <td>Theo lịch thi đấu bóng đá SEA Games 32 hôm nay...</td>\n",
       "      <td>Thể thao</td>\n",
       "    </tr>\n",
       "    <tr>\n",
       "      <th>...</th>\n",
       "      <td>...</td>\n",
       "      <td>...</td>\n",
       "      <td>...</td>\n",
       "      <td>...</td>\n",
       "    </tr>\n",
       "    <tr>\n",
       "      <th>2264</th>\n",
       "      <td>2264</td>\n",
       "      <td>https://baomoi.com/lap-khoang-trong-thiet-bi-d...</td>\n",
       "      <td>Thiết bị dạy học Chương trình mới lớp 6 tại Tr...</td>\n",
       "      <td>Giáo dục</td>\n",
       "    </tr>\n",
       "    <tr>\n",
       "      <th>2265</th>\n",
       "      <td>2265</td>\n",
       "      <td>https://baomoi.com/10-luu-y-voi-thi-sinh-trong...</td>\n",
       "      <td>NaN</td>\n",
       "      <td>NaN</td>\n",
       "    </tr>\n",
       "    <tr>\n",
       "      <th>2266</th>\n",
       "      <td>2266</td>\n",
       "      <td>https://baomoi.com/giao-vien-my-bi-dieu-tra-vi...</td>\n",
       "      <td>Vụ việc xảy ra tại trường Trung học Lyndon B....</td>\n",
       "      <td>Giáo dục</td>\n",
       "    </tr>\n",
       "    <tr>\n",
       "      <th>2267</th>\n",
       "      <td>2267</td>\n",
       "      <td>https://baomoi.com/truong-tieu-hoc-ban-tru-a-l...</td>\n",
       "      <td>Trường Tiểu học Bán trú \"A\" Long Thạnh biểu di...</td>\n",
       "      <td>Giáo dục</td>\n",
       "    </tr>\n",
       "    <tr>\n",
       "      <th>2268</th>\n",
       "      <td>2268</td>\n",
       "      <td>https://baomoi.com/thi-sinh-khong-bi-han-che-s...</td>\n",
       "      <td>NaN</td>\n",
       "      <td>NaN</td>\n",
       "    </tr>\n",
       "  </tbody>\n",
       "</table>\n",
       "<p>6309 rows × 4 columns</p>\n",
       "</div>"
      ],
      "text/plain": [
       "      Unnamed: 0                                               Link  \\\n",
       "0              0  https://baomoi.com/chung-ket-bong-da-nu-viet-n...   \n",
       "1              1  https://baomoi.com/sea-games-32-ngay-13-5-doan...   \n",
       "2              2  https://baomoi.com/vdv-nguyen-linh-na-gianh-hc...   \n",
       "3              3  https://baomoi.com/huan-luyen-vien-mai-duc-chu...   \n",
       "4              4  https://baomoi.com/nhan-dinh-dt-nu-viet-nam-dt...   \n",
       "...          ...                                                ...   \n",
       "2264        2264  https://baomoi.com/lap-khoang-trong-thiet-bi-d...   \n",
       "2265        2265  https://baomoi.com/10-luu-y-voi-thi-sinh-trong...   \n",
       "2266        2266  https://baomoi.com/giao-vien-my-bi-dieu-tra-vi...   \n",
       "2267        2267  https://baomoi.com/truong-tieu-hoc-ban-tru-a-l...   \n",
       "2268        2268  https://baomoi.com/thi-sinh-khong-bi-han-che-s...   \n",
       "\n",
       "                                                Content     Label  \n",
       "0     Tại đấu trường SEA Games, đội tuyển nữ Việt Na...  Thể thao  \n",
       "1     5 vận động viên giành 3 tấm HCV của Đội tuyển ...  Thể thao  \n",
       "2                                                   NaN       NaN  \n",
       "3     Huấn luyện viên Mai Đức Chung chia sẻ cảm xúc,...  Thể thao  \n",
       "4     Theo lịch thi đấu bóng đá SEA Games 32 hôm nay...  Thể thao  \n",
       "...                                                 ...       ...  \n",
       "2264  Thiết bị dạy học Chương trình mới lớp 6 tại Tr...  Giáo dục  \n",
       "2265                                                NaN       NaN  \n",
       "2266   Vụ việc xảy ra tại trường Trung học Lyndon B....  Giáo dục  \n",
       "2267  Trường Tiểu học Bán trú \"A\" Long Thạnh biểu di...  Giáo dục  \n",
       "2268                                                NaN       NaN  \n",
       "\n",
       "[6309 rows x 4 columns]"
      ]
     },
     "execution_count": 74,
     "metadata": {},
     "output_type": "execute_result"
    }
   ],
   "source": [
    "data"
   ]
  },
  {
   "cell_type": "code",
   "execution_count": 50,
   "metadata": {},
   "outputs": [],
   "source": [
    "df_baomoi = pd.read_csv('../baomoi/data/merged_baomoi.csv')\n",
    "df_vietnamnet = pd.read_csv('../vietnamnet/data/merged_v1.csv')\n",
    "df_thapcam = pd.read_csv('./merged_thapcam.csv')\n",
    "df_vnexpress = pd.read_csv('../vnexpress/merged_vnexpress.csv')\n",
    "df_merge = pd.concat([df_thapcam, df_baomoi, df_thapcam, df_vnexpress, df_vietnamnet])"
   ]
  },
  {
   "cell_type": "code",
   "execution_count": 75,
   "metadata": {},
   "outputs": [],
   "source": [
    "# data = data.rename(columns={\"Contents\": \"Content\", \"Labels\": \"Label\"})\n",
    "data = data.dropna(subset=[\"Content\"])\n",
    "data = data.drop_duplicates(subset=[\"Content\"])"
   ]
  },
  {
   "cell_type": "code",
   "execution_count": 76,
   "metadata": {},
   "outputs": [
    {
     "data": {
      "text/html": [
       "<div>\n",
       "<style scoped>\n",
       "    .dataframe tbody tr th:only-of-type {\n",
       "        vertical-align: middle;\n",
       "    }\n",
       "\n",
       "    .dataframe tbody tr th {\n",
       "        vertical-align: top;\n",
       "    }\n",
       "\n",
       "    .dataframe thead th {\n",
       "        text-align: right;\n",
       "    }\n",
       "</style>\n",
       "<table border=\"1\" class=\"dataframe\">\n",
       "  <thead>\n",
       "    <tr style=\"text-align: right;\">\n",
       "      <th></th>\n",
       "      <th>Unnamed: 0</th>\n",
       "      <th>Link</th>\n",
       "      <th>Content</th>\n",
       "      <th>Label</th>\n",
       "    </tr>\n",
       "  </thead>\n",
       "  <tbody>\n",
       "    <tr>\n",
       "      <th>0</th>\n",
       "      <td>0</td>\n",
       "      <td>https://baomoi.com/chung-ket-bong-da-nu-viet-n...</td>\n",
       "      <td>Tại đấu trường SEA Games, đội tuyển nữ Việt Na...</td>\n",
       "      <td>Thể thao</td>\n",
       "    </tr>\n",
       "    <tr>\n",
       "      <th>1</th>\n",
       "      <td>1</td>\n",
       "      <td>https://baomoi.com/sea-games-32-ngay-13-5-doan...</td>\n",
       "      <td>5 vận động viên giành 3 tấm HCV của Đội tuyển ...</td>\n",
       "      <td>Thể thao</td>\n",
       "    </tr>\n",
       "    <tr>\n",
       "      <th>3</th>\n",
       "      <td>3</td>\n",
       "      <td>https://baomoi.com/huan-luyen-vien-mai-duc-chu...</td>\n",
       "      <td>Huấn luyện viên Mai Đức Chung chia sẻ cảm xúc,...</td>\n",
       "      <td>Thể thao</td>\n",
       "    </tr>\n",
       "    <tr>\n",
       "      <th>4</th>\n",
       "      <td>4</td>\n",
       "      <td>https://baomoi.com/nhan-dinh-dt-nu-viet-nam-dt...</td>\n",
       "      <td>Theo lịch thi đấu bóng đá SEA Games 32 hôm nay...</td>\n",
       "      <td>Thể thao</td>\n",
       "    </tr>\n",
       "    <tr>\n",
       "      <th>5</th>\n",
       "      <td>5</td>\n",
       "      <td>https://baomoi.com/tuyen-vat-viet-nam-choi-xua...</td>\n",
       "      <td>Đô vật Trần Ánh Tuyết có tấm HCV tại SEA Games...</td>\n",
       "      <td>Thể thao</td>\n",
       "    </tr>\n",
       "    <tr>\n",
       "      <th>...</th>\n",
       "      <td>...</td>\n",
       "      <td>...</td>\n",
       "      <td>...</td>\n",
       "      <td>...</td>\n",
       "    </tr>\n",
       "    <tr>\n",
       "      <th>2258</th>\n",
       "      <td>2258</td>\n",
       "      <td>https://baomoi.com/dai-hoc-su-pham-ha-noi-cong...</td>\n",
       "      <td>Sau khi kỳ thi đánh giá năng lực kết thúc, Trư...</td>\n",
       "      <td>Giáo dục</td>\n",
       "    </tr>\n",
       "    <tr>\n",
       "      <th>2260</th>\n",
       "      <td>2260</td>\n",
       "      <td>https://baomoi.com/cong-tac-giao-duc-chinh-tri...</td>\n",
       "      <td>Thiếu tướng Hoàng Văn Sỹ, Phó bí thư Đảng ủy, ...</td>\n",
       "      <td>Giáo dục</td>\n",
       "    </tr>\n",
       "    <tr>\n",
       "      <th>2264</th>\n",
       "      <td>2264</td>\n",
       "      <td>https://baomoi.com/lap-khoang-trong-thiet-bi-d...</td>\n",
       "      <td>Thiết bị dạy học Chương trình mới lớp 6 tại Tr...</td>\n",
       "      <td>Giáo dục</td>\n",
       "    </tr>\n",
       "    <tr>\n",
       "      <th>2266</th>\n",
       "      <td>2266</td>\n",
       "      <td>https://baomoi.com/giao-vien-my-bi-dieu-tra-vi...</td>\n",
       "      <td>Vụ việc xảy ra tại trường Trung học Lyndon B....</td>\n",
       "      <td>Giáo dục</td>\n",
       "    </tr>\n",
       "    <tr>\n",
       "      <th>2267</th>\n",
       "      <td>2267</td>\n",
       "      <td>https://baomoi.com/truong-tieu-hoc-ban-tru-a-l...</td>\n",
       "      <td>Trường Tiểu học Bán trú \"A\" Long Thạnh biểu di...</td>\n",
       "      <td>Giáo dục</td>\n",
       "    </tr>\n",
       "  </tbody>\n",
       "</table>\n",
       "<p>3063 rows × 4 columns</p>\n",
       "</div>"
      ],
      "text/plain": [
       "      Unnamed: 0                                               Link  \\\n",
       "0              0  https://baomoi.com/chung-ket-bong-da-nu-viet-n...   \n",
       "1              1  https://baomoi.com/sea-games-32-ngay-13-5-doan...   \n",
       "3              3  https://baomoi.com/huan-luyen-vien-mai-duc-chu...   \n",
       "4              4  https://baomoi.com/nhan-dinh-dt-nu-viet-nam-dt...   \n",
       "5              5  https://baomoi.com/tuyen-vat-viet-nam-choi-xua...   \n",
       "...          ...                                                ...   \n",
       "2258        2258  https://baomoi.com/dai-hoc-su-pham-ha-noi-cong...   \n",
       "2260        2260  https://baomoi.com/cong-tac-giao-duc-chinh-tri...   \n",
       "2264        2264  https://baomoi.com/lap-khoang-trong-thiet-bi-d...   \n",
       "2266        2266  https://baomoi.com/giao-vien-my-bi-dieu-tra-vi...   \n",
       "2267        2267  https://baomoi.com/truong-tieu-hoc-ban-tru-a-l...   \n",
       "\n",
       "                                                Content     Label  \n",
       "0     Tại đấu trường SEA Games, đội tuyển nữ Việt Na...  Thể thao  \n",
       "1     5 vận động viên giành 3 tấm HCV của Đội tuyển ...  Thể thao  \n",
       "3     Huấn luyện viên Mai Đức Chung chia sẻ cảm xúc,...  Thể thao  \n",
       "4     Theo lịch thi đấu bóng đá SEA Games 32 hôm nay...  Thể thao  \n",
       "5     Đô vật Trần Ánh Tuyết có tấm HCV tại SEA Games...  Thể thao  \n",
       "...                                                 ...       ...  \n",
       "2258  Sau khi kỳ thi đánh giá năng lực kết thúc, Trư...  Giáo dục  \n",
       "2260  Thiếu tướng Hoàng Văn Sỹ, Phó bí thư Đảng ủy, ...  Giáo dục  \n",
       "2264  Thiết bị dạy học Chương trình mới lớp 6 tại Tr...  Giáo dục  \n",
       "2266   Vụ việc xảy ra tại trường Trung học Lyndon B....  Giáo dục  \n",
       "2267  Trường Tiểu học Bán trú \"A\" Long Thạnh biểu di...  Giáo dục  \n",
       "\n",
       "[3063 rows x 4 columns]"
      ]
     },
     "execution_count": 76,
     "metadata": {},
     "output_type": "execute_result"
    }
   ],
   "source": [
    "data"
   ]
  },
  {
   "cell_type": "code",
   "execution_count": 77,
   "metadata": {},
   "outputs": [
    {
     "name": "stdout",
     "output_type": "stream",
     "text": [
      "<class 'pandas.core.frame.DataFrame'>\n",
      "Int64Index: 3063 entries, 0 to 2267\n",
      "Data columns (total 4 columns):\n",
      " #   Column      Non-Null Count  Dtype \n",
      "---  ------      --------------  ----- \n",
      " 0   Unnamed: 0  3063 non-null   int64 \n",
      " 1   Link        3063 non-null   object\n",
      " 2   Content     3063 non-null   object\n",
      " 3   Label       3063 non-null   object\n",
      "dtypes: int64(1), object(3)\n",
      "memory usage: 119.6+ KB\n"
     ]
    }
   ],
   "source": [
    "data.info()"
   ]
  },
  {
   "cell_type": "code",
   "execution_count": 78,
   "metadata": {},
   "outputs": [
    {
     "data": {
      "text/plain": [
       "Thể thao     1576\n",
       "Giáo dục     1470\n",
       "Thế giới        9\n",
       "Pháp luật       2\n",
       "Kinh tế         2\n",
       "Công nghệ       2\n",
       "Đời sống        1\n",
       "Xã hội          1\n",
       "Name: Label, dtype: int64"
      ]
     },
     "execution_count": 78,
     "metadata": {},
     "output_type": "execute_result"
    }
   ],
   "source": [
    "data[\"Label\"].value_counts()"
   ]
  },
  {
   "cell_type": "code",
   "execution_count": 79,
   "metadata": {},
   "outputs": [],
   "source": [
    "label1 = [\"Kinh tế\", 'Pháp luật', 'Thể thao', 'Giải trí', 'Giáo dục', \"Sức khoẻ\"]\n",
    "label2 = ['kinhte', 'giaitri', 'giaoduc', 'phapluat', 'thethao', 'suckhoe']"
   ]
  },
  {
   "cell_type": "code",
   "execution_count": 80,
   "metadata": {},
   "outputs": [],
   "source": [
    "data = data[data[\"Label\"].isin(label1)]"
   ]
  },
  {
   "cell_type": "code",
   "execution_count": 81,
   "metadata": {},
   "outputs": [],
   "source": [
    "dic_label1 = {\"Kinh tế\": \"business\", 'Pháp luật': \"politics\", 'Thể thao': \"sport\", \"Giải trí\": \"entertainment\", \"Giáo dục\":'education'}\n",
    "dic_label2 = {'kinhte':'business', 'giaitri':'entertainment', 'giaoduc':'education', 'phapluat':'politics', 'thethao':'sport', 'suckhoe':'health'}\n",
    "def change_name_label(x):\n",
    "  return dic_label1[x] \n",
    "data['Label'] = data[\"Label\"].apply(change_name_label)"
   ]
  },
  {
   "cell_type": "code",
   "execution_count": 83,
   "metadata": {},
   "outputs": [
    {
     "data": {
      "text/plain": [
       "sport        1576\n",
       "education    1470\n",
       "politics        2\n",
       "business        2\n",
       "Name: Label, dtype: int64"
      ]
     },
     "execution_count": 83,
     "metadata": {},
     "output_type": "execute_result"
    }
   ],
   "source": [
    "data[\"Label\"].value_counts()"
   ]
  },
  {
   "cell_type": "code",
   "execution_count": 84,
   "metadata": {},
   "outputs": [],
   "source": [
    "data.to_csv(path_to_dataset + \"merged_sport_education.csv\")"
   ]
  }
 ],
 "metadata": {
  "kernelspec": {
   "display_name": "Python 3",
   "language": "python",
   "name": "python3"
  },
  "language_info": {
   "codemirror_mode": {
    "name": "ipython",
    "version": 3
   },
   "file_extension": ".py",
   "mimetype": "text/x-python",
   "name": "python",
   "nbconvert_exporter": "python",
   "pygments_lexer": "ipython3",
   "version": "3.10.5"
  },
  "orig_nbformat": 4
 },
 "nbformat": 4,
 "nbformat_minor": 2
}
