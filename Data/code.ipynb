{
 "cells": [
  {
   "cell_type": "code",
   "execution_count": 1,
   "metadata": {},
   "outputs": [],
   "source": [
    "import os\n",
    "import pandas as pd"
   ]
  },
  {
   "cell_type": "code",
   "execution_count": 70,
   "metadata": {},
   "outputs": [
    {
     "data": {
      "text/plain": [
       "['../baomoi/data/baomoi_giaoduc.csv', '../baomoi/data/baomoi_thethao.csv']"
      ]
     },
     "execution_count": 70,
     "metadata": {},
     "output_type": "execute_result"
    }
   ],
   "source": [
    "path_to_dataset = \"../baomoi/data/\"\n",
    "list_csv = [path_to_dataset + file for file in os.listdir(path_to_dataset) if (file[-4:] == \".csv\" and file[:4] == \"baom\")]\n",
    "list_csv"
   ]
  },
  {
   "cell_type": "code",
   "execution_count": 72,
   "metadata": {},
   "outputs": [],
   "source": [
    "data = pd.read_csv(list_csv[0])\n",
    "for csv in list_csv:\n",
    "  df = pd.read_csv(csv)\n",
    "  data = pd.concat([df, data], axis=0)"
   ]
  },
  {
   "cell_type": "code",
   "execution_count": 74,
   "metadata": {},
   "outputs": [
    {
     "data": {
      "text/html": [
       "<div>\n",
       "<style scoped>\n",
       "    .dataframe tbody tr th:only-of-type {\n",
       "        vertical-align: middle;\n",
       "    }\n",
       "\n",
       "    .dataframe tbody tr th {\n",
       "        vertical-align: top;\n",
       "    }\n",
       "\n",
       "    .dataframe thead th {\n",
       "        text-align: right;\n",
       "    }\n",
       "</style>\n",
       "<table border=\"1\" class=\"dataframe\">\n",
       "  <thead>\n",
       "    <tr style=\"text-align: right;\">\n",
       "      <th></th>\n",
       "      <th>Unnamed: 0</th>\n",
       "      <th>Link</th>\n",
       "      <th>Content</th>\n",
       "      <th>Label</th>\n",
       "    </tr>\n",
       "  </thead>\n",
       "  <tbody>\n",
       "    <tr>\n",
       "      <th>0</th>\n",
       "      <td>0</td>\n",
       "      <td>https://baomoi.com/chung-ket-bong-da-nu-viet-n...</td>\n",
       "      <td>Tại đấu trường SEA Games, đội tuyển nữ Việt Na...</td>\n",
       "      <td>Thể thao</td>\n",
       "    </tr>\n",
       "    <tr>\n",
       "      <th>1</th>\n",
       "      <td>1</td>\n",
       "      <td>https://baomoi.com/sea-games-32-ngay-13-5-doan...</td>\n",
       "      <td>5 vận động viên giành 3 tấm HCV của Đội tuyển ...</td>\n",
       "      <td>Thể thao</td>\n",
       "    </tr>\n",
       "    <tr>\n",
       "      <th>2</th>\n",
       "      <td>2</td>\n",
       "      <td>https://baomoi.com/vdv-nguyen-linh-na-gianh-hc...</td>\n",
       "      <td>NaN</td>\n",
       "      <td>NaN</td>\n",
       "    </tr>\n",
       "    <tr>\n",
       "      <th>3</th>\n",
       "      <td>3</td>\n",
       "      <td>https://baomoi.com/huan-luyen-vien-mai-duc-chu...</td>\n",
       "      <td>Huấn luyện viên Mai Đức Chung chia sẻ cảm xúc,...</td>\n",
       "      <td>Thể thao</td>\n",
       "    </tr>\n",
       "    <tr>\n",
       "      <th>4</th>\n",
       "      <td>4</td>\n",
       "      <td>https://baomoi.com/nhan-dinh-dt-nu-viet-nam-dt...</td>\n",
       "      <td>Theo lịch thi đấu bóng đá SEA Games 32 hôm nay...</td>\n",
       "      <td>Thể thao</td>\n",
       "    </tr>\n",
       "    <tr>\n",
       "      <th>...</th>\n",
       "      <td>...</td>\n",
       "      <td>...</td>\n",
       "      <td>...</td>\n",
       "      <td>...</td>\n",
       "    </tr>\n",
       "    <tr>\n",
       "      <th>2264</th>\n",
       "      <td>2264</td>\n",
       "      <td>https://baomoi.com/lap-khoang-trong-thiet-bi-d...</td>\n",
       "      <td>Thiết bị dạy học Chương trình mới lớp 6 tại Tr...</td>\n",
       "      <td>Giáo dục</td>\n",
       "    </tr>\n",
       "    <tr>\n",
       "      <th>2265</th>\n",
       "      <td>2265</td>\n",
       "      <td>https://baomoi.com/10-luu-y-voi-thi-sinh-trong...</td>\n",
       "      <td>NaN</td>\n",
       "      <td>NaN</td>\n",
       "    </tr>\n",
       "    <tr>\n",
       "      <th>2266</th>\n",
       "      <td>2266</td>\n",
       "      <td>https://baomoi.com/giao-vien-my-bi-dieu-tra-vi...</td>\n",
       "      <td>Vụ việc xảy ra tại trường Trung học Lyndon B....</td>\n",
       "      <td>Giáo dục</td>\n",
       "    </tr>\n",
       "    <tr>\n",
       "      <th>2267</th>\n",
       "      <td>2267</td>\n",
       "      <td>https://baomoi.com/truong-tieu-hoc-ban-tru-a-l...</td>\n",
       "      <td>Trường Tiểu học Bán trú \"A\" Long Thạnh biểu di...</td>\n",
       "      <td>Giáo dục</td>\n",
       "    </tr>\n",
       "    <tr>\n",
       "      <th>2268</th>\n",
       "      <td>2268</td>\n",
       "      <td>https://baomoi.com/thi-sinh-khong-bi-han-che-s...</td>\n",
       "      <td>NaN</td>\n",
       "      <td>NaN</td>\n",
       "    </tr>\n",
       "  </tbody>\n",
       "</table>\n",
       "<p>6309 rows × 4 columns</p>\n",
       "</div>"
      ],
      "text/plain": [
       "      Unnamed: 0                                               Link  \\\n",
       "0              0  https://baomoi.com/chung-ket-bong-da-nu-viet-n...   \n",
       "1              1  https://baomoi.com/sea-games-32-ngay-13-5-doan...   \n",
       "2              2  https://baomoi.com/vdv-nguyen-linh-na-gianh-hc...   \n",
       "3              3  https://baomoi.com/huan-luyen-vien-mai-duc-chu...   \n",
       "4              4  https://baomoi.com/nhan-dinh-dt-nu-viet-nam-dt...   \n",
       "...          ...                                                ...   \n",
       "2264        2264  https://baomoi.com/lap-khoang-trong-thiet-bi-d...   \n",
       "2265        2265  https://baomoi.com/10-luu-y-voi-thi-sinh-trong...   \n",
       "2266        2266  https://baomoi.com/giao-vien-my-bi-dieu-tra-vi...   \n",
       "2267        2267  https://baomoi.com/truong-tieu-hoc-ban-tru-a-l...   \n",
       "2268        2268  https://baomoi.com/thi-sinh-khong-bi-han-che-s...   \n",
       "\n",
       "                                                Content     Label  \n",
       "0     Tại đấu trường SEA Games, đội tuyển nữ Việt Na...  Thể thao  \n",
       "1     5 vận động viên giành 3 tấm HCV của Đội tuyển ...  Thể thao  \n",
       "2                                                   NaN       NaN  \n",
       "3     Huấn luyện viên Mai Đức Chung chia sẻ cảm xúc,...  Thể thao  \n",
       "4     Theo lịch thi đấu bóng đá SEA Games 32 hôm nay...  Thể thao  \n",
       "...                                                 ...       ...  \n",
       "2264  Thiết bị dạy học Chương trình mới lớp 6 tại Tr...  Giáo dục  \n",
       "2265                                                NaN       NaN  \n",
       "2266   Vụ việc xảy ra tại trường Trung học Lyndon B....  Giáo dục  \n",
       "2267  Trường Tiểu học Bán trú \"A\" Long Thạnh biểu di...  Giáo dục  \n",
       "2268                                                NaN       NaN  \n",
       "\n",
       "[6309 rows x 4 columns]"
      ]
     },
     "execution_count": 74,
     "metadata": {},
     "output_type": "execute_result"
    }
   ],
   "source": [
    "data"
   ]
  },
  {
   "cell_type": "code",
   "execution_count": 50,
   "metadata": {},
   "outputs": [],
   "source": [
    "df_baomoi = pd.read_csv('../baomoi/data/merged_baomoi.csv')\n",
    "df_vietnamnet = pd.read_csv('../vietnamnet/data/merged_v1.csv')\n",
    "df_thapcam = pd.read_csv('./merged_thapcam.csv')\n",
    "df_vnexpress = pd.read_csv('../vnexpress/merged_vnexpress.csv')\n",
    "df_merge = pd.concat([df_thapcam, df_baomoi, df_thapcam, df_vnexpress, df_vietnamnet])"
   ]
  },
  {
   "cell_type": "code",
   "execution_count": 75,
   "metadata": {},
   "outputs": [],
   "source": [
    "# data = data.rename(columns={\"Contents\": \"Content\", \"Labels\": \"Label\"})\n",
    "data = data.dropna(subset=[\"Content\"])\n",
    "data = data.drop_duplicates(subset=[\"Content\"])"
   ]
  },
  {
   "cell_type": "code",
   "execution_count": 76,
   "metadata": {},
   "outputs": [
    {
     "data": {
      "text/html": [
       "<div>\n",
       "<style scoped>\n",
       "    .dataframe tbody tr th:only-of-type {\n",
       "        vertical-align: middle;\n",
       "    }\n",
       "\n",
       "    .dataframe tbody tr th {\n",
       "        vertical-align: top;\n",
       "    }\n",
       "\n",
       "    .dataframe thead th {\n",
       "        text-align: right;\n",
       "    }\n",
       "</style>\n",
       "<table border=\"1\" class=\"dataframe\">\n",
       "  <thead>\n",
       "    <tr style=\"text-align: right;\">\n",
       "      <th></th>\n",
       "      <th>Unnamed: 0</th>\n",
       "      <th>Link</th>\n",
       "      <th>Content</th>\n",
       "      <th>Label</th>\n",
       "    </tr>\n",
       "  </thead>\n",
       "  <tbody>\n",
       "    <tr>\n",
       "      <th>0</th>\n",
       "      <td>0</td>\n",
       "      <td>https://baomoi.com/chung-ket-bong-da-nu-viet-n...</td>\n",
       "      <td>Tại đấu trường SEA Games, đội tuyển nữ Việt Na...</td>\n",
       "      <td>Thể thao</td>\n",
       "    </tr>\n",
       "    <tr>\n",
       "      <th>1</th>\n",
       "      <td>1</td>\n",
       "      <td>https://baomoi.com/sea-games-32-ngay-13-5-doan...</td>\n",
       "      <td>5 vận động viên giành 3 tấm HCV của Đội tuyển ...</td>\n",
       "      <td>Thể thao</td>\n",
       "    </tr>\n",
       "    <tr>\n",
       "      <th>3</th>\n",
       "      <td>3</td>\n",
       "      <td>https://baomoi.com/huan-luyen-vien-mai-duc-chu...</td>\n",
       "      <td>Huấn luyện viên Mai Đức Chung chia sẻ cảm xúc,...</td>\n",
       "      <td>Thể thao</td>\n",
       "    </tr>\n",
       "    <tr>\n",
       "      <th>4</th>\n",
       "      <td>4</td>\n",
       "      <td>https://baomoi.com/nhan-dinh-dt-nu-viet-nam-dt...</td>\n",
       "      <td>Theo lịch thi đấu bóng đá SEA Games 32 hôm nay...</td>\n",
       "      <td>Thể thao</td>\n",
       "    </tr>\n",
       "    <tr>\n",
       "      <th>5</th>\n",
       "      <td>5</td>\n",
       "      <td>https://baomoi.com/tuyen-vat-viet-nam-choi-xua...</td>\n",
       "      <td>Đô vật Trần Ánh Tuyết có tấm HCV tại SEA Games...</td>\n",
       "      <td>Thể thao</td>\n",
       "    </tr>\n",
       "    <tr>\n",
       "      <th>...</th>\n",
       "      <td>...</td>\n",
       "      <td>...</td>\n",
       "      <td>...</td>\n",
       "      <td>...</td>\n",
       "    </tr>\n",
       "    <tr>\n",
       "      <th>2258</th>\n",
       "      <td>2258</td>\n",
       "      <td>https://baomoi.com/dai-hoc-su-pham-ha-noi-cong...</td>\n",
       "      <td>Sau khi kỳ thi đánh giá năng lực kết thúc, Trư...</td>\n",
       "      <td>Giáo dục</td>\n",
       "    </tr>\n",
       "    <tr>\n",
       "      <th>2260</th>\n",
       "      <td>2260</td>\n",
       "      <td>https://baomoi.com/cong-tac-giao-duc-chinh-tri...</td>\n",
       "      <td>Thiếu tướng Hoàng Văn Sỹ, Phó bí thư Đảng ủy, ...</td>\n",
       "      <td>Giáo dục</td>\n",
       "    </tr>\n",
       "    <tr>\n",
       "      <th>2264</th>\n",
       "      <td>2264</td>\n",
       "      <td>https://baomoi.com/lap-khoang-trong-thiet-bi-d...</td>\n",
       "      <td>Thiết bị dạy học Chương trình mới lớp 6 tại Tr...</td>\n",
       "      <td>Giáo dục</td>\n",
       "    </tr>\n",
       "    <tr>\n",
       "      <th>2266</th>\n",
       "      <td>2266</td>\n",
       "      <td>https://baomoi.com/giao-vien-my-bi-dieu-tra-vi...</td>\n",
       "      <td>Vụ việc xảy ra tại trường Trung học Lyndon B....</td>\n",
       "      <td>Giáo dục</td>\n",
       "    </tr>\n",
       "    <tr>\n",
       "      <th>2267</th>\n",
       "      <td>2267</td>\n",
       "      <td>https://baomoi.com/truong-tieu-hoc-ban-tru-a-l...</td>\n",
       "      <td>Trường Tiểu học Bán trú \"A\" Long Thạnh biểu di...</td>\n",
       "      <td>Giáo dục</td>\n",
       "    </tr>\n",
       "  </tbody>\n",
       "</table>\n",
       "<p>3063 rows × 4 columns</p>\n",
       "</div>"
      ],
      "text/plain": [
       "      Unnamed: 0                                               Link  \\\n",
       "0              0  https://baomoi.com/chung-ket-bong-da-nu-viet-n...   \n",
       "1              1  https://baomoi.com/sea-games-32-ngay-13-5-doan...   \n",
       "3              3  https://baomoi.com/huan-luyen-vien-mai-duc-chu...   \n",
       "4              4  https://baomoi.com/nhan-dinh-dt-nu-viet-nam-dt...   \n",
       "5              5  https://baomoi.com/tuyen-vat-viet-nam-choi-xua...   \n",
       "...          ...                                                ...   \n",
       "2258        2258  https://baomoi.com/dai-hoc-su-pham-ha-noi-cong...   \n",
       "2260        2260  https://baomoi.com/cong-tac-giao-duc-chinh-tri...   \n",
       "2264        2264  https://baomoi.com/lap-khoang-trong-thiet-bi-d...   \n",
       "2266        2266  https://baomoi.com/giao-vien-my-bi-dieu-tra-vi...   \n",
       "2267        2267  https://baomoi.com/truong-tieu-hoc-ban-tru-a-l...   \n",
       "\n",
       "                                                Content     Label  \n",
       "0     Tại đấu trường SEA Games, đội tuyển nữ Việt Na...  Thể thao  \n",
       "1     5 vận động viên giành 3 tấm HCV của Đội tuyển ...  Thể thao  \n",
       "3     Huấn luyện viên Mai Đức Chung chia sẻ cảm xúc,...  Thể thao  \n",
       "4     Theo lịch thi đấu bóng đá SEA Games 32 hôm nay...  Thể thao  \n",
       "5     Đô vật Trần Ánh Tuyết có tấm HCV tại SEA Games...  Thể thao  \n",
       "...                                                 ...       ...  \n",
       "2258  Sau khi kỳ thi đánh giá năng lực kết thúc, Trư...  Giáo dục  \n",
       "2260  Thiếu tướng Hoàng Văn Sỹ, Phó bí thư Đảng ủy, ...  Giáo dục  \n",
       "2264  Thiết bị dạy học Chương trình mới lớp 6 tại Tr...  Giáo dục  \n",
       "2266   Vụ việc xảy ra tại trường Trung học Lyndon B....  Giáo dục  \n",
       "2267  Trường Tiểu học Bán trú \"A\" Long Thạnh biểu di...  Giáo dục  \n",
       "\n",
       "[3063 rows x 4 columns]"
      ]
     },
     "execution_count": 76,
     "metadata": {},
     "output_type": "execute_result"
    }
   ],
   "source": [
    "data"
   ]
  },
  {
   "cell_type": "code",
   "execution_count": 77,
   "metadata": {},
   "outputs": [
    {
     "name": "stdout",
     "output_type": "stream",
     "text": [
      "<class 'pandas.core.frame.DataFrame'>\n",
      "Int64Index: 3063 entries, 0 to 2267\n",
      "Data columns (total 4 columns):\n",
      " #   Column      Non-Null Count  Dtype \n",
      "---  ------      --------------  ----- \n",
      " 0   Unnamed: 0  3063 non-null   int64 \n",
      " 1   Link        3063 non-null   object\n",
      " 2   Content     3063 non-null   object\n",
      " 3   Label       3063 non-null   object\n",
      "dtypes: int64(1), object(3)\n",
      "memory usage: 119.6+ KB\n"
     ]
    }
   ],
   "source": [
    "data.info()"
   ]
  },
  {
   "cell_type": "code",
   "execution_count": 78,
   "metadata": {},
   "outputs": [
    {
     "data": {
      "text/plain": [
       "Thể thao     1576\n",
       "Giáo dục     1470\n",
       "Thế giới        9\n",
       "Pháp luật       2\n",
       "Kinh tế         2\n",
       "Công nghệ       2\n",
       "Đời sống        1\n",
       "Xã hội          1\n",
       "Name: Label, dtype: int64"
      ]
     },
     "execution_count": 78,
     "metadata": {},
     "output_type": "execute_result"
    }
   ],
   "source": [
    "data[\"Label\"].value_counts()"
   ]
  },
  {
   "cell_type": "code",
   "execution_count": 79,
   "metadata": {},
   "outputs": [],
   "source": [
    "label1 = [\"Kinh tế\", 'Pháp luật', 'Thể thao', 'Giải trí', 'Giáo dục', \"Sức khoẻ\"]\n",
    "label2 = ['kinhte', 'giaitri', 'giaoduc', 'phapluat', 'thethao', 'suckhoe']"
   ]
  },
  {
   "cell_type": "code",
   "execution_count": 80,
   "metadata": {},
   "outputs": [],
   "source": [
    "data = data[data[\"Label\"].isin(label1)]"
   ]
  },
  {
   "cell_type": "code",
   "execution_count": 81,
   "metadata": {},
   "outputs": [],
   "source": [
    "dic_label1 = {\"Kinh tế\": \"business\", 'Pháp luật': \"politics\", 'Thể thao': \"sport\", \"Giải trí\": \"entertainment\", \"Giáo dục\":'education'}\n",
    "dic_label2 = {'kinhte':'business', 'giaitri':'entertainment', 'giaoduc':'education', 'phapluat':'politics', 'thethao':'sport', 'suckhoe':'health'}\n",
    "def change_name_label(x):\n",
    "  return dic_label1[x] "
   ]
  },
  {
   "cell_type": "code",
   "execution_count": 82,
   "metadata": {},
   "outputs": [
    {
     "name": "stderr",
     "output_type": "stream",
     "text": [
      "/var/folders/3p/99_58tl56kzdbsb1dw6qrs3m0000gn/T/ipykernel_87567/4028833633.py:1: SettingWithCopyWarning: \n",
      "A value is trying to be set on a copy of a slice from a DataFrame.\n",
      "Try using .loc[row_indexer,col_indexer] = value instead\n",
      "\n",
      "See the caveats in the documentation: https://pandas.pydata.org/pandas-docs/stable/user_guide/indexing.html#returning-a-view-versus-a-copy\n",
      "  data['Label'] = data[\"Label\"].apply(change_name_label)\n"
     ]
    }
   ],
   "source": [
    "data['Label'] = data[\"Label\"].apply(change_name_label)"
   ]
  },
  {
   "cell_type": "code",
   "execution_count": 83,
   "metadata": {},
   "outputs": [
    {
     "data": {
      "text/plain": [
       "sport        1576\n",
       "education    1470\n",
       "politics        2\n",
       "business        2\n",
       "Name: Label, dtype: int64"
      ]
     },
     "execution_count": 83,
     "metadata": {},
     "output_type": "execute_result"
    }
   ],
   "source": [
    "data[\"Label\"].value_counts()"
   ]
  },
  {
   "cell_type": "code",
   "execution_count": 84,
   "metadata": {},
   "outputs": [],
   "source": [
    "data.to_csv(path_to_dataset + \"merged_sport_education.csv\")"
   ]
  }
 ],
 "metadata": {
  "kernelspec": {
   "display_name": "Python 3",
   "language": "python",
   "name": "python3"
  },
  "language_info": {
   "codemirror_mode": {
    "name": "ipython",
    "version": 3
   },
   "file_extension": ".py",
   "mimetype": "text/x-python",
   "name": "python",
   "nbconvert_exporter": "python",
   "pygments_lexer": "ipython3",
   "version": "3.10.5"
  },
  "orig_nbformat": 4
 },
 "nbformat": 4,
 "nbformat_minor": 2
}
