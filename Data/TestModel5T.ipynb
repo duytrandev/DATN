{
 "cells": [
  {
   "cell_type": "code",
   "execution_count": 1,
   "metadata": {},
   "outputs": [],
   "source": [
    "from transformers import (\n",
    "    AdamW,\n",
    "    T5ForConditionalGeneration,\n",
    "    T5TokenizerFast as T5Tokenizer\n",
    ")\n",
    "from tqdm.auto import tqdm"
   ]
  },
  {
   "cell_type": "code",
   "execution_count": 2,
   "metadata": {},
   "outputs": [],
   "source": [
    "import torch"
   ]
  },
  {
   "cell_type": "code",
   "execution_count": 3,
   "metadata": {},
   "outputs": [
    {
     "name": "stderr",
     "output_type": "stream",
     "text": [
      "C:\\Users\\hotai\\AppData\\Local\\Packages\\PythonSoftwareFoundation.Python.3.10_qbz5n2kfra8p0\\LocalCache\\local-packages\\Python310\\site-packages\\torchmetrics\\functional\\text\\chrf.py:43: UserWarning: Failed to initialize NumPy: module compiled against API version 0x10 but this version of numpy is 0xf (Triggered internally at  ..\\torch\\csrc\\utils\\tensor_numpy.cpp:68.)\n",
      "  _EPS_SMOOTHING = tensor(1e-16)\n"
     ]
    }
   ],
   "source": [
    "import pytorch_lightning as pl"
   ]
  },
  {
   "cell_type": "code",
   "execution_count": 4,
   "metadata": {},
   "outputs": [],
   "source": [
    "import pandas as pd\n",
    "import numpy as np\n",
    "import torch\n",
    "import transformers\n",
    "from pathlib import Path\n",
    "from torch.utils.data import Dataset, DataLoader"
   ]
  },
  {
   "cell_type": "code",
   "execution_count": 5,
   "metadata": {},
   "outputs": [],
   "source": [
    "MODEL_NAME = \"minhtoan/t5-small-vietnamese-news\"\n",
    "\n",
    "# MODEL_NAME = \"minhtoan/t5-small-vietnamese-news\"\n",
    "tokenizer = T5Tokenizer.from_pretrained(MODEL_NAME)"
   ]
  },
  {
   "cell_type": "code",
   "execution_count": 6,
   "metadata": {},
   "outputs": [],
   "source": [
    "src = 'VKS cáo buộc ông Nguyễn Thế Hiệp có sai phạm trong vụ cháy gần Bệnh viện Nhi trung ương khiến 2 người chết, thiệt hại 1,9 tỷ đồng song bị cáo khẳng định vô tội. Mức án đề nghị 9-10 năm tù với bị cáo 73 tuổi được đại diện VKSND quận Ba Đình đưa ra chiều 28/11, quy buộc phạm tội Vi phạm quy định về phòng cháy chữa cháy, theo Điều 313 Bộ luật Hình sự. VKS nhận định ông Hiệp có lỗi trong việc vận hành nhà trọ không phép, không đủ điều kiện an toàn phòng cháy chữa cháy, gây thiệt hại về tài sản và khiến hai người chết. Tuy nhiên, bị cáo chưa bồi thường. Bản luận tội nêu, tại phiên tòa hôm nay ông Hiệp \"chưa tỏ thái độ ăn năn hối hận, có nhân thân đặc biệt xấu\". Từ hàng chục năm trước, ông từng 11 lần bị lập danh chỉ bản về hành vi trộm cắp, năm 1985 lại nhận 18 năm tù về các tội cướp tài sản, hiếp dâm, đưa hối lộ...'# "
   ]
  },
  {
   "cell_type": "code",
   "execution_count": 7,
   "metadata": {},
   "outputs": [
    {
     "data": {
      "text/plain": [
       "{'input_ids': tensor([[  434, 12016,  4625,   268,   758,  1514,   297,   259,  1735,   259,\n",
       "         15355,  1516,  1302,   447, 41352,   885,  9474,   690,  1262,   282,\n",
       "           259,  1369,   300,  1308, 24151,   276,   259,   318,  1313,   364,\n",
       "          6576,   334,   300,  1375,  4693,   266,   259, 12046,   259,  2292,\n",
       "          2076,  1405,   356,  1672,   562,  1878,   261,   394,  5925,   382,\n",
       "          1155, 76209,   259,   270,  8679,  5013, 15482,   330,   933,  4625,\n",
       "           268,  1312, 10261,   370,   355,  3902,   300,  1858,   259,   270,\n",
       "          2291,   260,   352,  1690,   259,  1301,   355,  1492,  3442,   933,\n",
       "           259, 97657,   259,  3488,   259,   270,  1541,   300,   908,   330,\n",
       "           933,  4625,   268, 11653,   719,  1544,   266,   259,  1318,   355,\n",
       "          1155,   331,  1375,   434, 12016,  9965,   819,  2011,  2215,   977,\n",
       "          1253, 18218,   262,  1101,   317,  7989,  1190, 31347,   261,  5047,\n",
       "           758,  1514,   297,   690,  1262,   282,   259,   270,  2291,  1060,\n",
       "           690,  1262,   282,  5047,   355,  3902,   300,  1492,   690,  3633,\n",
       "         24151,   276,   562,  2342,   262, 24151,   276,   261,  7576,   977,\n",
       "          1990, 88725,   364,  1514,  1411,  2043,   447,  1253,   259,   263,\n",
       "          1242,   260,   434, 12016,   677,  2011,   355,  3902,   259,  1735,\n",
       "           447, 41352,   885,   259,   280,  3172,   266,   259,  1369,   300,\n",
       "          3452,   297,   300,  2011,   259,  3449,   677,   369,   534,  1056,\n",
       "          1284,   690, 11239,   261,  1284,   355,   708,   355,  1990,   408,\n",
       "          1375,   461,   288,  2353,   690,  3633, 24151,   276,   562,  2342,\n",
       "           262, 24151,   276,   261, 17917,   276,   394,  5925,   382,  1155,\n",
       "           300,  1492,   259,   270,  2055,   259,   263,  1629,   259,   793,\n",
       "          2076,  1405,  1776,  1672,   562,  1878,   260,   259, 19791,   677,\n",
       "          2271,   261,   330,   933,  4625,   268,   562,  2294,   262,   330,\n",
       "          2434,   266,   394,  2241,   260,   364,  1629,  1411,  2011,   259,\n",
       "           270,  2291, 40815,   273,   261,   259,   270,  1155,   690,  2271,\n",
       "           259, 41821,   262, 25563,   282,  8735,   259,  1735,   447, 41352,\n",
       "           313,   297, 10741,   262,   259,   270,  2071, 24192,   266,  2214,\n",
       "           259,  2296,   259,   272,  2296,   382,  2163,   382,  2011,   261,\n",
       "           885,   677,  1534,   394,  1534,   355,  1335,   297,   330,  5925,\n",
       "           259,   329,  1345,   273,  1191,   366,  1409,  3057,   562,  2902,\n",
       "           259,  3488,  7020,   261,   259,  1735,   259,   270,  1409,   370,\n",
       "           730,   259,   280,  1313,   330,   933,   259,   280,  2627,   259,\n",
       "         54640,   317,  2802,   330,  1629,   300,  1492,   259,  3449,   625,\n",
       "           534,  1514,   282,   317,  2289,   325,   261,   259,  3488, 22352,\n",
       "          2700,   266,   677,  2011,   812,   259,  3488,   259,   270,  1541,\n",
       "           300,  1492,   259,  1226,   259,   270,  2291,   317, 11871,   325,\n",
       "           259,   270,  2055,   259,   263,  1629,   261,   259, 12493,   325,\n",
       "           331,  6030,   261, 18218,   262,   382,  2163,   259,   280,  1514,\n",
       "           302,     1]]), 'attention_mask': tensor([[1, 1, 1, 1, 1, 1, 1, 1, 1, 1, 1, 1, 1, 1, 1, 1, 1, 1, 1, 1, 1, 1, 1, 1,\n",
       "         1, 1, 1, 1, 1, 1, 1, 1, 1, 1, 1, 1, 1, 1, 1, 1, 1, 1, 1, 1, 1, 1, 1, 1,\n",
       "         1, 1, 1, 1, 1, 1, 1, 1, 1, 1, 1, 1, 1, 1, 1, 1, 1, 1, 1, 1, 1, 1, 1, 1,\n",
       "         1, 1, 1, 1, 1, 1, 1, 1, 1, 1, 1, 1, 1, 1, 1, 1, 1, 1, 1, 1, 1, 1, 1, 1,\n",
       "         1, 1, 1, 1, 1, 1, 1, 1, 1, 1, 1, 1, 1, 1, 1, 1, 1, 1, 1, 1, 1, 1, 1, 1,\n",
       "         1, 1, 1, 1, 1, 1, 1, 1, 1, 1, 1, 1, 1, 1, 1, 1, 1, 1, 1, 1, 1, 1, 1, 1,\n",
       "         1, 1, 1, 1, 1, 1, 1, 1, 1, 1, 1, 1, 1, 1, 1, 1, 1, 1, 1, 1, 1, 1, 1, 1,\n",
       "         1, 1, 1, 1, 1, 1, 1, 1, 1, 1, 1, 1, 1, 1, 1, 1, 1, 1, 1, 1, 1, 1, 1, 1,\n",
       "         1, 1, 1, 1, 1, 1, 1, 1, 1, 1, 1, 1, 1, 1, 1, 1, 1, 1, 1, 1, 1, 1, 1, 1,\n",
       "         1, 1, 1, 1, 1, 1, 1, 1, 1, 1, 1, 1, 1, 1, 1, 1, 1, 1, 1, 1, 1, 1, 1, 1,\n",
       "         1, 1, 1, 1, 1, 1, 1, 1, 1, 1, 1, 1, 1, 1, 1, 1, 1, 1, 1, 1, 1, 1, 1, 1,\n",
       "         1, 1, 1, 1, 1, 1, 1, 1, 1, 1, 1, 1, 1, 1, 1, 1, 1, 1, 1, 1, 1, 1, 1, 1,\n",
       "         1, 1, 1, 1, 1, 1, 1, 1, 1, 1, 1, 1, 1, 1, 1, 1, 1, 1, 1, 1, 1, 1, 1, 1,\n",
       "         1, 1, 1, 1, 1, 1, 1, 1, 1, 1, 1, 1, 1, 1, 1, 1, 1, 1, 1, 1, 1, 1, 1, 1,\n",
       "         1, 1, 1, 1, 1, 1, 1, 1, 1, 1, 1, 1, 1, 1, 1, 1, 1, 1, 1, 1, 1, 1, 1, 1,\n",
       "         1, 1, 1, 1, 1, 1, 1, 1, 1, 1, 1, 1, 1, 1, 1, 1, 1, 1, 1, 1, 1, 1, 1, 1,\n",
       "         1, 1, 1, 1, 1, 1, 1, 1, 1, 1, 1, 1, 1, 1, 1, 1, 1, 1]])}"
      ]
     },
     "execution_count": 7,
     "metadata": {},
     "output_type": "execute_result"
    }
   ],
   "source": [
    "tokenized_text = tokenizer(src, return_tensors=\"pt\")\n",
    "tokenized_text"
   ]
  },
  {
   "cell_type": "code",
   "execution_count": 8,
   "metadata": {},
   "outputs": [],
   "source": [
    "class NewsSummaryDataset(Dataset):\n",
    " def __init__(\n",
    "      self,\n",
    "      data: pd.DataFrame,\n",
    "      tokenizer: T5Tokenizer,\n",
    "      text_max_token_len: int = 512,\n",
    "      summary_max_token_len: int = 128\n",
    " ):\n",
    "   self.tokenizer = tokenizer\n",
    "   self.data = data\n",
    "   self.text_max_token_len = text_max_token_len\n",
    "   self.summary_max_token_len = summary_max_token_len\n",
    " def __len__(self):\n",
    "   return len(self.data)\n",
    " def __getitem__(self, index : int):\n",
    "   data_row = self.data.iloc[index]\n",
    "\n",
    "   text = data_row[\"Content\"]\n",
    "   text_encoding = tokenizer(\n",
    "       text,\n",
    "       max_length = self.text_max_token_len,\n",
    "       padding = \"max_length\",\n",
    "       truncation = True,\n",
    "       return_attention_mask = True,\n",
    "       add_special_tokens = True,\n",
    "       return_tensors = \"pt\"\n",
    "   )\n",
    "   summary_encoding = tokenizer(\n",
    "       data_row[\"Summary\"],\n",
    "       max_length = self.summary_max_token_len,\n",
    "       padding = \"max_length\",\n",
    "       truncation = True,\n",
    "       return_attention_mask = True,\n",
    "       add_special_tokens = True,\n",
    "       return_tensors = \"pt\"\n",
    "   )\n",
    "   labels = summary_encoding[\"input_ids\"]\n",
    "   labels[labels == 0] = -100\n",
    "\n",
    "   return dict(\n",
    "       text = text,\n",
    "       summary = data_row[\"Summary\"],\n",
    "       text_input_ids = text_encoding[\"input_ids\"].flatten(),\n",
    "       text_attention_mask = text_encoding[\"attention_mask\"].flatten(),\n",
    "       labels = labels.flatten(),\n",
    "       labels_attention_mask = summary_encoding[\"attention_mask\"].flatten()\n",
    "   )"
   ]
  },
  {
   "cell_type": "code",
   "execution_count": 9,
   "metadata": {},
   "outputs": [],
   "source": [
    "class NewsSummaryDataModule(pl.LightningDataModule):\n",
    "   def __init__(\n",
    "       self,\n",
    "       train_df: pd.DataFrame,\n",
    "       test_df: pd.DataFrame,\n",
    "       tokenizer: T5Tokenizer,\n",
    "       batch_size: int = 8 ,\n",
    "       text_max_token_len: int =512,\n",
    "       summary_max_token_len: int = 128\n",
    "   ):\n",
    "       super().__init__()\n",
    "       self.train_df = train_df\n",
    "       self.test_df = test_df\n",
    "\n",
    "       self.batch_size = batch_size\n",
    "       self.tokenizer = tokenizer\n",
    "\n",
    "       self.text_max_token_len = text_max_token_len\n",
    "       self.summary_max_token_len = summary_max_token_len\n",
    "   def setup(self, stage = None):\n",
    "      self.train_dataset = NewsSummaryDataset(\n",
    "          self.train_df,\n",
    "          self.tokenizer,\n",
    "          self.text_max_token_len,\n",
    "          self.summary_max_token_len\n",
    "      )\n",
    "      self.test_dataset = NewsSummaryDataset(\n",
    "          self.test_df,\n",
    "          self.tokenizer,\n",
    "          self.text_max_token_len,\n",
    "          self.summary_max_token_len\n",
    "      )\n",
    "   def train_dataloader(self):\n",
    "      return DataLoader(\n",
    "          self.train_dataset,\n",
    "          batch_size = self.batch_size,\n",
    "          shuffle = True,\n",
    "          num_workers = 2\n",
    "      )\n",
    "   def val_dataloader(self):\n",
    "     return DataLoader(\n",
    "       self.test_dataset,\n",
    "       batch_size = self.batch_size,\n",
    "       shuffle = True,\n",
    "       num_workers = 2\n",
    "     )"
   ]
  },
  {
   "cell_type": "code",
   "execution_count": 10,
   "metadata": {},
   "outputs": [],
   "source": [
    "class NewsSummaryModel(pl.LightningModule):\n",
    "   def __init__(self):\n",
    "     super().__init__()\n",
    "     self.model =  T5ForConditionalGeneration.from_pretrained(MODEL_NAME, return_dict = True)\n",
    "   def forward(self, input_ids, attention_mask, decoder_attention_mask, labels = None):\n",
    "     output = self.model(\n",
    "         input_ids,\n",
    "         attention_mask = attention_mask,\n",
    "         labels = labels,\n",
    "         decoder_attention_mask = decoder_attention_mask\n",
    "     )\n",
    "\n",
    "     return output.loss, output.logits\n",
    "\n",
    "   def training_step(self, batch, batch_idx):\n",
    "     input_ids = batch[\"text_input_ids\"]\n",
    "     attention_mask = batch[\"text_attention_mask\"]\n",
    "     labels = batch[\"labels\"]\n",
    "     labels_attention_mask = batch[\"labels_attention_mask\"]\n",
    "\n",
    "     loss, outputs = self(\n",
    "         input_ids = input_ids,\n",
    "         attention_mask = attention_mask,\n",
    "         decoder_attention_mask = labels_attention_mask,\n",
    "         labels = labels\n",
    "     )\n",
    "     self.log(\"train_loss\", loss, prog_bar = True, logger = True)\n",
    "     return loss\n",
    "   def validation_step(self, batch, batch_idx):\n",
    "     input_ids = batch[\"text_input_ids\"]\n",
    "     attention_mask = batch[\"text_attention_mask\"]\n",
    "     labels = batch[\"labels\"]\n",
    "     labels_attention_mask = batch[\"labels_attention_mask\"]\n",
    "\n",
    "     loss, outputs = self(\n",
    "         input_ids = input_ids,\n",
    "         attention_mask = attention_mask,\n",
    "         decoder_attention_mask = labels_attention_mask,\n",
    "         labels = labels\n",
    "     )\n",
    "     self.log(\"val_loss\", loss, prog_bar = True, logger = True)\n",
    "     return loss\n",
    "\n",
    "   def test_step(self, batch, batch_idx):\n",
    "     input_ids = batch[\"text_input_ids\"]\n",
    "     attention_mask = batch[\"text_attention_mask\"]\n",
    "     labels = batch[\"labels\"]\n",
    "     labels_attention_mask = batch[\"labels_attention_mask\"]\n",
    "\n",
    "     loss, outputs = self(\n",
    "         input_ids = input_ids,\n",
    "         attention_mask = attention_mask,\n",
    "         decoder_attention_mask = labels_attention_mask,\n",
    "         labels = labels\n",
    "     )\n",
    "\n",
    "     self.log(\"test_loss\", loss, prog_bar = True, logger = True)\n",
    "     return loss\n",
    "\n",
    "   def configure_optimizers(self):\n",
    "     return AdamW(self.parameters(), lr = 0.0001)"
   ]
  },
  {
   "cell_type": "code",
   "execution_count": 11,
   "metadata": {},
   "outputs": [
    {
     "name": "stderr",
     "output_type": "stream",
     "text": [
      "C:\\Users\\hotai\\AppData\\Local\\Packages\\PythonSoftwareFoundation.Python.3.10_qbz5n2kfra8p0\\LocalCache\\local-packages\\Python310\\site-packages\\pytorch_lightning\\utilities\\migration\\utils.py:51: PossibleUserWarning: The loaded checkpoint was produced with Lightning v2.0.4, which is newer than your current Lightning version: v2.0.3\n",
      "  rank_zero_warn(\n"
     ]
    }
   ],
   "source": [
    "trained_model = NewsSummaryModel.load_from_checkpoint(\n",
    "    './best-checkpoint_cpu.ckpt'\n",
    ")"
   ]
  },
  {
   "cell_type": "code",
   "execution_count": null,
   "metadata": {},
   "outputs": [],
   "source": []
  },
  {
   "cell_type": "code",
   "execution_count": 20,
   "metadata": {},
   "outputs": [],
   "source": [
    "text='''Vào giữa năm 2022, các đối thủ trong khu vực của Grab như Sea Group (công ty mẹ Shopee) và GoTo Group (công ty mẹ Gojek) đều đã trải qua nhiều đợt cắt giảm hàng ngàn nhân sự. Tuy nhiên, Tập đoàn Công nghệ Grab vẫn duy trì chính sách hạn chế sa thải và chỉ giảm tốc tuyển dụng, cũng như hợp lý hoá một số chức năng.\n",
    "\n",
    "Vào tháng 9/2022, Alex Hungate - Giám đốc vận hành Grab tuyên bố, công ty không nằm trong xu hướng này. Vị lãnh đạo này cũng nhấn mạnh, công ty luôn thận trọng trong hoạt động tuyển dụng và chưa thấy bất cứ khó khăn nào để ngừng tuyển dụng hoặc giảm số lượng nhân viên.\n",
    "\n",
    "Quan điểm không sa thải nhân viên được Tổng giám đốc kiêm nhà đồng sáng lập Grab Anthony Tan nhắc lại trong một bản ghi nhớ gửi nhân viên vào tháng 12/2022. Tuy nhiên, trong bản ghi nhớ này, Grab nói rằng đang tạm dừng tuyển dụng những vị trí không quan trọng và tạm dừng tăng lương cho các vị trí quản lý cấp cao.\n",
    "Vào tháng 6 năm nay, Grab ra thông báo cắt giảm hơn 1.000 nhân sự. Đây là một phần trong nỗ lực quản lý kinh phí và duy trì sức cạnh tranh của công ty. Cụ thể, trong thư gửi đến nhân viên được đăng tải trên trang web, Giám đốc điều hành Grab Anthony Tan khẳng định, việc tái cấu trúc là bước đi khó khăn nhưng cần thiết. Ông Tan cho rằng, các công nghệ như trí tuệ nhân tạo (AI) tạo sinh đang phát triển với tốc độ chóng mặt. Chi phí vốn đã tăng lên, ảnh hưởng trực tiếp tới bối cảnh cạnh tranh.\n",
    "\n",
    "Giám đốc điều hành của Grab cũng nhấn mạnh, mục tiêu chính của quyết định này là tổ chức lại công ty một cách chiến lược, để có thể đi nhanh hơn, làm việc thông minh hơn, và tái cân bằng các nguồn lực trong danh mục đầu tư để phù hợp với những chiến lược lâu dài. Grab đang trên đà hòa vốn trong năm nay dù không cần sa thải nhân viên. Năm 2020, Grab đã cắt giảm 360 nhân viên, tức khoảng 5% lực lượng lao động toàn thời gian, do ảnh hưởng của đại dịch COVID-19.\n",
    "\n",
    "Ông Anthony Tan cũng khẳng định, công ty gọi xe và giao đồ ăn vẫn đang “đi đúng hướng” và bác bỏ thông tin kế hoạch sa thải nhân viên là để nhanh chóng đạt được lợi nhuận. Vị lãnh đạo này cho rằng, dù điều chỉnh lực lượng lao động hay không, công ty vẫn trên con đường đạt mức hòa vốn hệ số EBITDA đã điều chỉnh trong năm nay.\n",
    "\n",
    "Lợi nhuận EBITDA đã điều chỉnh của Grab đã cải thiện 5 quý liên tiếp. Tuy nhiên, tổng giá trị hàng hóa (GMV) trong quý đầu tiên của năm nay bắt đầu có dấu hiệu đình trệ, buộc công ty phải tìm cách tăng GMV nếu muốn đạt mục tiêu hòa vốn.\n",
    "\n",
    "“Để tận dụng những cơ hội này hiệu quả nhất, chúng tôi phải kết hợp yếu tố quy mô với khả năng triển khai nhanh chóng, tiết kiệm chi phí để có thể cung cấp dịch vụ có giá cả phải chăng hơn và thâm nhập sâu hơn vào đại chúng một cách bền vững” - ông Anthony Tan khẳng định trong thông điệp gửi đến nhân viên Grab.\n",
    "'''"
   ]
  },
  {
   "cell_type": "code",
   "execution_count": 23,
   "metadata": {},
   "outputs": [],
   "source": [
    "import re"
   ]
  },
  {
   "cell_type": "code",
   "execution_count": 24,
   "metadata": {},
   "outputs": [],
   "source": [
    "def summarize(text):\n",
    "    text = re.sub(r'[^\\s\\wáàảãạăắằẳẵặâấầẩẫậéèẻẽẹêếềểễệóòỏõọôốồổỗộơớờởỡợíìỉĩịúùủũụưứừửữựýỳỷỹỵđ_.,-0123456789%]',' ',text)\n",
    "    text_encoding = tokenizer(\n",
    "        text,\n",
    "        max_length = 512,\n",
    "        padding = \"max_length\",\n",
    "        truncation = True,\n",
    "        return_attention_mask = True,\n",
    "        add_special_tokens = True,\n",
    "        return_tensors = \"pt\"\n",
    "    )\n",
    "\n",
    "    generated_ids = trained_model.model.generate(\n",
    "        input_ids = text_encoding[\"input_ids\"],\n",
    "        attention_mask = text_encoding[\"attention_mask\"],\n",
    "        max_length = 128,\n",
    "        num_beams = 2,\n",
    "        repetition_penalty=2.5,\n",
    "        length_penalty = 1.0,\n",
    "        early_stopping = True\n",
    "    )\n",
    "\n",
    "    preds = [\n",
    "        tokenizer.decode(gen_id, skip_special_tokens = True,clean_up_tokenization_spaces= True )\n",
    "        for gen_id in generated_ids\n",
    "    ]\n",
    "\n",
    "    return \"\".join(preds)"
   ]
  },
  {
   "cell_type": "code",
   "execution_count": 25,
   "metadata": {},
   "outputs": [],
   "source": [
    "model_summary = summarize(text)"
   ]
  },
  {
   "cell_type": "code",
   "execution_count": 26,
   "metadata": {},
   "outputs": [
    {
     "data": {
      "text/plain": [
       "'Tập đoàn Công nghệ Grab vẫn duy trì chính sách hạn chế sa thải và chỉ giảm tốc tuyển dụng cho các vị trí quản lý cấp cao.'"
      ]
     },
     "execution_count": 26,
     "metadata": {},
     "output_type": "execute_result"
    }
   ],
   "source": [
    "model_summary"
   ]
  },
  {
   "cell_type": "code",
   "execution_count": 18,
   "metadata": {},
   "outputs": [],
   "source": [
    "test_df=pd.read_csv(\"DataTest_v4.csv\")"
   ]
  },
  {
   "cell_type": "code",
   "execution_count": 19,
   "metadata": {},
   "outputs": [
    {
     "data": {
      "text/html": [
       "<div>\n",
       "<style scoped>\n",
       "    .dataframe tbody tr th:only-of-type {\n",
       "        vertical-align: middle;\n",
       "    }\n",
       "\n",
       "    .dataframe tbody tr th {\n",
       "        vertical-align: top;\n",
       "    }\n",
       "\n",
       "    .dataframe thead th {\n",
       "        text-align: right;\n",
       "    }\n",
       "</style>\n",
       "<table border=\"1\" class=\"dataframe\">\n",
       "  <thead>\n",
       "    <tr style=\"text-align: right;\">\n",
       "      <th></th>\n",
       "      <th>Unnamed: 0</th>\n",
       "      <th>Content</th>\n",
       "      <th>Summary</th>\n",
       "    </tr>\n",
       "  </thead>\n",
       "  <tbody>\n",
       "    <tr>\n",
       "      <th>0</th>\n",
       "      <td>0</td>\n",
       "      <td>Sáng 23.8 ,  Chủ tịch Nước Trần Đại Quang và P...</td>\n",
       "      <td>Chuyến thăm là dịp để lãnh đạo Việt Nam và các...</td>\n",
       "    </tr>\n",
       "    <tr>\n",
       "      <th>1</th>\n",
       "      <td>1</td>\n",
       "      <td>Cuối tháng 10.2020 , từ phản ánh của người dân...</td>\n",
       "      <td>Sau trận mưa lũ lịch sử trong tháng 10.2020 , ...</td>\n",
       "    </tr>\n",
       "    <tr>\n",
       "      <th>2</th>\n",
       "      <td>2</td>\n",
       "      <td>Họ rất thích cảnh đẹp Vịnh Rồng nhưng chê thậm...</td>\n",
       "      <td>Tôi vừa tiễn một đoàn khách Pháp 10 người , đi...</td>\n",
       "    </tr>\n",
       "    <tr>\n",
       "      <th>3</th>\n",
       "      <td>3</td>\n",
       "      <td>Theo đó , bà Hồ Thu Ánh - Giám đốc Sở Lao động...</td>\n",
       "      <td>Ngày 3.12 , Hội đồng nhân dân HĐND tỉnh Hậu Gi...</td>\n",
       "    </tr>\n",
       "    <tr>\n",
       "      <th>4</th>\n",
       "      <td>4</td>\n",
       "      <td>Trên đây là câu hỏi của bạn đọc có email maikh...</td>\n",
       "      <td>Anh chị tôi đã qua đời để lại một con nhỏ mới ...</td>\n",
       "    </tr>\n",
       "    <tr>\n",
       "      <th>...</th>\n",
       "      <td>...</td>\n",
       "      <td>...</td>\n",
       "      <td>...</td>\n",
       "    </tr>\n",
       "    <tr>\n",
       "      <th>3330</th>\n",
       "      <td>3330</td>\n",
       "      <td>Ngày 12.6 , Chỉ huy Đồn Biên phòng Ba Sơn tỉnh...</td>\n",
       "      <td>Mua được số ma tuý , Vi Văn Hùng 30 tuổi , huy...</td>\n",
       "    </tr>\n",
       "    <tr>\n",
       "      <th>3331</th>\n",
       "      <td>3331</td>\n",
       "      <td>Chiều 5.4.2022 , tại Trụ sở Chính phủ , Thủ tư...</td>\n",
       "      <td>Thủ tướng Phạm Minh Chính đề nghị Panama , một...</td>\n",
       "    </tr>\n",
       "    <tr>\n",
       "      <th>3332</th>\n",
       "      <td>3332</td>\n",
       "      <td>Theo Sina ngày 19/4 , trong hôn lễ ở đảo Bali ...</td>\n",
       "      <td>Hà Siêu Liên , con gái Vua sòng bạc Macau , nó...</td>\n",
       "    </tr>\n",
       "    <tr>\n",
       "      <th>3333</th>\n",
       "      <td>3333</td>\n",
       "      <td>Theo đó , Anh đã đăng trên Facebook có tài kho...</td>\n",
       "      <td>Chiều ngày 1.4 , Phòng An ninh Chính trị nội b...</td>\n",
       "    </tr>\n",
       "    <tr>\n",
       "      <th>3334</th>\n",
       "      <td>3334</td>\n",
       "      <td>Chiều ngày 28.10 , thông tin từ Công an tỉnh T...</td>\n",
       "      <td>Thanh Hoá - Nguyên nhân ban đầu dẫn tới vụ án ...</td>\n",
       "    </tr>\n",
       "  </tbody>\n",
       "</table>\n",
       "<p>3335 rows × 3 columns</p>\n",
       "</div>"
      ],
      "text/plain": [
       "      Unnamed: 0                                            Content  \\\n",
       "0              0  Sáng 23.8 ,  Chủ tịch Nước Trần Đại Quang và P...   \n",
       "1              1  Cuối tháng 10.2020 , từ phản ánh của người dân...   \n",
       "2              2  Họ rất thích cảnh đẹp Vịnh Rồng nhưng chê thậm...   \n",
       "3              3  Theo đó , bà Hồ Thu Ánh - Giám đốc Sở Lao động...   \n",
       "4              4  Trên đây là câu hỏi của bạn đọc có email maikh...   \n",
       "...          ...                                                ...   \n",
       "3330        3330  Ngày 12.6 , Chỉ huy Đồn Biên phòng Ba Sơn tỉnh...   \n",
       "3331        3331  Chiều 5.4.2022 , tại Trụ sở Chính phủ , Thủ tư...   \n",
       "3332        3332  Theo Sina ngày 19/4 , trong hôn lễ ở đảo Bali ...   \n",
       "3333        3333  Theo đó , Anh đã đăng trên Facebook có tài kho...   \n",
       "3334        3334  Chiều ngày 28.10 , thông tin từ Công an tỉnh T...   \n",
       "\n",
       "                                                Summary  \n",
       "0     Chuyến thăm là dịp để lãnh đạo Việt Nam và các...  \n",
       "1     Sau trận mưa lũ lịch sử trong tháng 10.2020 , ...  \n",
       "2     Tôi vừa tiễn một đoàn khách Pháp 10 người , đi...  \n",
       "3     Ngày 3.12 , Hội đồng nhân dân HĐND tỉnh Hậu Gi...  \n",
       "4     Anh chị tôi đã qua đời để lại một con nhỏ mới ...  \n",
       "...                                                 ...  \n",
       "3330  Mua được số ma tuý , Vi Văn Hùng 30 tuổi , huy...  \n",
       "3331  Thủ tướng Phạm Minh Chính đề nghị Panama , một...  \n",
       "3332  Hà Siêu Liên , con gái Vua sòng bạc Macau , nó...  \n",
       "3333  Chiều ngày 1.4 , Phòng An ninh Chính trị nội b...  \n",
       "3334  Thanh Hoá - Nguyên nhân ban đầu dẫn tới vụ án ...  \n",
       "\n",
       "[3335 rows x 3 columns]"
      ]
     },
     "execution_count": 19,
     "metadata": {},
     "output_type": "execute_result"
    }
   ],
   "source": [
    "test_df"
   ]
  },
  {
   "cell_type": "code",
   "execution_count": 20,
   "metadata": {},
   "outputs": [],
   "source": [
    "pre=[]\n",
    "testsum=[]"
   ]
  },
  {
   "cell_type": "code",
   "execution_count": 21,
   "metadata": {},
   "outputs": [],
   "source": [
    "for i in range(0,3000):\n",
    "    model_summa=summarize(test_df.Content[i])\n",
    "    testsum.append(test_df.Summary[i])\n",
    "    pre.append(model_summa)"
   ]
  },
  {
   "cell_type": "code",
   "execution_count": 22,
   "metadata": {},
   "outputs": [
    {
     "data": {
      "text/plain": [
       "{'rouge-1': {'r': 0.28368404332481134,\n",
       "  'p': 0.34885966313530314,\n",
       "  'f': 0.30359600853565083},\n",
       " 'rouge-2': {'r': 0.15567990700303233,\n",
       "  'p': 0.19789248192383732,\n",
       "  'f': 0.16785919162978566},\n",
       " 'rouge-l': {'r': 0.24443836993401327,\n",
       "  'p': 0.30110206811078666,\n",
       "  'f': 0.26182998372888167}}"
      ]
     },
     "execution_count": 22,
     "metadata": {},
     "output_type": "execute_result"
    }
   ],
   "source": [
    "from rouge import Rouge \n",
    "rouge = Rouge()\n",
    "scores = rouge.get_scores(pre, testsum, avg=True)\n",
    "scores"
   ]
  }
 ],
 "metadata": {
  "kernelspec": {
   "display_name": "Python 3",
   "language": "python",
   "name": "python3"
  },
  "language_info": {
   "codemirror_mode": {
    "name": "ipython",
    "version": 3
   },
   "file_extension": ".py",
   "mimetype": "text/x-python",
   "name": "python",
   "nbconvert_exporter": "python",
   "pygments_lexer": "ipython3",
   "version": "3.10.11"
  },
  "orig_nbformat": 4
 },
 "nbformat": 4,
 "nbformat_minor": 2
}
