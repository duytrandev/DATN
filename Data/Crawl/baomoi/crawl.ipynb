{
 "cells": [
  {
   "cell_type": "code",
   "execution_count": 1,
   "metadata": {},
   "outputs": [],
   "source": [
    "import pandas as pd\n",
    "from selenium import webdriver\n",
    "from selenium.webdriver.common.by import By\n",
    "from webdriver_manager.chrome import ChromeDriverManager\n",
    "from bs4 import BeautifulSoup\n",
    "import time"
   ]
  },
  {
   "cell_type": "code",
   "execution_count": 2,
   "metadata": {},
   "outputs": [
    {
     "data": {
      "text/plain": [
       "['https://baomoi.com/trang1.epi',\n",
       " 'https://baomoi.com/trang2.epi',\n",
       " 'https://baomoi.com/trang3.epi',\n",
       " 'https://baomoi.com/trang4.epi',\n",
       " 'https://baomoi.com/trang5.epi',\n",
       " 'https://baomoi.com/trang6.epi',\n",
       " 'https://baomoi.com/trang7.epi',\n",
       " 'https://baomoi.com/trang8.epi',\n",
       " 'https://baomoi.com/trang9.epi',\n",
       " 'https://baomoi.com/trang10.epi',\n",
       " 'https://baomoi.com/trang11.epi',\n",
       " 'https://baomoi.com/trang12.epi',\n",
       " 'https://baomoi.com/trang13.epi',\n",
       " 'https://baomoi.com/trang14.epi',\n",
       " 'https://baomoi.com/trang15.epi',\n",
       " 'https://baomoi.com/trang16.epi',\n",
       " 'https://baomoi.com/trang17.epi',\n",
       " 'https://baomoi.com/trang18.epi',\n",
       " 'https://baomoi.com/trang19.epi',\n",
       " 'https://baomoi.com/trang20.epi',\n",
       " 'https://baomoi.com/trang21.epi',\n",
       " 'https://baomoi.com/trang22.epi',\n",
       " 'https://baomoi.com/trang23.epi',\n",
       " 'https://baomoi.com/trang24.epi',\n",
       " 'https://baomoi.com/trang25.epi',\n",
       " 'https://baomoi.com/trang26.epi',\n",
       " 'https://baomoi.com/trang27.epi',\n",
       " 'https://baomoi.com/trang28.epi',\n",
       " 'https://baomoi.com/trang29.epi',\n",
       " 'https://baomoi.com/trang30.epi',\n",
       " 'https://baomoi.com/trang31.epi',\n",
       " 'https://baomoi.com/trang32.epi',\n",
       " 'https://baomoi.com/trang33.epi',\n",
       " 'https://baomoi.com/trang34.epi',\n",
       " 'https://baomoi.com/trang35.epi',\n",
       " 'https://baomoi.com/trang36.epi',\n",
       " 'https://baomoi.com/trang37.epi',\n",
       " 'https://baomoi.com/trang38.epi',\n",
       " 'https://baomoi.com/trang39.epi',\n",
       " 'https://baomoi.com/trang40.epi',\n",
       " 'https://baomoi.com/trang41.epi',\n",
       " 'https://baomoi.com/trang42.epi',\n",
       " 'https://baomoi.com/trang43.epi',\n",
       " 'https://baomoi.com/trang44.epi',\n",
       " 'https://baomoi.com/trang45.epi',\n",
       " 'https://baomoi.com/trang46.epi',\n",
       " 'https://baomoi.com/trang47.epi',\n",
       " 'https://baomoi.com/trang48.epi',\n",
       " 'https://baomoi.com/trang49.epi',\n",
       " 'https://baomoi.com/trang50.epi',\n",
       " 'https://baomoi.com/trang51.epi',\n",
       " 'https://baomoi.com/trang52.epi',\n",
       " 'https://baomoi.com/trang53.epi',\n",
       " 'https://baomoi.com/trang54.epi',\n",
       " 'https://baomoi.com/trang55.epi',\n",
       " 'https://baomoi.com/trang56.epi',\n",
       " 'https://baomoi.com/trang57.epi',\n",
       " 'https://baomoi.com/trang58.epi']"
      ]
     },
     "execution_count": 2,
     "metadata": {},
     "output_type": "execute_result"
    }
   ],
   "source": [
    "domain = \"https://baomoi.com\"\n",
    "page_index_string = \"/trang\"\n",
    "uri = \".epi\"\n",
    "path_to_save_data = \"../../Dataset/baomoi/\"\n",
    "page_urls = []\n",
    "for i in range(1,59):\n",
    "  page_url = domain + page_index_string + str(i) + uri\n",
    "  page_urls.append(page_url)\n",
    "page_urls"
   ]
  },
  {
   "cell_type": "code",
   "execution_count": 14,
   "metadata": {},
   "outputs": [
    {
     "name": "stderr",
     "output_type": "stream",
     "text": [
      "/var/folders/3p/99_58tl56kzdbsb1dw6qrs3m0000gn/T/ipykernel_953/655356866.py:2: DeprecationWarning: executable_path has been deprecated, please pass in a Service object\n",
      "  driver = webdriver.Chrome(ChromeDriverManager().install())\n"
     ]
    }
   ],
   "source": [
    "url_news = []\n",
    "driver = webdriver.Chrome(ChromeDriverManager().install())\n",
    "for page_url in page_urls:\n",
    "  driver.get(page_url)\n",
    "  time.sleep(1)\n",
    "  soup = BeautifulSoup(driver.page_source, 'html.parser')\n",
    "  tag_elements = soup.find_all('h4', class_= 'bm_G')\n",
    "  a_elements = [tag.find(\"a\") for tag in tag_elements]\n",
    "  for a in a_elements:\n",
    "    try:\n",
    "      url_news.append(domain + a['href'])\n",
    "    except:\n",
    "      pass\n",
    "driver.quit()"
   ]
  },
  {
   "cell_type": "code",
   "execution_count": 15,
   "metadata": {},
   "outputs": [],
   "source": [
    "url_news = list(set(url_news))"
   ]
  },
  {
   "cell_type": "code",
   "execution_count": 16,
   "metadata": {},
   "outputs": [
    {
     "data": {
      "text/plain": [
       "1012"
      ]
     },
     "execution_count": 16,
     "metadata": {},
     "output_type": "execute_result"
    }
   ],
   "source": [
    "len(url_news)"
   ]
  },
  {
   "cell_type": "code",
   "execution_count": 17,
   "metadata": {},
   "outputs": [
    {
     "name": "stderr",
     "output_type": "stream",
     "text": [
      "/var/folders/3p/99_58tl56kzdbsb1dw6qrs3m0000gn/T/ipykernel_953/4187799591.py:1: DeprecationWarning: executable_path has been deprecated, please pass in a Service object\n",
      "  driver = webdriver.Chrome(ChromeDriverManager().install())\n"
     ]
    }
   ],
   "source": [
    "driver = webdriver.Chrome(ChromeDriverManager().install())\n",
    "contents = []\n",
    "labels = []\n",
    "for link in url_news:\n",
    "  driver.get(link)\n",
    "  time.sleep(1)\n",
    "  soup = BeautifulSoup(driver.page_source, 'html.parser')\n",
    "  try: \n",
    "    content_element = soup.find_all(\"p\", class_= \"bm_BL\")\n",
    "    filtered_content_element = [elem for elem in content_element if not elem.has_attr('class') or 'bm_IO' not in elem.get('class')]\n",
    "    content_string = \" \".join([block_content.text for block_content in filtered_content_element])\n",
    "    label_element = soup.find(\"a\", class_= \"bm_X\")\n",
    "    # if content_string in contents: \n",
    "    #   print(contents.index(content_string))\n",
    "    #   print(url_news.index(content_string))\n",
    "    #   print(link)\n",
    "    #   continue\n",
    "    contents.append(content_string)\n",
    "    if label_element:\n",
    "      labels.append(label_element.text)\n",
    "    else:\n",
    "      labels.append(\"\")\n",
    "    if(len(contents) != len(labels)):\n",
    "      print(link)\n",
    "      print(content_string)\n",
    "      print(label_element.text)\n",
    "      break\n",
    "  except: \n",
    "    pass\n",
    "driver.quit()"
   ]
  },
  {
   "cell_type": "code",
   "execution_count": null,
   "metadata": {},
   "outputs": [
    {
     "name": "stdout",
     "output_type": "stream",
     "text": [
      "0 0 0\n",
      "0\n"
     ]
    }
   ],
   "source": [
    "print(len(url_news) , len(contents) , len(labels))\n",
    "x = list(set(url_news))\n",
    "print(len(x))"
   ]
  },
  {
   "cell_type": "code",
   "execution_count": null,
   "metadata": {},
   "outputs": [],
   "source": [
    "df = pd.DataFrame({\"Link\": url_news, \"Content\": contents, \"Label\": labels})"
   ]
  },
  {
   "cell_type": "code",
   "execution_count": null,
   "metadata": {},
   "outputs": [
    {
     "data": {
      "text/html": [
       "<div>\n",
       "<style scoped>\n",
       "    .dataframe tbody tr th:only-of-type {\n",
       "        vertical-align: middle;\n",
       "    }\n",
       "\n",
       "    .dataframe tbody tr th {\n",
       "        vertical-align: top;\n",
       "    }\n",
       "\n",
       "    .dataframe thead th {\n",
       "        text-align: right;\n",
       "    }\n",
       "</style>\n",
       "<table border=\"1\" class=\"dataframe\">\n",
       "  <thead>\n",
       "    <tr style=\"text-align: right;\">\n",
       "      <th></th>\n",
       "      <th>Link</th>\n",
       "      <th>Content</th>\n",
       "      <th>Label</th>\n",
       "    </tr>\n",
       "  </thead>\n",
       "  <tbody>\n",
       "  </tbody>\n",
       "</table>\n",
       "</div>"
      ],
      "text/plain": [
       "Empty DataFrame\n",
       "Columns: [Link, Content, Label]\n",
       "Index: []"
      ]
     },
     "execution_count": 9,
     "metadata": {},
     "output_type": "execute_result"
    }
   ],
   "source": [
    "df"
   ]
  },
  {
   "cell_type": "code",
   "execution_count": null,
   "metadata": {},
   "outputs": [],
   "source": [
    "df.to_csv(path_to_save_data+\"data_v8.csv\", encoding= \"utf-8\")"
   ]
  }
 ],
 "metadata": {
  "kernelspec": {
   "display_name": "Python 3",
   "language": "python",
   "name": "python3"
  },
  "language_info": {
   "codemirror_mode": {
    "name": "ipython",
    "version": 3
   },
   "file_extension": ".py",
   "mimetype": "text/x-python",
   "name": "python",
   "nbconvert_exporter": "python",
   "pygments_lexer": "ipython3",
   "version": "3.10.5"
  },
  "orig_nbformat": 4
 },
 "nbformat": 4,
 "nbformat_minor": 2
}
