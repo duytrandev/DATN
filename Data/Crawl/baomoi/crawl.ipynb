{
 "cells": [
  {
   "cell_type": "code",
   "execution_count": 1,
   "metadata": {},
   "outputs": [],
   "source": [
    "import pandas as pd\n",
    "from selenium import webdriver\n",
    "from selenium.webdriver.common.by import By\n",
    "from webdriver_manager.chrome import ChromeDriverManager\n",
    "from bs4 import BeautifulSoup\n",
    "import time"
   ]
  },
  {
   "cell_type": "code",
   "execution_count": 2,
   "metadata": {},
   "outputs": [
    {
     "data": {
      "text/plain": [
       "['https://baomoi.com/trang1.epi',\n",
       " 'https://baomoi.com/trang2.epi',\n",
       " 'https://baomoi.com/trang3.epi',\n",
       " 'https://baomoi.com/trang4.epi',\n",
       " 'https://baomoi.com/trang5.epi',\n",
       " 'https://baomoi.com/trang6.epi',\n",
       " 'https://baomoi.com/trang7.epi',\n",
       " 'https://baomoi.com/trang8.epi',\n",
       " 'https://baomoi.com/trang9.epi',\n",
       " 'https://baomoi.com/trang10.epi',\n",
       " 'https://baomoi.com/trang11.epi',\n",
       " 'https://baomoi.com/trang12.epi',\n",
       " 'https://baomoi.com/trang13.epi',\n",
       " 'https://baomoi.com/trang14.epi',\n",
       " 'https://baomoi.com/trang15.epi',\n",
       " 'https://baomoi.com/trang16.epi',\n",
       " 'https://baomoi.com/trang17.epi',\n",
       " 'https://baomoi.com/trang18.epi',\n",
       " 'https://baomoi.com/trang19.epi',\n",
       " 'https://baomoi.com/trang20.epi',\n",
       " 'https://baomoi.com/trang21.epi',\n",
       " 'https://baomoi.com/trang22.epi',\n",
       " 'https://baomoi.com/trang23.epi',\n",
       " 'https://baomoi.com/trang24.epi',\n",
       " 'https://baomoi.com/trang25.epi',\n",
       " 'https://baomoi.com/trang26.epi',\n",
       " 'https://baomoi.com/trang27.epi',\n",
       " 'https://baomoi.com/trang28.epi',\n",
       " 'https://baomoi.com/trang29.epi',\n",
       " 'https://baomoi.com/trang30.epi',\n",
       " 'https://baomoi.com/trang31.epi',\n",
       " 'https://baomoi.com/trang32.epi',\n",
       " 'https://baomoi.com/trang33.epi',\n",
       " 'https://baomoi.com/trang34.epi',\n",
       " 'https://baomoi.com/trang35.epi',\n",
       " 'https://baomoi.com/trang36.epi',\n",
       " 'https://baomoi.com/trang37.epi',\n",
       " 'https://baomoi.com/trang38.epi',\n",
       " 'https://baomoi.com/trang39.epi',\n",
       " 'https://baomoi.com/trang40.epi',\n",
       " 'https://baomoi.com/trang41.epi',\n",
       " 'https://baomoi.com/trang42.epi',\n",
       " 'https://baomoi.com/trang43.epi',\n",
       " 'https://baomoi.com/trang44.epi',\n",
       " 'https://baomoi.com/trang45.epi',\n",
       " 'https://baomoi.com/trang46.epi',\n",
       " 'https://baomoi.com/trang47.epi',\n",
       " 'https://baomoi.com/trang48.epi',\n",
       " 'https://baomoi.com/trang49.epi',\n",
       " 'https://baomoi.com/trang50.epi',\n",
       " 'https://baomoi.com/trang51.epi',\n",
       " 'https://baomoi.com/trang52.epi',\n",
       " 'https://baomoi.com/trang53.epi',\n",
       " 'https://baomoi.com/trang54.epi',\n",
       " 'https://baomoi.com/trang55.epi',\n",
       " 'https://baomoi.com/trang56.epi']"
      ]
     },
     "execution_count": 2,
     "metadata": {},
     "output_type": "execute_result"
    }
   ],
   "source": [
    "domain = \"https://baomoi.com\"\n",
    "page_index_string = \"/trang\"\n",
    "uri = \".epi\"\n",
    "page_urls = []\n",
    "for i in range(1,57):\n",
    "  page_url = domain + page_index_string + str(i) + uri\n",
    "  page_urls.append(page_url)\n",
    "page_urls"
   ]
  },
  {
   "cell_type": "code",
   "execution_count": 3,
   "metadata": {},
   "outputs": [
    {
     "name": "stderr",
     "output_type": "stream",
     "text": [
      "[WDM] - Downloading: 100%|██████████| 8.79M/8.79M [00:02<00:00, 3.27MB/s]\n",
      "/var/folders/3p/99_58tl56kzdbsb1dw6qrs3m0000gn/T/ipykernel_35087/3946208762.py:2: DeprecationWarning: executable_path has been deprecated, please pass in a Service object\n",
      "  driver = webdriver.Chrome(ChromeDriverManager().install())\n"
     ]
    }
   ],
   "source": [
    "url_news = []\n",
    "driver = webdriver.Chrome(ChromeDriverManager().install())\n",
    "for page_url in page_urls:\n",
    "  driver.get(page_url)\n",
    "  time.sleep(1)\n",
    "  soup = BeautifulSoup(driver.page_source, 'html.parser')\n",
    "  tag_elements = soup.find_all('h4', class_= 'bm_J')\n",
    "  a_elements = [tag.find(\"a\") for tag in tag_elements]\n",
    "  for a in a_elements:\n",
    "    try:\n",
    "      url_news.append(domain + a['href'])\n",
    "    except:\n",
    "      pass\n",
    "driver.quit()"
   ]
  },
  {
   "cell_type": "code",
   "execution_count": 4,
   "metadata": {},
   "outputs": [],
   "source": [
    "url_news = list(set(url_news))"
   ]
  },
  {
   "cell_type": "code",
   "execution_count": 5,
   "metadata": {},
   "outputs": [
    {
     "data": {
      "text/plain": [
       "1051"
      ]
     },
     "execution_count": 5,
     "metadata": {},
     "output_type": "execute_result"
    }
   ],
   "source": [
    "len(url_news)"
   ]
  },
  {
   "cell_type": "code",
   "execution_count": 6,
   "metadata": {},
   "outputs": [
    {
     "name": "stderr",
     "output_type": "stream",
     "text": [
      "/var/folders/3p/99_58tl56kzdbsb1dw6qrs3m0000gn/T/ipykernel_35087/4187799591.py:1: DeprecationWarning: executable_path has been deprecated, please pass in a Service object\n",
      "  driver = webdriver.Chrome(ChromeDriverManager().install())\n"
     ]
    }
   ],
   "source": [
    "driver = webdriver.Chrome(ChromeDriverManager().install())\n",
    "contents = []\n",
    "labels = []\n",
    "for link in url_news:\n",
    "  driver.get(link)\n",
    "  time.sleep(1)\n",
    "  soup = BeautifulSoup(driver.page_source, 'html.parser')\n",
    "  try: \n",
    "    content_element = soup.find_all(\"p\", class_= \"bm_BL\")\n",
    "    filtered_content_element = [elem for elem in content_element if not elem.has_attr('class') or 'bm_IO' not in elem.get('class')]\n",
    "    content_string = \" \".join([block_content.text for block_content in filtered_content_element])\n",
    "    label_element = soup.find(\"a\", class_= \"bm_X\")\n",
    "    # if content_string in contents: \n",
    "    #   print(contents.index(content_string))\n",
    "    #   print(url_news.index(content_string))\n",
    "    #   print(link)\n",
    "    #   continue\n",
    "    contents.append(content_string)\n",
    "    if label_element:\n",
    "      labels.append(label_element.text)\n",
    "    else:\n",
    "      labels.append(\"\")\n",
    "    if(len(contents) != len(labels)):\n",
    "      print(link)\n",
    "      print(content_string)\n",
    "      print(label_element.text)\n",
    "      break\n",
    "  except: \n",
    "    pass\n",
    "driver.quit()"
   ]
  },
  {
   "cell_type": "code",
   "execution_count": 7,
   "metadata": {},
   "outputs": [
    {
     "name": "stdout",
     "output_type": "stream",
     "text": [
      "1051 1051 1051\n",
      "1051\n"
     ]
    }
   ],
   "source": [
    "print(len(url_news) , len(contents) , len(labels))\n",
    "x = list(set(url_news))\n",
    "print(len(x))"
   ]
  },
  {
   "cell_type": "code",
   "execution_count": 8,
   "metadata": {},
   "outputs": [],
   "source": [
    "df = pd.DataFrame({\"Link\": url_news, \"Content\": contents, \"Label\": labels})"
   ]
  },
  {
   "cell_type": "code",
   "execution_count": 9,
   "metadata": {},
   "outputs": [
    {
     "data": {
      "text/html": [
       "<div>\n",
       "<style scoped>\n",
       "    .dataframe tbody tr th:only-of-type {\n",
       "        vertical-align: middle;\n",
       "    }\n",
       "\n",
       "    .dataframe tbody tr th {\n",
       "        vertical-align: top;\n",
       "    }\n",
       "\n",
       "    .dataframe thead th {\n",
       "        text-align: right;\n",
       "    }\n",
       "</style>\n",
       "<table border=\"1\" class=\"dataframe\">\n",
       "  <thead>\n",
       "    <tr style=\"text-align: right;\">\n",
       "      <th></th>\n",
       "      <th>Link</th>\n",
       "      <th>Content</th>\n",
       "      <th>Label</th>\n",
       "    </tr>\n",
       "  </thead>\n",
       "  <tbody>\n",
       "    <tr>\n",
       "      <th>0</th>\n",
       "      <td>https://baomoi.com/dao-choi-ngoai-truong-nu-si...</td>\n",
       "      <td>Nữ sinh 8 tuổi tên Elise đã bất ngờ tìm thấy b...</td>\n",
       "      <td>Khoa học</td>\n",
       "    </tr>\n",
       "    <tr>\n",
       "      <th>1</th>\n",
       "      <td>https://baomoi.com/ong-biden-chi-dinh-chu-tich...</td>\n",
       "      <td>Theo The Hill, Tổng thống Mỹ Joe Biden mới đây...</td>\n",
       "      <td>Thế giới</td>\n",
       "    </tr>\n",
       "    <tr>\n",
       "      <th>2</th>\n",
       "      <td>https://baomoi.com/roi-may-bay-huan-luyen-o-ng...</td>\n",
       "      <td>Trực thăng MH-60R Sea Hawk của Mỹ hỗ trợ lực l...</td>\n",
       "      <td>Thế giới</td>\n",
       "    </tr>\n",
       "    <tr>\n",
       "      <th>3</th>\n",
       "      <td>https://baomoi.com/phat-trien-nguon-dien-tai-t...</td>\n",
       "      <td>Điện mặt trời phát triển quá nhanh Báo cáo nêu...</td>\n",
       "      <td>Công nghệ</td>\n",
       "    </tr>\n",
       "    <tr>\n",
       "      <th>4</th>\n",
       "      <td>https://baomoi.com/vi-sao-quan-doi-mong-co-cua...</td>\n",
       "      <td>Thành Cát Tư Hãn là người sáng lập đế chế Môn...</td>\n",
       "      <td>Văn hóa</td>\n",
       "    </tr>\n",
       "    <tr>\n",
       "      <th>...</th>\n",
       "      <td>...</td>\n",
       "      <td>...</td>\n",
       "      <td>...</td>\n",
       "    </tr>\n",
       "    <tr>\n",
       "      <th>1046</th>\n",
       "      <td>https://baomoi.com/tand-cap-cao-tai-tp-hcm-co-...</td>\n",
       "      <td>Ngày 10-5, TAND Cấp cao tại TP.HCM đã tổ chức ...</td>\n",
       "      <td>Pháp luật</td>\n",
       "    </tr>\n",
       "    <tr>\n",
       "      <th>1047</th>\n",
       "      <td>https://baomoi.com/bai-cuoi-yeu-cau-xu-ly-ngay...</td>\n",
       "      <td>Đến tận ngõ, gõ tận cửa Những năm qua, hoạt độ...</td>\n",
       "      <td>Pháp luật</td>\n",
       "    </tr>\n",
       "    <tr>\n",
       "      <th>1048</th>\n",
       "      <td>https://baomoi.com/ca-tot-cho-suc-khoe-nhung-n...</td>\n",
       "      <td>Y học cổ truyền Trung Quốc có câu \"Động vật 4 ...</td>\n",
       "      <td>Đời sống</td>\n",
       "    </tr>\n",
       "    <tr>\n",
       "      <th>1049</th>\n",
       "      <td>https://baomoi.com/doanh-nghiep-viet-co-the-ma...</td>\n",
       "      <td>Nhiều doanh nghiệp vẫn đang khó khăn Theo phân...</td>\n",
       "      <td>Kinh tế</td>\n",
       "    </tr>\n",
       "    <tr>\n",
       "      <th>1050</th>\n",
       "      <td>https://baomoi.com/nhung-loi-tri-an-danh-cho-h...</td>\n",
       "      <td>Sergio Busquets tuyên bố vào thứ Tư rằng anh s...</td>\n",
       "      <td>Thể thao</td>\n",
       "    </tr>\n",
       "  </tbody>\n",
       "</table>\n",
       "<p>1051 rows × 3 columns</p>\n",
       "</div>"
      ],
      "text/plain": [
       "                                                   Link  \\\n",
       "0     https://baomoi.com/dao-choi-ngoai-truong-nu-si...   \n",
       "1     https://baomoi.com/ong-biden-chi-dinh-chu-tich...   \n",
       "2     https://baomoi.com/roi-may-bay-huan-luyen-o-ng...   \n",
       "3     https://baomoi.com/phat-trien-nguon-dien-tai-t...   \n",
       "4     https://baomoi.com/vi-sao-quan-doi-mong-co-cua...   \n",
       "...                                                 ...   \n",
       "1046  https://baomoi.com/tand-cap-cao-tai-tp-hcm-co-...   \n",
       "1047  https://baomoi.com/bai-cuoi-yeu-cau-xu-ly-ngay...   \n",
       "1048  https://baomoi.com/ca-tot-cho-suc-khoe-nhung-n...   \n",
       "1049  https://baomoi.com/doanh-nghiep-viet-co-the-ma...   \n",
       "1050  https://baomoi.com/nhung-loi-tri-an-danh-cho-h...   \n",
       "\n",
       "                                                Content      Label  \n",
       "0     Nữ sinh 8 tuổi tên Elise đã bất ngờ tìm thấy b...   Khoa học  \n",
       "1     Theo The Hill, Tổng thống Mỹ Joe Biden mới đây...   Thế giới  \n",
       "2     Trực thăng MH-60R Sea Hawk của Mỹ hỗ trợ lực l...   Thế giới  \n",
       "3     Điện mặt trời phát triển quá nhanh Báo cáo nêu...  Công nghệ  \n",
       "4      Thành Cát Tư Hãn là người sáng lập đế chế Môn...    Văn hóa  \n",
       "...                                                 ...        ...  \n",
       "1046  Ngày 10-5, TAND Cấp cao tại TP.HCM đã tổ chức ...  Pháp luật  \n",
       "1047  Đến tận ngõ, gõ tận cửa Những năm qua, hoạt độ...  Pháp luật  \n",
       "1048  Y học cổ truyền Trung Quốc có câu \"Động vật 4 ...   Đời sống  \n",
       "1049  Nhiều doanh nghiệp vẫn đang khó khăn Theo phân...    Kinh tế  \n",
       "1050  Sergio Busquets tuyên bố vào thứ Tư rằng anh s...   Thể thao  \n",
       "\n",
       "[1051 rows x 3 columns]"
      ]
     },
     "execution_count": 9,
     "metadata": {},
     "output_type": "execute_result"
    }
   ],
   "source": [
    "df"
   ]
  },
  {
   "cell_type": "code",
   "execution_count": 10,
   "metadata": {},
   "outputs": [],
   "source": [
    "df.to_csv(\"data_v6.csv\", encoding= \"utf-8\")"
   ]
  },
  {
   "cell_type": "code",
   "execution_count": 11,
   "metadata": {},
   "outputs": [],
   "source": [
    "df[\"cc\"] = df[\"Content\"].apply(lambda x: len(x.split()))"
   ]
  },
  {
   "cell_type": "code",
   "execution_count": 12,
   "metadata": {},
   "outputs": [
    {
     "data": {
      "text/plain": [
       "0        Khoa học\n",
       "1        Thế giới\n",
       "2        Thế giới\n",
       "3       Công nghệ\n",
       "4         Văn hóa\n",
       "          ...    \n",
       "1046    Pháp luật\n",
       "1047    Pháp luật\n",
       "1048     Đời sống\n",
       "1049      Kinh tế\n",
       "1050     Thể thao\n",
       "Name: Label, Length: 1051, dtype: object"
      ]
     },
     "execution_count": 12,
     "metadata": {},
     "output_type": "execute_result"
    }
   ],
   "source": [
    "df[\"Label\"]"
   ]
  },
  {
   "cell_type": "code",
   "execution_count": 13,
   "metadata": {},
   "outputs": [],
   "source": [
    "data = df"
   ]
  },
  {
   "cell_type": "code",
   "execution_count": 14,
   "metadata": {},
   "outputs": [],
   "source": [
    "# from collections import Counter\n",
    "# for label in data[\"Label\"].unique():\n",
    "#     topic_words = [ z.lower() for y in\n",
    "#                     [ x.split() for x in data[\"Content\"] if isinstance(x, str)]\n",
    "#                     for z in y]\n",
    "#     word_count_dict = dict(Counter(topic_words))\n",
    "#     popular_words = sorted(word_count_dict, key = word_count_dict.get, reverse = True)\n",
    "#     popular_words_nonstop = [w for w in popular_words]\n",
    "#     plt.figure(figsize=(10,11))\n",
    "#     plt.barh(range(50), [word_count_dict[w] for w in reversed(popular_words_nonstop[0:50])])\n",
    "#     plt.yticks([x + 0.5 for x in range(50)], reversed(popular_words_nonstop[0:50]))\n",
    "#     plt.title(label)\n",
    "\n",
    "#     plt.show()"
   ]
  },
  {
   "cell_type": "code",
   "execution_count": 15,
   "metadata": {},
   "outputs": [],
   "source": [
    "df.to_csv(\"data_v7.csv\", encoding=\"utf-8\")"
   ]
  },
  {
   "cell_type": "code",
   "execution_count": 16,
   "metadata": {},
   "outputs": [
    {
     "data": {
      "text/plain": [
       "Xã hội       127\n",
       "Văn hóa      103\n",
       "Pháp luật     87\n",
       "Kinh tế       80\n",
       "Thế giới      78\n",
       "Thể thao      76\n",
       "Giải trí      57\n",
       "Đời sống      55\n",
       "Nhà đất       36\n",
       "Công nghệ     19\n",
       "Khoa học      19\n",
       "Xe cộ         11\n",
       "Giáo dục       9\n",
       "Name: Label, dtype: int64"
      ]
     },
     "execution_count": 16,
     "metadata": {},
     "output_type": "execute_result"
    }
   ],
   "source": [
    "pd.read_csv(\"data_v1.csv\")[\"Label\"].value_counts()"
   ]
  },
  {
   "cell_type": "code",
   "execution_count": 17,
   "metadata": {},
   "outputs": [
    {
     "data": {
      "text/plain": [
       "Kinh tế      190\n",
       "Xã hội       163\n",
       "Thế giới     117\n",
       "Pháp luật    111\n",
       "Thể thao     104\n",
       "Đời sống      99\n",
       "Giải trí      95\n",
       "Văn hóa       81\n",
       "Nhà đất       61\n",
       "Giáo dục      44\n",
       "Khoa học      41\n",
       "Công nghệ     41\n",
       "Xe cộ         27\n",
       "Name: Label, dtype: int64"
      ]
     },
     "execution_count": 17,
     "metadata": {},
     "output_type": "execute_result"
    }
   ],
   "source": [
    "pd.read_csv(\"data_v2.csv\")[\"Label\"].value_counts()"
   ]
  },
  {
   "cell_type": "code",
   "execution_count": 18,
   "metadata": {},
   "outputs": [
    {
     "data": {
      "text/plain": [
       "Pháp luật    166\n",
       "Xã hội       156\n",
       "Kinh tế      132\n",
       "Thế giới     108\n",
       "Thể thao     102\n",
       "Đời sống      96\n",
       "Nhà đất       89\n",
       "Giải trí      85\n",
       "Văn hóa       67\n",
       "Công nghệ     40\n",
       "Xe cộ         37\n",
       "Giáo dục      35\n",
       "Khoa học      26\n",
       "Name: Label, dtype: int64"
      ]
     },
     "execution_count": 18,
     "metadata": {},
     "output_type": "execute_result"
    }
   ],
   "source": [
    "pd.read_csv(\"data_v3.csv\")[\"Label\"].value_counts()"
   ]
  },
  {
   "cell_type": "code",
   "execution_count": 19,
   "metadata": {},
   "outputs": [
    {
     "data": {
      "text/plain": [
       "Xã hội       163\n",
       "Kinh tế      121\n",
       "Pháp luật    120\n",
       "Thế giới      87\n",
       "Đời sống      80\n",
       "Giải trí      76\n",
       "Nhà đất       65\n",
       "Thể thao      64\n",
       "Văn hóa       50\n",
       "Giáo dục      43\n",
       "Xe cộ         27\n",
       "Công nghệ     26\n",
       "Khoa học      22\n",
       "Name: Label, dtype: int64"
      ]
     },
     "execution_count": 19,
     "metadata": {},
     "output_type": "execute_result"
    }
   ],
   "source": [
    "pd.read_csv(\"data_v4.csv\")[\"Label\"].value_counts()"
   ]
  },
  {
   "cell_type": "code",
   "execution_count": 20,
   "metadata": {},
   "outputs": [
    {
     "data": {
      "text/plain": [
       "Kinh tế      171\n",
       "Xã hội       129\n",
       "Pháp luật    111\n",
       "Đời sống      98\n",
       "Thế giới      95\n",
       "Thể thao      79\n",
       "Nhà đất       79\n",
       "Giải trí      76\n",
       "Văn hóa       53\n",
       "Giáo dục      35\n",
       "Khoa học      31\n",
       "Công nghệ     26\n",
       "Xe cộ         20\n",
       "Name: Label, dtype: int64"
      ]
     },
     "execution_count": 20,
     "metadata": {},
     "output_type": "execute_result"
    }
   ],
   "source": [
    "pd.read_csv(\"data_v5.csv\")[\"Label\"].value_counts()"
   ]
  }
 ],
 "metadata": {
  "kernelspec": {
   "display_name": "Python 3",
   "language": "python",
   "name": "python3"
  },
  "language_info": {
   "codemirror_mode": {
    "name": "ipython",
    "version": 3
   },
   "file_extension": ".py",
   "mimetype": "text/x-python",
   "name": "python",
   "nbconvert_exporter": "python",
   "pygments_lexer": "ipython3",
   "version": "3.10.5"
  },
  "orig_nbformat": 4
 },
 "nbformat": 4,
 "nbformat_minor": 2
}
