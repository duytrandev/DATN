{
 "cells": [
  {
   "cell_type": "code",
   "execution_count": null,
   "metadata": {},
   "outputs": [],
   "source": [
    "import pandas as pd\n",
    "from selenium import webdriver\n",
    "from selenium.webdriver.common.by import By\n",
    "from webdriver_manager.chrome import ChromeDriverManager\n",
    "from bs4 import BeautifulSoup\n",
    "import time\n",
    "from selenium.webdriver.common.by import By\n"
   ]
  },
  {
   "cell_type": "code",
   "execution_count": null,
   "metadata": {},
   "outputs": [],
   "source": [
    "domain = \"https://baochinhphu.vn\"\n",
    "# page_index_string = \"/the-thao/trang\"\n",
    "uri = \"/chinh-tri.htm\""
   ]
  },
  {
   "cell_type": "code",
   "execution_count": null,
   "metadata": {},
   "outputs": [],
   "source": [
    "url_news = []\n",
    "driver = webdriver.Chrome(ChromeDriverManager().install())\n",
    "driver.get(domain + uri)\n",
    "time.sleep(1)\n",
    "\n",
    "for _ in range(10):\n",
    "  for _ in range(7):\n",
    "    soup = BeautifulSoup(driver.page_source, 'html.parser')\n",
    "    all_tag = soup.find_all('a', class_= 'box-stream-link-with-avatar')\n",
    "    print(len(all_tag))\n",
    "    driver.execute_script(\"window.scrollTo(0, document.body.scrollHeight);\")\n",
    "    time.sleep(5)\n",
    "  time.sleep(2)\n",
    "  btn_xemthem = driver.find_elements(By.CLASS_NAME, \"btn\")[1]\n",
    "  if btn_xemthem:\n",
    "    btn_xemthem.click()\n",
    "  # print(btn_xemthem)\n",
    "  # break\n",
    "driver.quit()"
   ]
  },
  {
   "cell_type": "code",
   "execution_count": null,
   "metadata": {},
   "outputs": [],
   "source": [
    "all_link = [domain + i.get(\"href\") for i in all_tag]"
   ]
  },
  {
   "cell_type": "code",
   "execution_count": null,
   "metadata": {},
   "outputs": [],
   "source": [
    "all_link_politics = all_link\n",
    "contents_politics = contents\n",
    "labels_polittics = labels"
   ]
  },
  {
   "cell_type": "code",
   "execution_count": null,
   "metadata": {},
   "outputs": [],
   "source": [
    "len(all_link)"
   ]
  },
  {
   "cell_type": "code",
   "execution_count": null,
   "metadata": {},
   "outputs": [],
   "source": [
    "contents = []\n",
    "labels = []"
   ]
  },
  {
   "cell_type": "code",
   "execution_count": null,
   "metadata": {},
   "outputs": [],
   "source": [
    "driver = webdriver.Chrome(ChromeDriverManager().install())\n",
    "driver.implicitly_wait(10)\n",
    "for i in range(len(all_link)):\n",
    "  try: \n",
    "    driver.get(all_link[i])\n",
    "    time.sleep(1)\n",
    "    soup = BeautifulSoup(driver.page_source, 'html.parser')\n",
    "    content_element = soup.find(\"div\", class_= \"detail-content\")\n",
    "    # filtered_content_element = [elem for elem in content_element if not elem.has_attr('class') or 'bm_IO' not in elem.get('class')]\n",
    "    content_string = \" \".join([i.text for i in content_element.find_all(\"p\")[1:]])\n",
    "    label_element = \"politics\"\n",
    "    # if content_string in contents: \n",
    "    #   print(contents.index(content_string))\n",
    "    #   print(url_news.index(content_string))\n",
    "    #   print(link)\n",
    "    #   continue\n",
    "    contents.append(content_string)\n",
    "    labels.append(label_element)\n",
    "  except:\n",
    "    print(i)\n",
    "    contents.append(\"\")\n",
    "    labels.append(\"\")\n",
    "    driver.quit()\n",
    "    driver = webdriver.Chrome(ChromeDriverManager().install())\n",
    "driver.quit()"
   ]
  },
  {
   "cell_type": "code",
   "execution_count": null,
   "metadata": {},
   "outputs": [],
   "source": [
    "df_chinhtri = pd.DataFrame({\"Link\": all_link_politics, \"Content\": contents_politics, \"Label\": labels_polittics})"
   ]
  },
  {
   "cell_type": "code",
   "execution_count": null,
   "metadata": {},
   "outputs": [],
   "source": [
    "df_chinhtri.to_csv(\"politics_baochinhphu.csv\", encoding= \"utf-8-sig\")"
   ]
  },
  {
   "cell_type": "code",
   "execution_count": null,
   "metadata": {},
   "outputs": [],
   "source": [
    "len(df_chinhtri)"
   ]
  },
  {
   "attachments": {},
   "cell_type": "markdown",
   "metadata": {},
   "source": [
    "# giao duc"
   ]
  },
  {
   "cell_type": "code",
   "execution_count": null,
   "metadata": {},
   "outputs": [],
   "source": [
    "domain_giaoduc = \"https://giaoduc.net.vn\"\n",
    "uri_giaoduc = \"/giao-duc-24h/\""
   ]
  },
  {
   "cell_type": "code",
   "execution_count": null,
   "metadata": {},
   "outputs": [],
   "source": [
    "url_news_giaoduc = []\n",
    "driver = webdriver.Chrome(ChromeDriverManager().install())\n",
    "driver.get(domain_giaoduc + uri_giaoduc)\n",
    "for _ in range(20):\n",
    "  for _ in range(5):\n",
    "    soup = BeautifulSoup(driver.page_source, 'html.parser')\n",
    "    all_tag = soup.find_all('a', class_= 'story__title')\n",
    "    print(len(all_tag))\n",
    "    driver.execute_script(\"window.scrollTo(0, document.body.scrollHeight);\")\n",
    "    time.sleep(3)\n",
    "  time.sleep(2)\n",
    "  btn_xemthem = driver.find_elements(By.CLASS_NAME, \"next__page\")[0]\n",
    "  print(btn_xemthem)\n",
    "  if btn_xemthem:\n",
    "    btn_xemthem.click()\n",
    "  # print(btn_xemthem)\n",
    "  # break\n",
    "driver.quit()"
   ]
  },
  {
   "cell_type": "code",
   "execution_count": null,
   "metadata": {},
   "outputs": [],
   "source": [
    "all_link_educations = []\n",
    "content_educations = []\n",
    "label_educations = []"
   ]
  },
  {
   "cell_type": "code",
   "execution_count": null,
   "metadata": {},
   "outputs": [],
   "source": [
    "for i in all_tag:\n",
    "  if i.get(\"href\")[:20] != domain_giaoduc[:20]:\n",
    "    all_link_educations.append(domain_giaoduc + i.get(\"href\"))\n",
    "  else:\n",
    "    all_link_educations.append(i.get(\"href\"))"
   ]
  },
  {
   "cell_type": "code",
   "execution_count": null,
   "metadata": {},
   "outputs": [],
   "source": [
    "driver = webdriver.Chrome(ChromeDriverManager().install())\n",
    "driver.implicitly_wait(10)\n",
    "for i in range(len(all_link_educations)):\n",
    "  try: \n",
    "    driver.get(all_link_educations[i])\n",
    "    time.sleep(1)\n",
    "    soup = BeautifulSoup(driver.page_source, 'html.parser')\n",
    "    content_element = soup.find(\"div\", class_= \"details__content\")\n",
    "    # filtered_content_element = [elem for elem in content_element if not elem.has_attr('class') or 'bm_IO' not in elem.get('class')]\n",
    "    content_string = \" \".join([i.text for i in content_element.find_all(\"p\")])\n",
    "    \n",
    "    label_element = \"education\"\n",
    "    # if content_string in contents: \n",
    "    #   print(contents.index(content_string))\n",
    "    #   print(url_news.index(content_string))\n",
    "    #   print(link)\n",
    "    #   continue\n",
    "    content_educations.append(content_string)\n",
    "    label_educations.append(label_element)\n",
    "  except:\n",
    "    print(i)\n",
    "    content_educations.append(\"\")\n",
    "    label_educations.append(\"\")\n",
    "    driver.quit()\n",
    "    driver = webdriver.Chrome(ChromeDriverManager().install())\n",
    "driver.quit()"
   ]
  },
  {
   "cell_type": "code",
   "execution_count": null,
   "metadata": {},
   "outputs": [],
   "source": [
    "df_education = pd.DataFrame({\"Link\": all_link_educations, \"Content\": content_educations, \"Label\": label_educations})"
   ]
  },
  {
   "cell_type": "code",
   "execution_count": null,
   "metadata": {},
   "outputs": [],
   "source": [
    "all_link_educations[0]"
   ]
  },
  {
   "cell_type": "code",
   "execution_count": null,
   "metadata": {},
   "outputs": [],
   "source": [
    "df_education.to_csv(\"education_giaoducnet.csv\", encoding='utf-8-sig')"
   ]
  },
  {
   "cell_type": "code",
   "execution_count": null,
   "metadata": {},
   "outputs": [],
   "source": [
    "domain_sport = \"https://thethao247.vn\"\n",
    "uri_sport = \"/the-thao-tong-hop-c5/\""
   ]
  },
  {
   "cell_type": "code",
   "execution_count": null,
   "metadata": {},
   "outputs": [],
   "source": [
    "url_news_sport = []\n",
    "driver = webdriver.Chrome(ChromeDriverManager().install())\n",
    "driver.get(domain_sport + uri_sport)\n",
    "for _ in range(20):\n",
    "  for _ in range(3):\n",
    "    soup = BeautifulSoup(driver.page_source, 'html.parser')\n",
    "    all_tag = soup.find_all('a', class_= 'thumb')\n",
    "    print(len(all_tag))\n",
    "    driver.execute_script(\"window.scrollTo(0, document.body.scrollHeight);\")\n",
    "    time.sleep(5)\n",
    "  time.sleep(5)\n",
    "  btn_xemthem = driver.find_elements(By.CLASS_NAME, \"btn_loadmore\")[0]\n",
    "  print(btn_xemthem)\n",
    "  if btn_xemthem:\n",
    "    btn_xemthem.click()\n",
    "  # print(btn_xemthem)\n",
    "  # break\n",
    "driver.quit()"
   ]
  },
  {
   "cell_type": "code",
   "execution_count": null,
   "metadata": {},
   "outputs": [],
   "source": [
    "link_sports = []\n",
    "content_sports = []\n",
    "label_sports = []"
   ]
  },
  {
   "cell_type": "code",
   "execution_count": null,
   "metadata": {},
   "outputs": [],
   "source": [
    "driver = webdriver.Chrome(ChromeDriverManager().install())\n",
    "driver.implicitly_wait(10)\n",
    "for i in range(len(link_sports)):\n",
    "  try: \n",
    "    driver.get(link_sports[i])\n",
    "    time.sleep(1)\n",
    "    soup = BeautifulSoup(driver.page_source, 'html.parser')\n",
    "    content_element = soup.find(\"div\", class_= \"details__content\")\n",
    "    # filtered_content_element = [elem for elem in content_element if not elem.has_attr('class') or 'bm_IO' not in elem.get('class')]\n",
    "    content_string = \" \".join([i.text for i in content_element.find_all(\"p\")])\n",
    "    \n",
    "    label_element = \"sport\"\n",
    "    # if content_string in contents: \n",
    "    #   print(contents.index(content_string))\n",
    "    #   print(url_news.index(content_string))\n",
    "    #   print(link)\n",
    "    #   continue\n",
    "    content_sports.append(content_string)\n",
    "    label_sports.append(label_element)\n",
    "  except:\n",
    "    print(i)\n",
    "    content_sports.append(\"\")\n",
    "    label_sports.append(\"\")\n",
    "    driver.quit()\n",
    "    driver = webdriver.Chrome(ChromeDriverManager().install())\n",
    "driver.quit()"
   ]
  }
 ],
 "metadata": {
  "kernelspec": {
   "display_name": "Python 3",
   "language": "python",
   "name": "python3"
  },
  "language_info": {
   "codemirror_mode": {
    "name": "ipython",
    "version": 3
   },
   "file_extension": ".py",
   "mimetype": "text/x-python",
   "name": "python",
   "nbconvert_exporter": "python",
   "pygments_lexer": "ipython3",
   "version": "3.10.5"
  },
  "orig_nbformat": 4
 },
 "nbformat": 4,
 "nbformat_minor": 2
}
