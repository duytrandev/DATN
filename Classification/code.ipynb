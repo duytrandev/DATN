{
 "cells": [
  {
   "cell_type": "code",
   "execution_count": 1,
   "metadata": {},
   "outputs": [],
   "source": [
    "import sys\n",
    "sys.path.insert(1, '/Users/DuyHome/HocTap/DATN/Vectorize')"
   ]
  },
  {
   "cell_type": "code",
   "execution_count": 2,
   "metadata": {},
   "outputs": [],
   "source": [
    "import preprocessing\n",
    "preprocesser = preprocessing.Preprocesser()\n",
    "import pandas as pd"
   ]
  },
  {
   "cell_type": "code",
   "execution_count": 3,
   "metadata": {},
   "outputs": [],
   "source": [
    "data = pd.read_csv(\"/Users/DuyHome/HocTap/DATN/Data/data_v2.csv\")"
   ]
  },
  {
   "cell_type": "code",
   "execution_count": 30,
   "metadata": {},
   "outputs": [
    {
     "name": "stdout",
     "output_type": "stream",
     "text": [
      "remove digitexpected string or bytes-like objectand index:6\n",
      "remove digitexpected string or bytes-like objectand index:100\n",
      "remove digitexpected string or bytes-like objectand index:135\n",
      "remove digitexpected string or bytes-like objectand index:140\n",
      "remove digitexpected string or bytes-like objectand index:186\n",
      "remove digitexpected string or bytes-like objectand index:472\n",
      "remove digitexpected string or bytes-like objectand index:670\n",
      "remove digitexpected string or bytes-like objectand index:751\n",
      "remove digitexpected string or bytes-like objectand index:886\n",
      "remove digitexpected string or bytes-like objectand index:934\n",
      "remove digitexpected string or bytes-like objectand index:964\n",
      "remove digitexpected string or bytes-like objectand index:1055\n",
      "remove digitexpected string or bytes-like objectand index:1074\n",
      "remove digitexpected string or bytes-like objectand index:1141\n",
      "htmlexpected string or bytes-like objectand index:6\n",
      "htmlexpected string or bytes-like objectand index:100\n",
      "htmlexpected string or bytes-like objectand index:135\n",
      "htmlexpected string or bytes-like objectand index:140\n",
      "htmlexpected string or bytes-like objectand index:186\n",
      "htmlexpected string or bytes-like objectand index:472\n",
      "htmlexpected string or bytes-like objectand index:670\n",
      "htmlexpected string or bytes-like objectand index:751\n",
      "htmlexpected string or bytes-like objectand index:886\n",
      "htmlexpected string or bytes-like objectand index:934\n",
      "htmlexpected string or bytes-like objectand index:964\n",
      "htmlexpected string or bytes-like objectand index:1055\n",
      "htmlexpected string or bytes-like objectand index:1074\n",
      "htmlexpected string or bytes-like objectand index:1141\n",
      "convert uniexpected string or bytes-like objectand index:6\n",
      "convert uniexpected string or bytes-like objectand index:100\n",
      "convert uniexpected string or bytes-like objectand index:135\n",
      "convert uniexpected string or bytes-like objectand index:140\n",
      "convert uniexpected string or bytes-like objectand index:186\n",
      "convert uniexpected string or bytes-like objectand index:472\n",
      "convert uniexpected string or bytes-like objectand index:670\n",
      "convert uniexpected string or bytes-like objectand index:751\n",
      "convert uniexpected string or bytes-like objectand index:886\n",
      "convert uniexpected string or bytes-like objectand index:934\n",
      "convert uniexpected string or bytes-like objectand index:964\n",
      "convert uniexpected string or bytes-like objectand index:1055\n",
      "convert uniexpected string or bytes-like objectand index:1074\n",
      "convert uniexpected string or bytes-like objectand index:1141\n",
      "token'float' object has no attribute 'decode'and index:6\n",
      "token'float' object has no attribute 'decode'and index:100\n",
      "token'float' object has no attribute 'decode'and index:135\n",
      "token'float' object has no attribute 'decode'and index:140\n",
      "token'float' object has no attribute 'decode'and index:186\n",
      "token'float' object has no attribute 'decode'and index:472\n",
      "token'float' object has no attribute 'decode'and index:670\n",
      "token'float' object has no attribute 'decode'and index:751\n",
      "token'float' object has no attribute 'decode'and index:886\n",
      "token'float' object has no attribute 'decode'and index:934\n",
      "token'float' object has no attribute 'decode'and index:964\n",
      "token'float' object has no attribute 'decode'and index:1055\n",
      "token'float' object has no attribute 'decode'and index:1074\n",
      "token'float' object has no attribute 'decode'and index:1141\n",
      "lower key'float' object has no attribute 'lower'and index:6\n",
      "lower key'float' object has no attribute 'lower'and index:100\n",
      "lower key'float' object has no attribute 'lower'and index:135\n",
      "lower key'float' object has no attribute 'lower'and index:140\n",
      "lower key'float' object has no attribute 'lower'and index:186\n",
      "lower key'float' object has no attribute 'lower'and index:472\n",
      "lower key'float' object has no attribute 'lower'and index:670\n",
      "lower key'float' object has no attribute 'lower'and index:751\n",
      "lower key'float' object has no attribute 'lower'and index:886\n",
      "lower key'float' object has no attribute 'lower'and index:934\n",
      "lower key'float' object has no attribute 'lower'and index:964\n",
      "lower key'float' object has no attribute 'lower'and index:1055\n",
      "lower key'float' object has no attribute 'lower'and index:1074\n",
      "lower key'float' object has no attribute 'lower'and index:1141\n",
      "remove noiseexpected string or bytes-like objectand index:6\n",
      "remove noiseexpected string or bytes-like objectand index:100\n",
      "remove noiseexpected string or bytes-like objectand index:135\n",
      "remove noiseexpected string or bytes-like objectand index:140\n",
      "remove noiseexpected string or bytes-like objectand index:186\n",
      "remove noiseexpected string or bytes-like objectand index:472\n",
      "remove noiseexpected string or bytes-like objectand index:670\n",
      "remove noiseexpected string or bytes-like objectand index:751\n",
      "remove noiseexpected string or bytes-like objectand index:886\n",
      "remove noiseexpected string or bytes-like objectand index:934\n",
      "remove noiseexpected string or bytes-like objectand index:964\n",
      "remove noiseexpected string or bytes-like objectand index:1055\n",
      "remove noiseexpected string or bytes-like objectand index:1074\n",
      "remove noiseexpected string or bytes-like objectand index:1141\n",
      "stop_word'float' object has no attribute 'split'and index:6\n",
      "stop_word'float' object has no attribute 'split'and index:100\n",
      "stop_word'float' object has no attribute 'split'and index:135\n",
      "stop_word'float' object has no attribute 'split'and index:140\n",
      "stop_word'float' object has no attribute 'split'and index:186\n",
      "stop_word'float' object has no attribute 'split'and index:472\n",
      "stop_word'float' object has no attribute 'split'and index:670\n",
      "stop_word'float' object has no attribute 'split'and index:751\n",
      "stop_word'float' object has no attribute 'split'and index:886\n",
      "stop_word'float' object has no attribute 'split'and index:934\n",
      "stop_word'float' object has no attribute 'split'and index:964\n",
      "stop_word'float' object has no attribute 'split'and index:1055\n",
      "stop_word'float' object has no attribute 'split'and index:1074\n",
      "stop_word'float' object has no attribute 'split'and index:1141\n"
     ]
    }
   ],
   "source": [
    "data_clean = preprocesser.fit_transform(data.Content)"
   ]
  },
  {
   "cell_type": "code",
   "execution_count": 5,
   "metadata": {},
   "outputs": [],
   "source": [
    "from gensim.models import Word2Vec"
   ]
  },
  {
   "cell_type": "code",
   "execution_count": 31,
   "metadata": {},
   "outputs": [],
   "source": [
    "list_docs = data_clean.tolist()"
   ]
  },
  {
   "cell_type": "code",
   "execution_count": 37,
   "metadata": {},
   "outputs": [],
   "source": [
    "test = [doc.split(\" \") for doc in list_docs if len(doc.split(\" \")) > 30]"
   ]
  },
  {
   "cell_type": "code",
   "execution_count": 13,
   "metadata": {},
   "outputs": [],
   "source": [
    "# dic = {}\n",
    "# for i, v in enumerate(corpus):\n",
    "#   if v not in dic:\n",
    "#     dic[v] = 1\n",
    "#   else:\n",
    "#     dic[v] += 1"
   ]
  },
  {
   "cell_type": "code",
   "execution_count": 65,
   "metadata": {},
   "outputs": [],
   "source": [
    "w2v = Word2Vec(test, min_count= 10, workers= 3, vector_size= 300, window= 1)"
   ]
  },
  {
   "cell_type": "code",
   "execution_count": 63,
   "metadata": {},
   "outputs": [
    {
     "name": "stdout",
     "output_type": "stream",
     "text": [
      "3919 3919\n"
     ]
    }
   ],
   "source": [
    "vocabs = list(w2v.wv.key_to_index)\n",
    "vects = list(w2v.wv.vectors)\n",
    "# Print the first 10 words in the vocabulary\n",
    "print(len(vocabs), len(vects))"
   ]
  },
  {
   "cell_type": "code",
   "execution_count": 67,
   "metadata": {},
   "outputs": [
    {
     "data": {
      "text/plain": [
       "(300,)"
      ]
     },
     "execution_count": 67,
     "metadata": {},
     "output_type": "execute_result"
    }
   ],
   "source": [
    "w2v.wv[\"học_tập\"]"
   ]
  },
  {
   "cell_type": "code",
   "execution_count": 57,
   "metadata": {},
   "outputs": [],
   "source": [
    "import io\n",
    "out_v = io.open(\"vecs.tsv\", \"w\", encoding=\"utf-8\")\n",
    "out_m = io.open(\"meta.tsv\", \"w\", encoding=\"utf-8\")\n",
    "for i in range(1, len(vocabs)):\n",
    "  word = vocabs[i]\n",
    "  vector = vects[i]\n",
    "  out_m.write(word + \"\\n\")\n",
    "  out_v.write(\"\\t\".join([str(x) for x in vector]) + \"\\n\")\n",
    "out_m.close()\n",
    "out_v.close()"
   ]
  }
 ],
 "metadata": {
  "kernelspec": {
   "display_name": "Python 3",
   "language": "python",
   "name": "python3"
  },
  "language_info": {
   "codemirror_mode": {
    "name": "ipython",
    "version": 3
   },
   "file_extension": ".py",
   "mimetype": "text/x-python",
   "name": "python",
   "nbconvert_exporter": "python",
   "pygments_lexer": "ipython3",
   "version": "3.10.5"
  },
  "orig_nbformat": 4
 },
 "nbformat": 4,
 "nbformat_minor": 2
}
