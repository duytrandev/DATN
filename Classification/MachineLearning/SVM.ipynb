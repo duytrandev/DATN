{
 "cells": [
  {
   "cell_type": "code",
   "execution_count": 97,
   "metadata": {},
   "outputs": [],
   "source": [
    "import pandas as pd\n",
    "import numpy as np\n",
    "from sklearn.model_selection import train_test_split\n",
    "from sklearn import svm, naive_bayes\n",
    "from sklearn.metrics import confusion_matrix\n",
    "from sklearn.metrics import classification_report\n",
    "from sklearn.model_selection import StratifiedKFold, GridSearchCV, RandomizedSearchCV, cross_val_score\n",
    "import seaborn as sns\n",
    "import pickle"
   ]
  },
  {
   "attachments": {},
   "cell_type": "markdown",
   "metadata": {},
   "source": [
    "read data"
   ]
  },
  {
   "cell_type": "code",
   "execution_count": 98,
   "metadata": {},
   "outputs": [],
   "source": [
    "data = pd.read_csv('../../Data/cleaned_v2.csv')"
   ]
  },
  {
   "attachments": {},
   "cell_type": "markdown",
   "metadata": {},
   "source": [
    "# split data"
   ]
  },
  {
   "cell_type": "code",
   "execution_count": 99,
   "metadata": {},
   "outputs": [
    {
     "data": {
      "text/plain": [
       "((15911,), (15911,), (6820,), (6820,))"
      ]
     },
     "execution_count": 99,
     "metadata": {},
     "output_type": "execute_result"
    }
   ],
   "source": [
    "X_train, X_test, Y_train, Y_test = train_test_split(data[\"Content_cleaned_v2\"], data[\"Label\"], test_size= 0.3, random_state= 42)\n",
    "X_train.shape, Y_train.shape, X_test.shape, Y_test.shape"
   ]
  },
  {
   "cell_type": "code",
   "execution_count": 100,
   "metadata": {},
   "outputs": [
    {
     "data": {
      "text/plain": [
       "Kinh te      2741\n",
       "Giai tri     2270\n",
       "Suc khoe     2175\n",
       "Chinh tri    1870\n",
       "Giao duc     1763\n",
       "The thao     1642\n",
       "Khoa hoc     1365\n",
       "Phap luat    1056\n",
       "Van hoa      1029\n",
       "Name: Label, dtype: int64"
      ]
     },
     "execution_count": 100,
     "metadata": {},
     "output_type": "execute_result"
    }
   ],
   "source": [
    "Y_train.value_counts()"
   ]
  },
  {
   "attachments": {},
   "cell_type": "markdown",
   "metadata": {},
   "source": [
    "# extract feature"
   ]
  },
  {
   "cell_type": "code",
   "execution_count": 101,
   "metadata": {},
   "outputs": [
    {
     "data": {
      "text/plain": [
       "<15911x57131 sparse matrix of type '<class 'numpy.float64'>'\n",
       "\twith 2813267 stored elements in Compressed Sparse Row format>"
      ]
     },
     "execution_count": 101,
     "metadata": {},
     "output_type": "execute_result"
    }
   ],
   "source": [
    "from sklearn.feature_extraction.text import TfidfVectorizer\n",
    "tf_idf_vec = TfidfVectorizer()\n",
    "tf_idf_vec.fit(X_train)\n",
    "vector_train = tf_idf_vec.transform(X_train)\n",
    "vector_train"
   ]
  },
  {
   "cell_type": "code",
   "execution_count": 102,
   "metadata": {},
   "outputs": [],
   "source": [
    "a = tf_idf_vec.vocabulary_"
   ]
  },
  {
   "cell_type": "code",
   "execution_count": 103,
   "metadata": {},
   "outputs": [],
   "source": [
    "# import numpy as np\n",
    "\n",
    "# n = 20  # Number of top scores to retrieve\n",
    "# top_indices = np.argsort(-vector_train.max(axis=0).toarray()[0])[:50]  # Indices of top N scores\n",
    "# top_words = [word for word, index in tf_idf_vec.vocabulary_.items() if index in top_indices]\n",
    "# top_scores = vector_train.max(axis=0).toarray()[0][top_indices]\n",
    "\n",
    "# for word, score in zip(top_words, top_scores):\n",
    "#     print(f\"Word: {word}, Score: {score}\")"
   ]
  },
  {
   "cell_type": "code",
   "execution_count": 104,
   "metadata": {},
   "outputs": [
    {
     "data": {
      "text/plain": [
       "57131"
      ]
     },
     "execution_count": 104,
     "metadata": {},
     "output_type": "execute_result"
    }
   ],
   "source": [
    "dic = {}\n",
    "x = \" \".join(X_train).lower().split()\n",
    "for i in x:\n",
    "  if i in dic:\n",
    "    dic[i] += 1\n",
    "  else:\n",
    "    dic[i] = 1\n",
    "len(dic)"
   ]
  },
  {
   "cell_type": "code",
   "execution_count": 105,
   "metadata": {},
   "outputs": [],
   "source": [
    "cc = []"
   ]
  },
  {
   "cell_type": "code",
   "execution_count": 106,
   "metadata": {},
   "outputs": [],
   "source": [
    "for i, v in enumerate(dic):\n",
    "  if v not in a:\n",
    "    cc.append(v)"
   ]
  },
  {
   "cell_type": "code",
   "execution_count": 107,
   "metadata": {},
   "outputs": [
    {
     "data": {
      "text/plain": [
       "0"
      ]
     },
     "execution_count": 107,
     "metadata": {},
     "output_type": "execute_result"
    }
   ],
   "source": [
    "len(cc)"
   ]
  },
  {
   "attachments": {},
   "cell_type": "markdown",
   "metadata": {},
   "source": [
    "# turning parameters"
   ]
  },
  {
   "cell_type": "code",
   "execution_count": 108,
   "metadata": {},
   "outputs": [],
   "source": [
    "# param_grid = {'C': [1, 10, 100], 'gamma': [1,0.1,0.01],'kernel': ['rbf', 'poly']}\n",
    "# # Set up score\n",
    "# scoring = ['accuracy']\n",
    "# # Set up the k-fold cross-validation\n",
    "# kfold = StratifiedKFold(n_splits=10, shuffle=True, random_state=0)\n",
    "# # Define grid search\n",
    "# grid_search = GridSearchCV(estimator=svm.SVC(), \n",
    "#                            param_grid=param_grid, \n",
    "#                            scoring=scoring, \n",
    "#                            refit='accuracy', \n",
    "#                            n_jobs=-1, \n",
    "#                            cv=kfold, \n",
    "#                            verbose=0)\n",
    "# # Fit grid search\n",
    "# grid_result = grid_search.fit(vector_train, Y_train)\n",
    "# # Print grid search summary\n",
    "# grid_result.best_params_"
   ]
  },
  {
   "cell_type": "code",
   "execution_count": 109,
   "metadata": {},
   "outputs": [],
   "source": [
    "# scores = [grid_search.cv_results_['split0_test_accuracy'], grid_search.cv_results_['split1_test_accuracy'], \n",
    "#          grid_search.cv_results_['split2_test_accuracy'], grid_search.cv_results_['split3_test_accuracy'], \n",
    "#          grid_search.cv_results_['split4_test_accuracy'], grid_search.cv_results_['split5_test_accuracy'], \n",
    "#          grid_search.cv_results_['split6_test_accuracy'], grid_search.cv_results_['split7_test_accuracy'], \n",
    "#          grid_search.cv_results_['split8_test_accuracy'], grid_search.cv_results_['split9_test_accuracy'], ]\n",
    "\n",
    "# # plot the accuracy scores for each fold using a box plot\n",
    "# max_scores = [max(x) for x in scores]\n",
    "# plt.plot(max_scores)\n",
    "# plt.xlabel('Validation Set')\n",
    "# plt.ylabel('Accuracy')\n",
    "# plt.title('Accuracy of each Validation Set in GridSearchCV')\n",
    "# plt.show()"
   ]
  },
  {
   "attachments": {},
   "cell_type": "markdown",
   "metadata": {},
   "source": [
    "# modeling"
   ]
  },
  {
   "cell_type": "code",
   "execution_count": 110,
   "metadata": {},
   "outputs": [],
   "source": [
    "classifier = svm.SVC(C= 10, gamma= 0.1, kernel= \"rbf\", probability=True)\n",
    "# classifier.fit(vector_train, Y_train)"
   ]
  },
  {
   "attachments": {},
   "cell_type": "markdown",
   "metadata": {},
   "source": [
    "# predict"
   ]
  },
  {
   "cell_type": "code",
   "execution_count": 111,
   "metadata": {},
   "outputs": [],
   "source": [
    "# vector_test = tf_idf_vec.transform(X_test)\n",
    "# y_pred = classifier.predict(vector_test)"
   ]
  },
  {
   "attachments": {},
   "cell_type": "markdown",
   "metadata": {},
   "source": [
    "# report "
   ]
  },
  {
   "cell_type": "code",
   "execution_count": 112,
   "metadata": {},
   "outputs": [],
   "source": [
    "# # heatconmat(y_pred, Y_test)\n",
    "# print(classification_report(y_pred, Y_test, digits=4))"
   ]
  },
  {
   "cell_type": "code",
   "execution_count": 113,
   "metadata": {},
   "outputs": [],
   "source": [
    "# import seaborn as sns\n",
    "# import matplotlib.pyplot as plt\n",
    "# from sklearn.metrics import confusion_matrix\n",
    "\n",
    "# def heatconmat(y_pred, y_test):\n",
    "#   plt.figure(figsize=(10,8))\n",
    "#   cnf_matrix = confusion_matrix(y_pred, y_test)\n",
    "#   ax = sns.heatmap(cnf_matrix, annot=True, fmt='', cmap='Blues')\n",
    "#   ax.xaxis.set_ticklabels(list(set(y_test)))\n",
    "#   ax.yaxis.set_ticklabels(list(set(y_test)))\n",
    "#   plt.show()\n",
    "# heatconmat(y_pred, Y_test)"
   ]
  },
  {
   "cell_type": "code",
   "execution_count": 114,
   "metadata": {},
   "outputs": [],
   "source": [
    "import sys\n",
    "sys.path.insert(1, '../../FeatureEngineering/')\n",
    "import preprocessing\n",
    "preprocesser = preprocessing.Preprocesser()"
   ]
  },
  {
   "cell_type": "code",
   "execution_count": 115,
   "metadata": {},
   "outputs": [
    {
     "data": {
      "text/html": [
       "<style>#sk-container-id-6 {color: black;background-color: white;}#sk-container-id-6 pre{padding: 0;}#sk-container-id-6 div.sk-toggleable {background-color: white;}#sk-container-id-6 label.sk-toggleable__label {cursor: pointer;display: block;width: 100%;margin-bottom: 0;padding: 0.3em;box-sizing: border-box;text-align: center;}#sk-container-id-6 label.sk-toggleable__label-arrow:before {content: \"▸\";float: left;margin-right: 0.25em;color: #696969;}#sk-container-id-6 label.sk-toggleable__label-arrow:hover:before {color: black;}#sk-container-id-6 div.sk-estimator:hover label.sk-toggleable__label-arrow:before {color: black;}#sk-container-id-6 div.sk-toggleable__content {max-height: 0;max-width: 0;overflow: hidden;text-align: left;background-color: #f0f8ff;}#sk-container-id-6 div.sk-toggleable__content pre {margin: 0.2em;color: black;border-radius: 0.25em;background-color: #f0f8ff;}#sk-container-id-6 input.sk-toggleable__control:checked~div.sk-toggleable__content {max-height: 200px;max-width: 100%;overflow: auto;}#sk-container-id-6 input.sk-toggleable__control:checked~label.sk-toggleable__label-arrow:before {content: \"▾\";}#sk-container-id-6 div.sk-estimator input.sk-toggleable__control:checked~label.sk-toggleable__label {background-color: #d4ebff;}#sk-container-id-6 div.sk-label input.sk-toggleable__control:checked~label.sk-toggleable__label {background-color: #d4ebff;}#sk-container-id-6 input.sk-hidden--visually {border: 0;clip: rect(1px 1px 1px 1px);clip: rect(1px, 1px, 1px, 1px);height: 1px;margin: -1px;overflow: hidden;padding: 0;position: absolute;width: 1px;}#sk-container-id-6 div.sk-estimator {font-family: monospace;background-color: #f0f8ff;border: 1px dotted black;border-radius: 0.25em;box-sizing: border-box;margin-bottom: 0.5em;}#sk-container-id-6 div.sk-estimator:hover {background-color: #d4ebff;}#sk-container-id-6 div.sk-parallel-item::after {content: \"\";width: 100%;border-bottom: 1px solid gray;flex-grow: 1;}#sk-container-id-6 div.sk-label:hover label.sk-toggleable__label {background-color: #d4ebff;}#sk-container-id-6 div.sk-serial::before {content: \"\";position: absolute;border-left: 1px solid gray;box-sizing: border-box;top: 0;bottom: 0;left: 50%;z-index: 0;}#sk-container-id-6 div.sk-serial {display: flex;flex-direction: column;align-items: center;background-color: white;padding-right: 0.2em;padding-left: 0.2em;position: relative;}#sk-container-id-6 div.sk-item {position: relative;z-index: 1;}#sk-container-id-6 div.sk-parallel {display: flex;align-items: stretch;justify-content: center;background-color: white;position: relative;}#sk-container-id-6 div.sk-item::before, #sk-container-id-6 div.sk-parallel-item::before {content: \"\";position: absolute;border-left: 1px solid gray;box-sizing: border-box;top: 0;bottom: 0;left: 50%;z-index: -1;}#sk-container-id-6 div.sk-parallel-item {display: flex;flex-direction: column;z-index: 1;position: relative;background-color: white;}#sk-container-id-6 div.sk-parallel-item:first-child::after {align-self: flex-end;width: 50%;}#sk-container-id-6 div.sk-parallel-item:last-child::after {align-self: flex-start;width: 50%;}#sk-container-id-6 div.sk-parallel-item:only-child::after {width: 0;}#sk-container-id-6 div.sk-dashed-wrapped {border: 1px dashed gray;margin: 0 0.4em 0.5em 0.4em;box-sizing: border-box;padding-bottom: 0.4em;background-color: white;}#sk-container-id-6 div.sk-label label {font-family: monospace;font-weight: bold;display: inline-block;line-height: 1.2em;}#sk-container-id-6 div.sk-label-container {text-align: center;}#sk-container-id-6 div.sk-container {/* jupyter's `normalize.less` sets `[hidden] { display: none; }` but bootstrap.min.css set `[hidden] { display: none !important; }` so we also need the `!important` here to be able to override the default hidden behavior on the sphinx rendered scikit-learn.org. See: https://github.com/scikit-learn/scikit-learn/issues/21755 */display: inline-block !important;position: relative;}#sk-container-id-6 div.sk-text-repr-fallback {display: none;}</style><div id=\"sk-container-id-6\" class=\"sk-top-container\"><div class=\"sk-text-repr-fallback\"><pre>Pipeline(steps=[(&#x27;preprocesser&#x27;, Preprocesser()),\n",
       "                (&#x27;vectorizer&#x27;, TfidfVectorizer()),\n",
       "                (&#x27;SVMModel&#x27;, SVC(C=10, gamma=0.1, probability=True))])</pre><b>In a Jupyter environment, please rerun this cell to show the HTML representation or trust the notebook. <br />On GitHub, the HTML representation is unable to render, please try loading this page with nbviewer.org.</b></div><div class=\"sk-container\" hidden><div class=\"sk-item sk-dashed-wrapped\"><div class=\"sk-label-container\"><div class=\"sk-label sk-toggleable\"><input class=\"sk-toggleable__control sk-hidden--visually\" id=\"sk-estimator-id-12\" type=\"checkbox\" ><label for=\"sk-estimator-id-12\" class=\"sk-toggleable__label sk-toggleable__label-arrow\">Pipeline</label><div class=\"sk-toggleable__content\"><pre>Pipeline(steps=[(&#x27;preprocesser&#x27;, Preprocesser()),\n",
       "                (&#x27;vectorizer&#x27;, TfidfVectorizer()),\n",
       "                (&#x27;SVMModel&#x27;, SVC(C=10, gamma=0.1, probability=True))])</pre></div></div></div><div class=\"sk-serial\"><div class=\"sk-item\"><div class=\"sk-estimator sk-toggleable\"><input class=\"sk-toggleable__control sk-hidden--visually\" id=\"sk-estimator-id-13\" type=\"checkbox\" ><label for=\"sk-estimator-id-13\" class=\"sk-toggleable__label sk-toggleable__label-arrow\">Preprocesser</label><div class=\"sk-toggleable__content\"><pre>Preprocesser()</pre></div></div></div><div class=\"sk-item\"><div class=\"sk-estimator sk-toggleable\"><input class=\"sk-toggleable__control sk-hidden--visually\" id=\"sk-estimator-id-14\" type=\"checkbox\" ><label for=\"sk-estimator-id-14\" class=\"sk-toggleable__label sk-toggleable__label-arrow\">TfidfVectorizer</label><div class=\"sk-toggleable__content\"><pre>TfidfVectorizer()</pre></div></div></div><div class=\"sk-item\"><div class=\"sk-estimator sk-toggleable\"><input class=\"sk-toggleable__control sk-hidden--visually\" id=\"sk-estimator-id-15\" type=\"checkbox\" ><label for=\"sk-estimator-id-15\" class=\"sk-toggleable__label sk-toggleable__label-arrow\">SVC</label><div class=\"sk-toggleable__content\"><pre>SVC(C=10, gamma=0.1, probability=True)</pre></div></div></div></div></div></div></div>"
      ],
      "text/plain": [
       "Pipeline(steps=[('preprocesser', Preprocesser()),\n",
       "                ('vectorizer', TfidfVectorizer()),\n",
       "                ('SVMModel', SVC(C=10, gamma=0.1, probability=True))])"
      ]
     },
     "execution_count": 115,
     "metadata": {},
     "output_type": "execute_result"
    }
   ],
   "source": [
    "from sklearn.pipeline import Pipeline\n",
    "pipe = Pipeline([('preprocesser', preprocesser), ('vectorizer', tf_idf_vec), ('SVMModel', classifier)])\n",
    "pipe.fit(X_train, Y_train)"
   ]
  },
  {
   "cell_type": "code",
   "execution_count": 117,
   "metadata": {},
   "outputs": [],
   "source": [
    "y_pred = pipe.predict(X_test)"
   ]
  },
  {
   "cell_type": "code",
   "execution_count": 118,
   "metadata": {},
   "outputs": [
    {
     "data": {
      "image/png": "[encoded data removed]",
      "text/plain": [
       "<Figure size 1000x800 with 2 Axes>"
      ]
     },
     "metadata": {},
     "output_type": "display_data"
    }
   ],
   "source": [
    "import seaborn as sns\n",
    "import matplotlib.pyplot as plt\n",
    "from sklearn.metrics import confusion_matrix\n",
    "\n",
    "def heatconmat(y_pred, y_test):\n",
    "  plt.figure(figsize=(10,8))\n",
    "  cnf_matrix = confusion_matrix(y_pred, y_test)\n",
    "  ax = sns.heatmap(cnf_matrix, annot=True, fmt='', cmap='Blues')\n",
    "  ax.xaxis.set_ticklabels(list(set(y_pred)))\n",
    "  ax.yaxis.set_ticklabels(list(set(y_test)))\n",
    "  plt.show()\n",
    "heatconmat(y_pred, Y_test)"
   ]
  },
  {
   "cell_type": "code",
   "execution_count": 121,
   "metadata": {},
   "outputs": [
    {
     "name": "stdout",
     "output_type": "stream",
     "text": [
      "              precision    recall  f1-score   support\n",
      "\n",
      "   Chinh tri     0.9298    0.9132    0.9214       841\n",
      "    Giai tri     0.9452    0.9024    0.9233      1014\n",
      "    Giao duc     0.9441    0.9453    0.9447       750\n",
      "    Khoa hoc     0.9791    0.9640    0.9715       584\n",
      "     Kinh te     0.9266    0.9266    0.9266      1199\n",
      "   Phap luat     0.8620    0.9291    0.8943       437\n",
      "    Suc khoe     0.9653    0.9663    0.9658       950\n",
      "    The thao     0.9908    0.9863    0.9885       655\n",
      "     Van hoa     0.7658    0.8385    0.8005       390\n",
      "\n",
      "    accuracy                         0.9330      6820\n",
      "   macro avg     0.9232    0.9302    0.9263      6820\n",
      "weighted avg     0.9344    0.9330    0.9334      6820\n",
      "\n"
     ]
    }
   ],
   "source": [
    "print(classification_report(y_pred, Y_test, digits=4))"
   ]
  },
  {
   "cell_type": "code",
   "execution_count": 124,
   "metadata": {},
   "outputs": [],
   "source": [
    "pickle.dump(pipe, open('svm.sav', 'wb'))"
   ]
  },
  {
   "attachments": {},
   "cell_type": "markdown",
   "metadata": {},
   "source": [
    "# check "
   ]
  },
  {
   "cell_type": "code",
   "execution_count": 64,
   "metadata": {},
   "outputs": [],
   "source": [
    "arr_wrong = []\n",
    "for i, v in enumerate(y_pred):\n",
    "  if v != np.array(Y_test)[i]:\n",
    "    arr_wrong.append(i)"
   ]
  },
  {
   "cell_type": "code",
   "execution_count": 65,
   "metadata": {},
   "outputs": [],
   "source": [
    "arr_true = []\n",
    "for i, v in enumerate(y_pred):\n",
    "  if v == np.array(Y_test)[i]:\n",
    "    arr_true.append(i)"
   ]
  },
  {
   "cell_type": "code",
   "execution_count": 66,
   "metadata": {},
   "outputs": [],
   "source": [
    "l = pd.Series(sorted([len(x.split()) for x in np.array(X_test)[arr_wrong]]))"
   ]
  },
  {
   "cell_type": "code",
   "execution_count": 67,
   "metadata": {},
   "outputs": [],
   "source": [
    "t = pd.Series(sorted([len(x.split()) for x in np.array(X_test)[arr_true]]))"
   ]
  },
  {
   "cell_type": "code",
   "execution_count": 68,
   "metadata": {},
   "outputs": [
    {
     "data": {
      "text/plain": [
       "(229, 101)"
      ]
     },
     "execution_count": 68,
     "metadata": {},
     "output_type": "execute_result"
    }
   ],
   "source": [
    "len(l), len(l[l.values > 300])"
   ]
  },
  {
   "cell_type": "code",
   "execution_count": 69,
   "metadata": {},
   "outputs": [
    {
     "data": {
      "text/plain": [
       "268.0692"
      ]
     },
     "execution_count": 69,
     "metadata": {},
     "output_type": "execute_result"
    }
   ],
   "source": [
    "np.mean(t)"
   ]
  },
  {
   "cell_type": "code",
   "execution_count": 70,
   "metadata": {},
   "outputs": [
    {
     "data": {
      "text/plain": [
       "280.17903930131007"
      ]
     },
     "execution_count": 70,
     "metadata": {},
     "output_type": "execute_result"
    }
   ],
   "source": [
    "np.mean(l)"
   ]
  },
  {
   "cell_type": "code",
   "execution_count": 71,
   "metadata": {},
   "outputs": [
    {
     "data": {
      "text/plain": [
       "<AxesSubplot:>"
      ]
     },
     "execution_count": 71,
     "metadata": {},
     "output_type": "execute_result"
    },
    {
     "data": {
      "image/png": "[encoded data removed]",
      "text/plain": [
       "<Figure size 640x480 with 1 Axes>"
      ]
     },
     "metadata": {},
     "output_type": "display_data"
    }
   ],
   "source": [
    "l.plot()"
   ]
  },
  {
   "cell_type": "code",
   "execution_count": 72,
   "metadata": {},
   "outputs": [
    {
     "data": {
      "text/plain": [
       "<AxesSubplot:>"
      ]
     },
     "execution_count": 72,
     "metadata": {},
     "output_type": "execute_result"
    },
    {
     "data": {
      "image/png": "[encoded data removed]",
      "text/plain": [
       "<Figure size 640x480 with 1 Axes>"
      ]
     },
     "metadata": {},
     "output_type": "display_data"
    }
   ],
   "source": [
    "t.plot()"
   ]
  },
  {
   "cell_type": "code",
   "execution_count": 73,
   "metadata": {},
   "outputs": [
    {
     "data": {
      "text/plain": [
       "'bà park_mihyung trưởng đại_diện iom nhấn_mạnh điều hội_thảo tham_vấn chương_trình hoạt_động hợp_tác lĩnh_vực di_cư lao_động giai_đoạn hội_thảo do iom cục quản_lý lao_động ngoài lđtb xh phối_hợp tổ_chức tham_dự đại_diện sở lđtb xh tỉnh thành_phố số lao_động làm_việc nước_ngoài hội_thảo tham_vấn cấp mang cơ_hội bên đánh_giá hiệu_quả hoạt_động hợp_tác hiện_tại giữa iom cục quản_lý lao_động ngoài đồng_thời thảo_luận ưu_tiên hoạt_động hợp_tác sắp tới lĩnh_vực di_cư lao_động giai_đoạn khai_mạc hội_thảo dũng phó_cục_trưởng cục quản_lý lao_động ngoài đánh_giá chương_trình hoạt_động hợp_tác triển_khai iom bao_gồm hỗ_trợ kỹ_thuật tài_chính hoạt_động xây_dựng phổ_biến luật nâng năng_lực cán_bộ nhận_thức dân di_cư lao_động an_toàn bảo_vệ lao_động đi làm_việc nước_ngoài bà park_mihyung nhấn_mạnh cam_kết iom hợp_tác chặt_chẽ chính_phủ nhằm thúc_đẩy phát_triển kỹ_năng lao_động di_cư chỉ tập_trung mang cơ_hội việc_làm tốt mà nâng trải nghiệm di_cư họ trưởng đại_diện iom đánh_giá tạo môi_trường thuận_lợi thúc_đẩy di_cư lao_động an_toàn nhằm mang lợi_ích chính dân cộng_đồng phát_triển kinh_tế xã_hội iom hợp_tác cùng lđtb xh lĩnh_vực bao_gồm dự_án di_cư lao_động phòng_chống mua_bán sức_khỏe di_cư phát_triển kỹ_năng di_cư tập_trung xây_dựng năng_lực hỗ_trợ củng_cố chính_sách pháp_luật dựa bằng_chứng lĩnh_vực di_cư lao_động chúng_tôi chú_trọng giải_quyết khó_khăn mà lao_động di_cư nữ thường đối_mặt đảm_bảo bình_đẳng giới đề_cao tiếng_nói họ mọi giai_đoạn hành_trình di_cư lao_động bà park chia_sẻ đại_biểu tham_dự hội_thảo thảo_luận ưu_tiên hợp_tác tương_lai lĩnh_vực di_cư lao_động tập_trung động nhằm nâng năng_lực củng_cố pháp_luật tăng_cường đối_thoại quốc_gia hỗ_trợ cải_thiện định_hướng nghề_nghiệp cung_cấp thông_tin tư_vấn xuất_cảnh hỗ_trợ tái_hòa_nhập trở lao_động di_cư đại_biểu thống_nhất mục_tiêu chung hợp_tác tương_lai nhằm đẩy_mạnh di_cư an_toàn hợp_thức lao_động di_cư trao quyền nâng cao_tay_nghề thùy_dung'"
      ]
     },
     "execution_count": 73,
     "metadata": {},
     "output_type": "execute_result"
    }
   ],
   "source": [
    "np.array(X_test)[arr_wrong][2]"
   ]
  },
  {
   "cell_type": "code",
   "execution_count": 74,
   "metadata": {},
   "outputs": [
    {
     "data": {
      "text/plain": [
       "'Kinh te'"
      ]
     },
     "execution_count": 74,
     "metadata": {},
     "output_type": "execute_result"
    }
   ],
   "source": [
    "np.array(y_pred)[arr_wrong][2]"
   ]
  },
  {
   "cell_type": "code",
   "execution_count": 75,
   "metadata": {},
   "outputs": [
    {
     "data": {
      "text/plain": [
       "'Chinh tri'"
      ]
     },
     "execution_count": 75,
     "metadata": {},
     "output_type": "execute_result"
    }
   ],
   "source": [
    "np.array(Y_test)[arr_wrong][2]"
   ]
  },
  {
   "cell_type": "code",
   "execution_count": 76,
   "metadata": {},
   "outputs": [],
   "source": [
    "check = pd.DataFrame({\"content\": np.array(X_test)[arr_wrong], \"predicted\": np.array(y_pred)[arr_wrong], \"true label\": np.array(Y_test)[arr_wrong]})"
   ]
  },
  {
   "cell_type": "code",
   "execution_count": 77,
   "metadata": {},
   "outputs": [],
   "source": [
    "check['lennn'] = check['content'].apply(lambda x: len(x.split()))"
   ]
  },
  {
   "cell_type": "code",
   "execution_count": 78,
   "metadata": {},
   "outputs": [
    {
     "data": {
      "text/html": [
       "<div>\n",
       "<style scoped>\n",
       "    .dataframe tbody tr th:only-of-type {\n",
       "        vertical-align: middle;\n",
       "    }\n",
       "\n",
       "    .dataframe tbody tr th {\n",
       "        vertical-align: top;\n",
       "    }\n",
       "\n",
       "    .dataframe thead th {\n",
       "        text-align: right;\n",
       "    }\n",
       "</style>\n",
       "<table border=\"1\" class=\"dataframe\">\n",
       "  <thead>\n",
       "    <tr style=\"text-align: right;\">\n",
       "      <th></th>\n",
       "      <th>content</th>\n",
       "      <th>predicted</th>\n",
       "      <th>true label</th>\n",
       "      <th>lennn</th>\n",
       "    </tr>\n",
       "  </thead>\n",
       "  <tbody>\n",
       "    <tr>\n",
       "      <th>0</th>\n",
       "      <td>cuộc họp hội_đồng thẩm_định kết_quả rà_soát ho...</td>\n",
       "      <td>Chinh tri</td>\n",
       "      <td>Kinh te</td>\n",
       "      <td>423</td>\n",
       "    </tr>\n",
       "    <tr>\n",
       "      <th>1</th>\n",
       "      <td>tham_dự lễ trao giải bà bùi_thị minh_hoài bí_t...</td>\n",
       "      <td>Kinh te</td>\n",
       "      <td>Chinh tri</td>\n",
       "      <td>298</td>\n",
       "    </tr>\n",
       "    <tr>\n",
       "      <th>2</th>\n",
       "      <td>bà park_mihyung trưởng đại_diện iom nhấn_mạnh ...</td>\n",
       "      <td>Kinh te</td>\n",
       "      <td>Chinh tri</td>\n",
       "      <td>251</td>\n",
       "    </tr>\n",
       "    <tr>\n",
       "      <th>3</th>\n",
       "      <td>nhung kết_hôn chị giáo_viên mầm_non chị nhung ...</td>\n",
       "      <td>Giao duc</td>\n",
       "      <td>Phap luat</td>\n",
       "      <td>339</td>\n",
       "    </tr>\n",
       "    <tr>\n",
       "      <th>4</th>\n",
       "      <td>indian_express đây cảnh_báo thứ ba vòng bảy th...</td>\n",
       "      <td>Khoa hoc</td>\n",
       "      <td>Suc khoe</td>\n",
       "      <td>218</td>\n",
       "    </tr>\n",
       "    <tr>\n",
       "      <th>...</th>\n",
       "      <td>...</td>\n",
       "      <td>...</td>\n",
       "      <td>...</td>\n",
       "      <td>...</td>\n",
       "    </tr>\n",
       "    <tr>\n",
       "      <th>224</th>\n",
       "      <td>chiều kíp con nhót mót chồng buổi gặp_gỡ truyề...</td>\n",
       "      <td>Giai tri</td>\n",
       "      <td>Van hoa</td>\n",
       "      <td>307</td>\n",
       "    </tr>\n",
       "    <tr>\n",
       "      <th>225</th>\n",
       "      <td>bốn ngôi đền thăng_long_tứ trấn bao_gồm đền bạ...</td>\n",
       "      <td>Van hoa</td>\n",
       "      <td>Giao duc</td>\n",
       "      <td>259</td>\n",
       "    </tr>\n",
       "    <tr>\n",
       "      <th>226</th>\n",
       "      <td>galaxy_cinema dự_định ứng_dụng công_nghệ trình...</td>\n",
       "      <td>Khoa hoc</td>\n",
       "      <td>Giai tri</td>\n",
       "      <td>144</td>\n",
       "    </tr>\n",
       "    <tr>\n",
       "      <th>227</th>\n",
       "      <td>buổi làm_việc giữa đảng_đoàn quốc_hội ban thườ...</td>\n",
       "      <td>Chinh tri</td>\n",
       "      <td>Kinh te</td>\n",
       "      <td>309</td>\n",
       "    </tr>\n",
       "    <tr>\n",
       "      <th>228</th>\n",
       "      <td>chiều nay phiên_tòa bị_cáo đỗ_thành_nhân chủ_t...</td>\n",
       "      <td>Phap luat</td>\n",
       "      <td>Kinh te</td>\n",
       "      <td>447</td>\n",
       "    </tr>\n",
       "  </tbody>\n",
       "</table>\n",
       "<p>229 rows × 4 columns</p>\n",
       "</div>"
      ],
      "text/plain": [
       "                                               content  predicted true label  \\\n",
       "0    cuộc họp hội_đồng thẩm_định kết_quả rà_soát ho...  Chinh tri    Kinh te   \n",
       "1    tham_dự lễ trao giải bà bùi_thị minh_hoài bí_t...    Kinh te  Chinh tri   \n",
       "2    bà park_mihyung trưởng đại_diện iom nhấn_mạnh ...    Kinh te  Chinh tri   \n",
       "3    nhung kết_hôn chị giáo_viên mầm_non chị nhung ...   Giao duc  Phap luat   \n",
       "4    indian_express đây cảnh_báo thứ ba vòng bảy th...   Khoa hoc   Suc khoe   \n",
       "..                                                 ...        ...        ...   \n",
       "224  chiều kíp con nhót mót chồng buổi gặp_gỡ truyề...   Giai tri    Van hoa   \n",
       "225  bốn ngôi đền thăng_long_tứ trấn bao_gồm đền bạ...    Van hoa   Giao duc   \n",
       "226  galaxy_cinema dự_định ứng_dụng công_nghệ trình...   Khoa hoc   Giai tri   \n",
       "227  buổi làm_việc giữa đảng_đoàn quốc_hội ban thườ...  Chinh tri    Kinh te   \n",
       "228  chiều nay phiên_tòa bị_cáo đỗ_thành_nhân chủ_t...  Phap luat    Kinh te   \n",
       "\n",
       "     lennn  \n",
       "0      423  \n",
       "1      298  \n",
       "2      251  \n",
       "3      339  \n",
       "4      218  \n",
       "..     ...  \n",
       "224    307  \n",
       "225    259  \n",
       "226    144  \n",
       "227    309  \n",
       "228    447  \n",
       "\n",
       "[229 rows x 4 columns]"
      ]
     },
     "execution_count": 78,
     "metadata": {},
     "output_type": "execute_result"
    }
   ],
   "source": [
    "check"
   ]
  },
  {
   "cell_type": "code",
   "execution_count": 79,
   "metadata": {},
   "outputs": [
    {
     "data": {
      "text/plain": [
       "229"
      ]
     },
     "execution_count": 79,
     "metadata": {},
     "output_type": "execute_result"
    }
   ],
   "source": [
    "len(check)"
   ]
  },
  {
   "cell_type": "code",
   "execution_count": 80,
   "metadata": {},
   "outputs": [
    {
     "data": {
      "text/plain": [
       "'https://vietnamnet.vn/who-neu-ten-mot-loai-siro-ho-nhiem-doc-2137666.html'"
      ]
     },
     "execution_count": 80,
     "metadata": {},
     "output_type": "execute_result"
    }
   ],
   "source": [
    "data[data[\"Content_cleaned_v2\"] == np.array(X_test)[arr_wrong][4]].iloc[0].Link"
   ]
  }
 ],
 "metadata": {
  "kernelspec": {
   "display_name": "Python 3",
   "language": "python",
   "name": "python3"
  },
  "language_info": {
   "codemirror_mode": {
    "name": "ipython",
    "version": 3
   },
   "file_extension": ".py",
   "mimetype": "text/x-python",
   "name": "python",
   "nbconvert_exporter": "python",
   "pygments_lexer": "ipython3",
   "version": "3.10.5"
  },
  "orig_nbformat": 4
 },
 "nbformat": 4,
 "nbformat_minor": 2
}
