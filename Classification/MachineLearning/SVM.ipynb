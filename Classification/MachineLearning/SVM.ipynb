{
 "cells": [
  {
   "cell_type": "code",
   "execution_count": 107,
   "metadata": {},
   "outputs": [],
   "source": [
    "import pandas as pd\n",
    "import numpy as np\n",
    "from sklearn.model_selection import train_test_split\n",
    "from sklearn import svm, naive_bayes\n",
    "from sklearn.metrics import confusion_matrix\n",
    "from sklearn.metrics import classification_report\n",
    "from sklearn.model_selection import StratifiedKFold, GridSearchCV, RandomizedSearchCV, cross_val_score\n",
    "import seaborn as sns\n",
    "import pickle"
   ]
  },
  {
   "attachments": {},
   "cell_type": "markdown",
   "metadata": {},
   "source": [
    "read data"
   ]
  },
  {
   "cell_type": "code",
   "execution_count": 108,
   "metadata": {},
   "outputs": [],
   "source": [
    "data = pd.read_csv('../../Data/cleaned_v2.csv')"
   ]
  },
  {
   "cell_type": "code",
   "execution_count": 109,
   "metadata": {},
   "outputs": [
    {
     "data": {
      "text/plain": [
       "22187"
      ]
     },
     "execution_count": 109,
     "metadata": {},
     "output_type": "execute_result"
    }
   ],
   "source": [
    "len(data)"
   ]
  },
  {
   "attachments": {},
   "cell_type": "markdown",
   "metadata": {},
   "source": [
    "# split data"
   ]
  },
  {
   "cell_type": "code",
   "execution_count": 110,
   "metadata": {},
   "outputs": [
    {
     "data": {
      "text/plain": [
       "((13312,), (13312,), (8875,), (8875,))"
      ]
     },
     "execution_count": 110,
     "metadata": {},
     "output_type": "execute_result"
    }
   ],
   "source": [
    "X_train, X_test, Y_train, Y_test = train_test_split(data[\"Content_cleaned_v1\"], data[\"Label\"], test_size= 0.4, random_state= 42)\n",
    "X_train.shape, Y_train.shape, X_test.shape, Y_test.shape"
   ]
  },
  {
   "cell_type": "code",
   "execution_count": 111,
   "metadata": {},
   "outputs": [
    {
     "data": {
      "text/plain": [
       "Series([], Name: Content_cleaned_v1, dtype: object)"
      ]
     },
     "execution_count": 111,
     "metadata": {},
     "output_type": "execute_result"
    }
   ],
   "source": [
    "X_train[X_train.isna() == True]"
   ]
  },
  {
   "attachments": {},
   "cell_type": "markdown",
   "metadata": {},
   "source": [
    "# extract feature"
   ]
  },
  {
   "cell_type": "code",
   "execution_count": 112,
   "metadata": {},
   "outputs": [
    {
     "data": {
      "text/plain": [
       "<13312x83803 sparse matrix of type '<class 'numpy.float64'>'\n",
       "\twith 2994165 stored elements in Compressed Sparse Row format>"
      ]
     },
     "execution_count": 112,
     "metadata": {},
     "output_type": "execute_result"
    }
   ],
   "source": [
    "from sklearn.feature_extraction.text import TfidfVectorizer\n",
    "tf_idf_vec = TfidfVectorizer()\n",
    "vector_train = tf_idf_vec.fit_transform(X_train)\n",
    "vector_train"
   ]
  },
  {
   "attachments": {},
   "cell_type": "markdown",
   "metadata": {},
   "source": [
    "# turning parameters"
   ]
  },
  {
   "cell_type": "code",
   "execution_count": 113,
   "metadata": {},
   "outputs": [],
   "source": [
    "# param_grid = {'C': [1, 10, 100], 'gamma': [1,0.1,0.01],'kernel': ['rbf', 'poly']}\n",
    "# # Set up score\n",
    "# scoring = ['accuracy']\n",
    "# # Set up the k-fold cross-validation\n",
    "# kfold = StratifiedKFold(n_splits=10, shuffle=True, random_state=0)\n",
    "# # Define grid search\n",
    "# grid_search = GridSearchCV(estimator=svm.SVC(), \n",
    "#                            param_grid=param_grid, \n",
    "#                            scoring=scoring, \n",
    "#                            refit='accuracy', \n",
    "#                            n_jobs=-1, \n",
    "#                            cv=kfold, \n",
    "#                            verbose=0)\n",
    "# # Fit grid search\n",
    "# grid_result = grid_search.fit(vector_train, Y_train)\n",
    "# # Print grid search summary\n",
    "# grid_result.best_params_"
   ]
  },
  {
   "cell_type": "code",
   "execution_count": 114,
   "metadata": {},
   "outputs": [],
   "source": [
    "# scores = [grid_search.cv_results_['split0_test_accuracy'], grid_search.cv_results_['split1_test_accuracy'], \n",
    "#          grid_search.cv_results_['split2_test_accuracy'], grid_search.cv_results_['split3_test_accuracy'], \n",
    "#          grid_search.cv_results_['split4_test_accuracy'], grid_search.cv_results_['split5_test_accuracy'], \n",
    "#          grid_search.cv_results_['split6_test_accuracy'], grid_search.cv_results_['split7_test_accuracy'], \n",
    "#          grid_search.cv_results_['split8_test_accuracy'], grid_search.cv_results_['split9_test_accuracy'], ]\n",
    "\n",
    "# # plot the accuracy scores for each fold using a box plot\n",
    "# max_scores = [max(x) for x in scores]\n",
    "# plt.plot(max_scores)\n",
    "# plt.xlabel('Validation Set')\n",
    "# plt.ylabel('Accuracy')\n",
    "# plt.title('Accuracy of each Validation Set in GridSearchCV')\n",
    "# plt.show()"
   ]
  },
  {
   "attachments": {},
   "cell_type": "markdown",
   "metadata": {},
   "source": [
    "# modeling"
   ]
  },
  {
   "cell_type": "code",
   "execution_count": 115,
   "metadata": {},
   "outputs": [
    {
     "data": {
      "text/html": [
       "<style>#sk-container-id-4 {color: black;background-color: white;}#sk-container-id-4 pre{padding: 0;}#sk-container-id-4 div.sk-toggleable {background-color: white;}#sk-container-id-4 label.sk-toggleable__label {cursor: pointer;display: block;width: 100%;margin-bottom: 0;padding: 0.3em;box-sizing: border-box;text-align: center;}#sk-container-id-4 label.sk-toggleable__label-arrow:before {content: \"▸\";float: left;margin-right: 0.25em;color: #696969;}#sk-container-id-4 label.sk-toggleable__label-arrow:hover:before {color: black;}#sk-container-id-4 div.sk-estimator:hover label.sk-toggleable__label-arrow:before {color: black;}#sk-container-id-4 div.sk-toggleable__content {max-height: 0;max-width: 0;overflow: hidden;text-align: left;background-color: #f0f8ff;}#sk-container-id-4 div.sk-toggleable__content pre {margin: 0.2em;color: black;border-radius: 0.25em;background-color: #f0f8ff;}#sk-container-id-4 input.sk-toggleable__control:checked~div.sk-toggleable__content {max-height: 200px;max-width: 100%;overflow: auto;}#sk-container-id-4 input.sk-toggleable__control:checked~label.sk-toggleable__label-arrow:before {content: \"▾\";}#sk-container-id-4 div.sk-estimator input.sk-toggleable__control:checked~label.sk-toggleable__label {background-color: #d4ebff;}#sk-container-id-4 div.sk-label input.sk-toggleable__control:checked~label.sk-toggleable__label {background-color: #d4ebff;}#sk-container-id-4 input.sk-hidden--visually {border: 0;clip: rect(1px 1px 1px 1px);clip: rect(1px, 1px, 1px, 1px);height: 1px;margin: -1px;overflow: hidden;padding: 0;position: absolute;width: 1px;}#sk-container-id-4 div.sk-estimator {font-family: monospace;background-color: #f0f8ff;border: 1px dotted black;border-radius: 0.25em;box-sizing: border-box;margin-bottom: 0.5em;}#sk-container-id-4 div.sk-estimator:hover {background-color: #d4ebff;}#sk-container-id-4 div.sk-parallel-item::after {content: \"\";width: 100%;border-bottom: 1px solid gray;flex-grow: 1;}#sk-container-id-4 div.sk-label:hover label.sk-toggleable__label {background-color: #d4ebff;}#sk-container-id-4 div.sk-serial::before {content: \"\";position: absolute;border-left: 1px solid gray;box-sizing: border-box;top: 0;bottom: 0;left: 50%;z-index: 0;}#sk-container-id-4 div.sk-serial {display: flex;flex-direction: column;align-items: center;background-color: white;padding-right: 0.2em;padding-left: 0.2em;position: relative;}#sk-container-id-4 div.sk-item {position: relative;z-index: 1;}#sk-container-id-4 div.sk-parallel {display: flex;align-items: stretch;justify-content: center;background-color: white;position: relative;}#sk-container-id-4 div.sk-item::before, #sk-container-id-4 div.sk-parallel-item::before {content: \"\";position: absolute;border-left: 1px solid gray;box-sizing: border-box;top: 0;bottom: 0;left: 50%;z-index: -1;}#sk-container-id-4 div.sk-parallel-item {display: flex;flex-direction: column;z-index: 1;position: relative;background-color: white;}#sk-container-id-4 div.sk-parallel-item:first-child::after {align-self: flex-end;width: 50%;}#sk-container-id-4 div.sk-parallel-item:last-child::after {align-self: flex-start;width: 50%;}#sk-container-id-4 div.sk-parallel-item:only-child::after {width: 0;}#sk-container-id-4 div.sk-dashed-wrapped {border: 1px dashed gray;margin: 0 0.4em 0.5em 0.4em;box-sizing: border-box;padding-bottom: 0.4em;background-color: white;}#sk-container-id-4 div.sk-label label {font-family: monospace;font-weight: bold;display: inline-block;line-height: 1.2em;}#sk-container-id-4 div.sk-label-container {text-align: center;}#sk-container-id-4 div.sk-container {/* jupyter's `normalize.less` sets `[hidden] { display: none; }` but bootstrap.min.css set `[hidden] { display: none !important; }` so we also need the `!important` here to be able to override the default hidden behavior on the sphinx rendered scikit-learn.org. See: https://github.com/scikit-learn/scikit-learn/issues/21755 */display: inline-block !important;position: relative;}#sk-container-id-4 div.sk-text-repr-fallback {display: none;}</style><div id=\"sk-container-id-4\" class=\"sk-top-container\"><div class=\"sk-text-repr-fallback\"><pre>SVC(C=10, gamma=0.1)</pre><b>In a Jupyter environment, please rerun this cell to show the HTML representation or trust the notebook. <br />On GitHub, the HTML representation is unable to render, please try loading this page with nbviewer.org.</b></div><div class=\"sk-container\" hidden><div class=\"sk-item\"><div class=\"sk-estimator sk-toggleable\"><input class=\"sk-toggleable__control sk-hidden--visually\" id=\"sk-estimator-id-4\" type=\"checkbox\" checked><label for=\"sk-estimator-id-4\" class=\"sk-toggleable__label sk-toggleable__label-arrow\">SVC</label><div class=\"sk-toggleable__content\"><pre>SVC(C=10, gamma=0.1)</pre></div></div></div></div></div>"
      ],
      "text/plain": [
       "SVC(C=10, gamma=0.1)"
      ]
     },
     "execution_count": 115,
     "metadata": {},
     "output_type": "execute_result"
    }
   ],
   "source": [
    "classifier = svm.SVC(C= 10, gamma= 0.1, kernel= \"rbf\")\n",
    "classifier.fit(vector_train, Y_train)"
   ]
  },
  {
   "attachments": {},
   "cell_type": "markdown",
   "metadata": {},
   "source": [
    "# predict"
   ]
  },
  {
   "cell_type": "code",
   "execution_count": 116,
   "metadata": {},
   "outputs": [],
   "source": [
    "vector_test = tf_idf_vec.transform(X_test)\n",
    "y_pred = classifier.predict(vector_test)"
   ]
  },
  {
   "attachments": {},
   "cell_type": "markdown",
   "metadata": {},
   "source": [
    "# report "
   ]
  },
  {
   "cell_type": "code",
   "execution_count": 117,
   "metadata": {},
   "outputs": [
    {
     "name": "stdout",
     "output_type": "stream",
     "text": [
      "              precision    recall  f1-score   support\n",
      "\n",
      "   Chinh tri     0.9281    0.9104    0.9192      1149\n",
      "    Giai tri     0.9229    0.9138    0.9183      1323\n",
      "    Giao duc     0.9406    0.9505    0.9455       949\n",
      "    Khoa hoc     0.9858    0.9598    0.9726       796\n",
      "     Kinh te     0.9222    0.9316    0.9269      1578\n",
      "   Phap luat     0.8010    0.8453    0.8226       362\n",
      "    Suc khoe     0.9653    0.9638    0.9645      1269\n",
      "    The thao     0.9933    0.9822    0.9877       899\n",
      "     Van hoa     0.7745    0.8055    0.7897       550\n",
      "\n",
      "    accuracy                         0.9291      8875\n",
      "   macro avg     0.9149    0.9181    0.9163      8875\n",
      "weighted avg     0.9300    0.9291    0.9295      8875\n",
      "\n"
     ]
    }
   ],
   "source": [
    "# heatconmat(y_pred, Y_test)\n",
    "print(classification_report(y_pred, Y_test, digits=4))"
   ]
  },
  {
   "cell_type": "code",
   "execution_count": 118,
   "metadata": {},
   "outputs": [
    {
     "data": {
      "image/png": "[encoded data removed]",
      "text/plain": [
       "<Figure size 1000x800 with 2 Axes>"
      ]
     },
     "metadata": {},
     "output_type": "display_data"
    }
   ],
   "source": [
    "import seaborn as sns\n",
    "import matplotlib.pyplot as plt\n",
    "from sklearn.metrics import confusion_matrix\n",
    "\n",
    "def heatconmat(y_pred, y_test):\n",
    "  plt.figure(figsize=(10,8))\n",
    "  cnf_matrix = confusion_matrix(y_pred, y_test)\n",
    "  ax = sns.heatmap(cnf_matrix, annot=True, fmt='', cmap='Blues')\n",
    "  ax.xaxis.set_ticklabels(list(set(y_test)))\n",
    "  ax.yaxis.set_ticklabels(list(set(y_test)))\n",
    "  plt.show()\n",
    "heatconmat(y_pred, Y_test)"
   ]
  },
  {
   "attachments": {},
   "cell_type": "markdown",
   "metadata": {},
   "source": [
    "# check "
   ]
  },
  {
   "cell_type": "code",
   "execution_count": 119,
   "metadata": {},
   "outputs": [],
   "source": [
    "arr_wrong = []\n",
    "for i, v in enumerate(y_pred):\n",
    "  if v != np.array(Y_test)[i]:\n",
    "    arr_wrong.append(i)"
   ]
  },
  {
   "cell_type": "code",
   "execution_count": 120,
   "metadata": {},
   "outputs": [],
   "source": [
    "arr_true = []\n",
    "for i, v in enumerate(y_pred):\n",
    "  if v == np.array(Y_test)[i]:\n",
    "    arr_true.append(i)"
   ]
  },
  {
   "cell_type": "code",
   "execution_count": 121,
   "metadata": {},
   "outputs": [],
   "source": [
    "l = pd.Series(sorted([len(x.split()) for x in np.array(X_test)[arr_wrong]]))"
   ]
  },
  {
   "cell_type": "code",
   "execution_count": 122,
   "metadata": {},
   "outputs": [],
   "source": [
    "t = pd.Series(sorted([len(x.split()) for x in np.array(X_test)[arr_true]]))"
   ]
  },
  {
   "cell_type": "code",
   "execution_count": 139,
   "metadata": {},
   "outputs": [
    {
     "data": {
      "text/plain": [
       "(629, 470)"
      ]
     },
     "execution_count": 139,
     "metadata": {},
     "output_type": "execute_result"
    }
   ],
   "source": [
    "len(l), len(l[l.values > 300])"
   ]
  },
  {
   "cell_type": "code",
   "execution_count": 124,
   "metadata": {},
   "outputs": [
    {
     "data": {
      "text/plain": [
       "500.21113267038567"
      ]
     },
     "execution_count": 124,
     "metadata": {},
     "output_type": "execute_result"
    }
   ],
   "source": [
    "np.mean(t)"
   ]
  },
  {
   "cell_type": "code",
   "execution_count": 125,
   "metadata": {},
   "outputs": [
    {
     "data": {
      "text/plain": [
       "517.8139904610492"
      ]
     },
     "execution_count": 125,
     "metadata": {},
     "output_type": "execute_result"
    }
   ],
   "source": [
    "np.mean(l)"
   ]
  },
  {
   "cell_type": "code",
   "execution_count": 126,
   "metadata": {},
   "outputs": [
    {
     "data": {
      "text/plain": [
       "<AxesSubplot:>"
      ]
     },
     "execution_count": 126,
     "metadata": {},
     "output_type": "execute_result"
    },
    {
     "data": {
      "image/png": "[encoded data removed]",
      "text/plain": [
       "<Figure size 640x480 with 1 Axes>"
      ]
     },
     "metadata": {},
     "output_type": "display_data"
    }
   ],
   "source": [
    "l.plot()"
   ]
  },
  {
   "cell_type": "code",
   "execution_count": 127,
   "metadata": {},
   "outputs": [
    {
     "data": {
      "text/plain": [
       "<AxesSubplot:>"
      ]
     },
     "execution_count": 127,
     "metadata": {},
     "output_type": "execute_result"
    },
    {
     "data": {
      "image/png": "[encoded data removed]",
      "text/plain": [
       "<Figure size 640x480 with 1 Axes>"
      ]
     },
     "metadata": {},
     "output_type": "display_data"
    }
   ],
   "source": [
    "t.plot()"
   ]
  },
  {
   "cell_type": "code",
   "execution_count": 128,
   "metadata": {},
   "outputs": [
    {
     "data": {
      "text/plain": [
       "'hiện công_ty cp công_trình công_cộng hội_an có đơn kiến_nghị gửi ubnd tp hội_an_hủy kết_quả phê_duyệt lựa_chọn nhà_thầu thực_hiện gói_thầu duy_trì cây_xanh điện chiếu sáng hội an chủ đầu_tư bên mời_thầu có trách_nhiệm trả_lời kiến_nghị của nhà_thầu trao_đổi về những vấn_đề liên_quan đến đấu_thầu gói_thầu duy_trì cây_xanh đô_thị điện chiếu sáng hội_an quảng_nam luật_sư mai duy_phước công_ty luật mmt partners đoàn luật_sư thành_phố đà_nẵng cho biết trong quá_trình tham_gia dự_thầu khi nhà_thầu nhận thấy những vấn_đề liên_quan đến quá_trình lựa_chọn nhà_thầu đang gây ảnh_hưởng đến quyền lợi_ích của mình thì có quyền kiến_nghị để yêu_cầu xem_xét cụ_thể tại điểm khoản điều luật_đấu_thầu thì khi thấy quyền và lợi_ích hợp_pháp của mình bị ảnh_hưởng nhà_thầu nhà đầu_tư có quyền kiến_nghị với bên mời_thầu chủ đầu_tư người có thẩm_quyền về các vấn_đề trong quá_trình lựa_chọn nhà_thầu nhà đầu_tư về kết_quả lựa_chọn nhà_thầu nhà đầu_tư theo quy_trình giải_quyết kiến_nghị quy_định tại điều của luật này như_vậy kiến_nghị này có_thể liên_quan đến các yêu_cầu kỹ_thuật điều_kiện hợp_đồng quy_trình đấu_thầu hoặc bất_kỳ vấn_đề nào khác mà nhà_thầu cho rằng cần được xem_xét hoặc điều_chỉnh trở_lại với sự_việc của công_ty cp công_trình công_cộng hội_an thì công_ty có quyền gửi kiến_nghị tới bên mời_thầu chủ đầu_tư để được giải_quyết luật_sư phước thông_tin theo luật_sư phước trong thời_hạn luật_định khi nhận được đơn kiến_nghị của nhà_thầu thì chủ đầu_tư bên mời_thầu phải có văn_bản giải_quyết kiến_nghị gửi đến nhà_thầu tuy_nhiên theo thông_tin mà công_ty cp công_trình công_cộng hội_an trình_bày thì công_ty đã gửi đơn kiến_nghị trước khi có thông_báo kết_quả lựa_chọn nhà_thầu đến nay đã thông_báo kết_quả lựa_chọn nhà_thầu nhưng công_ty vẫn chưa nhận được thông_tin phản_hồi như_vậy nếu chủ đầu_tư bên mời_thầu đã nhận được đơn kiến_nghị của nhà_thầu nhưng không có phản_hồi thông_báo lại cho nhà_thầu thì có cơ_sở xác_định rằng chủ đầu_tư bên mời_thầu đã không thực_hiện đúng các quy_định trình_tự về giải_quyết kiến_nghị trong quá_trình lựa_chọn nhà_thầu luật_sư phước nhìn_nhận hệ_thống cây_xanh đô_thị hội_an thường_xuyên chịu tác_động của thiên_tai mưa bão cần làm rõ quy_trình đấu_thầu liên_quan đến hồ_sơ nhận sự có bằng đại_học_giả luật_sư phước cho hay khoản điều luật_đấu_thầu có quy_định các hành_vi bị nghiêm_cấm như sau trình_bày sai một_cách cố_ý hoặc làm sai_lệch thông_tin hồ_sơ tài_liệu của một bên trong đấu_thầu nhằm thu được lợi_ích tài_chính hoặc lợi_ích khác hoặc nhằm trốn_tránh bất_kỳ một nghĩa_vụ nào như_vậy nếu nhà_thầu cố_ý sử_dụng bằng_cấp giả nhân_sự của mình để tham_gia đấu_thầu thì đây là hành_vi gian_lận bị cấm trong hoạt_động đấu_thầu luật_sư phước cho biết thêm tổ_chức cá_nhân vi_phạm_pháp_luật về đấu_thầu và quy_định khác của pháp_luật có liên_quan thì tùy theo tính_chất mức_độ vi_phạm mà bị xử_lý kỷ_luật xử_phạt vi_phạm hành_chính hoặc bị truy_cứu trách_nhiệm hình_sự trường_hợp hành_vi vi_phạm_pháp_luật về đấu_thầu gây thiệt_hại đến lợi_ích của nhà_nước quyền và lợi_ích hợp_pháp của tổ_chức cá_nhân thì phải bồi_thường thiệt_hại ngoài_ra tùy theo tính_chất mức_độ vi_phạm tổ_chức cá_nhân vi_phạm_pháp_luật về đấu_thầu còn bị cấm tham_gia hoạt_động đấu_thầu và đưa vào danh_sách các nhà_thầu vi_phạm trên hệ_thống mạng đấu_thầu quốc_gia điều này được quy_định cụ_thể tại điều luật_đấu_thầu và khoản điều của nghị_định số nđ cp chế_tài xử_lý với hành_vi vi_phạm gian_lận trong hoạt_động đấu_thầu nêu trên đã nhấn_mạnh và làm rõ rằng chủ_thể thực_hiện_hành_vi với lỗi là cố_ý có_nghĩa rằng chủ_thể thực_hiện_hành_vi hiểu rõ biết được các hậu_quả sẽ xảy ra nhưng vẫn làm là hoạt_động có chủ_đích tuy_nhiên nếu có cơ_sở xác_định rằng nhà_thầu không có lỗi cố_ý chỉ là nạn_nhân trong sự_việc nhân_sự_cố_tình_sử_dụng bằng giả che dấu thông_tin thì việc xác_định nhà_thầu có lỗi cố_ý trong việc sử_dụng bằng giả là không đúng để làm rõ lỗi động_cơ mục_đích trong việc sử_dụng bằng giả gian_lận trong đấu_thầu thiết_nghĩ cơ_quan_chức_năng cần thận trong trong việc xác_minh xử_lý để tránh xử_lý oan cho nhà_thầu luật_sư phước nhìn_nhận nói về vấn_đề nhà_thầu có được thay_đổi hồ_sơ nhân_sự khi phát_hiện sai_sót hay không luật_sư phước cho hay theo quy_định tại điều nghị_định nđ cp trong quá_trình dự_thầu nếu phát_hiện ra nhân_sự chủ_chốt mà nhà_thầu kê_khai không đáp_ứng yêu_cầu có sai_sót thì nhà_thầu được phép gửi tài_liệu thay_đổi bổ_sung nhân_sự đến bên mời_thầu để được làm rõ trong sự_việc của công_ty cp công_trình công_cộng hội_an thì chủ đầu_tư hiện đang cho rằng nhà_thầu vi_phạm_quy_định tại khoản điều luật_đấu_thầu nên không được thay_đổi nhân_sự hồ_sơ dự_thầu việc thay_đổi nhân_sự hồ_sơ dự_thầu theo quy_định trích_dẫn nêu trên được đặt ra trong trường_hợp nhà_thầu có sự sai_sót thiếu tài_liệu và việc_làm rõ hồ_sơ dự_thầu thay_đổi nhân_sự hồ_sơ dự_thầu phải bảo_đảm nguyên_tắc không làm thay_đổi bản_chất của nhà_thầu hiện_nay cơ_quan công_an cơ_quan_chức_năng chưa có quyết_định văn_bản trả_lời chính_thức nào rằng nhà_thầu cố_ý gian_lận trong đấu_thầu cố_tình_sử_dụng văn_bằng giả của nhân_sự để dự_thầu do đó việc không cho phép công_ty cp công_trình công_cộng hội_an thay_đổi nhân_sự trong hồ_sơ dự_thầu là_hơi nóng_vội thiết_nghĩ để tạo sự khách_quan công_bằng và sự tâm phục khẩu phục cho các nhà_thầu khi tham_gia dự_thầu tránh việc khiếu_nại khiếu_kiện thì cơ_quan_chức_năng cần sớm có phản_hồi làm rõ việc ai đúng ai sai trong hoạt_động đấu_thầu rà_soát lại quy_trình đầu thầu luật_sư phước nhận_định đại_thắng'"
      ]
     },
     "execution_count": 128,
     "metadata": {},
     "output_type": "execute_result"
    }
   ],
   "source": [
    "np.array(X_test)[arr_wrong][2]"
   ]
  },
  {
   "cell_type": "code",
   "execution_count": 129,
   "metadata": {},
   "outputs": [
    {
     "data": {
      "text/plain": [
       "'Kinh te'"
      ]
     },
     "execution_count": 129,
     "metadata": {},
     "output_type": "execute_result"
    }
   ],
   "source": [
    "np.array(y_pred)[arr_wrong][2]"
   ]
  },
  {
   "cell_type": "code",
   "execution_count": 130,
   "metadata": {},
   "outputs": [
    {
     "data": {
      "text/plain": [
       "'Phap luat'"
      ]
     },
     "execution_count": 130,
     "metadata": {},
     "output_type": "execute_result"
    }
   ],
   "source": [
    "np.array(Y_test)[arr_wrong][2]"
   ]
  },
  {
   "cell_type": "code",
   "execution_count": 131,
   "metadata": {},
   "outputs": [],
   "source": [
    "check = pd.DataFrame({\"content\": np.array(X_test)[arr_wrong], \"predicted\": np.array(y_pred)[arr_wrong], \"true label\": np.array(Y_test)[arr_wrong]})"
   ]
  },
  {
   "cell_type": "code",
   "execution_count": 132,
   "metadata": {},
   "outputs": [],
   "source": [
    "check['lennn'] = check['content'].apply(lambda x: len(x.split()))"
   ]
  },
  {
   "cell_type": "code",
   "execution_count": 133,
   "metadata": {},
   "outputs": [
    {
     "data": {
      "text/html": [
       "<div>\n",
       "<style scoped>\n",
       "    .dataframe tbody tr th:only-of-type {\n",
       "        vertical-align: middle;\n",
       "    }\n",
       "\n",
       "    .dataframe tbody tr th {\n",
       "        vertical-align: top;\n",
       "    }\n",
       "\n",
       "    .dataframe thead th {\n",
       "        text-align: right;\n",
       "    }\n",
       "</style>\n",
       "<table border=\"1\" class=\"dataframe\">\n",
       "  <thead>\n",
       "    <tr style=\"text-align: right;\">\n",
       "      <th></th>\n",
       "      <th>content</th>\n",
       "      <th>predicted</th>\n",
       "      <th>true label</th>\n",
       "      <th>lennn</th>\n",
       "    </tr>\n",
       "  </thead>\n",
       "  <tbody>\n",
       "    <tr>\n",
       "      <th>0</th>\n",
       "      <td>thông_báo ngày cho biết thực_hiện quy_định tại...</td>\n",
       "      <td>Chinh tri</td>\n",
       "      <td>Phap luat</td>\n",
       "      <td>174</td>\n",
       "    </tr>\n",
       "    <tr>\n",
       "      <th>1</th>\n",
       "      <td>sinh ra là một đứa trẻ lành_lặn bình_thường tư...</td>\n",
       "      <td>Giai tri</td>\n",
       "      <td>Van hoa</td>\n",
       "      <td>1186</td>\n",
       "    </tr>\n",
       "    <tr>\n",
       "      <th>2</th>\n",
       "      <td>hiện công_ty cp công_trình công_cộng hội_an có...</td>\n",
       "      <td>Kinh te</td>\n",
       "      <td>Phap luat</td>\n",
       "      <td>834</td>\n",
       "    </tr>\n",
       "    <tr>\n",
       "      <th>3</th>\n",
       "      <td>gia_đình môi_trường xã_hội đầu_tiên của con_ng...</td>\n",
       "      <td>Giai tri</td>\n",
       "      <td>Giao duc</td>\n",
       "      <td>495</td>\n",
       "    </tr>\n",
       "    <tr>\n",
       "      <th>4</th>\n",
       "      <td>diễn_viên nsưt chiều_xuân được yêu_mến qua nhi...</td>\n",
       "      <td>Giai tri</td>\n",
       "      <td>Van hoa</td>\n",
       "      <td>354</td>\n",
       "    </tr>\n",
       "    <tr>\n",
       "      <th>...</th>\n",
       "      <td>...</td>\n",
       "      <td>...</td>\n",
       "      <td>...</td>\n",
       "      <td>...</td>\n",
       "    </tr>\n",
       "    <tr>\n",
       "      <th>624</th>\n",
       "      <td>theo thông_báo của viện nghiên_cứu hán nôm ngà...</td>\n",
       "      <td>Giai tri</td>\n",
       "      <td>Van hoa</td>\n",
       "      <td>401</td>\n",
       "    </tr>\n",
       "    <tr>\n",
       "      <th>625</th>\n",
       "      <td>chiều tại thư_viện tỉnh số trần_hưng_đạo tp nh...</td>\n",
       "      <td>Chinh tri</td>\n",
       "      <td>Van hoa</td>\n",
       "      <td>186</td>\n",
       "    </tr>\n",
       "    <tr>\n",
       "      <th>626</th>\n",
       "      <td>tiếp_tục chương_trình phiên họp thứ sáng ủy_ba...</td>\n",
       "      <td>Chinh tri</td>\n",
       "      <td>Kinh te</td>\n",
       "      <td>610</td>\n",
       "    </tr>\n",
       "    <tr>\n",
       "      <th>627</th>\n",
       "      <td>nhóm tác_giả người pháp làm dấy lên lo_ngại về...</td>\n",
       "      <td>Khoa hoc</td>\n",
       "      <td>Suc khoe</td>\n",
       "      <td>477</td>\n",
       "    </tr>\n",
       "    <tr>\n",
       "      <th>628</th>\n",
       "      <td>nguyễn văn_võ công_ty cổ_phần tập_đoàn vàng_bạ...</td>\n",
       "      <td>Phap luat</td>\n",
       "      <td>Kinh te</td>\n",
       "      <td>1088</td>\n",
       "    </tr>\n",
       "  </tbody>\n",
       "</table>\n",
       "<p>629 rows × 4 columns</p>\n",
       "</div>"
      ],
      "text/plain": [
       "                                               content  predicted true label  \\\n",
       "0    thông_báo ngày cho biết thực_hiện quy_định tại...  Chinh tri  Phap luat   \n",
       "1    sinh ra là một đứa trẻ lành_lặn bình_thường tư...   Giai tri    Van hoa   \n",
       "2    hiện công_ty cp công_trình công_cộng hội_an có...    Kinh te  Phap luat   \n",
       "3    gia_đình môi_trường xã_hội đầu_tiên của con_ng...   Giai tri   Giao duc   \n",
       "4    diễn_viên nsưt chiều_xuân được yêu_mến qua nhi...   Giai tri    Van hoa   \n",
       "..                                                 ...        ...        ...   \n",
       "624  theo thông_báo của viện nghiên_cứu hán nôm ngà...   Giai tri    Van hoa   \n",
       "625  chiều tại thư_viện tỉnh số trần_hưng_đạo tp nh...  Chinh tri    Van hoa   \n",
       "626  tiếp_tục chương_trình phiên họp thứ sáng ủy_ba...  Chinh tri    Kinh te   \n",
       "627  nhóm tác_giả người pháp làm dấy lên lo_ngại về...   Khoa hoc   Suc khoe   \n",
       "628  nguyễn văn_võ công_ty cổ_phần tập_đoàn vàng_bạ...  Phap luat    Kinh te   \n",
       "\n",
       "     lennn  \n",
       "0      174  \n",
       "1     1186  \n",
       "2      834  \n",
       "3      495  \n",
       "4      354  \n",
       "..     ...  \n",
       "624    401  \n",
       "625    186  \n",
       "626    610  \n",
       "627    477  \n",
       "628   1088  \n",
       "\n",
       "[629 rows x 4 columns]"
      ]
     },
     "execution_count": 133,
     "metadata": {},
     "output_type": "execute_result"
    }
   ],
   "source": [
    "check"
   ]
  },
  {
   "cell_type": "code",
   "execution_count": 134,
   "metadata": {},
   "outputs": [
    {
     "data": {
      "text/plain": [
       "629"
      ]
     },
     "execution_count": 134,
     "metadata": {},
     "output_type": "execute_result"
    }
   ],
   "source": [
    "len(check)"
   ]
  },
  {
   "cell_type": "code",
   "execution_count": 135,
   "metadata": {},
   "outputs": [
    {
     "ename": "IndexError",
     "evalue": "single positional indexer is out-of-bounds",
     "output_type": "error",
     "traceback": [
      "\u001b[0;31m---------------------------------------------------------------------------\u001b[0m",
      "\u001b[0;31mIndexError\u001b[0m                                Traceback (most recent call last)",
      "\u001b[1;32m/Users/DuyHome/HocTap/DATN/Classification/MachineLearning/SVM.ipynb Cell 37\u001b[0m in \u001b[0;36m<cell line: 1>\u001b[0;34m()\u001b[0m\n\u001b[0;32m----> <a href='vscode-notebook-cell:/Users/DuyHome/HocTap/DATN/Classification/MachineLearning/SVM.ipynb#X53sZmlsZQ%3D%3D?line=0'>1</a>\u001b[0m data[data[\u001b[39m\"\u001b[39;49m\u001b[39mContent_cleaned_v2\u001b[39;49m\u001b[39m\"\u001b[39;49m] \u001b[39m==\u001b[39;49m np\u001b[39m.\u001b[39;49marray(X_test)[arr_wrong][\u001b[39m4\u001b[39;49m]]\u001b[39m.\u001b[39;49miloc[\u001b[39m0\u001b[39;49m]\u001b[39m.\u001b[39mLink\n",
      "File \u001b[0;32m/Library/Frameworks/Python.framework/Versions/3.10/lib/python3.10/site-packages/pandas/core/indexing.py:967\u001b[0m, in \u001b[0;36m_LocationIndexer.__getitem__\u001b[0;34m(self, key)\u001b[0m\n\u001b[1;32m    964\u001b[0m axis \u001b[39m=\u001b[39m \u001b[39mself\u001b[39m\u001b[39m.\u001b[39maxis \u001b[39mor\u001b[39;00m \u001b[39m0\u001b[39m\n\u001b[1;32m    966\u001b[0m maybe_callable \u001b[39m=\u001b[39m com\u001b[39m.\u001b[39mapply_if_callable(key, \u001b[39mself\u001b[39m\u001b[39m.\u001b[39mobj)\n\u001b[0;32m--> 967\u001b[0m \u001b[39mreturn\u001b[39;00m \u001b[39mself\u001b[39;49m\u001b[39m.\u001b[39;49m_getitem_axis(maybe_callable, axis\u001b[39m=\u001b[39;49maxis)\n",
      "File \u001b[0;32m/Library/Frameworks/Python.framework/Versions/3.10/lib/python3.10/site-packages/pandas/core/indexing.py:1520\u001b[0m, in \u001b[0;36m_iLocIndexer._getitem_axis\u001b[0;34m(self, key, axis)\u001b[0m\n\u001b[1;32m   1517\u001b[0m     \u001b[39mraise\u001b[39;00m \u001b[39mTypeError\u001b[39;00m(\u001b[39m\"\u001b[39m\u001b[39mCannot index by location index with a non-integer key\u001b[39m\u001b[39m\"\u001b[39m)\n\u001b[1;32m   1519\u001b[0m \u001b[39m# validate the location\u001b[39;00m\n\u001b[0;32m-> 1520\u001b[0m \u001b[39mself\u001b[39;49m\u001b[39m.\u001b[39;49m_validate_integer(key, axis)\n\u001b[1;32m   1522\u001b[0m \u001b[39mreturn\u001b[39;00m \u001b[39mself\u001b[39m\u001b[39m.\u001b[39mobj\u001b[39m.\u001b[39m_ixs(key, axis\u001b[39m=\u001b[39maxis)\n",
      "File \u001b[0;32m/Library/Frameworks/Python.framework/Versions/3.10/lib/python3.10/site-packages/pandas/core/indexing.py:1452\u001b[0m, in \u001b[0;36m_iLocIndexer._validate_integer\u001b[0;34m(self, key, axis)\u001b[0m\n\u001b[1;32m   1450\u001b[0m len_axis \u001b[39m=\u001b[39m \u001b[39mlen\u001b[39m(\u001b[39mself\u001b[39m\u001b[39m.\u001b[39mobj\u001b[39m.\u001b[39m_get_axis(axis))\n\u001b[1;32m   1451\u001b[0m \u001b[39mif\u001b[39;00m key \u001b[39m>\u001b[39m\u001b[39m=\u001b[39m len_axis \u001b[39mor\u001b[39;00m key \u001b[39m<\u001b[39m \u001b[39m-\u001b[39mlen_axis:\n\u001b[0;32m-> 1452\u001b[0m     \u001b[39mraise\u001b[39;00m \u001b[39mIndexError\u001b[39;00m(\u001b[39m\"\u001b[39m\u001b[39msingle positional indexer is out-of-bounds\u001b[39m\u001b[39m\"\u001b[39m)\n",
      "\u001b[0;31mIndexError\u001b[0m: single positional indexer is out-of-bounds"
     ]
    }
   ],
   "source": [
    "data[data[\"Content_cleaned_v2\"] == np.array(X_test)[arr_wrong][4]].iloc[0].Link"
   ]
  }
 ],
 "metadata": {
  "kernelspec": {
   "display_name": "Python 3",
   "language": "python",
   "name": "python3"
  },
  "language_info": {
   "codemirror_mode": {
    "name": "ipython",
    "version": 3
   },
   "file_extension": ".py",
   "mimetype": "text/x-python",
   "name": "python",
   "nbconvert_exporter": "python",
   "pygments_lexer": "ipython3",
   "version": "3.10.5"
  },
  "orig_nbformat": 4
 },
 "nbformat": 4,
 "nbformat_minor": 2
}
