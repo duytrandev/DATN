{
 "cells": [
  {
   "cell_type": "code",
   "execution_count": 1,
   "metadata": {},
   "outputs": [],
   "source": [
    "import pandas as pd\n",
    "import numpy as np\n",
    "from sklearn.model_selection import train_test_split\n",
    "from sklearn import svm, naive_bayes\n",
    "from sklearn.metrics import confusion_matrix\n",
    "from sklearn.metrics import classification_report\n",
    "from sklearn.model_selection import StratifiedKFold, GridSearchCV, RandomizedSearchCV, cross_val_score\n",
    "import seaborn as sns\n",
    "import pickle"
   ]
  },
  {
   "attachments": {},
   "cell_type": "markdown",
   "metadata": {},
   "source": [
    "read data"
   ]
  },
  {
   "cell_type": "code",
   "execution_count": 2,
   "metadata": {},
   "outputs": [],
   "source": [
    "data = pd.read_csv('../../Data/cleaned_v4.csv')"
   ]
  },
  {
   "cell_type": "code",
   "execution_count": 3,
   "metadata": {},
   "outputs": [],
   "source": [
    "data = data[~data['Label'].isin([\"Kinh te\"])]"
   ]
  },
  {
   "attachments": {},
   "cell_type": "markdown",
   "metadata": {},
   "source": [
    "# split data"
   ]
  },
  {
   "cell_type": "code",
   "execution_count": 4,
   "metadata": {},
   "outputs": [
    {
     "data": {
      "text/plain": [
       "((1821,), (1821,), (10321,), (10321,))"
      ]
     },
     "execution_count": 4,
     "metadata": {},
     "output_type": "execute_result"
    }
   ],
   "source": [
    "X_train, X_test, Y_train, Y_test = train_test_split(data[\"cc\"], data[\"Label\"], test_size= 0.85, random_state= 42)\n",
    "X_train.shape, Y_train.shape, X_test.shape, Y_test.shape"
   ]
  },
  {
   "cell_type": "code",
   "execution_count": 5,
   "metadata": {},
   "outputs": [
    {
     "data": {
      "text/plain": [
       "Giao duc     261\n",
       "Chinh tri    252\n",
       "Khoa hoc     242\n",
       "Suc khoe     241\n",
       "Giai tri     215\n",
       "The thao     214\n",
       "Phap luat    211\n",
       "Van hoa      185\n",
       "Name: Label, dtype: int64"
      ]
     },
     "execution_count": 5,
     "metadata": {},
     "output_type": "execute_result"
    }
   ],
   "source": [
    "Y_train.value_counts()"
   ]
  },
  {
   "attachments": {},
   "cell_type": "markdown",
   "metadata": {},
   "source": [
    "# extract feature"
   ]
  },
  {
   "cell_type": "code",
   "execution_count": 6,
   "metadata": {},
   "outputs": [
    {
     "data": {
      "text/plain": [
       "<1821x26997 sparse matrix of type '<class 'numpy.float64'>'\n",
       "\twith 357115 stored elements in Compressed Sparse Row format>"
      ]
     },
     "execution_count": 6,
     "metadata": {},
     "output_type": "execute_result"
    }
   ],
   "source": [
    "from sklearn.feature_extraction.text import TfidfVectorizer\n",
    "tf_idf_vec = TfidfVectorizer()\n",
    "vector_train = tf_idf_vec.fit_transform(X_train)\n",
    "vector_train"
   ]
  },
  {
   "cell_type": "code",
   "execution_count": 7,
   "metadata": {},
   "outputs": [],
   "source": [
    "a = tf_idf_vec.vocabulary_"
   ]
  },
  {
   "cell_type": "code",
   "execution_count": 8,
   "metadata": {},
   "outputs": [],
   "source": [
    "# import numpy as np\n",
    "\n",
    "# n = 20  # Number of top scores to retrieve\n",
    "# top_indices = np.argsort(-vector_train.max(axis=0).toarray()[0])[:50]  # Indices of top N scores\n",
    "# top_words = [word for word, index in tf_idf_vec.vocabulary_.items() if index in top_indices]\n",
    "# top_scores = vector_train.max(axis=0).toarray()[0][top_indices]\n",
    "\n",
    "# for word, score in zip(top_words, top_scores):\n",
    "#     print(f\"Word: {word}, Score: {score}\")"
   ]
  },
  {
   "cell_type": "code",
   "execution_count": 9,
   "metadata": {},
   "outputs": [
    {
     "data": {
      "text/plain": [
       "28160"
      ]
     },
     "execution_count": 9,
     "metadata": {},
     "output_type": "execute_result"
    }
   ],
   "source": [
    "dic = {}\n",
    "x = \" \".join(X_train).lower().split()\n",
    "for i in x:\n",
    "  if i in dic:\n",
    "    dic[i] += 1\n",
    "  else:\n",
    "    dic[i] = 1\n",
    "len(dic)"
   ]
  },
  {
   "cell_type": "code",
   "execution_count": 10,
   "metadata": {},
   "outputs": [],
   "source": [
    "cc = []"
   ]
  },
  {
   "cell_type": "code",
   "execution_count": 11,
   "metadata": {},
   "outputs": [],
   "source": [
    "for i, v in enumerate(dic):\n",
    "  if v not in a:\n",
    "    cc.append(v)"
   ]
  },
  {
   "cell_type": "code",
   "execution_count": 12,
   "metadata": {},
   "outputs": [
    {
     "data": {
      "text/plain": [
       "1582"
      ]
     },
     "execution_count": 12,
     "metadata": {},
     "output_type": "execute_result"
    }
   ],
   "source": [
    "len(cc)"
   ]
  },
  {
   "attachments": {},
   "cell_type": "markdown",
   "metadata": {},
   "source": [
    "# turning parameters"
   ]
  },
  {
   "cell_type": "code",
   "execution_count": 13,
   "metadata": {},
   "outputs": [],
   "source": [
    "# param_grid = {'C': [1, 10, 100], 'gamma': [1,0.1,0.01],'kernel': ['rbf', 'poly']}\n",
    "# # Set up score\n",
    "# scoring = ['accuracy']\n",
    "# # Set up the k-fold cross-validation\n",
    "# kfold = StratifiedKFold(n_splits=10, shuffle=True, random_state=0)\n",
    "# # Define grid search\n",
    "# grid_search = GridSearchCV(estimator=svm.SVC(), \n",
    "#                            param_grid=param_grid, \n",
    "#                            scoring=scoring, \n",
    "#                            refit='accuracy', \n",
    "#                            n_jobs=-1, \n",
    "#                            cv=kfold, \n",
    "#                            verbose=0)\n",
    "# # Fit grid search\n",
    "# grid_result = grid_search.fit(vector_train, Y_train)\n",
    "# # Print grid search summary\n",
    "# grid_result.best_params_"
   ]
  },
  {
   "cell_type": "code",
   "execution_count": 14,
   "metadata": {},
   "outputs": [],
   "source": [
    "# scores = [grid_search.cv_results_['split0_test_accuracy'], grid_search.cv_results_['split1_test_accuracy'], \n",
    "#          grid_search.cv_results_['split2_test_accuracy'], grid_search.cv_results_['split3_test_accuracy'], \n",
    "#          grid_search.cv_results_['split4_test_accuracy'], grid_search.cv_results_['split5_test_accuracy'], \n",
    "#          grid_search.cv_results_['split6_test_accuracy'], grid_search.cv_results_['split7_test_accuracy'], \n",
    "#          grid_search.cv_results_['split8_test_accuracy'], grid_search.cv_results_['split9_test_accuracy'], ]\n",
    "\n",
    "# # plot the accuracy scores for each fold using a box plot\n",
    "# max_scores = [max(x) for x in scores]\n",
    "# plt.plot(max_scores)\n",
    "# plt.xlabel('Validation Set')\n",
    "# plt.ylabel('Accuracy')\n",
    "# plt.title('Accuracy of each Validation Set in GridSearchCV')\n",
    "# plt.show()"
   ]
  },
  {
   "attachments": {},
   "cell_type": "markdown",
   "metadata": {},
   "source": [
    "# modeling"
   ]
  },
  {
   "cell_type": "code",
   "execution_count": 15,
   "metadata": {},
   "outputs": [
    {
     "data": {
      "text/plain": [
       "SVC(C=10, gamma=0.1)"
      ]
     },
     "execution_count": 15,
     "metadata": {},
     "output_type": "execute_result"
    }
   ],
   "source": [
    "classifier = svm.SVC(C= 10, gamma= 0.1, kernel= \"rbf\")\n",
    "classifier.fit(vector_train, Y_train)"
   ]
  },
  {
   "attachments": {},
   "cell_type": "markdown",
   "metadata": {},
   "source": [
    "# predict"
   ]
  },
  {
   "cell_type": "code",
   "execution_count": 16,
   "metadata": {},
   "outputs": [],
   "source": [
    "vector_test = tf_idf_vec.transform(X_test)\n",
    "y_pred = classifier.predict(vector_test)"
   ]
  },
  {
   "attachments": {},
   "cell_type": "markdown",
   "metadata": {},
   "source": [
    "# report "
   ]
  },
  {
   "cell_type": "code",
   "execution_count": 17,
   "metadata": {},
   "outputs": [
    {
     "name": "stdout",
     "output_type": "stream",
     "text": [
      "              precision    recall  f1-score   support\n",
      "\n",
      "   Chinh tri     0.9281    0.9256    0.9269      1506\n",
      "    Giai tri     0.8524    0.8707    0.8615      1307\n",
      "    Giao duc     0.8981    0.9429    0.9199      1383\n",
      "    Khoa hoc     0.9739    0.9690    0.9714      1387\n",
      "   Phap luat     0.8861    0.8854    0.8857      1195\n",
      "    Suc khoe     0.9492    0.9527    0.9510      1354\n",
      "    The thao     0.9871    0.9871    0.9871      1086\n",
      "     Van hoa     0.8292    0.7616    0.7940      1103\n",
      "\n",
      "    accuracy                         0.9146     10321\n",
      "   macro avg     0.9130    0.9119    0.9122     10321\n",
      "weighted avg     0.9142    0.9146    0.9142     10321\n",
      "\n"
     ]
    }
   ],
   "source": [
    "# heatconmat(y_pred, Y_test)\n",
    "print(classification_report(y_pred, Y_test, digits=4))"
   ]
  },
  {
   "cell_type": "code",
   "execution_count": 18,
   "metadata": {},
   "outputs": [
    {
     "data": {
      "image/png": "[encoded data removed]",
      "text/plain": [
       "<Figure size 720x576 with 2 Axes>"
      ]
     },
     "metadata": {
      "needs_background": "light"
     },
     "output_type": "display_data"
    }
   ],
   "source": [
    "import seaborn as sns\n",
    "import matplotlib.pyplot as plt\n",
    "from sklearn.metrics import confusion_matrix\n",
    "\n",
    "def heatconmat(y_pred, y_test):\n",
    "  plt.figure(figsize=(10,8))\n",
    "  cnf_matrix = confusion_matrix(y_pred, y_test)\n",
    "  ax = sns.heatmap(cnf_matrix, annot=True, fmt='', cmap='Blues')\n",
    "  ax.xaxis.set_ticklabels(list(set(y_test)))\n",
    "  ax.yaxis.set_ticklabels(list(set(y_test)))\n",
    "  plt.show()\n",
    "heatconmat(y_pred, Y_test)"
   ]
  },
  {
   "attachments": {},
   "cell_type": "markdown",
   "metadata": {},
   "source": [
    "# check "
   ]
  },
  {
   "cell_type": "code",
   "execution_count": 19,
   "metadata": {},
   "outputs": [],
   "source": [
    "arr_wrong = []\n",
    "for i, v in enumerate(y_pred):\n",
    "  if v != np.array(Y_test)[i]:\n",
    "    arr_wrong.append(i)"
   ]
  },
  {
   "cell_type": "code",
   "execution_count": 20,
   "metadata": {},
   "outputs": [],
   "source": [
    "arr_true = []\n",
    "for i, v in enumerate(y_pred):\n",
    "  if v == np.array(Y_test)[i]:\n",
    "    arr_true.append(i)"
   ]
  },
  {
   "cell_type": "code",
   "execution_count": 21,
   "metadata": {},
   "outputs": [],
   "source": [
    "l = pd.Series(sorted([len(x.split()) for x in np.array(X_test)[arr_wrong]]))"
   ]
  },
  {
   "cell_type": "code",
   "execution_count": 22,
   "metadata": {},
   "outputs": [],
   "source": [
    "t = pd.Series(sorted([len(x.split()) for x in np.array(X_test)[arr_true]]))"
   ]
  },
  {
   "cell_type": "code",
   "execution_count": 23,
   "metadata": {},
   "outputs": [
    {
     "data": {
      "text/plain": [
       "(881, 686)"
      ]
     },
     "execution_count": 23,
     "metadata": {},
     "output_type": "execute_result"
    }
   ],
   "source": [
    "len(l), len(l[l.values > 300])"
   ]
  },
  {
   "cell_type": "code",
   "execution_count": 24,
   "metadata": {},
   "outputs": [
    {
     "data": {
      "text/plain": [
       "455.2738347457627"
      ]
     },
     "execution_count": 24,
     "metadata": {},
     "output_type": "execute_result"
    }
   ],
   "source": [
    "np.mean(t)"
   ]
  },
  {
   "cell_type": "code",
   "execution_count": 25,
   "metadata": {},
   "outputs": [
    {
     "data": {
      "text/plain": [
       "453.5822928490352"
      ]
     },
     "execution_count": 25,
     "metadata": {},
     "output_type": "execute_result"
    }
   ],
   "source": [
    "np.mean(l)"
   ]
  },
  {
   "cell_type": "code",
   "execution_count": 26,
   "metadata": {},
   "outputs": [
    {
     "data": {
      "text/plain": [
       "<AxesSubplot:>"
      ]
     },
     "execution_count": 26,
     "metadata": {},
     "output_type": "execute_result"
    },
    {
     "data": {
      "image/png": "[encoded data removed]",
      "text/plain": [
       "<Figure size 432x288 with 1 Axes>"
      ]
     },
     "metadata": {
      "needs_background": "light"
     },
     "output_type": "display_data"
    }
   ],
   "source": [
    "l.plot()"
   ]
  },
  {
   "cell_type": "code",
   "execution_count": 27,
   "metadata": {},
   "outputs": [
    {
     "data": {
      "text/plain": [
       "<AxesSubplot:>"
      ]
     },
     "execution_count": 27,
     "metadata": {},
     "output_type": "execute_result"
    },
    {
     "data": {
      "image/png": "[encoded data removed]",
      "text/plain": [
       "<Figure size 432x288 with 1 Axes>"
      ]
     },
     "metadata": {
      "needs_background": "light"
     },
     "output_type": "display_data"
    }
   ],
   "source": [
    "t.plot()"
   ]
  },
  {
   "cell_type": "code",
   "execution_count": 28,
   "metadata": {},
   "outputs": [
    {
     "data": {
      "text/plain": [
       "'Cán_bộ Công_an quận 12 ( TPHCM ) hướng_dẫn người dân đăng_ký tài_khoản Dịch_vụ công trực_tuyến Ảnh : NGÔ BÌNH Dự_thảo Luật Căn_cước công_dân ( sửa_đổi ) có một_số điểm mới so với Luật Căn_cước công_dân năm 2014 . Mở_rộng đối_tượng áp_dụng Dự_thảo Luật Căn_cước công_dân ( sửa_đổi ) - gọi tắt là Dự_thảo luật - mở_rộng đối_tượng áp_dụng so với Luật Căn_cước công_dân năm 2014 . Ngoài công_dân Việt_Nam , cơ_quan , tổ_chức , cá_nhân có liên_quan , Dự_thảo luật còn áp_dụng đối_với người gốc Việt_Nam ( là người không có quốc_tịch đang sinh_sống tại Việt_Nam ) để cấp giấy chứng_nhận căn_cước và số định_danh cho đối_tượng này . Việc bổ_sung nội_dung cấp giấy chứng_nhận căn_cước và số định_danh nhằm quản_lý được toàn_bộ công_dân và người gốc Việt_Nam đang sinh_sống tại địa_phương ; tạo thuận_lợi cho công_tác hoạch_định chính_sách phát_triển xã_hội ; bảo_đảm an_ninh , trật_tự , an_toàn xã_hội . Sửa_đổi , bổ_sung một_số từ_ngữ để giải_thích các khái_niệm Điều 3 Dự_thảo luật đã sửa_đổi , bổ_sung một_số từ_ngữ để giải_thích các khái_niệm cho phù_hợp với nội_dung , phạm_vi điều_chỉnh của Dự_thảo luật và tạo thuận_lợi cho việc áp_dụng luật . Các từ_ngữ sửa_đổi , bổ_sung gồm : Cơ_sở dữ_liệu chuyên_ngành ; chủ_thể danh_tính điện_tử ; danh_tính điện_tử của cá_nhân ; hệ_thống định_danh và xác_thực điện_tử ; tài quản định_danh điện . Đề_xuất chứng_minh nhân_dân sử_dụng đến hết ngày 31 - 12 - 2024 Theo Dự_thảo luật , khi Luật này có hiệu_lực sẽ thay_thế Luật Căn_cước công_dân hiện_hành ; đồng_thời , thay_thế cụm từ “ kinh_doanh dịch_vụ định_danh và xác_thực điện_tử ” tại Phụ_lục IV ban_hành kèm theo Luật Đầu_tư năm 2020 bằng cụm từ “ kinh_doanh dịch_vụ xác_thực điện_tử ” . Dự_thảo luật quy_định chuyển_tiếp_theo hướng chứng_minh nhân_dân còn thời_hạn sử_dụng đã được cấp trước ngày Luật này có hiệu_lực thi_hành thì được sử_dụng đến hết ngày 31 - 12 - 2024 ; các loại giấy_tờ có giá_trị pháp_lý đã phát_hành có sử_dụng thông_tin từ chứng_minh nhân_dân vẫn giữ nguyên hiệu_lực pháp_luật . Cơ_quan quản_lý Nhà_nước không được quy_định các thủ_tục về đính_chính , thay_đổi thông_tin liên_quan đến chứng_minh nhân_dân , thẻ căn_cước công_dân trong các giấy_tờ nêu trên ... Cấp thẻ căn_cước công_dân cho công_dân Việt_Nam dưới 14 tuổi Dự_thảo luật bổ_sung quy_định về quản_lý , cấp thẻ căn_cước công_dân cho công_dân Việt_Nam dưới 14 tuổi để bảo_đảm quyền , lợi_ích chính_đáng của họ và phục_vụ công_tác quản_lý nhà_nước ; phát_huy giá_trị , tiện_ích của thẻ căn_cước công_dân trong hoạt_động của Chính_phủ số , xã_hội số . Tuy_nhiên , việc cấp thẻ cho công_dân dưới 14 tuổi sẽ thực_hiện theo nhu_cầu , còn đối_với công_dân từ đủ 14 tuổi trở lên là bắt_buộc như quy_định của Luật Căn_cước công_dân hiện_hành . Lược bỏ vân tay ; sửa_đổi thông_tin số thẻ căn_cước công_dân , quê_quán , nơi thường_trú Về nội_dung thể_hiện trên thẻ căn_cước công_dân , Dự_thảo luật đã sửa_đổi , bổ_sung theo hướng lược bỏ vân tay ; sửa_đổi thông_tin số thẻ căn_cước công_dân , quê_quán , nơi thường_trú , chữ_ký của người cấp thẻ tại Luật Căn_cước công_dân hiện_hành thành số định_danh cá_nhân , nơi đăng_ký khai_sinh , nơi cư_trú và dòng chữ “ Nơi cấp : Bộ Công_an ” để phù_hợp với các nội_dung khác được sửa_đổi , bổ_sung tại Dự_thảo luật . Cấp , đổi , cấp lại thẻ căn_cước công_dân trong thời_hạn 7 ngày làm_việc Về thời_hạn cấp , đổi , cấp lại thẻ căn_cước công_dân , Dự_thảo luật đã sửa_đổi theo hướng : kể từ ngày nhận đủ hồ_sơ theo quy_định , cơ_quan quản_lý căn_cước phải cấp , đổi , cấp lại thẻ căn_cước công_dân cho công_dân trong thời_hạn 7 ngày làm_việc . Bổ_sung quy_định về căn_cước công_dân điện_tử Đây là nội_dung được bổ_sung so với quy_định của Luật Căn_cước công_dân hiện_hành nhằm quy_định về căn_cước điện_tử ; trình_tự , thủ_tục , thẩm_quyền cấp tài_khoản định_danh điện_tử ; sử_dụng căn_cước công_dân điện_tử để thực_hiện các thủ_tục hành_chính , dịch_vụ hành_chính công và giao_dịch dân_sự trên môi_trường điện_tử , hướng tới thực_hiện hiệu_quả Quyết_định số 06 / QĐ - TTg ngày 6 - 1 - 2022 của Thủ_tướng Chính_phủ_phê_duyệt Đề_án phát_triển ứng_dụng dữ_liệu về dân_cư , định_danh điện_tử phục_vụ chuyển_đổi số quốc_gia giai_đoạn 2022 - 2025 , tầm nhìn đến năm 2030 . Khuyến_khích sử_dụng phần_mềm , thiết_bị , giải_pháp tích_hợp do các tổ_chức , doanh_nghiệp , cá_nhân Việt_Nam tự nghiên_cứu . BAN CTBĐ - CTXH'"
      ]
     },
     "execution_count": 28,
     "metadata": {},
     "output_type": "execute_result"
    }
   ],
   "source": [
    "np.array(X_test)[arr_wrong][2]"
   ]
  },
  {
   "cell_type": "code",
   "execution_count": 29,
   "metadata": {},
   "outputs": [
    {
     "data": {
      "text/plain": [
       "'Chinh tri'"
      ]
     },
     "execution_count": 29,
     "metadata": {},
     "output_type": "execute_result"
    }
   ],
   "source": [
    "np.array(y_pred)[arr_wrong][2]"
   ]
  },
  {
   "cell_type": "code",
   "execution_count": 30,
   "metadata": {},
   "outputs": [
    {
     "data": {
      "text/plain": [
       "'Phap luat'"
      ]
     },
     "execution_count": 30,
     "metadata": {},
     "output_type": "execute_result"
    }
   ],
   "source": [
    "np.array(Y_test)[arr_wrong][2]"
   ]
  },
  {
   "cell_type": "code",
   "execution_count": 31,
   "metadata": {},
   "outputs": [],
   "source": [
    "check = pd.DataFrame({\"content\": np.array(X_test)[arr_wrong], \"predicted\": np.array(y_pred)[arr_wrong], \"true label\": np.array(Y_test)[arr_wrong]})"
   ]
  },
  {
   "cell_type": "code",
   "execution_count": 32,
   "metadata": {},
   "outputs": [],
   "source": [
    "check['lennn'] = check['content'].apply(lambda x: len(x.split()))"
   ]
  },
  {
   "cell_type": "code",
   "execution_count": 33,
   "metadata": {},
   "outputs": [
    {
     "data": {
      "text/html": [
       "<div>\n",
       "<style scoped>\n",
       "    .dataframe tbody tr th:only-of-type {\n",
       "        vertical-align: middle;\n",
       "    }\n",
       "\n",
       "    .dataframe tbody tr th {\n",
       "        vertical-align: top;\n",
       "    }\n",
       "\n",
       "    .dataframe thead th {\n",
       "        text-align: right;\n",
       "    }\n",
       "</style>\n",
       "<table border=\"1\" class=\"dataframe\">\n",
       "  <thead>\n",
       "    <tr style=\"text-align: right;\">\n",
       "      <th></th>\n",
       "      <th>content</th>\n",
       "      <th>predicted</th>\n",
       "      <th>true label</th>\n",
       "      <th>lennn</th>\n",
       "    </tr>\n",
       "  </thead>\n",
       "  <tbody>\n",
       "    <tr>\n",
       "      <th>0</th>\n",
       "      <td>Nida Patcharaveerapong qua_đời vì ngã từ thuyề...</td>\n",
       "      <td>Phap luat</td>\n",
       "      <td>Giai tri</td>\n",
       "      <td>574</td>\n",
       "    </tr>\n",
       "    <tr>\n",
       "      <th>1</th>\n",
       "      <td>Trận_Talas nổ ra vào năm 751 giữa triều_đại Hồ...</td>\n",
       "      <td>Khoa hoc</td>\n",
       "      <td>Giao duc</td>\n",
       "      <td>386</td>\n",
       "    </tr>\n",
       "    <tr>\n",
       "      <th>2</th>\n",
       "      <td>Cán_bộ Công_an quận 12 ( TPHCM ) hướng_dẫn ngư...</td>\n",
       "      <td>Chinh tri</td>\n",
       "      <td>Phap luat</td>\n",
       "      <td>733</td>\n",
       "    </tr>\n",
       "    <tr>\n",
       "      <th>3</th>\n",
       "      <td>NSƯT Trần_Lực từng chia_sẻ với phóng_viên Lao_...</td>\n",
       "      <td>Giai tri</td>\n",
       "      <td>Van hoa</td>\n",
       "      <td>781</td>\n",
       "    </tr>\n",
       "    <tr>\n",
       "      <th>4</th>\n",
       "      <td>Sáng 20 / 3 , phát_biểu tại phiên chất_vấn Chá...</td>\n",
       "      <td>Phap luat</td>\n",
       "      <td>Chinh tri</td>\n",
       "      <td>577</td>\n",
       "    </tr>\n",
       "    <tr>\n",
       "      <th>...</th>\n",
       "      <td>...</td>\n",
       "      <td>...</td>\n",
       "      <td>...</td>\n",
       "      <td>...</td>\n",
       "    </tr>\n",
       "    <tr>\n",
       "      <th>876</th>\n",
       "      <td>Huấn_luyện chiến_sĩ mới phải bảo_đảm toàn_diện...</td>\n",
       "      <td>Phap luat</td>\n",
       "      <td>Giao duc</td>\n",
       "      <td>723</td>\n",
       "    </tr>\n",
       "    <tr>\n",
       "      <th>877</th>\n",
       "      <td>Trận chung_kết lượt về AFF Cup 2022 giữa Thái_...</td>\n",
       "      <td>The thao</td>\n",
       "      <td>Giai tri</td>\n",
       "      <td>490</td>\n",
       "    </tr>\n",
       "    <tr>\n",
       "      <th>878</th>\n",
       "      <td>Sự_việc khá hy_hữu được một thực_khách ghi lại...</td>\n",
       "      <td>Giao duc</td>\n",
       "      <td>Phap luat</td>\n",
       "      <td>147</td>\n",
       "    </tr>\n",
       "    <tr>\n",
       "      <th>879</th>\n",
       "      <td>23h đêm 28 / 3 , ông Đặng_Thanh_Phong , Chi_cụ...</td>\n",
       "      <td>Giao duc</td>\n",
       "      <td>Suc khoe</td>\n",
       "      <td>460</td>\n",
       "    </tr>\n",
       "    <tr>\n",
       "      <th>880</th>\n",
       "      <td>Theo dự_kiến , trụ_sở của Bộ Quốc_phòng Mỹ đượ...</td>\n",
       "      <td>Khoa hoc</td>\n",
       "      <td>Giao duc</td>\n",
       "      <td>456</td>\n",
       "    </tr>\n",
       "  </tbody>\n",
       "</table>\n",
       "<p>881 rows × 4 columns</p>\n",
       "</div>"
      ],
      "text/plain": [
       "                                               content  predicted true label  \\\n",
       "0    Nida Patcharaveerapong qua_đời vì ngã từ thuyề...  Phap luat   Giai tri   \n",
       "1    Trận_Talas nổ ra vào năm 751 giữa triều_đại Hồ...   Khoa hoc   Giao duc   \n",
       "2    Cán_bộ Công_an quận 12 ( TPHCM ) hướng_dẫn ngư...  Chinh tri  Phap luat   \n",
       "3    NSƯT Trần_Lực từng chia_sẻ với phóng_viên Lao_...   Giai tri    Van hoa   \n",
       "4    Sáng 20 / 3 , phát_biểu tại phiên chất_vấn Chá...  Phap luat  Chinh tri   \n",
       "..                                                 ...        ...        ...   \n",
       "876  Huấn_luyện chiến_sĩ mới phải bảo_đảm toàn_diện...  Phap luat   Giao duc   \n",
       "877  Trận chung_kết lượt về AFF Cup 2022 giữa Thái_...   The thao   Giai tri   \n",
       "878  Sự_việc khá hy_hữu được một thực_khách ghi lại...   Giao duc  Phap luat   \n",
       "879  23h đêm 28 / 3 , ông Đặng_Thanh_Phong , Chi_cụ...   Giao duc   Suc khoe   \n",
       "880  Theo dự_kiến , trụ_sở của Bộ Quốc_phòng Mỹ đượ...   Khoa hoc   Giao duc   \n",
       "\n",
       "     lennn  \n",
       "0      574  \n",
       "1      386  \n",
       "2      733  \n",
       "3      781  \n",
       "4      577  \n",
       "..     ...  \n",
       "876    723  \n",
       "877    490  \n",
       "878    147  \n",
       "879    460  \n",
       "880    456  \n",
       "\n",
       "[881 rows x 4 columns]"
      ]
     },
     "execution_count": 33,
     "metadata": {},
     "output_type": "execute_result"
    }
   ],
   "source": [
    "check"
   ]
  },
  {
   "cell_type": "code",
   "execution_count": 34,
   "metadata": {},
   "outputs": [
    {
     "data": {
      "text/plain": [
       "881"
      ]
     },
     "execution_count": 34,
     "metadata": {},
     "output_type": "execute_result"
    }
   ],
   "source": [
    "len(check)"
   ]
  },
  {
   "cell_type": "code",
   "execution_count": 35,
   "metadata": {},
   "outputs": [
    {
     "ename": "IndexError",
     "evalue": "single positional indexer is out-of-bounds",
     "output_type": "error",
     "traceback": [
      "\u001b[1;31m---------------------------------------------------------------------------\u001b[0m",
      "\u001b[1;31mIndexError\u001b[0m                                Traceback (most recent call last)",
      "\u001b[1;32me:\\DATN\\Classification\\MachineLearning\\SVM.ipynb Cell 43\u001b[0m in \u001b[0;36m<cell line: 1>\u001b[1;34m()\u001b[0m\n\u001b[1;32m----> <a href='vscode-notebook-cell:/e%3A/DATN/Classification/MachineLearning/SVM.ipynb#X56sZmlsZQ%3D%3D?line=0'>1</a>\u001b[0m data[data[\u001b[39m\"\u001b[39;49m\u001b[39mContent_cleaned_v2\u001b[39;49m\u001b[39m\"\u001b[39;49m] \u001b[39m==\u001b[39;49m np\u001b[39m.\u001b[39;49marray(X_test)[arr_wrong][\u001b[39m4\u001b[39;49m]]\u001b[39m.\u001b[39;49miloc[\u001b[39m0\u001b[39;49m]\u001b[39m.\u001b[39mLink\n",
      "File \u001b[1;32mc:\\Users\\ohmyb\\AppData\\Local\\Programs\\Python\\Python310\\lib\\site-packages\\pandas\\core\\indexing.py:967\u001b[0m, in \u001b[0;36m_LocationIndexer.__getitem__\u001b[1;34m(self, key)\u001b[0m\n\u001b[0;32m    964\u001b[0m axis \u001b[39m=\u001b[39m \u001b[39mself\u001b[39m\u001b[39m.\u001b[39maxis \u001b[39mor\u001b[39;00m \u001b[39m0\u001b[39m\n\u001b[0;32m    966\u001b[0m maybe_callable \u001b[39m=\u001b[39m com\u001b[39m.\u001b[39mapply_if_callable(key, \u001b[39mself\u001b[39m\u001b[39m.\u001b[39mobj)\n\u001b[1;32m--> 967\u001b[0m \u001b[39mreturn\u001b[39;00m \u001b[39mself\u001b[39;49m\u001b[39m.\u001b[39;49m_getitem_axis(maybe_callable, axis\u001b[39m=\u001b[39;49maxis)\n",
      "File \u001b[1;32mc:\\Users\\ohmyb\\AppData\\Local\\Programs\\Python\\Python310\\lib\\site-packages\\pandas\\core\\indexing.py:1520\u001b[0m, in \u001b[0;36m_iLocIndexer._getitem_axis\u001b[1;34m(self, key, axis)\u001b[0m\n\u001b[0;32m   1517\u001b[0m     \u001b[39mraise\u001b[39;00m \u001b[39mTypeError\u001b[39;00m(\u001b[39m\"\u001b[39m\u001b[39mCannot index by location index with a non-integer key\u001b[39m\u001b[39m\"\u001b[39m)\n\u001b[0;32m   1519\u001b[0m \u001b[39m# validate the location\u001b[39;00m\n\u001b[1;32m-> 1520\u001b[0m \u001b[39mself\u001b[39;49m\u001b[39m.\u001b[39;49m_validate_integer(key, axis)\n\u001b[0;32m   1522\u001b[0m \u001b[39mreturn\u001b[39;00m \u001b[39mself\u001b[39m\u001b[39m.\u001b[39mobj\u001b[39m.\u001b[39m_ixs(key, axis\u001b[39m=\u001b[39maxis)\n",
      "File \u001b[1;32mc:\\Users\\ohmyb\\AppData\\Local\\Programs\\Python\\Python310\\lib\\site-packages\\pandas\\core\\indexing.py:1452\u001b[0m, in \u001b[0;36m_iLocIndexer._validate_integer\u001b[1;34m(self, key, axis)\u001b[0m\n\u001b[0;32m   1450\u001b[0m len_axis \u001b[39m=\u001b[39m \u001b[39mlen\u001b[39m(\u001b[39mself\u001b[39m\u001b[39m.\u001b[39mobj\u001b[39m.\u001b[39m_get_axis(axis))\n\u001b[0;32m   1451\u001b[0m \u001b[39mif\u001b[39;00m key \u001b[39m>\u001b[39m\u001b[39m=\u001b[39m len_axis \u001b[39mor\u001b[39;00m key \u001b[39m<\u001b[39m \u001b[39m-\u001b[39mlen_axis:\n\u001b[1;32m-> 1452\u001b[0m     \u001b[39mraise\u001b[39;00m \u001b[39mIndexError\u001b[39;00m(\u001b[39m\"\u001b[39m\u001b[39msingle positional indexer is out-of-bounds\u001b[39m\u001b[39m\"\u001b[39m)\n",
      "\u001b[1;31mIndexError\u001b[0m: single positional indexer is out-of-bounds"
     ]
    }
   ],
   "source": [
    "data[data[\"Content_cleaned_v2\"] == np.array(X_test)[arr_wrong][4]].iloc[0].Link"
   ]
  }
 ],
 "metadata": {
  "kernelspec": {
   "display_name": "Python 3",
   "language": "python",
   "name": "python3"
  },
  "language_info": {
   "codemirror_mode": {
    "name": "ipython",
    "version": 3
   },
   "file_extension": ".py",
   "mimetype": "text/x-python",
   "name": "python",
   "nbconvert_exporter": "python",
   "pygments_lexer": "ipython3",
   "version": "3.10.2"
  },
  "orig_nbformat": 4
 },
 "nbformat": 4,
 "nbformat_minor": 2
}
