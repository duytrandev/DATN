{
 "cells": [
  {
   "cell_type": "code",
   "execution_count": 79,
   "metadata": {},
   "outputs": [
    {
     "data": {
      "text/html": [
       "<div>\n",
       "<style scoped>\n",
       "    .dataframe tbody tr th:only-of-type {\n",
       "        vertical-align: middle;\n",
       "    }\n",
       "\n",
       "    .dataframe tbody tr th {\n",
       "        vertical-align: top;\n",
       "    }\n",
       "\n",
       "    .dataframe thead th {\n",
       "        text-align: right;\n",
       "    }\n",
       "</style>\n",
       "<table border=\"1\" class=\"dataframe\">\n",
       "  <thead>\n",
       "    <tr style=\"text-align: right;\">\n",
       "      <th></th>\n",
       "      <th>Unnamed: 0</th>\n",
       "      <th>Content</th>\n",
       "      <th>Label</th>\n",
       "      <th>Content_cleaned</th>\n",
       "      <th>Length_content_cleaned</th>\n",
       "    </tr>\n",
       "  </thead>\n",
       "  <tbody>\n",
       "    <tr>\n",
       "      <th>0</th>\n",
       "      <td>0</td>\n",
       "      <td>Sao Việt ngày 29/3: NSƯT Chí Trung cùng bạn gá...</td>\n",
       "      <td>entertainment</td>\n",
       "      <td>việt     nsưt chí_trung gái đi du_lịch mỹ     ...</td>\n",
       "      <td>21</td>\n",
       "    </tr>\n",
       "    <tr>\n",
       "      <th>1</th>\n",
       "      <td>1</td>\n",
       "      <td>Người tiêu dùng trẻ ngày càng có xu hướng chi ...</td>\n",
       "      <td>business</td>\n",
       "      <td>tiêu_dùng trẻ xu_hướng chi_tiêu thông_minh tận...</td>\n",
       "      <td>311</td>\n",
       "    </tr>\n",
       "    <tr>\n",
       "      <th>2</th>\n",
       "      <td>2</td>\n",
       "      <td>Trong khuôn viên rất rộng ở khu liên hợp thể t...</td>\n",
       "      <td>sport</td>\n",
       "      <td>khuôn_viên rộng khu liên_hợp thể_thao techo mo...</td>\n",
       "      <td>253</td>\n",
       "    </tr>\n",
       "    <tr>\n",
       "      <th>3</th>\n",
       "      <td>3</td>\n",
       "      <td>Một trong những triệu chứng điển hình của tiểu...</td>\n",
       "      <td>health</td>\n",
       "      <td>triệu_chứng điển_hình tiểu tần_suất đi_tiểu nư...</td>\n",
       "      <td>287</td>\n",
       "    </tr>\n",
       "    <tr>\n",
       "      <th>4</th>\n",
       "      <td>4</td>\n",
       "      <td>Từ ngày 27/2-2/3, Hiệp hội golf Việt Nam tổ ch...</td>\n",
       "      <td>sport</td>\n",
       "      <td>hiệp_hội golf việt_nam tổ_chức vòng_lo...</td>\n",
       "      <td>105</td>\n",
       "    </tr>\n",
       "    <tr>\n",
       "      <th>...</th>\n",
       "      <td>...</td>\n",
       "      <td>...</td>\n",
       "      <td>...</td>\n",
       "      <td>...</td>\n",
       "      <td>...</td>\n",
       "    </tr>\n",
       "    <tr>\n",
       "      <th>24409</th>\n",
       "      <td>2920</td>\n",
       "      <td>Ở nội dung đôi nam nữ, Trần Ngọc Thúy Vi và Lê...</td>\n",
       "      <td>sport</td>\n",
       "      <td>nội_dung đôi nam_nữ   trần_ngọc thúy_vi lê_hoà...</td>\n",
       "      <td>149</td>\n",
       "    </tr>\n",
       "    <tr>\n",
       "      <th>24410</th>\n",
       "      <td>2924</td>\n",
       "      <td>Nguồn: Next Sports  Thiên Bình</td>\n",
       "      <td>sport</td>\n",
       "      <td>next sports thiên_bình</td>\n",
       "      <td>3</td>\n",
       "    </tr>\n",
       "    <tr>\n",
       "      <th>24411</th>\n",
       "      <td>2925</td>\n",
       "      <td>Nhận định trận đấu giữa Arsenal vs Brighton Tr...</td>\n",
       "      <td>sport</td>\n",
       "      <td>nhận_định trận_đấu arsenal vs brighton khuôn_k...</td>\n",
       "      <td>156</td>\n",
       "    </tr>\n",
       "    <tr>\n",
       "      <th>24412</th>\n",
       "      <td>2926</td>\n",
       "      <td>Dù giành chiến thắng trước Myanmar ở vòng bảng...</td>\n",
       "      <td>sport</td>\n",
       "      <td>giành chiến_thắng myanmar vòng bảng hlv mai_đứ...</td>\n",
       "      <td>138</td>\n",
       "    </tr>\n",
       "    <tr>\n",
       "      <th>24413</th>\n",
       "      <td>2927</td>\n",
       "      <td>Mauricio Pochettino sẽ trở lại Premier League ...</td>\n",
       "      <td>sport</td>\n",
       "      <td>mauricio_pochettino trở_lại premier_league làm...</td>\n",
       "      <td>123</td>\n",
       "    </tr>\n",
       "  </tbody>\n",
       "</table>\n",
       "<p>24414 rows × 5 columns</p>\n",
       "</div>"
      ],
      "text/plain": [
       "       Unnamed: 0                                            Content  \\\n",
       "0               0  Sao Việt ngày 29/3: NSƯT Chí Trung cùng bạn gá...   \n",
       "1               1  Người tiêu dùng trẻ ngày càng có xu hướng chi ...   \n",
       "2               2  Trong khuôn viên rất rộng ở khu liên hợp thể t...   \n",
       "3               3  Một trong những triệu chứng điển hình của tiểu...   \n",
       "4               4  Từ ngày 27/2-2/3, Hiệp hội golf Việt Nam tổ ch...   \n",
       "...           ...                                                ...   \n",
       "24409        2920  Ở nội dung đôi nam nữ, Trần Ngọc Thúy Vi và Lê...   \n",
       "24410        2924                    Nguồn: Next Sports  Thiên Bình    \n",
       "24411        2925  Nhận định trận đấu giữa Arsenal vs Brighton Tr...   \n",
       "24412        2926  Dù giành chiến thắng trước Myanmar ở vòng bảng...   \n",
       "24413        2927  Mauricio Pochettino sẽ trở lại Premier League ...   \n",
       "\n",
       "               Label                                    Content_cleaned  \\\n",
       "0      entertainment  việt     nsưt chí_trung gái đi du_lịch mỹ     ...   \n",
       "1           business  tiêu_dùng trẻ xu_hướng chi_tiêu thông_minh tận...   \n",
       "2              sport  khuôn_viên rộng khu liên_hợp thể_thao techo mo...   \n",
       "3             health  triệu_chứng điển_hình tiểu tần_suất đi_tiểu nư...   \n",
       "4              sport          hiệp_hội golf việt_nam tổ_chức vòng_lo...   \n",
       "...              ...                                                ...   \n",
       "24409          sport  nội_dung đôi nam_nữ   trần_ngọc thúy_vi lê_hoà...   \n",
       "24410          sport                             next sports thiên_bình   \n",
       "24411          sport  nhận_định trận_đấu arsenal vs brighton khuôn_k...   \n",
       "24412          sport  giành chiến_thắng myanmar vòng bảng hlv mai_đứ...   \n",
       "24413          sport  mauricio_pochettino trở_lại premier_league làm...   \n",
       "\n",
       "       Length_content_cleaned  \n",
       "0                          21  \n",
       "1                         311  \n",
       "2                         253  \n",
       "3                         287  \n",
       "4                         105  \n",
       "...                       ...  \n",
       "24409                     149  \n",
       "24410                       3  \n",
       "24411                     156  \n",
       "24412                     138  \n",
       "24413                     123  \n",
       "\n",
       "[24414 rows x 5 columns]"
      ]
     },
     "execution_count": 79,
     "metadata": {},
     "output_type": "execute_result"
    }
   ],
   "source": [
    "import pandas as pd\n",
    "dataset = pd.read_csv(\"../../Data/cleaned_v1.csv\")\n",
    "dataset"
   ]
  },
  {
   "cell_type": "code",
   "execution_count": 80,
   "metadata": {},
   "outputs": [],
   "source": [
    "from gensim.models import Word2Vec\n",
    "w2v = Word2Vec.load(\"../../FeatureEngineering/Vectorize/w2v_300_5window_cleaned_24krow_skipgram.model\")"
   ]
  },
  {
   "cell_type": "code",
   "execution_count": 81,
   "metadata": {},
   "outputs": [
    {
     "name": "stdout",
     "output_type": "stream",
     "text": [
      "X:\n",
      " [[    0     0     0 ...   319  1205   738]\n",
      " [  384   155    39 ...   394   707   610]\n",
      " [ 4494  3563  8803 ...  2820  2841   321]\n",
      " ...\n",
      " [    0     0     0 ...  1745  2328  1294]\n",
      " [  322    49   191 ...  4629 59517   532]\n",
      " [  323   721   473 ...    17  2727  5551]]\n"
     ]
    }
   ],
   "source": [
    "from keras_preprocessing.text import Tokenizer\n",
    "from keras_preprocessing import sequence\n",
    "from keras_preprocessing.sequence import pad_sequences\n",
    "\n",
    "import numpy as np\n",
    "\n",
    "tokenizer = Tokenizer(filters='!\"#$%&()*+,-./:;<=>?@[\\\\]^`{|}~\\t\\n')\n",
    "# label_tokenizer = Tokenizer()\n",
    "# label_tokenizer.fit_on_texts(dataset[\"Label\"])\n",
    "# token_label_seq = np.array(label_tokenizer.texts_to_sequences(dataset['Label']))\n",
    "tokenizer.fit_on_texts(dataset['Content_cleaned'])\n",
    "sequences = tokenizer.texts_to_sequences(dataset['Content_cleaned'])\n",
    "\n",
    "maxlen = 200\n",
    "X = sequence.pad_sequences(sequences, maxlen=maxlen)\n",
    "print('X:\\n', X[:10])\n"
   ]
  },
  {
   "cell_type": "code",
   "execution_count": 82,
   "metadata": {},
   "outputs": [
    {
     "data": {
      "text/html": [
       "<div>\n",
       "<style scoped>\n",
       "    .dataframe tbody tr th:only-of-type {\n",
       "        vertical-align: middle;\n",
       "    }\n",
       "\n",
       "    .dataframe tbody tr th {\n",
       "        vertical-align: top;\n",
       "    }\n",
       "\n",
       "    .dataframe thead th {\n",
       "        text-align: right;\n",
       "    }\n",
       "</style>\n",
       "<table border=\"1\" class=\"dataframe\">\n",
       "  <thead>\n",
       "    <tr style=\"text-align: right;\">\n",
       "      <th></th>\n",
       "      <th>business</th>\n",
       "      <th>education</th>\n",
       "      <th>entertainment</th>\n",
       "      <th>health</th>\n",
       "      <th>politics</th>\n",
       "      <th>sport</th>\n",
       "    </tr>\n",
       "  </thead>\n",
       "  <tbody>\n",
       "    <tr>\n",
       "      <th>0</th>\n",
       "      <td>0</td>\n",
       "      <td>0</td>\n",
       "      <td>1</td>\n",
       "      <td>0</td>\n",
       "      <td>0</td>\n",
       "      <td>0</td>\n",
       "    </tr>\n",
       "    <tr>\n",
       "      <th>1</th>\n",
       "      <td>1</td>\n",
       "      <td>0</td>\n",
       "      <td>0</td>\n",
       "      <td>0</td>\n",
       "      <td>0</td>\n",
       "      <td>0</td>\n",
       "    </tr>\n",
       "    <tr>\n",
       "      <th>2</th>\n",
       "      <td>0</td>\n",
       "      <td>0</td>\n",
       "      <td>0</td>\n",
       "      <td>0</td>\n",
       "      <td>0</td>\n",
       "      <td>1</td>\n",
       "    </tr>\n",
       "    <tr>\n",
       "      <th>3</th>\n",
       "      <td>0</td>\n",
       "      <td>0</td>\n",
       "      <td>0</td>\n",
       "      <td>1</td>\n",
       "      <td>0</td>\n",
       "      <td>0</td>\n",
       "    </tr>\n",
       "    <tr>\n",
       "      <th>4</th>\n",
       "      <td>0</td>\n",
       "      <td>0</td>\n",
       "      <td>0</td>\n",
       "      <td>0</td>\n",
       "      <td>0</td>\n",
       "      <td>1</td>\n",
       "    </tr>\n",
       "    <tr>\n",
       "      <th>...</th>\n",
       "      <td>...</td>\n",
       "      <td>...</td>\n",
       "      <td>...</td>\n",
       "      <td>...</td>\n",
       "      <td>...</td>\n",
       "      <td>...</td>\n",
       "    </tr>\n",
       "    <tr>\n",
       "      <th>24409</th>\n",
       "      <td>0</td>\n",
       "      <td>0</td>\n",
       "      <td>0</td>\n",
       "      <td>0</td>\n",
       "      <td>0</td>\n",
       "      <td>1</td>\n",
       "    </tr>\n",
       "    <tr>\n",
       "      <th>24410</th>\n",
       "      <td>0</td>\n",
       "      <td>0</td>\n",
       "      <td>0</td>\n",
       "      <td>0</td>\n",
       "      <td>0</td>\n",
       "      <td>1</td>\n",
       "    </tr>\n",
       "    <tr>\n",
       "      <th>24411</th>\n",
       "      <td>0</td>\n",
       "      <td>0</td>\n",
       "      <td>0</td>\n",
       "      <td>0</td>\n",
       "      <td>0</td>\n",
       "      <td>1</td>\n",
       "    </tr>\n",
       "    <tr>\n",
       "      <th>24412</th>\n",
       "      <td>0</td>\n",
       "      <td>0</td>\n",
       "      <td>0</td>\n",
       "      <td>0</td>\n",
       "      <td>0</td>\n",
       "      <td>1</td>\n",
       "    </tr>\n",
       "    <tr>\n",
       "      <th>24413</th>\n",
       "      <td>0</td>\n",
       "      <td>0</td>\n",
       "      <td>0</td>\n",
       "      <td>0</td>\n",
       "      <td>0</td>\n",
       "      <td>1</td>\n",
       "    </tr>\n",
       "  </tbody>\n",
       "</table>\n",
       "<p>24414 rows × 6 columns</p>\n",
       "</div>"
      ],
      "text/plain": [
       "       business  education  entertainment  health  politics  sport\n",
       "0             0          0              1       0         0      0\n",
       "1             1          0              0       0         0      0\n",
       "2             0          0              0       0         0      1\n",
       "3             0          0              0       1         0      0\n",
       "4             0          0              0       0         0      1\n",
       "...         ...        ...            ...     ...       ...    ...\n",
       "24409         0          0              0       0         0      1\n",
       "24410         0          0              0       0         0      1\n",
       "24411         0          0              0       0         0      1\n",
       "24412         0          0              0       0         0      1\n",
       "24413         0          0              0       0         0      1\n",
       "\n",
       "[24414 rows x 6 columns]"
      ]
     },
     "execution_count": 82,
     "metadata": {},
     "output_type": "execute_result"
    }
   ],
   "source": [
    "y = pd.get_dummies(dataset['Label'])\n",
    "y"
   ]
  },
  {
   "cell_type": "code",
   "execution_count": 83,
   "metadata": {},
   "outputs": [
    {
     "name": "stdout",
     "output_type": "stream",
     "text": [
      "num_words: 109106\n"
     ]
    }
   ],
   "source": [
    "import numpy as np\n",
    "\n",
    "embedding_dim = 300\n",
    "word_index = tokenizer.word_index\n",
    "num_words = len(word_index) + 1\n",
    "embedding_matrix = np.zeros((num_words, embedding_dim))\n",
    "print('num_words:', num_words)\n",
    "for word, i in word_index.items():\n",
    "    if word in w2v.wv.key_to_index:\n",
    "            embedding_matrix[i] = w2v.wv[word]"
   ]
  },
  {
   "cell_type": "code",
   "execution_count": 84,
   "metadata": {},
   "outputs": [
    {
     "name": "stdout",
     "output_type": "stream",
     "text": [
      "Model: \"sequential_12\"\n",
      "_________________________________________________________________\n",
      " Layer (type)                Output Shape              Param #   \n",
      "=================================================================\n",
      " embedding_11 (Embedding)    (None, 200, 300)          32731800  \n",
      "                                                                 \n",
      " simple_rnn_11 (SimpleRNN)   (None, 256)               142592    \n",
      "                                                                 \n",
      " dense_22 (Dense)            (None, 128)               32896     \n",
      "                                                                 \n",
      " dense_23 (Dense)            (None, 32)                4128      \n",
      "                                                                 \n",
      " dense_24 (Dense)            (None, 6)                 198       \n",
      "                                                                 \n",
      "=================================================================\n",
      "Total params: 32,911,614\n",
      "Trainable params: 179,814\n",
      "Non-trainable params: 32,731,800\n",
      "_________________________________________________________________\n"
     ]
    }
   ],
   "source": [
    "# from keras.models import Sequential\n",
    "# from keras.layers import Embedding, Flatten, Dense, LSTM, Bidirectional, SimpleRNN, Dropout\n",
    "\n",
    "# model = Sequential()\n",
    "# model.add(Embedding(num_words, embedding_dim, input_length=maxlen,weights=[embedding_matrix],trainable=False))\n",
    "# model.add(Bidirectional(LSTM(units=256)))\n",
    "# model.add(Dropout(0.2))\n",
    "# model.add(Dense(units=128, activation='relu'))\n",
    "# model.add(Dense(units=16, activation='relu'))\n",
    "# model.add(Dense(6, activation='softmax'))\n",
    "\n",
    "# model.compile(optimizer='adam', loss='binary_crossentropy', metrics=['accuracy'])\n",
    "# model.summary()\n",
    "\n",
    "from keras.models import Sequential\n",
    "from keras.layers import Embedding, Flatten, Dense, LSTM, Bidirectional, SimpleRNN, Dropout\n",
    "\n",
    "model = Sequential()\n",
    "model.add(Embedding(num_words, embedding_dim, input_length=maxlen,weights=[embedding_matrix],trainable=False))\n",
    "model.add(SimpleRNN(units=256))\n",
    "model.add(Dense(units=128, activation='relu'))\n",
    "model.add(Dense(units=32, activation='relu'))\n",
    "model.add(Dense(6, activation='softmax'))\n",
    "\n",
    "model.compile(optimizer='adam', loss='binary_crossentropy', metrics=['accuracy'])\n",
    "model.summary()\n"
   ]
  },
  {
   "cell_type": "code",
   "execution_count": 85,
   "metadata": {},
   "outputs": [
    {
     "data": {
      "text/plain": [
       "((17089, 200), (17089, 6), (7325, 200), (7325, 6))"
      ]
     },
     "execution_count": 85,
     "metadata": {},
     "output_type": "execute_result"
    }
   ],
   "source": [
    "from sklearn.model_selection import train_test_split\n",
    "X_train, X_test, Y_train, Y_test = train_test_split(X, y , test_size= 0.3, random_state= 42)\n",
    "X_train.shape, Y_train.shape, X_test.shape, Y_test.shape"
   ]
  },
  {
   "cell_type": "code",
   "execution_count": 91,
   "metadata": {},
   "outputs": [],
   "source": [
    "from keras.callbacks import EarlyStopping\n",
    "callback = EarlyStopping(monitor = \"val_loss\", patience= 4)"
   ]
  },
  {
   "cell_type": "code",
   "execution_count": 92,
   "metadata": {},
   "outputs": [
    {
     "name": "stdout",
     "output_type": "stream",
     "text": [
      "Epoch 1/100\n",
      "203/481 [===========>..................] - ETA: 22s - loss: 0.3254 - accuracy: 0.5674"
     ]
    }
   ],
   "source": [
    "model.fit(X_train, Y_train, validation_split=0.1, epochs= 100, callbacks=[callback])"
   ]
  },
  {
   "cell_type": "code",
   "execution_count": 77,
   "metadata": {},
   "outputs": [
    {
     "data": {
      "image/png": "[encoded data removed]",
      "text/plain": [
       "<Figure size 640x480 with 1 Axes>"
      ]
     },
     "metadata": {},
     "output_type": "display_data"
    },
    {
     "data": {
      "image/png": "[encoded data removed]",
      "text/plain": [
       "<Figure size 640x480 with 1 Axes>"
      ]
     },
     "metadata": {},
     "output_type": "display_data"
    }
   ],
   "source": [
    "from matplotlib import pyplot as plt\n",
    "plt.plot(model.history.history['accuracy'])\n",
    "plt.plot(model.history.history['val_accuracy'])\n",
    "plt.title('model accuracy')\n",
    "plt.ylabel('accuracy')\n",
    "plt.xlabel('epoch')\n",
    "plt.legend(['train', 'val'], loc='upper left')\n",
    "plt.show()\n",
    "from matplotlib import pyplot as plt\n",
    "plt.plot(model.history.history['loss'])\n",
    "plt.plot(model.history.history['val_loss'])\n",
    "plt.title('model loss')\n",
    "plt.ylabel('loss')\n",
    "plt.xlabel('epoch')\n",
    "plt.legend(['train', 'val'], loc='upper left')\n",
    "plt.show()"
   ]
  },
  {
   "cell_type": "code",
   "execution_count": 78,
   "metadata": {},
   "outputs": [
    {
     "name": "stdout",
     "output_type": "stream",
     "text": [
      "124/124 [==============================] - 4s 28ms/step - loss: 0.1389 - accuracy: 0.8399\n",
      "Test Loss: 0.13886553049087524\n",
      "Test Accuracy: 0.8399494290351868\n"
     ]
    }
   ],
   "source": [
    "loss, accuracy = model.evaluate(X_test, Y_test)\n",
    "print('Test Loss:', loss)\n",
    "print('Test Accuracy:', accuracy)"
   ]
  }
 ],
 "metadata": {
  "kernelspec": {
   "display_name": "Python 3",
   "language": "python",
   "name": "python3"
  },
  "language_info": {
   "codemirror_mode": {
    "name": "ipython",
    "version": 3
   },
   "file_extension": ".py",
   "mimetype": "text/x-python",
   "name": "python",
   "nbconvert_exporter": "python",
   "pygments_lexer": "ipython3",
   "version": "3.10.5"
  },
  "orig_nbformat": 4
 },
 "nbformat": 4,
 "nbformat_minor": 2
}
