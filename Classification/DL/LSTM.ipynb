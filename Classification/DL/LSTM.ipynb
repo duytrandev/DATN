{
 "cells": [
  {
   "cell_type": "code",
   "execution_count": 118,
   "metadata": {},
   "outputs": [
    {
     "data": {
      "text/html": [
       "<div>\n",
       "<style scoped>\n",
       "    .dataframe tbody tr th:only-of-type {\n",
       "        vertical-align: middle;\n",
       "    }\n",
       "\n",
       "    .dataframe tbody tr th {\n",
       "        vertical-align: top;\n",
       "    }\n",
       "\n",
       "    .dataframe thead th {\n",
       "        text-align: right;\n",
       "    }\n",
       "</style>\n",
       "<table border=\"1\" class=\"dataframe\">\n",
       "  <thead>\n",
       "    <tr style=\"text-align: right;\">\n",
       "      <th></th>\n",
       "      <th>Unnamed: 0</th>\n",
       "      <th>Link</th>\n",
       "      <th>Content</th>\n",
       "      <th>Content_cleaned_v1</th>\n",
       "      <th>Length_cleaned_v1</th>\n",
       "      <th>Content_cleaned_v2</th>\n",
       "      <th>Length_cleaned_v2</th>\n",
       "      <th>Label</th>\n",
       "      <th>cc</th>\n",
       "    </tr>\n",
       "  </thead>\n",
       "  <tbody>\n",
       "    <tr>\n",
       "      <th>0</th>\n",
       "      <td>0</td>\n",
       "      <td>https://baochinhphu.vn/thong-diep-3-diem-cua-v...</td>\n",
       "      <td>Từ ngày 12-13/5/2023 tại Dhaka, Bangladesh đã ...</td>\n",
       "      <td>từ ngày tại dhaka bangladesh đã diễn ra hội_ng...</td>\n",
       "      <td>476</td>\n",
       "      <td>dhaka bangladesh diễn hội_nghị ấn_độ_dương ind...</td>\n",
       "      <td>324</td>\n",
       "      <td>Chinh tri</td>\n",
       "      <td>Từ ngày 12 - 13 / 5 / 2023 tại Dhaka , Banglad...</td>\n",
       "    </tr>\n",
       "    <tr>\n",
       "      <th>1</th>\n",
       "      <td>1</td>\n",
       "      <td>https://baochinhphu.vn/thu-tuong-pham-minh-chi...</td>\n",
       "      <td>Cùng tham dự cuộc tiếp xúc cử tri có các đại b...</td>\n",
       "      <td>cùng tham_dự cuộc tiếp_xúc cử_tri có các đại_b...</td>\n",
       "      <td>292</td>\n",
       "      <td>cùng tham_dự cuộc tiếp_xúc cử_tri đại_biểu quố...</td>\n",
       "      <td>226</td>\n",
       "      <td>Chinh tri</td>\n",
       "      <td>Cùng tham_dự cuộc tiếp_xúc cử_tri có các đại_b...</td>\n",
       "    </tr>\n",
       "    <tr>\n",
       "      <th>2</th>\n",
       "      <td>2</td>\n",
       "      <td>https://baochinhphu.vn/chu-tich-nuoc-du-le-pha...</td>\n",
       "      <td>Buổi lễ được tổ chức bằng hình thức trực tiếp ...</td>\n",
       "      <td>buổi lễ được tổ_chức bằng hình_thức trực_tiếp ...</td>\n",
       "      <td>612</td>\n",
       "      <td>buổi lễ tổ_chức bằng hình_thức trực_tiếp kết_h...</td>\n",
       "      <td>434</td>\n",
       "      <td>Chinh tri</td>\n",
       "      <td>Buổi lễ được tổ_chức bằng hình_thức trực_tiếp ...</td>\n",
       "    </tr>\n",
       "    <tr>\n",
       "      <th>3</th>\n",
       "      <td>3</td>\n",
       "      <td>https://baochinhphu.vn/loi-day-cua-bac-dang-du...</td>\n",
       "      <td>Chiều 12/5, Tỉnh ủy Nam Định tổ chức Hội thảo ...</td>\n",
       "      <td>chiều tỉnh_ủy nam_định tổ_chức hội_thảo khoa_h...</td>\n",
       "      <td>529</td>\n",
       "      <td>chiều tỉnh_ủy nam_định tổ_chức hội_thảo khoa_h...</td>\n",
       "      <td>391</td>\n",
       "      <td>Chinh tri</td>\n",
       "      <td>Chiều 12 / 5 , Tỉnh_ủy Nam_Định tổ_chức Hội_th...</td>\n",
       "    </tr>\n",
       "    <tr>\n",
       "      <th>4</th>\n",
       "      <td>4</td>\n",
       "      <td>https://baochinhphu.vn/de-nghi-boeing-tich-cuc...</td>\n",
       "      <td>Tại buổi tiếp, Thủ tướng Phạm Minh Chính nhắc ...</td>\n",
       "      <td>tại buổi tiếp thủ_tướng phạm_minh_chính nhắc l...</td>\n",
       "      <td>660</td>\n",
       "      <td>buổi tiếp thủ_tướng phạm_minh_chính nhắc cuộc ...</td>\n",
       "      <td>434</td>\n",
       "      <td>Chinh tri</td>\n",
       "      <td>Tại buổi tiếp , Thủ_tướng Phạm_Minh_Chính nhắc...</td>\n",
       "    </tr>\n",
       "    <tr>\n",
       "      <th>...</th>\n",
       "      <td>...</td>\n",
       "      <td>...</td>\n",
       "      <td>...</td>\n",
       "      <td>...</td>\n",
       "      <td>...</td>\n",
       "      <td>...</td>\n",
       "      <td>...</td>\n",
       "      <td>...</td>\n",
       "      <td>...</td>\n",
       "    </tr>\n",
       "    <tr>\n",
       "      <th>13637</th>\n",
       "      <td>13757</td>\n",
       "      <td>https://plo.vn/sap-xu-12-cuu-can-bo-o-dong-nai...</td>\n",
       "      <td>Theo dự kiến, ngày 22-5 tới đây, TAND tỉnh Đồn...</td>\n",
       "      <td>theo dự_kiến ngày tới đây tand tỉnh đồng_nai s...</td>\n",
       "      <td>682</td>\n",
       "      <td>dự_kiến tới đây tand tỉnh đồng_nai mở phiên sơ...</td>\n",
       "      <td>519</td>\n",
       "      <td>Phap luat</td>\n",
       "      <td>Theo dự_kiến , ngày 22 - 5 tới đây , TAND tỉnh...</td>\n",
       "    </tr>\n",
       "    <tr>\n",
       "      <th>13638</th>\n",
       "      <td>13758</td>\n",
       "      <td>https://plo.vn/vien-kiem-sat-thu-ky-cua-hoang-...</td>\n",
       "      <td>Chiều 15-2, TAND TP.HCM tiếp tục xử sơ thẩm vụ...</td>\n",
       "      <td>chiều tand tp hcm tiếp_tục xử sơ_thẩm vụ án vi...</td>\n",
       "      <td>411</td>\n",
       "      <td>chiều tand tp hcm tiếp_tục xử sơ_thẩm vụ án vi...</td>\n",
       "      <td>276</td>\n",
       "      <td>Phap luat</td>\n",
       "      <td>Chiều 15 - 2 , TAND TP. HCM tiếp_tục xử sơ_thẩ...</td>\n",
       "    </tr>\n",
       "    <tr>\n",
       "      <th>13639</th>\n",
       "      <td>13759</td>\n",
       "      <td>https://plo.vn/hotgirl-tina-duong-bi-phat-11-n...</td>\n",
       "      <td>Chiều 9-6, TAND tỉnh Bình Thuận đã tuyên phạt ...</td>\n",
       "      <td>chiều tand tỉnh bình_thuận đã tuyên_phạt bị_cá...</td>\n",
       "      <td>313</td>\n",
       "      <td>chiều tand tỉnh bình_thuận tuyên_phạt bị_cáo n...</td>\n",
       "      <td>226</td>\n",
       "      <td>Phap luat</td>\n",
       "      <td>Chiều 9 - 6 , TAND tỉnh Bình_Thuận đã tuyên_ph...</td>\n",
       "    </tr>\n",
       "    <tr>\n",
       "      <th>13640</th>\n",
       "      <td>13760</td>\n",
       "      <td>https://plo.vn/tand-tp-ca-mau-xin-loi-nguoi-bi...</td>\n",
       "      <td>Chiều 2-3, TAND TP Cà Mau tổ chức buổi xin lỗi...</td>\n",
       "      <td>chiều tand tp cà_mau tổ_chức buổi xin_lỗi ngườ...</td>\n",
       "      <td>661</td>\n",
       "      <td>chiều tand tp cà_mau tổ_chức buổi xin_lỗi oan ...</td>\n",
       "      <td>449</td>\n",
       "      <td>Phap luat</td>\n",
       "      <td>Chiều 2 - 3 , TAND TP Cà_Mau tổ_chức buổi xin_...</td>\n",
       "    </tr>\n",
       "    <tr>\n",
       "      <th>13641</th>\n",
       "      <td>13761</td>\n",
       "      <td>https://plo.vn/vu-cuu-chu-tich-xa-co-y-lam-tra...</td>\n",
       "      <td>Ngày 7-4, TAND huyện Ea Súp (Đắk Lắk) tiếp tục...</td>\n",
       "      <td>ngày tand huyện ea_súp đắk_lắk tiếp_tục xét_xử...</td>\n",
       "      <td>391</td>\n",
       "      <td>tand huyện ea_súp đắk_lắk tiếp_tục xét_xử vụ á...</td>\n",
       "      <td>276</td>\n",
       "      <td>Phap luat</td>\n",
       "      <td>Ngày 7 - 4 , TAND huyện Ea_Súp ( Đắk_Lắk ) tiế...</td>\n",
       "    </tr>\n",
       "  </tbody>\n",
       "</table>\n",
       "<p>13642 rows × 9 columns</p>\n",
       "</div>"
      ],
      "text/plain": [
       "       Unnamed: 0                                               Link  \\\n",
       "0               0  https://baochinhphu.vn/thong-diep-3-diem-cua-v...   \n",
       "1               1  https://baochinhphu.vn/thu-tuong-pham-minh-chi...   \n",
       "2               2  https://baochinhphu.vn/chu-tich-nuoc-du-le-pha...   \n",
       "3               3  https://baochinhphu.vn/loi-day-cua-bac-dang-du...   \n",
       "4               4  https://baochinhphu.vn/de-nghi-boeing-tich-cuc...   \n",
       "...           ...                                                ...   \n",
       "13637       13757  https://plo.vn/sap-xu-12-cuu-can-bo-o-dong-nai...   \n",
       "13638       13758  https://plo.vn/vien-kiem-sat-thu-ky-cua-hoang-...   \n",
       "13639       13759  https://plo.vn/hotgirl-tina-duong-bi-phat-11-n...   \n",
       "13640       13760  https://plo.vn/tand-tp-ca-mau-xin-loi-nguoi-bi...   \n",
       "13641       13761  https://plo.vn/vu-cuu-chu-tich-xa-co-y-lam-tra...   \n",
       "\n",
       "                                                 Content  \\\n",
       "0      Từ ngày 12-13/5/2023 tại Dhaka, Bangladesh đã ...   \n",
       "1      Cùng tham dự cuộc tiếp xúc cử tri có các đại b...   \n",
       "2      Buổi lễ được tổ chức bằng hình thức trực tiếp ...   \n",
       "3      Chiều 12/5, Tỉnh ủy Nam Định tổ chức Hội thảo ...   \n",
       "4      Tại buổi tiếp, Thủ tướng Phạm Minh Chính nhắc ...   \n",
       "...                                                  ...   \n",
       "13637  Theo dự kiến, ngày 22-5 tới đây, TAND tỉnh Đồn...   \n",
       "13638  Chiều 15-2, TAND TP.HCM tiếp tục xử sơ thẩm vụ...   \n",
       "13639  Chiều 9-6, TAND tỉnh Bình Thuận đã tuyên phạt ...   \n",
       "13640  Chiều 2-3, TAND TP Cà Mau tổ chức buổi xin lỗi...   \n",
       "13641  Ngày 7-4, TAND huyện Ea Súp (Đắk Lắk) tiếp tục...   \n",
       "\n",
       "                                      Content_cleaned_v1  Length_cleaned_v1  \\\n",
       "0      từ ngày tại dhaka bangladesh đã diễn ra hội_ng...                476   \n",
       "1      cùng tham_dự cuộc tiếp_xúc cử_tri có các đại_b...                292   \n",
       "2      buổi lễ được tổ_chức bằng hình_thức trực_tiếp ...                612   \n",
       "3      chiều tỉnh_ủy nam_định tổ_chức hội_thảo khoa_h...                529   \n",
       "4      tại buổi tiếp thủ_tướng phạm_minh_chính nhắc l...                660   \n",
       "...                                                  ...                ...   \n",
       "13637  theo dự_kiến ngày tới đây tand tỉnh đồng_nai s...                682   \n",
       "13638  chiều tand tp hcm tiếp_tục xử sơ_thẩm vụ án vi...                411   \n",
       "13639  chiều tand tỉnh bình_thuận đã tuyên_phạt bị_cá...                313   \n",
       "13640  chiều tand tp cà_mau tổ_chức buổi xin_lỗi ngườ...                661   \n",
       "13641  ngày tand huyện ea_súp đắk_lắk tiếp_tục xét_xử...                391   \n",
       "\n",
       "                                      Content_cleaned_v2  Length_cleaned_v2  \\\n",
       "0      dhaka bangladesh diễn hội_nghị ấn_độ_dương ind...                324   \n",
       "1      cùng tham_dự cuộc tiếp_xúc cử_tri đại_biểu quố...                226   \n",
       "2      buổi lễ tổ_chức bằng hình_thức trực_tiếp kết_h...                434   \n",
       "3      chiều tỉnh_ủy nam_định tổ_chức hội_thảo khoa_h...                391   \n",
       "4      buổi tiếp thủ_tướng phạm_minh_chính nhắc cuộc ...                434   \n",
       "...                                                  ...                ...   \n",
       "13637  dự_kiến tới đây tand tỉnh đồng_nai mở phiên sơ...                519   \n",
       "13638  chiều tand tp hcm tiếp_tục xử sơ_thẩm vụ án vi...                276   \n",
       "13639  chiều tand tỉnh bình_thuận tuyên_phạt bị_cáo n...                226   \n",
       "13640  chiều tand tp cà_mau tổ_chức buổi xin_lỗi oan ...                449   \n",
       "13641  tand huyện ea_súp đắk_lắk tiếp_tục xét_xử vụ á...                276   \n",
       "\n",
       "           Label                                                 cc  \n",
       "0      Chinh tri  Từ ngày 12 - 13 / 5 / 2023 tại Dhaka , Banglad...  \n",
       "1      Chinh tri  Cùng tham_dự cuộc tiếp_xúc cử_tri có các đại_b...  \n",
       "2      Chinh tri  Buổi lễ được tổ_chức bằng hình_thức trực_tiếp ...  \n",
       "3      Chinh tri  Chiều 12 / 5 , Tỉnh_ủy Nam_Định tổ_chức Hội_th...  \n",
       "4      Chinh tri  Tại buổi tiếp , Thủ_tướng Phạm_Minh_Chính nhắc...  \n",
       "...          ...                                                ...  \n",
       "13637  Phap luat  Theo dự_kiến , ngày 22 - 5 tới đây , TAND tỉnh...  \n",
       "13638  Phap luat  Chiều 15 - 2 , TAND TP. HCM tiếp_tục xử sơ_thẩ...  \n",
       "13639  Phap luat  Chiều 9 - 6 , TAND tỉnh Bình_Thuận đã tuyên_ph...  \n",
       "13640  Phap luat  Chiều 2 - 3 , TAND TP Cà_Mau tổ_chức buổi xin_...  \n",
       "13641  Phap luat  Ngày 7 - 4 , TAND huyện Ea_Súp ( Đắk_Lắk ) tiế...  \n",
       "\n",
       "[13642 rows x 9 columns]"
      ]
     },
     "execution_count": 118,
     "metadata": {},
     "output_type": "execute_result"
    }
   ],
   "source": [
    "import pandas as pd\n",
    "import numpy as np\n",
    "dataset = pd.read_csv(\"../../Data/cleaned_v4.csv\")\n",
    "dataset"
   ]
  },
  {
   "cell_type": "code",
   "execution_count": 119,
   "metadata": {},
   "outputs": [],
   "source": [
    "from gensim.models import Word2Vec, KeyedVectors\n",
    "w2v = Word2Vec.load(\"../../FeatureEngineering/Vectorize/models/w2vmodel_skip.model\")"
   ]
  },
  {
   "cell_type": "code",
   "execution_count": 120,
   "metadata": {},
   "outputs": [],
   "source": [
    "# w2v = KeyedVectors.load_word2vec_format(\"../../Data/baomoi.window2.vn.model.bin.gz\", binary=True)"
   ]
  },
  {
   "cell_type": "code",
   "execution_count": 121,
   "metadata": {},
   "outputs": [],
   "source": [
    "from keras_preprocessing.text import Tokenizer\n",
    "from keras_preprocessing import sequence\n",
    "from keras_preprocessing.sequence import pad_sequences\n",
    "\n",
    "import numpy as np\n",
    "\n",
    "tokenizer = Tokenizer(filters='!\"#$%&()*+,-./:;<=>?@[\\\\]^`{|}~\\t\\n')\n",
    "# label_tokenizer = Tokenizer()\n",
    "# label_tokenizer.fit_on_texts(dataset[\"Label\"])\n",
    "# token_label_seq = np.array(label_tokenizer.texts_to_sequences(dataset['Label']))\n",
    "tokenizer.fit_on_texts(dataset['Content_cleaned_v2'])\n",
    "sequences = tokenizer.texts_to_sequences(dataset['Content_cleaned_v2'])\n",
    "\n",
    "maxlen = 350\n",
    "X = sequence.pad_sequences(sequences, maxlen=maxlen)\n",
    "Y = pd.get_dummies(dataset['Label'])"
   ]
  },
  {
   "cell_type": "code",
   "execution_count": 122,
   "metadata": {},
   "outputs": [
    {
     "data": {
      "text/plain": [
       "array([[   0,    0,    0, ...,   14, 1256, 6692],\n",
       "       [   0,    0,    0, ...,  175, 1527, 4726],\n",
       "       [ 286, 3287,  546, ..., 1615,  113, 2086],\n",
       "       ...,\n",
       "       [  62,  843,  635, ...,  173,  403, 6543],\n",
       "       [   0,    0,    0, ...,  644, 3428, 4726],\n",
       "       [ 158,  144,  195, ...,  105, 1117, 4726]])"
      ]
     },
     "execution_count": 122,
     "metadata": {},
     "output_type": "execute_result"
    }
   ],
   "source": [
    "X[:10]"
   ]
  },
  {
   "cell_type": "code",
   "execution_count": 123,
   "metadata": {},
   "outputs": [
    {
     "data": {
      "text/html": [
       "<div>\n",
       "<style scoped>\n",
       "    .dataframe tbody tr th:only-of-type {\n",
       "        vertical-align: middle;\n",
       "    }\n",
       "\n",
       "    .dataframe tbody tr th {\n",
       "        vertical-align: top;\n",
       "    }\n",
       "\n",
       "    .dataframe thead th {\n",
       "        text-align: right;\n",
       "    }\n",
       "</style>\n",
       "<table border=\"1\" class=\"dataframe\">\n",
       "  <thead>\n",
       "    <tr style=\"text-align: right;\">\n",
       "      <th></th>\n",
       "      <th>Chinh tri</th>\n",
       "      <th>Giai tri</th>\n",
       "      <th>Giao duc</th>\n",
       "      <th>Khoa hoc</th>\n",
       "      <th>Kinh te</th>\n",
       "      <th>Phap luat</th>\n",
       "      <th>Suc khoe</th>\n",
       "      <th>The thao</th>\n",
       "      <th>Van hoa</th>\n",
       "    </tr>\n",
       "  </thead>\n",
       "  <tbody>\n",
       "    <tr>\n",
       "      <th>0</th>\n",
       "      <td>1</td>\n",
       "      <td>0</td>\n",
       "      <td>0</td>\n",
       "      <td>0</td>\n",
       "      <td>0</td>\n",
       "      <td>0</td>\n",
       "      <td>0</td>\n",
       "      <td>0</td>\n",
       "      <td>0</td>\n",
       "    </tr>\n",
       "    <tr>\n",
       "      <th>1</th>\n",
       "      <td>1</td>\n",
       "      <td>0</td>\n",
       "      <td>0</td>\n",
       "      <td>0</td>\n",
       "      <td>0</td>\n",
       "      <td>0</td>\n",
       "      <td>0</td>\n",
       "      <td>0</td>\n",
       "      <td>0</td>\n",
       "    </tr>\n",
       "    <tr>\n",
       "      <th>2</th>\n",
       "      <td>1</td>\n",
       "      <td>0</td>\n",
       "      <td>0</td>\n",
       "      <td>0</td>\n",
       "      <td>0</td>\n",
       "      <td>0</td>\n",
       "      <td>0</td>\n",
       "      <td>0</td>\n",
       "      <td>0</td>\n",
       "    </tr>\n",
       "    <tr>\n",
       "      <th>3</th>\n",
       "      <td>1</td>\n",
       "      <td>0</td>\n",
       "      <td>0</td>\n",
       "      <td>0</td>\n",
       "      <td>0</td>\n",
       "      <td>0</td>\n",
       "      <td>0</td>\n",
       "      <td>0</td>\n",
       "      <td>0</td>\n",
       "    </tr>\n",
       "    <tr>\n",
       "      <th>4</th>\n",
       "      <td>1</td>\n",
       "      <td>0</td>\n",
       "      <td>0</td>\n",
       "      <td>0</td>\n",
       "      <td>0</td>\n",
       "      <td>0</td>\n",
       "      <td>0</td>\n",
       "      <td>0</td>\n",
       "      <td>0</td>\n",
       "    </tr>\n",
       "    <tr>\n",
       "      <th>...</th>\n",
       "      <td>...</td>\n",
       "      <td>...</td>\n",
       "      <td>...</td>\n",
       "      <td>...</td>\n",
       "      <td>...</td>\n",
       "      <td>...</td>\n",
       "      <td>...</td>\n",
       "      <td>...</td>\n",
       "      <td>...</td>\n",
       "    </tr>\n",
       "    <tr>\n",
       "      <th>13637</th>\n",
       "      <td>0</td>\n",
       "      <td>0</td>\n",
       "      <td>0</td>\n",
       "      <td>0</td>\n",
       "      <td>0</td>\n",
       "      <td>1</td>\n",
       "      <td>0</td>\n",
       "      <td>0</td>\n",
       "      <td>0</td>\n",
       "    </tr>\n",
       "    <tr>\n",
       "      <th>13638</th>\n",
       "      <td>0</td>\n",
       "      <td>0</td>\n",
       "      <td>0</td>\n",
       "      <td>0</td>\n",
       "      <td>0</td>\n",
       "      <td>1</td>\n",
       "      <td>0</td>\n",
       "      <td>0</td>\n",
       "      <td>0</td>\n",
       "    </tr>\n",
       "    <tr>\n",
       "      <th>13639</th>\n",
       "      <td>0</td>\n",
       "      <td>0</td>\n",
       "      <td>0</td>\n",
       "      <td>0</td>\n",
       "      <td>0</td>\n",
       "      <td>1</td>\n",
       "      <td>0</td>\n",
       "      <td>0</td>\n",
       "      <td>0</td>\n",
       "    </tr>\n",
       "    <tr>\n",
       "      <th>13640</th>\n",
       "      <td>0</td>\n",
       "      <td>0</td>\n",
       "      <td>0</td>\n",
       "      <td>0</td>\n",
       "      <td>0</td>\n",
       "      <td>1</td>\n",
       "      <td>0</td>\n",
       "      <td>0</td>\n",
       "      <td>0</td>\n",
       "    </tr>\n",
       "    <tr>\n",
       "      <th>13641</th>\n",
       "      <td>0</td>\n",
       "      <td>0</td>\n",
       "      <td>0</td>\n",
       "      <td>0</td>\n",
       "      <td>0</td>\n",
       "      <td>1</td>\n",
       "      <td>0</td>\n",
       "      <td>0</td>\n",
       "      <td>0</td>\n",
       "    </tr>\n",
       "  </tbody>\n",
       "</table>\n",
       "<p>13642 rows × 9 columns</p>\n",
       "</div>"
      ],
      "text/plain": [
       "       Chinh tri  Giai tri  Giao duc  Khoa hoc  Kinh te  Phap luat  Suc khoe  \\\n",
       "0              1         0         0         0        0          0         0   \n",
       "1              1         0         0         0        0          0         0   \n",
       "2              1         0         0         0        0          0         0   \n",
       "3              1         0         0         0        0          0         0   \n",
       "4              1         0         0         0        0          0         0   \n",
       "...          ...       ...       ...       ...      ...        ...       ...   \n",
       "13637          0         0         0         0        0          1         0   \n",
       "13638          0         0         0         0        0          1         0   \n",
       "13639          0         0         0         0        0          1         0   \n",
       "13640          0         0         0         0        0          1         0   \n",
       "13641          0         0         0         0        0          1         0   \n",
       "\n",
       "       The thao  Van hoa  \n",
       "0             0        0  \n",
       "1             0        0  \n",
       "2             0        0  \n",
       "3             0        0  \n",
       "4             0        0  \n",
       "...         ...      ...  \n",
       "13637         0        0  \n",
       "13638         0        0  \n",
       "13639         0        0  \n",
       "13640         0        0  \n",
       "13641         0        0  \n",
       "\n",
       "[13642 rows x 9 columns]"
      ]
     },
     "execution_count": 123,
     "metadata": {},
     "output_type": "execute_result"
    }
   ],
   "source": [
    "Y"
   ]
  },
  {
   "cell_type": "code",
   "execution_count": 124,
   "metadata": {},
   "outputs": [
    {
     "name": "stdout",
     "output_type": "stream",
     "text": [
      "num_words: 43216\n"
     ]
    }
   ],
   "source": [
    "import numpy as np\n",
    "notin = []\n",
    "embedding_dim = 128\n",
    "word_index = tokenizer.word_index\n",
    "num_words = len(word_index) + 1\n",
    "embedding_matrix = np.zeros((num_words, embedding_dim))\n",
    "print('num_words:', num_words)\n",
    "for word, i in word_index.items():\n",
    "    if word in w2v.wv.key_to_index:\n",
    "            embedding_matrix[i] = w2v.wv[word]\n",
    "    else:\n",
    "        notin.append(word)"
   ]
  },
  {
   "cell_type": "code",
   "execution_count": 125,
   "metadata": {},
   "outputs": [
    {
     "data": {
      "text/plain": [
       "(42010, 1205)"
      ]
     },
     "execution_count": 125,
     "metadata": {},
     "output_type": "execute_result"
    }
   ],
   "source": [
    "len([i for i in embedding_matrix if np.mean(i) != 0]), len(notin)"
   ]
  },
  {
   "cell_type": "code",
   "execution_count": 126,
   "metadata": {},
   "outputs": [],
   "source": [
    "two = []\n",
    "one = []\n",
    "more = []\n",
    "for i in notin:\n",
    "  leng = len(i.split('_'))\n",
    "  if leng == 2:\n",
    "    two.append(i)\n",
    "    continue\n",
    "  if leng == 1:\n",
    "    one.append(i)\n",
    "    continue\n",
    "  more.append(i)"
   ]
  },
  {
   "cell_type": "code",
   "execution_count": 127,
   "metadata": {},
   "outputs": [
    {
     "data": {
      "text/plain": [
       "(344, 454, 407)"
      ]
     },
     "execution_count": 127,
     "metadata": {},
     "output_type": "execute_result"
    }
   ],
   "source": [
    "len(one), len(two), len(more)"
   ]
  },
  {
   "cell_type": "code",
   "execution_count": 128,
   "metadata": {},
   "outputs": [
    {
     "data": {
      "text/plain": [
       "'truc|tiep|dab|ottservices|livetv|nsj|vlncn|bangiaoduc|carina|ttgt|idt|sejco|pắk|kenmark|blttds|sek|catvanloi|biva|gcn|vl|mãng|petrotimes|sullivan|xettuyen|htpl|staker|ccb|bavico|ltvl|ky|kien|yokogold|banvanhoa|truyen|haiqal|azmi|nht|xiếu|byă|tkđdđt|boon|ccv|qdnd|thisinh|duc|ptit|sú|rina|vietjetair|baogia|pinnock|bunchhai|sinti|ajmal|bqtđđcv|sadeco|đkđđ|cqthtt|klđt|đăkđrinh|nts|tvhk|toasoan|tuyen|phap|luat|vinfutureprize|khonggianmang|including|souttar|norgaard|dimong|guehi|chatmongkol|jakkrapong|z30d|hía|hoclamgiau|hth|676m2|81c|zachary|everfarm|gcnqsdđ|bllđ|codion|thitotnghiepthpt|tsdaucap|tuyensinhdaucap|hoc|forms|gle|diem|kp5|sys|qt08|tiengtrungtimesvn|28a|n11|isvnu|chinhphu|vivita|nhathuocthanthien|otoxemay|ccht|hz|laos|admin|chuyen|mta|congdong|whitechic|mazraoui|rublico|amirul|schlotterbeck|esport|sokmeng|donnell|popovic|rawlins|acerbi|ayew|konsa|sokry|stephens|rothwell|quoc|hsst|ehome|hngđ|ltthc|mt5|chv|medicosult|tnmt|thongvang|a10|bot31|tnhs|evncpc|huong|vbqppl|barite|liêt|sophea|vungtau|trongđó|artemisa|niger|ngái|chứt|brâu|măm|ueb|detail|luatvietnam|c11|k01|htm|tracuu|v02|fptuscholarship1000|nomination|nguoi|pages|mozambique|ct3|brightoncollege|brightoncollegevn|rutherford|nhaphoc|haligroup|herbslimvn|viensuilady|moh|q12|dichvucong|bandoc|ktdt|gdt|lagi|vln|petapixel|negenborn|onedrive|corrigan|login|5al0|dó|rá|tanhia|sbc|mế|lẳng|kazakhsan|qbs|xylene|naphtha|bacabankgoogleplay|thuong|vasgroup|tapdoanvas|actechsmt|aqsiq|singlewindow|customs|promotion|duathutrungthat|batnaptrung1kgvang|pepsishop|kp4|carcinoid|trungtamthuoc|vpopharco|glocome|glycolic|nhathuocduclan|tana|thiamin|healthshot|prevention|campylobacter|ilfov|sokitium|iia|thammythucuc|sweepers|lycafe|goldsun|aurora|kimmese|typh|gonzo|missing|duarte|alderete|unal|ream|konan|anazo|jhno|kornelis|phyu|ogbonna|khounthoumphone|thongkhomsavat|chanthalansy|reus|srokry|haykal|fali|tvh|mawla|aldin|bala|alsharshani|mohammadali|alrawi|hamza|forde|madana|drew|simmon|warshasky|khusanov|lamptey|siti|nurfazira|gannarcho|richards|htoo|naung|mobark|seesavaht|sanid|thoumphone|sayanath|savat|thalansy|airfan|colwill|romagnoli|wissa|heaton|doloh|harhys|jarred|rasaq|cristante|70usd|maybach|noibo|vistaforex|exswiss|yailbrokien|fmarkets|endy|kstthc|75m2|tongleng|phonsaat|khamcot|bolikhamxay|keanmark|vth|ntlt|tth|hochiminhcity|ttl|414m2|bitocin|kp1|ath|nqt|btcvalue|mediconsult|đv|luatdatdai|monre|cttp|chongming|xẻo|vahc|ntpl|45k|nqtr|bmsol|a92|barie|dqt|ntdp|đtmd|bqp|bường|jeongho|mtmt|gro|al1|solmix|orgasol|toluel|mtbe|azo'"
      ]
     },
     "execution_count": 128,
     "metadata": {},
     "output_type": "execute_result"
    }
   ],
   "source": [
    "\"|\".join(one)"
   ]
  },
  {
   "cell_type": "code",
   "execution_count": 129,
   "metadata": {},
   "outputs": [
    {
     "name": "stdout",
     "output_type": "stream",
     "text": [
      "Model: \"sequential_3\"\n",
      "_________________________________________________________________\n",
      " Layer (type)                Output Shape              Param #   \n",
      "=================================================================\n",
      " embedding_3 (Embedding)     (None, 350, 128)          5531648   \n",
      "                                                                 \n",
      " bidirectional_6 (Bidirectio  (None, 350, 128)         98816     \n",
      " nal)                                                            \n",
      "                                                                 \n",
      " dropout_8 (Dropout)         (None, 350, 128)          0         \n",
      "                                                                 \n",
      " bidirectional_7 (Bidirectio  (None, 256)              263168    \n",
      " nal)                                                            \n",
      "                                                                 \n",
      " dropout_9 (Dropout)         (None, 256)               0         \n",
      "                                                                 \n",
      " dense_9 (Dense)             (None, 128)               32896     \n",
      "                                                                 \n",
      " dense_10 (Dense)            (None, 32)                4128      \n",
      "                                                                 \n",
      " dense_11 (Dense)            (None, 9)                 297       \n",
      "                                                                 \n",
      "=================================================================\n",
      "Total params: 5,930,953\n",
      "Trainable params: 399,305\n",
      "Non-trainable params: 5,531,648\n",
      "_________________________________________________________________\n"
     ]
    }
   ],
   "source": [
    "from keras.models import Sequential\n",
    "from keras.layers import Embedding, Flatten, Dense, LSTM, Bidirectional, Dropout\n",
    "\n",
    "model1 = Sequential()\n",
    "model1.add(Embedding(num_words, embedding_dim, input_length=maxlen ,weights=[embedding_matrix],trainable=False))\n",
    "model1.add(Bidirectional(LSTM(units=64, return_sequences= True)))\n",
    "model1.add(Dropout(0.2))\n",
    "model1.add(Bidirectional(LSTM(units=128, return_sequences= False)))\n",
    "model1.add(Dropout(0.2))\n",
    "model1.add(Dense(units=128, activation='relu'))\n",
    "model1.add(Dense(units=32, activation='relu'))\n",
    "# model1.add(Dense(units=64, activation='relu'))\n",
    "model1.add(Dense(9, activation='softmax')) \n",
    "model1.compile(optimizer='adam', loss='binary_crossentropy', metrics=['accuracy'])\n",
    "model1.summary()"
   ]
  },
  {
   "cell_type": "code",
   "execution_count": 130,
   "metadata": {},
   "outputs": [
    {
     "data": {
      "text/plain": [
       "((9549, 350), (9549, 9), (4093, 350), (4093, 9))"
      ]
     },
     "execution_count": 130,
     "metadata": {},
     "output_type": "execute_result"
    }
   ],
   "source": [
    "from sklearn.model_selection import train_test_split\n",
    "X_train, X_test, Y_train, Y_test = train_test_split(X,Y, train_size=0.7, random_state=42)\n",
    "\n",
    "X_train.shape, Y_train.shape, X_test.shape, Y_test.shape"
   ]
  },
  {
   "cell_type": "code",
   "execution_count": 131,
   "metadata": {},
   "outputs": [],
   "source": [
    "# from keras.callbacks import EarlyStopping\n",
    "# callback1 = EarlyStopping(monitor = \"val_accuracy\", patience= 4)\n",
    "# callback2 = EarlyStopping(monitor = \"val_loss\", patience= 4)"
   ]
  },
  {
   "cell_type": "code",
   "execution_count": 132,
   "metadata": {},
   "outputs": [
    {
     "name": "stdout",
     "output_type": "stream",
     "text": [
      "Epoch 1/50\n",
      "269/269 [==============================] - 158s 570ms/step - loss: 0.2818 - accuracy: 0.3818 - val_loss: 0.2162 - val_accuracy: 0.5906\n",
      "Epoch 2/50\n",
      "269/269 [==============================] - 139s 516ms/step - loss: 0.1982 - accuracy: 0.6068 - val_loss: 0.1490 - val_accuracy: 0.7236\n",
      "Epoch 3/50\n",
      "269/269 [==============================] - 139s 518ms/step - loss: 0.1980 - accuracy: 0.6271 - val_loss: 0.1544 - val_accuracy: 0.7089\n",
      "Epoch 4/50\n",
      "269/269 [==============================] - 142s 526ms/step - loss: 0.1552 - accuracy: 0.7207 - val_loss: 0.1338 - val_accuracy: 0.7602\n",
      "Epoch 5/50\n",
      "269/269 [==============================] - 142s 527ms/step - loss: 0.1271 - accuracy: 0.7787 - val_loss: 0.1040 - val_accuracy: 0.8220\n",
      "Epoch 6/50\n",
      "269/269 [==============================] - 141s 526ms/step - loss: 0.1070 - accuracy: 0.8238 - val_loss: 0.0982 - val_accuracy: 0.8377\n",
      "Epoch 7/50\n",
      "269/269 [==============================] - 142s 528ms/step - loss: 0.1002 - accuracy: 0.8324 - val_loss: 0.0956 - val_accuracy: 0.8387\n",
      "Epoch 8/50\n",
      "269/269 [==============================] - 143s 531ms/step - loss: 0.0909 - accuracy: 0.8505 - val_loss: 0.0905 - val_accuracy: 0.8482\n",
      "Epoch 9/50\n",
      "269/269 [==============================] - 143s 530ms/step - loss: 0.0849 - accuracy: 0.8608 - val_loss: 0.0953 - val_accuracy: 0.8440\n",
      "Epoch 10/50\n",
      "269/269 [==============================] - 146s 544ms/step - loss: 0.0817 - accuracy: 0.8646 - val_loss: 0.0883 - val_accuracy: 0.8450\n",
      "Epoch 11/50\n",
      "269/269 [==============================] - 150s 556ms/step - loss: 0.0781 - accuracy: 0.8678 - val_loss: 0.0927 - val_accuracy: 0.8534\n",
      "Epoch 12/50\n",
      "269/269 [==============================] - 148s 550ms/step - loss: 0.0749 - accuracy: 0.8765 - val_loss: 0.0799 - val_accuracy: 0.8702\n",
      "Epoch 13/50\n",
      "269/269 [==============================] - 149s 556ms/step - loss: 0.0714 - accuracy: 0.8820 - val_loss: 0.0820 - val_accuracy: 0.8607\n",
      "Epoch 14/50\n",
      "269/269 [==============================] - 151s 562ms/step - loss: 0.0679 - accuracy: 0.8904 - val_loss: 0.0809 - val_accuracy: 0.8660\n",
      "Epoch 15/50\n",
      "269/269 [==============================] - 152s 567ms/step - loss: 0.0651 - accuracy: 0.8899 - val_loss: 0.0779 - val_accuracy: 0.8796\n",
      "Epoch 16/50\n",
      "269/269 [==============================] - 152s 565ms/step - loss: 0.0614 - accuracy: 0.8992 - val_loss: 0.0759 - val_accuracy: 0.8775\n",
      "Epoch 17/50\n",
      "269/269 [==============================] - 151s 560ms/step - loss: 0.0577 - accuracy: 0.9033 - val_loss: 0.0763 - val_accuracy: 0.8806\n",
      "Epoch 18/50\n",
      "269/269 [==============================] - 156s 582ms/step - loss: 0.0542 - accuracy: 0.9109 - val_loss: 0.0722 - val_accuracy: 0.8869\n",
      "Epoch 19/50\n",
      "269/269 [==============================] - 156s 581ms/step - loss: 0.0528 - accuracy: 0.9116 - val_loss: 0.0739 - val_accuracy: 0.8796\n",
      "Epoch 20/50\n",
      "269/269 [==============================] - 155s 576ms/step - loss: 0.0496 - accuracy: 0.9197 - val_loss: 0.0754 - val_accuracy: 0.8775\n",
      "Epoch 21/50\n",
      "269/269 [==============================] - 151s 563ms/step - loss: 0.0489 - accuracy: 0.9185 - val_loss: 0.0699 - val_accuracy: 0.8890\n",
      "Epoch 22/50\n",
      "269/269 [==============================] - 152s 567ms/step - loss: 0.0474 - accuracy: 0.9233 - val_loss: 0.0749 - val_accuracy: 0.8796\n",
      "Epoch 23/50\n",
      "269/269 [==============================] - 152s 565ms/step - loss: 0.0442 - accuracy: 0.9290 - val_loss: 0.0720 - val_accuracy: 0.8817\n",
      "Epoch 24/50\n",
      "269/269 [==============================] - 153s 571ms/step - loss: 0.0398 - accuracy: 0.9355 - val_loss: 0.0834 - val_accuracy: 0.8754\n",
      "Epoch 25/50\n",
      "269/269 [==============================] - 155s 578ms/step - loss: 0.0391 - accuracy: 0.9353 - val_loss: 0.0791 - val_accuracy: 0.8796\n",
      "Epoch 26/50\n",
      "269/269 [==============================] - 155s 578ms/step - loss: 0.0379 - accuracy: 0.9395 - val_loss: 0.0791 - val_accuracy: 0.8827\n",
      "Epoch 27/50\n",
      "269/269 [==============================] - 158s 587ms/step - loss: 0.0341 - accuracy: 0.9437 - val_loss: 0.0748 - val_accuracy: 0.8817\n",
      "Epoch 28/50\n",
      "269/269 [==============================] - 160s 595ms/step - loss: 0.0324 - accuracy: 0.9489 - val_loss: 0.0752 - val_accuracy: 0.9016\n",
      "Epoch 29/50\n",
      "269/269 [==============================] - 163s 607ms/step - loss: 0.0300 - accuracy: 0.9551 - val_loss: 0.0835 - val_accuracy: 0.8775\n",
      "Epoch 30/50\n",
      "269/269 [==============================] - 156s 579ms/step - loss: 0.0252 - accuracy: 0.9609 - val_loss: 0.0837 - val_accuracy: 0.8775\n",
      "Epoch 31/50\n",
      "269/269 [==============================] - 160s 596ms/step - loss: 0.0216 - accuracy: 0.9665 - val_loss: 0.0860 - val_accuracy: 0.8869\n",
      "Epoch 32/50\n",
      "269/269 [==============================] - 160s 595ms/step - loss: 0.0246 - accuracy: 0.9623 - val_loss: 0.0844 - val_accuracy: 0.8775\n",
      "Epoch 33/50\n",
      "269/269 [==============================] - 158s 586ms/step - loss: 0.0221 - accuracy: 0.9645 - val_loss: 0.1195 - val_accuracy: 0.8545\n",
      "Epoch 34/50\n",
      "269/269 [==============================] - 157s 582ms/step - loss: 0.0206 - accuracy: 0.9672 - val_loss: 0.0980 - val_accuracy: 0.8869\n",
      "Epoch 35/50\n",
      " 80/269 [=======>......................] - ETA: 1:43 - loss: 0.0192 - accuracy: 0.9734"
     ]
    }
   ],
   "source": [
    "model1.fit(X_train, Y_train, validation_split=0.1, epochs= 50)"
   ]
  },
  {
   "cell_type": "code",
   "execution_count": null,
   "metadata": {},
   "outputs": [],
   "source": [
    "model1.save('lstm2.h5')"
   ]
  },
  {
   "cell_type": "code",
   "execution_count": null,
   "metadata": {},
   "outputs": [
    {
     "data": {
      "image/png": "[encoded data removed]",
      "text/plain": [
       "<Figure size 432x288 with 1 Axes>"
      ]
     },
     "metadata": {
      "needs_background": "light"
     },
     "output_type": "display_data"
    },
    {
     "data": {
      "image/png": "[encoded data removed]",
      "text/plain": [
       "<Figure size 432x288 with 1 Axes>"
      ]
     },
     "metadata": {
      "needs_background": "light"
     },
     "output_type": "display_data"
    }
   ],
   "source": [
    "from matplotlib import pyplot as plt\n",
    "plt.plot(model1.history.history['accuracy'])\n",
    "plt.plot(model1.history.history['val_accuracy'])\n",
    "plt.title('model accuracy')\n",
    "plt.ylabel('accuracy')\n",
    "plt.xlabel('epoch')\n",
    "plt.legend(['train', 'val'], loc='upper left')\n",
    "plt.show()\n",
    "from matplotlib import pyplot as plt\n",
    "plt.plot(model1.history.history['loss'])\n",
    "plt.plot(model1.history.history['val_loss'])\n",
    "plt.title('model loss')\n",
    "plt.ylabel('loss')\n",
    "plt.xlabel('epoch')\n",
    "plt.legend(['train', 'val'], loc='upper left')\n",
    "plt.show()"
   ]
  },
  {
   "cell_type": "code",
   "execution_count": null,
   "metadata": {},
   "outputs": [
    {
     "name": "stdout",
     "output_type": "stream",
     "text": [
      "128/128 [==============================] - 33s 261ms/step - loss: 0.1287 - accuracy: 0.8832\n",
      "Test Loss: 0.12874124944210052\n",
      "Test Accuracy: 0.8832152485847473\n"
     ]
    }
   ],
   "source": [
    "loss, accuracy = model1.evaluate(X_test, Y_test)\n",
    "print('Test Loss:', loss)\n",
    "print('Test Accuracy:', accuracy)"
   ]
  },
  {
   "cell_type": "code",
   "execution_count": null,
   "metadata": {},
   "outputs": [
    {
     "name": "stdout",
     "output_type": "stream",
     "text": [
      "128/128 [==============================] - 35s 262ms/step\n"
     ]
    }
   ],
   "source": [
    "y_pred = model1.predict(X_test)"
   ]
  },
  {
   "cell_type": "code",
   "execution_count": null,
   "metadata": {},
   "outputs": [],
   "source": [
    "# predicted = y_pred.argmax(axis=1)"
   ]
  },
  {
   "cell_type": "code",
   "execution_count": null,
   "metadata": {},
   "outputs": [],
   "source": [
    "# true_labels = Y_test.values.argmax(axis=1)"
   ]
  },
  {
   "cell_type": "code",
   "execution_count": null,
   "metadata": {},
   "outputs": [],
   "source": [
    "# true_labels"
   ]
  },
  {
   "cell_type": "code",
   "execution_count": null,
   "metadata": {},
   "outputs": [],
   "source": [
    "# predicted"
   ]
  },
  {
   "cell_type": "code",
   "execution_count": null,
   "metadata": {},
   "outputs": [],
   "source": [
    "# arr_wrong = []\n",
    "# for i, v in enumerate(predicted):\n",
    "#   if v != true_labels[i]:\n",
    "#     arr_wrong.append(i)"
   ]
  },
  {
   "cell_type": "code",
   "execution_count": null,
   "metadata": {},
   "outputs": [],
   "source": [
    "# arr_true = []\n",
    "# for i, v in enumerate(predicted):\n",
    "#   if v == true_labels[i]:\n",
    "#     arr_true.append(i)"
   ]
  },
  {
   "cell_type": "code",
   "execution_count": null,
   "metadata": {},
   "outputs": [],
   "source": [
    "# w = tokenizer.sequences_to_texts(predicted[arr_wrong])"
   ]
  },
  {
   "cell_type": "code",
   "execution_count": null,
   "metadata": {},
   "outputs": [],
   "source": [
    "# t = tokenizer.sequences_to_texts(true_labels[arr_true])"
   ]
  },
  {
   "cell_type": "code",
   "execution_count": null,
   "metadata": {},
   "outputs": [],
   "source": [
    "# length_w = pd.Series(sorted([len(l.split()) for l in w]))"
   ]
  },
  {
   "cell_type": "code",
   "execution_count": null,
   "metadata": {},
   "outputs": [],
   "source": [
    "# length_t = pd.Series(sorted([len(l.split()) for l in t]))"
   ]
  },
  {
   "cell_type": "code",
   "execution_count": null,
   "metadata": {},
   "outputs": [],
   "source": [
    "# len(length_w)"
   ]
  },
  {
   "cell_type": "code",
   "execution_count": null,
   "metadata": {},
   "outputs": [],
   "source": [
    "# len(length_t)"
   ]
  },
  {
   "cell_type": "code",
   "execution_count": null,
   "metadata": {},
   "outputs": [],
   "source": [
    "# length_t.plot()"
   ]
  },
  {
   "cell_type": "code",
   "execution_count": null,
   "metadata": {},
   "outputs": [],
   "source": [
    "# length_w.plot()"
   ]
  },
  {
   "cell_type": "code",
   "execution_count": null,
   "metadata": {},
   "outputs": [],
   "source": [
    "# len(length_w[length_w.values < 50])"
   ]
  },
  {
   "cell_type": "code",
   "execution_count": null,
   "metadata": {},
   "outputs": [],
   "source": [
    "# len(length_t[length_t.values < 50])"
   ]
  },
  {
   "cell_type": "code",
   "execution_count": null,
   "metadata": {},
   "outputs": [],
   "source": [
    "# y_pred[arr_wrong]"
   ]
  },
  {
   "cell_type": "code",
   "execution_count": null,
   "metadata": {},
   "outputs": [],
   "source": [
    "# predicted[arr_wrong]"
   ]
  },
  {
   "cell_type": "code",
   "execution_count": null,
   "metadata": {},
   "outputs": [],
   "source": [
    "# true_labels[arr_wrong]"
   ]
  },
  {
   "cell_type": "code",
   "execution_count": null,
   "metadata": {},
   "outputs": [
    {
     "ename": "SyntaxError",
     "evalue": "invalid syntax. Perhaps you forgot a comma? (3809249309.py, line 8)",
     "output_type": "error",
     "traceback": [
      "\u001b[1;36m  Input \u001b[1;32mIn [117]\u001b[1;36m\u001b[0m\n\u001b[1;33m    ax.xaxis.set_ticklabels(list(set(data[])))\u001b[0m\n\u001b[1;37m                                     ^\u001b[0m\n\u001b[1;31mSyntaxError\u001b[0m\u001b[1;31m:\u001b[0m invalid syntax. Perhaps you forgot a comma?\n"
     ]
    }
   ],
   "source": [
    "import seaborn as sns\n",
    "from sklearn.metrics import confusion_matrix\n",
    "\n",
    "def heatconmat(y_pred, y_test):\n",
    "  plt.figure(figsize=(10,8))\n",
    "  cnf_matrix = confusion_matrix(y_pred, y_test)\n",
    "  ax = sns.heatmap(cnf_matrix, annot=True, fmt='', cmap='Blues')\n",
    "  ax.xaxis.set_ticklabels(list(set(data[])))\n",
    "  ax.yaxis.set_ticklabels(list(set(y_test)))\n",
    "  plt.show()\n",
    "heatconmat(predicted, true_labels)"
   ]
  },
  {
   "cell_type": "code",
   "execution_count": null,
   "metadata": {},
   "outputs": [],
   "source": [
    "# check = pd.read_csv(\"../MachineLearning/.svm_predict.csv\")\n",
    "# se_check = tokenizer.texts_to_sequences(check['content'])\n",
    "\n",
    "# maxlen = 300\n",
    "# x_check = sequence.pad_sequences(se_check, maxlen=maxlen)"
   ]
  },
  {
   "cell_type": "code",
   "execution_count": null,
   "metadata": {},
   "outputs": [],
   "source": [
    "# check_pred = model1.predict(x_check)"
   ]
  },
  {
   "cell_type": "code",
   "execution_count": null,
   "metadata": {},
   "outputs": [],
   "source": [
    "# Y.columns"
   ]
  },
  {
   "cell_type": "code",
   "execution_count": null,
   "metadata": {},
   "outputs": [],
   "source": [
    "# arr_wrong[40:50], check_pred[arr_wrong][40:50]"
   ]
  },
  {
   "cell_type": "code",
   "execution_count": null,
   "metadata": {},
   "outputs": [],
   "source": [
    "# check_test = pd.get_dummies(check['true label'])"
   ]
  },
  {
   "cell_type": "code",
   "execution_count": null,
   "metadata": {},
   "outputs": [],
   "source": [
    "# model1.evaluate(x_check, test_check)"
   ]
  }
 ],
 "metadata": {
  "kernelspec": {
   "display_name": "Python 3",
   "language": "python",
   "name": "python3"
  },
  "language_info": {
   "codemirror_mode": {
    "name": "ipython",
    "version": 3
   },
   "file_extension": ".py",
   "mimetype": "text/x-python",
   "name": "python",
   "nbconvert_exporter": "python",
   "pygments_lexer": "ipython3",
   "version": "3.10.2"
  },
  "orig_nbformat": 4
 },
 "nbformat": 4,
 "nbformat_minor": 2
}
