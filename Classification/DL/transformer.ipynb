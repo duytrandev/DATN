{
 "cells": [
  {
   "cell_type": "code",
   "execution_count": 1,
   "metadata": {},
   "outputs": [],
   "source": [
    "# Different layers\n",
    "from tensorflow.keras.layers import MultiHeadAttention, Input, Dense\n",
    "from tensorflow.keras.layers import LayerNormalization, Layer\n",
    "from tensorflow.keras.layers import TextVectorization, Embedding, GlobalAveragePooling1D\n",
    "# For miscellaneous functions\n",
    "from tensorflow.data import Dataset\n",
    "from tensorflow import convert_to_tensor, string, float32, shape, range, reshape\n",
    "from tensorflow.keras import utils\n",
    "# Keras models\n",
    "from tensorflow.keras import Model, Sequential\n",
    "# For datasets\n",
    "from sklearn.datasets import fetch_20newsgroups\n",
    "# For evaluation\n",
    "from sklearn import metrics\n",
    "from sklearn.metrics import confusion_matrix, ConfusionMatrixDisplay\n",
    "# For math/arrays\n",
    "import numpy as np\n",
    "# For plotting\n",
    "import matplotlib.pyplot as plt"
   ]
  },
  {
   "cell_type": "code",
   "execution_count": 2,
   "metadata": {},
   "outputs": [
    {
     "name": "stdout",
     "output_type": "stream",
     "text": [
      "Total training sequences:  11314\n",
      "Total test sequences:  7532\n",
      "Target categories are:  ['alt.atheism', 'comp.graphics', 'comp.os.ms-windows.misc', 'comp.sys.ibm.pc.hardware', 'comp.sys.mac.hardware', 'comp.windows.x', 'misc.forsale', 'rec.autos', 'rec.motorcycles', 'rec.sport.baseball', 'rec.sport.hockey', 'sci.crypt', 'sci.electronics', 'sci.med', 'sci.space', 'soc.religion.christian', 'talk.politics.guns', 'talk.politics.mideast', 'talk.politics.misc', 'talk.religion.misc']\n"
     ]
    }
   ],
   "source": [
    "# Load the training dataset while removing headers, footers and quotes\n",
    "train_dataset = fetch_20newsgroups(subset='train', random_state=0,\n",
    "remove=(\"headers\", \"footers\", \"quotes\"))\n",
    "train_X, train_Y = (train_dataset.data, train_dataset.target)\n",
    "\n",
    "# Test dataset\n",
    "test_dataset = fetch_20newsgroups(subset='test', random_state=0,\n",
    "remove=(\"headers\", \"footers\", \"quotes\"))\n",
    "test_X, test_Y = (test_dataset.data, test_dataset.target)\n",
    "# Target classes\n",
    "newsgroup_names = train_dataset.target_names\n",
    "# Total classes\n",
    "n_classes = len(train_dataset.target_names)\n",
    "# Convert to binary vectors to represent categories\n",
    "train_Y_categorical = utils.to_categorical(train_Y)\n",
    "test_Y_categorical = utils.to_categorical(test_Y)\n",
    "\n",
    "#Print statistics\n",
    "print(\"Total training sequences: \", len(train_X))\n",
    "print(\"Total test sequences: \", len(test_X))\n",
    "print(\"Target categories are: \", newsgroup_names)"
   ]
  },
  {
   "cell_type": "code",
   "execution_count": 3,
   "metadata": {},
   "outputs": [
    {
     "data": {
      "text/plain": [
       "20"
      ]
     },
     "execution_count": 3,
     "metadata": {},
     "output_type": "execute_result"
    }
   ],
   "source": [
    "len(newsgroup_names)"
   ]
  }
 ],
 "metadata": {
  "kernelspec": {
   "display_name": "Python 3",
   "language": "python",
   "name": "python3"
  },
  "language_info": {
   "codemirror_mode": {
    "name": "ipython",
    "version": 3
   },
   "file_extension": ".py",
   "mimetype": "text/x-python",
   "name": "python",
   "nbconvert_exporter": "python",
   "pygments_lexer": "ipython3",
   "version": "3.10.2"
  },
  "orig_nbformat": 4
 },
 "nbformat": 4,
 "nbformat_minor": 2
}
