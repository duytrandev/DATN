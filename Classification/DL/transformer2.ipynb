{
 "cells": [
  {
   "cell_type": "code",
   "execution_count": 98,
   "metadata": {},
   "outputs": [],
   "source": [
    "import io\n",
    "import os\n",
    "import re\n",
    "import shutil\n",
    "import string\n",
    "import tensorflow as tf\n",
    "import numpy as np\n",
    "import pandas as pd\n",
    "import keras\n",
    "from tensorflow.keras import Sequential\n",
    "from tensorflow.keras.layers import Dense, Embedding, GlobalAveragePooling1D\n",
    "from tensorflow.keras.layers import TextVectorization"
   ]
  },
  {
   "cell_type": "code",
   "execution_count": 99,
   "metadata": {},
   "outputs": [],
   "source": [
    "data = pd.read_csv('../../Data/cleaned_v2.csv')"
   ]
  },
  {
   "cell_type": "code",
   "execution_count": 100,
   "metadata": {},
   "outputs": [],
   "source": [
    "train = pd.read_csv('train.csv')\n",
    "test = pd.read_csv('test.csv')\n",
    "val = pd.read_csv('validation.csv')"
   ]
  },
  {
   "cell_type": "code",
   "execution_count": 101,
   "metadata": {},
   "outputs": [],
   "source": [
    "X_train, Y_train = train[\"Content_cleaned_v2\"], train[\"Label\"]\n",
    "X_test, Y_test = test[\"Content_cleaned_v2\"], test[\"Label\"]\n",
    "X_val, Y_val = val[\"Content_cleaned_v2\"], val[\"Label\"]"
   ]
  },
  {
   "cell_type": "code",
   "execution_count": 102,
   "metadata": {},
   "outputs": [],
   "source": [
    "Y_train = pd.get_dummies(Y_train)\n",
    "Y_test = pd.get_dummies(Y_test)\n",
    "Y_val = pd.get_dummies(Y_val)"
   ]
  },
  {
   "cell_type": "code",
   "execution_count": 103,
   "metadata": {},
   "outputs": [],
   "source": [
    "# from keras_preprocessing.text import Tokenizer\n",
    "# import pickle\n",
    "# from keras_preprocessing.sequence import pad_sequences\n",
    "\n",
    "# tokenizer = Tokenizer(filters='!\"#$%&()*+,-./:;<=>?@[\\\\]^`{|}~\\t\\n')\n",
    "\n",
    "# tokenizer.fit_on_texts(X_train)\n",
    "# sequences = tokenizer.texts_to_sequences(X_train)\n",
    "# with open('tokenizer.pkl', 'wb') as f:\n",
    "#     pickle.dump(tokenizer, f)\n"
   ]
  },
  {
   "cell_type": "code",
   "execution_count": 119,
   "metadata": {},
   "outputs": [],
   "source": [
    "from gensim.models import Word2Vec, KeyedVectors\n",
    "w2v = Word2Vec.load(\"../../FeatureEngineering/Vectorize/w2vmodel_cbow_256.model\")"
   ]
  },
  {
   "cell_type": "code",
   "execution_count": 105,
   "metadata": {},
   "outputs": [],
   "source": [
    "import pickle\n",
    "tokenizer = pickle.load(open('tokenizer.pkl', 'rb'))"
   ]
  },
  {
   "cell_type": "code",
   "execution_count": 120,
   "metadata": {},
   "outputs": [
    {
     "name": "stdout",
     "output_type": "stream",
     "text": [
      "num_words: 57132\n"
     ]
    }
   ],
   "source": [
    "import numpy as np\n",
    "notin = []\n",
    "embedding_dim = 256\n",
    "maxlen = 350\n",
    "word_index = tokenizer.word_index\n",
    "num_words = len(word_index) + 1\n",
    "embedding_matrix = np.zeros((num_words, embedding_dim))\n",
    "print('num_words:', num_words)\n",
    "for word, i in word_index.items():\n",
    "    if word in w2v.wv.key_to_index:\n",
    "            embedding_matrix[i] = w2v.wv[word]\n",
    "    else:\n",
    "        notin.append(word)"
   ]
  },
  {
   "cell_type": "code",
   "execution_count": 107,
   "metadata": {},
   "outputs": [],
   "source": [
    "from tensorflow.keras import layers\n",
    "\n",
    "class TransformerBlock(layers.Layer):\n",
    "    def __init__(self, embed_dim, num_heads, ff_dim, rate=0.1):\n",
    "        super().__init__()\n",
    "        self.att = layers.MultiHeadAttention(num_heads=num_heads, key_dim=embed_dim)\n",
    "        self.ffn = keras.Sequential(\n",
    "            [layers.Dense(ff_dim, activation=\"relu\"), layers.Dense(embed_dim),]\n",
    "        )\n",
    "        self.layernorm1 = layers.LayerNormalization(epsilon=1e-6)\n",
    "        self.layernorm2 = layers.LayerNormalization(epsilon=1e-6)\n",
    "        self.dropout1 = layers.Dropout(rate)\n",
    "        self.dropout2 = layers.Dropout(rate)\n",
    "    \n",
    "    def call(self, inputs, training):\n",
    "        attn_output = self.att(inputs, inputs)\n",
    "        attn_output = self.dropout1(attn_output, training=training)\n",
    "        out1 = self.layernorm1(inputs + attn_output)\n",
    "        ffn_output = self.ffn(out1)\n",
    "        ffn_output = self.dropout2(ffn_output, training=training)\n",
    "        return self.layernorm2(out1 + ffn_output)\n",
    "    \n",
    "    def get_config(self):\n",
    "        config = super().get_config().copy()\n",
    "        config.update({\n",
    "            'att': self.att,\n",
    "            'ffn': self.ffn,\n",
    "            'layernorm1': self.layernorm1,\n",
    "            'layernorm2': self.layernorm2,\n",
    "            'dropout1': self.dropout1,\n",
    "            'dropout2': self.dropout2,\n",
    "        })\n",
    "        return config\n",
    "    \n",
    "    @classmethod\n",
    "    def from_config(cls, config):\n",
    "        return cls(**config)\n",
    "    \n",
    "    "
   ]
  },
  {
   "cell_type": "code",
   "execution_count": 108,
   "metadata": {},
   "outputs": [],
   "source": [
    " # Two seperate embedding layers, one for tokens, one for token index (positions)\n",
    "\n",
    "class TokenAndPositionEmbedding(layers.Layer):\n",
    "    def __init__(self, maxlen, embed_dim, num_words, embedding_matrix):\n",
    "        super().__init__()\n",
    "        self.token_emb = layers.Embedding(num_words, output_dim=embed_dim, input_length=maxlen,weights=embedding_matrix,trainable=False)\n",
    "        self.pos_emb = layers.Embedding(input_dim=maxlen, output_dim=embed_dim)\n",
    "    def call(self, x):\n",
    "        maxlen = tf.shape(x)[-1]\n",
    "        positions = tf.range(start=0, limit=maxlen, delta=1)\n",
    "        positions = self.pos_emb(positions)\n",
    "        x = self.token_emb(x)\n",
    "        return x + positions\n",
    "    def get_config(self):\n",
    "        config = super().get_config().copy()\n",
    "        config.update({\n",
    "            'token_emb': self.token_emb,\n",
    "            'pos_emb': self.pos_emb,\n",
    "        })\n",
    "        return config\n",
    "    \n",
    "    @classmethod\n",
    "    def from_config(cls, config):\n",
    "        return cls(**config)"
   ]
  },
  {
   "cell_type": "code",
   "execution_count": 121,
   "metadata": {},
   "outputs": [
    {
     "name": "stdout",
     "output_type": "stream",
     "text": [
      "Model: \"model_7\"\n",
      "_________________________________________________________________\n",
      " Layer (type)                Output Shape              Param #   \n",
      "=================================================================\n",
      " input_9 (InputLayer)        [(None, 350)]             0         \n",
      "                                                                 \n",
      " token_and_position_embeddin  (None, 350, 256)         14715392  \n",
      " g_8 (TokenAndPositionEmbedd                                     \n",
      " ing)                                                            \n",
      "                                                                 \n",
      " transformer_block_7 (Transf  (None, 350, 256)         2761984   \n",
      " ormerBlock)                                                     \n",
      "                                                                 \n",
      " global_average_pooling1d_7   (None, 256)              0         \n",
      " (GlobalAveragePooling1D)                                        \n",
      "                                                                 \n",
      " dropout_30 (Dropout)        (None, 256)               0         \n",
      "                                                                 \n",
      " dense_30 (Dense)            (None, 128)               32896     \n",
      "                                                                 \n",
      " dropout_31 (Dropout)        (None, 128)               0         \n",
      "                                                                 \n",
      " dense_31 (Dense)            (None, 9)                 1161      \n",
      "                                                                 \n",
      "=================================================================\n",
      "Total params: 17,511,433\n",
      "Trainable params: 2,885,641\n",
      "Non-trainable params: 14,625,792\n",
      "_________________________________________________________________\n"
     ]
    }
   ],
   "source": [
    "embed_dim = 256  # Embedding size for each token\n",
    "num_heads = 10    # Number of attention heads\n",
    "ff_dim = 256    # Hidden layer size in feed forward network inside transformer\n",
    "\n",
    "inputs = layers.Input(shape=(maxlen,))\n",
    "embedding_layer = TokenAndPositionEmbedding(maxlen,  embed_dim, num_words, [embedding_matrix])\n",
    "x = embedding_layer(inputs)\n",
    "transformer_block = TransformerBlock(embed_dim, num_heads, ff_dim)\n",
    "x = transformer_block(x)\n",
    "x = layers.GlobalAveragePooling1D()(x)\n",
    "x = layers.Dropout(0.1)(x)\n",
    "x = layers.Dense(128, activation=\"relu\")(x)\n",
    "x = layers.Dropout(0.1)(x)\n",
    "outputs = layers.Dense(9, activation=\"softmax\")(x)\n",
    "\n",
    "model = keras.Model(inputs=inputs, outputs=outputs)\n",
    "model.summary()"
   ]
  },
  {
   "cell_type": "code",
   "execution_count": 111,
   "metadata": {},
   "outputs": [],
   "source": [
    "from keras_preprocessing import sequence\n",
    "X_train1 = tokenizer.texts_to_sequences(X_train)\n",
    "X_train2 = sequence.pad_sequences(X_train1, maxlen)"
   ]
  },
  {
   "cell_type": "code",
   "execution_count": 122,
   "metadata": {},
   "outputs": [],
   "source": [
    "from tensorflow.keras.callbacks import ModelCheckpoint\n",
    "checkpoint = ModelCheckpoint('best_trans_cbow_256.h5', monitor='val_loss', save_best_only=True, mode='min', verbose=1)"
   ]
  },
  {
   "cell_type": "code",
   "execution_count": 113,
   "metadata": {},
   "outputs": [],
   "source": [
    "from tensorflow.keras.callbacks import EarlyStopping\n",
    "\n",
    "# Define the EarlyStopping callback\n",
    "early_stopping = EarlyStopping(monitor='val_loss', patience=5, verbose=1)"
   ]
  },
  {
   "cell_type": "code",
   "execution_count": 114,
   "metadata": {},
   "outputs": [],
   "source": [
    "X_val1 = tokenizer.texts_to_sequences(X_val)\n",
    "X_val2 = sequence.pad_sequences(X_val1, maxlen)"
   ]
  },
  {
   "cell_type": "code",
   "execution_count": 123,
   "metadata": {},
   "outputs": [
    {
     "name": "stdout",
     "output_type": "stream",
     "text": [
      "Epoch 1/30\n",
      "249/249 [==============================] - ETA: 0s - loss: 0.6407 - accuracy: 0.7972\n",
      "Epoch 1: val_loss improved from inf to 0.44153, saving model to best_trans_cbow_256.h5\n",
      "249/249 [==============================] - 1160s 5s/step - loss: 0.6407 - accuracy: 0.7972 - val_loss: 0.4415 - val_accuracy: 0.8745\n",
      "Epoch 2/30\n",
      "249/249 [==============================] - ETA: 0s - loss: 0.3836 - accuracy: 0.8752\n",
      "Epoch 2: val_loss improved from 0.44153 to 0.34062, saving model to best_trans_cbow_256.h5\n",
      "249/249 [==============================] - 1212s 5s/step - loss: 0.3836 - accuracy: 0.8752 - val_loss: 0.3406 - val_accuracy: 0.8885\n",
      "Epoch 3/30\n",
      "249/249 [==============================] - ETA: 0s - loss: 0.3440 - accuracy: 0.8879\n",
      "Epoch 3: val_loss did not improve from 0.34062\n",
      "249/249 [==============================] - 1148s 5s/step - loss: 0.3440 - accuracy: 0.8879 - val_loss: 0.3424 - val_accuracy: 0.8985\n",
      "Epoch 4/30\n",
      "249/249 [==============================] - ETA: 0s - loss: 0.3236 - accuracy: 0.8941\n",
      "Epoch 4: val_loss improved from 0.34062 to 0.31568, saving model to best_trans_cbow_256.h5\n",
      "249/249 [==============================] - 1143s 5s/step - loss: 0.3236 - accuracy: 0.8941 - val_loss: 0.3157 - val_accuracy: 0.9030\n",
      "Epoch 5/30\n",
      "249/249 [==============================] - ETA: 0s - loss: 0.2896 - accuracy: 0.9039\n",
      "Epoch 5: val_loss did not improve from 0.31568\n",
      "249/249 [==============================] - 1196s 5s/step - loss: 0.2896 - accuracy: 0.9039 - val_loss: 0.3424 - val_accuracy: 0.8960\n",
      "Epoch 6/30\n",
      "249/249 [==============================] - ETA: 0s - loss: 0.2831 - accuracy: 0.9037\n",
      "Epoch 6: val_loss did not improve from 0.31568\n",
      "249/249 [==============================] - 1183s 5s/step - loss: 0.2831 - accuracy: 0.9037 - val_loss: 0.3727 - val_accuracy: 0.8855\n",
      "Epoch 7/30\n",
      "249/249 [==============================] - ETA: 0s - loss: 0.2752 - accuracy: 0.9077\n",
      "Epoch 7: val_loss did not improve from 0.31568\n",
      "249/249 [==============================] - 1184s 5s/step - loss: 0.2752 - accuracy: 0.9077 - val_loss: 0.3964 - val_accuracy: 0.8860\n",
      "Epoch 8/30\n",
      "249/249 [==============================] - ETA: 0s - loss: 0.2649 - accuracy: 0.9135\n",
      "Epoch 8: val_loss did not improve from 0.31568\n",
      "249/249 [==============================] - 1184s 5s/step - loss: 0.2649 - accuracy: 0.9135 - val_loss: 0.3957 - val_accuracy: 0.8765\n",
      "Epoch 9/30\n",
      "249/249 [==============================] - ETA: 0s - loss: 0.2584 - accuracy: 0.9137\n",
      "Epoch 9: val_loss did not improve from 0.31568\n",
      "249/249 [==============================] - 1204s 5s/step - loss: 0.2584 - accuracy: 0.9137 - val_loss: 0.3350 - val_accuracy: 0.8915\n",
      "Epoch 9: early stopping\n"
     ]
    }
   ],
   "source": [
    "model.compile(optimizer=keras.optimizers.Adam(learning_rate=0.0075), loss=\"categorical_crossentropy\", metrics=[\"accuracy\"])\n",
    "history = model.fit(X_train2, Y_train, batch_size=64, epochs=30, validation_data=(X_val2, Y_val), callbacks=[early_stopping, checkpoint])"
   ]
  },
  {
   "cell_type": "code",
   "execution_count": 124,
   "metadata": {},
   "outputs": [],
   "source": [
    "X_test1 = tokenizer.texts_to_sequences(X_test)\n",
    "X_test2 = sequence.pad_sequences(X_test1, maxlen)"
   ]
  },
  {
   "cell_type": "code",
   "execution_count": 125,
   "metadata": {},
   "outputs": [
    {
     "name": "stdout",
     "output_type": "stream",
     "text": [
      "214/214 [==============================] - 176s 820ms/step - loss: 0.3624 - accuracy: 0.8796\n",
      "Test Loss: 0.36243507266044617\n",
      "Test Accuracy: 0.879618763923645\n"
     ]
    }
   ],
   "source": [
    "loss, accuracy = model.evaluate(X_test2, Y_test)\n",
    "print('Test Loss:', loss)\n",
    "print('Test Accuracy:', accuracy)"
   ]
  },
  {
   "cell_type": "code",
   "execution_count": 126,
   "metadata": {},
   "outputs": [
    {
     "data": {
      "image/png": "[encoded data removed]",
      "text/plain": [
       "<Figure size 640x480 with 1 Axes>"
      ]
     },
     "metadata": {},
     "output_type": "display_data"
    },
    {
     "data": {
      "image/png": "[encoded data removed]",
      "text/plain": [
       "<Figure size 640x480 with 1 Axes>"
      ]
     },
     "metadata": {},
     "output_type": "display_data"
    }
   ],
   "source": [
    "from matplotlib import pyplot as plt\n",
    "plt.plot(history.history['accuracy'])\n",
    "plt.plot(history.history['val_accuracy'])\n",
    "plt.title('model accuracy')\n",
    "plt.ylabel('accuracy')\n",
    "plt.xlabel('epoch')\n",
    "plt.legend(['train', 'val'], loc='upper left')\n",
    "plt.show()\n",
    "from matplotlib import pyplot as plt\n",
    "plt.plot(history.history['loss'])\n",
    "plt.plot(history.history['val_loss'])\n",
    "plt.title('model loss')\n",
    "plt.ylabel('loss')\n",
    "plt.xlabel('epoch')\n",
    "plt.legend(['train', 'val'], loc='upper left')\n",
    "plt.show()"
   ]
  }
 ],
 "metadata": {
  "kernelspec": {
   "display_name": "Python 3",
   "language": "python",
   "name": "python3"
  },
  "language_info": {
   "codemirror_mode": {
    "name": "ipython",
    "version": 3
   },
   "file_extension": ".py",
   "mimetype": "text/x-python",
   "name": "python",
   "nbconvert_exporter": "python",
   "pygments_lexer": "ipython3",
   "version": "3.10.2"
  },
  "orig_nbformat": 4
 },
 "nbformat": 4,
 "nbformat_minor": 2
}
