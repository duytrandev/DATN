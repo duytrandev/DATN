{
 "cells": [
  {
   "cell_type": "code",
   "execution_count": 1,
   "metadata": {},
   "outputs": [],
   "source": [
    "import pandas as pd"
   ]
  },
  {
   "cell_type": "code",
   "execution_count": 6,
   "metadata": {},
   "outputs": [],
   "source": [
    "data = pd.read_csv(\"../../Classification/DL/train.csv\")[\"Content_cleaned_v2\"]"
   ]
  },
  {
   "cell_type": "code",
   "execution_count": 139,
   "metadata": {},
   "outputs": [
    {
     "data": {
      "text/plain": [
       "((17749,), (4438,))"
      ]
     },
     "execution_count": 139,
     "metadata": {},
     "output_type": "execute_result"
    }
   ],
   "source": [
    "# from sklearn.model_selection import train_test_split\n",
    "# X_train, X_test = train_test_split(data[\"Content_cleaned_v2\"], test_size= 0, random_state= 42)\n",
    "# X_train.shape, X_test.shape"
   ]
  },
  {
   "cell_type": "code",
   "execution_count": 10,
   "metadata": {},
   "outputs": [
    {
     "data": {
      "text/plain": [
       "<15911x57131 sparse matrix of type '<class 'numpy.float64'>'\n",
       "\twith 2813267 stored elements in Compressed Sparse Row format>"
      ]
     },
     "execution_count": 10,
     "metadata": {},
     "output_type": "execute_result"
    }
   ],
   "source": [
    "from sklearn.feature_extraction.text import TfidfVectorizer\n",
    "vectorizer = TfidfVectorizer()\n",
    "vector_train = vectorizer.fit_transform(data)\n",
    "vector_train"
   ]
  },
  {
   "cell_type": "code",
   "execution_count": 11,
   "metadata": {},
   "outputs": [],
   "source": [
    "feature_names = vectorizer.get_feature_names_out()"
   ]
  },
  {
   "cell_type": "code",
   "execution_count": 20,
   "metadata": {},
   "outputs": [],
   "source": [
    "tfidf_scores = zip(feature_names, vector_train[20].toarray()[0])"
   ]
  },
  {
   "cell_type": "code",
   "execution_count": 21,
   "metadata": {},
   "outputs": [
    {
     "data": {
      "text/plain": [
       "20"
      ]
     },
     "execution_count": 21,
     "metadata": {},
     "output_type": "execute_result"
    }
   ],
   "source": [
    "top_n_words = sorted(tfidf_scores, key=lambda x: x[1])[:20]\n",
    "len(top_n_words)"
   ]
  },
  {
   "cell_type": "code",
   "execution_count": 22,
   "metadata": {},
   "outputs": [
    {
     "data": {
      "text/plain": [
       "[('00h00', 0.0),\n",
       " ('00h30', 0.0),\n",
       " ('01d', 0.0),\n",
       " ('01h00', 0.0),\n",
       " ('01h30', 0.0),\n",
       " ('01h45', 0.0),\n",
       " ('01s', 0.0),\n",
       " ('02h00', 0.0),\n",
       " ('02h15', 0.0),\n",
       " ('02h30', 0.0),\n",
       " ('02h45', 0.0),\n",
       " ('02s', 0.0),\n",
       " ('03h00', 0.0),\n",
       " ('03h30', 0.0),\n",
       " ('03h45', 0.0),\n",
       " ('03s', 0.0),\n",
       " ('03v', 0.0),\n",
       " ('04d', 0.0),\n",
       " ('04h00', 0.0),\n",
       " ('04v', 0.0)]"
      ]
     },
     "execution_count": 22,
     "metadata": {},
     "output_type": "execute_result"
    }
   ],
   "source": [
    "top_n_words"
   ]
  },
  {
   "cell_type": "code",
   "execution_count": 16,
   "metadata": {},
   "outputs": [
    {
     "data": {
      "text/plain": [
       "[('phật_thủ', 0.87187868540162),\n",
       " ('chè', 0.12845518525980046),\n",
       " ('đắc_sáng', 0.11301375489461502),\n",
       " ('dùng', 0.10998900969472436),\n",
       " ('lương_y', 0.10716188046283524),\n",
       " ('uống', 0.10088455844918322),\n",
       " ('15g', 0.09019434676568482),\n",
       " ('nấu', 0.0868514254489483),\n",
       " ('10g', 0.08037141034712643),\n",
       " ('hãm', 0.07409247420319551),\n",
       " ('cây', 0.06657694295130619),\n",
       " ('cháo', 0.06456833945937616),\n",
       " ('phật', 0.0626830285990194),\n",
       " ('tinh', 0.062128003926291635),\n",
       " ('sôi', 0.06173161059368197),\n",
       " ('bùi', 0.06070065356244663),\n",
       " ('cốc', 0.06051624040076255),\n",
       " ('lợn', 0.057496933726038535),\n",
       " ('ngũ_quả', 0.05419793310904419),\n",
       " ('30g', 0.05358094023141762)]"
      ]
     },
     "execution_count": 16,
     "metadata": {},
     "output_type": "execute_result"
    }
   ],
   "source": [
    "top_n_words"
   ]
  },
  {
   "cell_type": "code",
   "execution_count": 198,
   "metadata": {},
   "outputs": [
    {
     "data": {
      "text/plain": [
       "45"
      ]
     },
     "execution_count": 198,
     "metadata": {},
     "output_type": "execute_result"
    }
   ],
   "source": [
    "st = \" \".join([x for x, y in top_n_words]).split()\n",
    "len(st)"
   ]
  },
  {
   "cell_type": "code",
   "execution_count": 201,
   "metadata": {},
   "outputs": [
    {
     "data": {
      "text/plain": [
       "['vải',\n",
       " 'mát',\n",
       " 'siêu',\n",
       " 'ánh_sáng',\n",
       " 'độ',\n",
       " 'polylactic',\n",
       " 'hsu',\n",
       " 'nhiệt_độ',\n",
       " 'teflon',\n",
       " 'cotton',\n",
       " 'titan',\n",
       " 'phủ',\n",
       " 'vest',\n",
       " 'phản_chiếu',\n",
       " 'xe',\n",
       " 'mặt_trời',\n",
       " 'oxit',\n",
       " 'che_phủ',\n",
       " 'hạt',\n",
       " 'tao',\n",
       " 'chiếc',\n",
       " 'hồng_ngoại',\n",
       " 'mặc',\n",
       " 'và',\n",
       " 'da',\n",
       " 'ngoài_trời',\n",
       " 'che',\n",
       " 'axit',\n",
       " 'loại',\n",
       " 'nghiên_cứu',\n",
       " 'hiệu_ứng',\n",
       " 'sợi',\n",
       " 'bên',\n",
       " 'làm',\n",
       " 'hoa_trung',\n",
       " 'trong',\n",
       " 'po',\n",
       " 'tản',\n",
       " 'may',\n",
       " 'chun',\n",
       " 'duke',\n",
       " 'bóng_râm',\n",
       " 'bắc_carolina',\n",
       " 'khả_kiến',\n",
       " 'áo']"
      ]
     },
     "execution_count": 201,
     "metadata": {},
     "output_type": "execute_result"
    }
   ],
   "source": [
    "st"
   ]
  },
  {
   "cell_type": "code",
   "execution_count": 199,
   "metadata": {},
   "outputs": [
    {
     "data": {
      "text/plain": [
       "'vải siêu mát mới tản_nhiệt và phản_chiếu ánh_sáng , giúp con_người và vật_dụng trở_nên mát hơn vài độ khi ở ngoài_trời . nhà nghiên_cứu guangming tao ở đại_học khoa_học và công_nghệ hoa_trung ở vũ_hán và đồng_nghiệp phát_triển một loại vải siêu mát bằng cách kết_hợp những hạt siêu nhỏ với với titan oxit , teflon và loại nhựa có tên polylactic axit đặt trong các sợi lớn hơn . hạt titan oxit và teflon phản_chiếu tia cực_tím và ánh_sáng khả_kiến trong khi sợi polylactic axit phát ra ánh_sáng hồng_ngoại . kích_thước hạt được thiết_kế để tối_ưu_hóa những đặc_điểm trên . \" thông_qua kiểm_soát kết_cấu , vải siêu mát của chúng_tôi đạt độ phát_xạ sóng hồng_ngoại trung_bình gần như hoàn_hảo \" , tao giải_thích . ảnh_nhiệt của người mặc áo vest làm từ vải thường ( bên trái ) và vải siêu mát ( bên phải ) . ( ảnh : science ) . trong một thử_nghiệm , tình_nguyện viên mặc áo vest với một nửa may từ vải siêu mát và nửa còn lại may bằng vải cotton ngồi ở hướng ánh_sáng mặt_trời chiếu trực_tiếp trong một giờ . nhiệt_độ da bên dưới vải siêu mát tăng từ khoảng 31 độ c lên 32 độ c trong thời_gian đó , còn nhiệt_độ da bên dưới lớp cotton tăng tới khoảng 37 độ c. trong thử_nghiệm khác , ba chiếc xe lần_lượt được phủ vải siêu mát , vải che thông_thường bán ở cửa_hàng và không che_phủ . khi đậu dưới ánh nắng từ 11 giờ sáng đến 1 giờ chiều , nhiệt_độ tăng tới 60 độ c ở chiếc xe không che_phủ , 57 độ c ở chiếc xe phủ vải che thông_thường và 30 độ c ở chiếc xe phủ vải siêu mát . vải siêu mát hiệu_quả nhất khi tiếp_xúc với da . nếu mặc trang_phục bằng vải siêu mát bên ngoài quần_áo bình_thường , phần_lớn hiệu_ứng làm mát sẽ mất đi do ít nhiệt cơ_thể truyền tới vải siêu mát và tản ra ngoài . nhóm nghiên_cứu tập_trung vào làm mát cho người sử_dụng và đồ_vật tiếp_xúc trực_tiếp với ánh_sáng mặt_trời , nhưng hiệu_ứng làm mát vẫn được duy_trì trong bóng_râm . loại vải này cũng có_thể nhuộm theo nhiều màu_sắc khác nhau , nhưng màu trắng hiệu_quả nhất trong phản_xạ ánh_sáng mặt_trời . nhóm nghiên_cứu hy_vọng vải làm mát sẽ có_mặt trên thị_trường trong vòng một năm tới . nhà nghiên_cứu po - chun hsu ở đại_học duke tại bắc_carolina , mỹ , nhận_xét sản_phẩm này vô_cùng ấn_tượng về khả_năng làm mát ngoài_trời . hsu cho rằng việc ứng_dụng rộng_rãi những loại vải như_vậy có_thể giúp đối_phó biến_đổi khí_hậu thông_qua giảm nhu_cầu sử_dụng điều hòa nhiệt_độ .'"
      ]
     },
     "execution_count": 199,
     "metadata": {},
     "output_type": "execute_result"
    }
   ],
   "source": [
    "X_test.iloc[10].lower()"
   ]
  },
  {
   "cell_type": "code",
   "execution_count": 200,
   "metadata": {},
   "outputs": [
    {
     "data": {
      "text/plain": [
       "'vải siêu mát và phản_chiếu ánh_sáng và mát độ ngoài_trời . nghiên_cứu tao và hoa_trung và loại vải siêu mát hạt siêu titan oxit teflon và loại polylactic axit trong sợi . hạt titan oxit và teflon phản_chiếu và ánh_sáng khả_kiến trong sợi polylactic axit ánh_sáng hồng_ngoại . hạt . vải siêu mát độ hồng_ngoại tao . mặc áo vest làm vải bên và vải siêu mát bên . . trong mặc áo vest may vải siêu mát và may vải cotton ánh_sáng mặt_trời trong . nhiệt_độ da bên vải siêu mát độ độ trong nhiệt_độ da bên cotton độ trong chiếc xe phủ vải siêu mát vải che và che_phủ . nhiệt_độ độ chiếc xe che_phủ độ chiếc xe phủ vải che và độ chiếc xe phủ vải siêu mát . vải siêu mát da . mặc vải siêu mát bên hiệu_ứng làm mát vải siêu mát và tản . nghiên_cứu làm mát và ánh_sáng mặt_trời hiệu_ứng làm mát trong bóng_râm . loại vải trong ánh_sáng mặt_trời . nghiên_cứu vải làm mát trong . nghiên_cứu po chun hsu duke bắc_carolina làm mát ngoài_trời . hsu loại vải nhiệt_độ .'"
      ]
     },
     "execution_count": 200,
     "metadata": {},
     "output_type": "execute_result"
    }
   ],
   "source": [
    "\" \".join([i for i in X_test.iloc[10].lower().split() if i in st or i == \".\"])"
   ]
  },
  {
   "cell_type": "code",
   "execution_count": 187,
   "metadata": {},
   "outputs": [
    {
     "data": {
      "text/plain": [
       "['vải',\n",
       " 'mát',\n",
       " 'siêu',\n",
       " 'ánh_sáng',\n",
       " 'độ',\n",
       " 'polylactic',\n",
       " 'hsu',\n",
       " 'nhiệt_độ',\n",
       " 'teflon',\n",
       " 'cotton',\n",
       " 'titan',\n",
       " 'phủ',\n",
       " 'vest',\n",
       " 'phản_chiếu',\n",
       " 'xe',\n",
       " 'mặt_trời',\n",
       " 'oxit',\n",
       " 'che_phủ',\n",
       " 'hạt',\n",
       " 'tao',\n",
       " 'chiếc',\n",
       " 'hồng_ngoại',\n",
       " 'mặc',\n",
       " 'và',\n",
       " 'da',\n",
       " 'ngoài_trời',\n",
       " 'che',\n",
       " 'axit',\n",
       " 'loại',\n",
       " 'nghiên_cứu',\n",
       " 'hiệu_ứng',\n",
       " 'sợi',\n",
       " 'bên',\n",
       " 'làm',\n",
       " 'hoa_trung',\n",
       " 'trong',\n",
       " 'po',\n",
       " 'tản',\n",
       " 'may',\n",
       " 'chun',\n",
       " 'duke',\n",
       " 'bóng_râm',\n",
       " 'bắc_carolina',\n",
       " 'khả_kiến',\n",
       " 'áo',\n",
       " 'thông_thường',\n",
       " 'thử_nghiệm',\n",
       " 'phát_xạ',\n",
       " 'giờ',\n",
       " 'tiếp_xúc',\n",
       " 'dưới',\n",
       " 'nửa',\n",
       " 'vũ_hán',\n",
       " 'tản_nhiệt',\n",
       " 'tới',\n",
       " 'cực_tím',\n",
       " 'nhuộm',\n",
       " 'tăng',\n",
       " 'science',\n",
       " 'một',\n",
       " 'đồ_vật',\n",
       " 'bằng',\n",
       " 'trực_tiếp',\n",
       " 'phản_xạ',\n",
       " 'đại_học',\n",
       " 'tình_nguyện',\n",
       " 'kết_cấu',\n",
       " 'thông_qua',\n",
       " 'vật_dụng',\n",
       " 'tối_ưu_hóa',\n",
       " 'đối_phó',\n",
       " 'đậu',\n",
       " 'với',\n",
       " 'tia',\n",
       " 'hiệu_quả',\n",
       " 'nhóm',\n",
       " 'nhựa',\n",
       " 'từ',\n",
       " 'nhiệt',\n",
       " 'quần_áo',\n",
       " 'hoàn_hảo',\n",
       " 'đặc_điểm',\n",
       " 'nắng',\n",
       " 'ánh',\n",
       " 'khi',\n",
       " '57',\n",
       " 'cửa_hàng',\n",
       " 'rộng_rãi',\n",
       " 'ngoài',\n",
       " 'màu_sắc',\n",
       " 'chiếu',\n",
       " '37',\n",
       " 'sử_dụng',\n",
       " 'kích_thước',\n",
       " 'giúp',\n",
       " 'trang_phục',\n",
       " 'khí_hậu',\n",
       " 'khoảng',\n",
       " 'viên',\n",
       " 'nhận_xét',\n",
       " 'biến_đổi',\n",
       " 'đồng_nghiệp',\n",
       " 'lần_lượt',\n",
       " 'trắng',\n",
       " 'sóng',\n",
       " 'phần_lớn',\n",
       " 'giải_thích',\n",
       " 'truyền',\n",
       " 'có_mặt',\n",
       " 'phát',\n",
       " 'những',\n",
       " 'vô_cùng',\n",
       " 'ngồi',\n",
       " 'màu',\n",
       " '32',\n",
       " 'trung_bình',\n",
       " 'hy_vọng',\n",
       " 'cơ_thể',\n",
       " 'nhà',\n",
       " 'bình_thường',\n",
       " 'trở_nên',\n",
       " '60',\n",
       " 'trái',\n",
       " '31',\n",
       " 'khác',\n",
       " 'ấn_tượng',\n",
       " 'thiết_kế',\n",
       " 'ứng_dụng',\n",
       " 'có_thể',\n",
       " 'hòa',\n",
       " 'kết_hợp',\n",
       " 'con_người',\n",
       " 'nhất',\n",
       " 'vài',\n",
       " 'duy_trì']"
      ]
     },
     "execution_count": 187,
     "metadata": {},
     "output_type": "execute_result"
    }
   ],
   "source": [
    "st"
   ]
  },
  {
   "cell_type": "code",
   "execution_count": 152,
   "metadata": {},
   "outputs": [
    {
     "ename": "TypeError",
     "evalue": "sequence item 0: expected str instance, tuple found",
     "output_type": "error",
     "traceback": [
      "\u001b[0;31m---------------------------------------------------------------------------\u001b[0m",
      "\u001b[0;31mTypeError\u001b[0m                                 Traceback (most recent call last)",
      "\u001b[1;32m/Users/DuyHome/HocTap/DATN/KeyphraseExtraction/Docs/TF-IDF.ipynb Cell 16\u001b[0m in \u001b[0;36m<cell line: 1>\u001b[0;34m()\u001b[0m\n\u001b[0;32m----> <a href='vscode-notebook-cell:/Users/DuyHome/HocTap/DATN/KeyphraseExtraction/Docs/TF-IDF.ipynb#X11sZmlsZQ%3D%3D?line=0'>1</a>\u001b[0m \u001b[39m\"\u001b[39;49m\u001b[39m \u001b[39;49m\u001b[39m\"\u001b[39;49m\u001b[39m.\u001b[39;49mjoin(top_n_words)\n",
      "\u001b[0;31mTypeError\u001b[0m: sequence item 0: expected str instance, tuple found"
     ]
    }
   ],
   "source": [
    "\" \".join(top_n_words)"
   ]
  }
 ],
 "metadata": {
  "kernelspec": {
   "display_name": "Python 3",
   "language": "python",
   "name": "python3"
  },
  "language_info": {
   "codemirror_mode": {
    "name": "ipython",
    "version": 3
   },
   "file_extension": ".py",
   "mimetype": "text/x-python",
   "name": "python",
   "nbconvert_exporter": "python",
   "pygments_lexer": "ipython3",
   "version": "3.10.2"
  },
  "orig_nbformat": 4
 },
 "nbformat": 4,
 "nbformat_minor": 2
}
